{
 "cells": [
  {
   "cell_type": "code",
   "execution_count": 235,
   "metadata": {},
   "outputs": [],
   "source": [
    "#Import and set magics\n",
    "import numpy as np\n",
    "%matplotlib inline\n",
    "import pandas as pd\n",
    "import datetime\n",
    "import pandas_datareader\n",
    "import pydst\n",
    "import statsmodels.api as sm\n",
    "import statsmodels.formula.api as smf\n",
    "from statsmodels.sandbox.regression.predstd import wls_prediction_std\n",
    "import scipy as sp\n",
    "from scipy import stats\n",
    "from scipy import optimize\n",
    "from scipy import interpolate\n",
    "from scipy import linalg\n",
    "import sympy as sm\n",
    "import math\n",
    "\n",
    "import matplotlib.pyplot as plt\n",
    "plt.style.use('seaborn-whitegrid')\n",
    "from matplotlib import cm\n",
    "%matplotlib inline\n",
    "from matplotlib import cm\n",
    "from mpl_toolkits.mplot3d import Axes3D\n",
    "from matplotlib import pyplot\n"
   ]
  },
  {
   "cell_type": "markdown",
   "metadata": {},
   "source": [
    "# Estimating income processes\n"
   ]
  },
  {
   "cell_type": "markdown",
   "metadata": {},
   "source": [
    "Consider $N$ households indexed by $i$ who are in the labor market for $T$ periods indexed by $t \\in ${1,2,...,T}$,\n",
    "\n",
    "Their **wage income** is stochastic and given by,\n",
    " \n",
    "$P_{i,t}$ = $\\psi_{i,t}$ $P_{i,t-1}$\n",
    "\n",
    "$\\tilde{Y}_{i,t}$ = $xi_{i,t}$ $P_{i,t}$\n",
    "\n",
    "$Y_{i,t}$ = \\left\\begin{array}{rcl}$\n",
    "            \\overline{\\overline{0}+\\text{if}\\mu_{i,t}<\\pi}\n",
    "            \\\\tilde{Y}_{i,t} +\\text{else}\n",
    "            \\end{array}\\right.\n",
    "\n",
    "\n",
    "   \n",
    "\n",
    "\n",
    "$\\psi_{i,t}$ ~ LogNormal(-0.5$\\sigma_{\\psi}^2$,$\\sigma_{\\psi})$\n",
    "\n",
    "$\\xi_{i,t}$ ~ LogNormal(-0.5$\\sigma_{\\xi}^2$,$\\sigma_{\\xi})$\n",
    "\n",
    "$\\mu_{i,t}$ ~ $Uniform(0,1)$\n",
    "\n",
    "\n",
    "$P_{0} = 1$\n",
    "   \n",
    "where\n",
    "\n",
    "$\\sigma_{\\psi}$ is the standard deviation of the *permanent* shocks, $\\psi_{i,t}$\n",
    "\n",
    "$\\sigma_{\\xi}$ is the standard deviation of the *transitory* shocks, $\\xi_{i,t}$\n",
    "\n",
    "$\\pi$ is the risk of unemployment"
   ]
  },
  {
   "cell_type": "markdown",
   "metadata": {},
   "source": [
    "The data you have access to is:\n"
   ]
  },
  {
   "cell_type": "code",
   "execution_count": 87,
   "metadata": {
    "tags": []
   },
   "outputs": [
    {
     "output_type": "stream",
     "name": "stdout",
     "text": "[[0.83317569 0.72881172 0.         ... 1.16771806 0.93207083 0.86711803]\n [1.18542294 0.92826337 1.62913142 ... 1.13903869 0.94479246 0.78842682]\n [1.14813596 0.90542496 0.70634401 ... 1.49584791 1.08969956 0.        ]\n ...\n [0.73818651 0.59958039 0.56135238 ... 2.60075173 1.07070489 0.43010036]\n [1.14130879 0.85728537 0.54530761 ... 3.79294856 0.67764143 0.38720822]\n [0.64908127 0.85101393 0.59517395 ... 3.32800991 0.82400879 0.5814573 ]]\n(20, 50000)\n"
    }
   ],
   "source": [
    "import numpy as np\n",
    "dataY = np.load(r'C:\\Users\\musse\\Documents\\GitHub\\projects-2020-zjr-hrv\\projects-2020-zjr-hrv\\dataY.npy')\n",
    "T,N = dataY.shape\n",
    "print(dataY)\n",
    "print(dataY.shape)\n",
    "\n",
    "\n"
   ]
  },
  {
   "cell_type": "markdown",
   "metadata": {},
   "source": [
    "**Question 1:** Calculate income growth rates as log-changes"
   ]
  },
  {
   "cell_type": "code",
   "execution_count": 102,
   "metadata": {
    "tags": []
   },
   "outputs": [
    {
     "output_type": "stream",
     "name": "stdout",
     "text": "initial diff [[-0.13382911        -inf         inf ...  0.45991757 -0.22539794\n  -0.0722337 ]\n [-0.2445394   0.56248678 -0.45247293 ...  0.10650339 -0.18697465\n  -0.18092569]\n [-0.2374906  -0.24830202  0.49367077 ...  0.38133059 -0.31679118\n         -inf]\n ...\n [-0.20796646 -0.06588123  0.6550227  ...  1.08826931 -0.88748332\n  -0.9120539 ]\n [-0.2861601  -0.45242079  0.43603115 ...  1.35354726 -1.7222807\n  -0.5596557 ]\n [ 0.27087056 -0.35757477  0.31896575 ...  1.52939372 -1.39594858\n  -0.34864367]]\nNew resulting diff:  [[       nan        nan        inf ... 0.45991757        nan        nan]\n [       nan 0.56248678        nan ... 0.10650339        nan        nan]\n [       nan        nan 0.49367077 ... 0.38133059        nan        nan]\n ...\n [       nan        nan 0.6550227  ... 1.08826931        nan        nan]\n [       nan        nan 0.43603115 ... 1.35354726        nan        nan]\n [0.27087056        nan 0.31896575 ... 1.52939372        nan        nan]]\n"
    }
   ],
   "source": [
    "#Defining income growth rate by finding the first differences. Thereafter replacing the negative Y-values with .nan\n",
    "\n",
    "logY = np.diff(np.log(dataY))\n",
    "#diff_dataY = np.diff(dataY) \n",
    "  \n",
    "# printing initial arrays \n",
    "print(\"Initial diff\", logY) \n",
    "  \n",
    "# code to replace all negative value with 0 \n",
    "logY[logY<=0] = np.nan\n",
    "  \n",
    "# printing result \n",
    "print(\"New resulting diff: \", logY) \n",
    "\n",
    "\n",
    "\n",
    "\n"
   ]
  },
  {
   "cell_type": "markdown",
   "metadata": {},
   "source": [
    "**Question 2:** Calculate the following 3 statistics from the data:\n",
    "\n",
    "$s_{1}$: Share of observations with $Y_{i,t}$=0\n",
    "\n",
    "$s_{2}$: Variance of income growth rate, Var($\\Delta$ Log $Y_{i,t}$)\n",
    "\n",
    "$s_{3}$: Covariance of income growth rates one period apart, Cov($\\Delta$ Log $Y_{i,t}$,$\\Delta$ Log $Y_{i,t-1}$ )"
   ]
  },
  {
   "cell_type": "markdown",
   "metadata": {},
   "source": [
    "To count shares of observations with $Y_{i,t}$=0, we use the nonzero-function"
   ]
  },
  {
   "cell_type": "code",
   "execution_count": 103,
   "metadata": {
    "tags": []
   },
   "outputs": [
    {
     "output_type": "stream",
     "name": "stdout",
     "text": "Number of observations with Y=0 is\n"
    },
    {
     "output_type": "execute_result",
     "data": {
      "text/plain": "49925"
     },
     "metadata": {},
     "execution_count": 103
    }
   ],
   "source": [
    "#S1:\n",
    "print('Number of observations with Y=0 is') \n",
    "np.count_nonzero(dataY==0)\n",
    "\n"
   ]
  },
  {
   "cell_type": "markdown",
   "metadata": {},
   "source": [
    "The variance is calculated by the mean of square minus the square of the mean, i.e.\n",
    "\n",
    "$Var(x)=E[(X-\\mu)^{2}]$\n",
    "\n"
   ]
  },
  {
   "cell_type": "code",
   "execution_count": 104,
   "metadata": {
    "tags": []
   },
   "outputs": [
    {
     "output_type": "stream",
     "name": "stdout",
     "text": "nan\n"
    }
   ],
   "source": [
    "#S2:\n",
    "print(np.var(logY))"
   ]
  },
  {
   "cell_type": "markdown",
   "metadata": {},
   "source": [
    "As seen above, the variance results in \"nan\", meaning we would have to remove the nan values from our sample to find a value for the variance. Hence, we find:"
   ]
  },
  {
   "cell_type": "code",
   "execution_count": 175,
   "metadata": {
    "tags": []
   },
   "outputs": [
    {
     "output_type": "stream",
     "name": "stdout",
     "text": "The variance is 0.15780801990005514\n"
    }
   ],
   "source": [
    "diffY = diff_dataY[~np.isnan(diff_dataY)]\n",
    "print('The variance is' ,np.var(diffY))"
   ]
  },
  {
   "cell_type": "markdown",
   "metadata": {},
   "source": [
    "Finally, the Covariance is found by $cov(X,Y)$ = $E[(X-E[X])(Y-E[Y])]$"
   ]
  },
  {
   "cell_type": "code",
   "execution_count": 173,
   "metadata": {
    "tags": []
   },
   "outputs": [
    {
     "output_type": "stream",
     "name": "stdout",
     "text": "The covariance is 0.15780833423674454\n"
    }
   ],
   "source": [
    "print('The covariance is' ,np.cov(diffY)) "
   ]
  },
  {
   "cell_type": "markdown",
   "metadata": {},
   "source": [
    "Question 3: Simulate the income process using your own choice of $\\sigma_{\\psi}$, $\\sigma_{\\xi}$, $\\pi$, T and N. Calculate the 3 same statistics. Compare with the data statistics"
   ]
  },
  {
   "cell_type": "code",
   "execution_count": 155,
   "metadata": {},
   "outputs": [],
   "source": [
    "import matplotlib.pyplot as plt\n",
    "%matplotlib inline\n",
    "import numpy as np\n",
    "import random\n",
    "from numba import njit\n",
    "\n",
    "#Simulated figures\n",
    "T = 50\n",
    "N = 1000\n",
    "pi = 0.3\n",
    "s_psi = 0.23\n",
    "s_xi = 0.4\n",
    "\n",
    "#Model\n",
    "psi = np.random.lognormal(-0.5 * s_psi, s_psi, 1000)\n",
    "xi = np.random.lognormal(-0.5 * s_xi,s_xi, 1000)\n",
    "P_0 = 1\n",
    "P = psi * P_0\n",
    "Y_tilde = xi * P\n",
    "mu = np.random.uniform(0,1)\n",
    "\n",
    "\n",
    "\n",
    "\n",
    "#Defining Y\n",
    "def income(Y): \n",
    "    if mu < pi:\n",
    "        Y=0 \n",
    "    else :\n",
    "        Y = Y_tilde\n",
    "\n",
    "@njit\n",
    "def time_path(T):\n",
    "    w = np.random.randn(T+1)  # w_0, w_1, ..., w_T\n",
    "    w[0] = 0\n",
    "    P = np.zeros(T+1)\n",
    "    for t in range(1, T+1):\n",
    "        P[t] = w[1:t].sum()\n",
    "   \n",
    "    return  P\n",
    "\n",
    "\n",
    "\n"
   ]
  },
  {
   "cell_type": "code",
   "execution_count": 167,
   "metadata": {
    "tags": []
   },
   "outputs": [
    {
     "output_type": "stream",
     "name": "stdout",
     "text": "New diff [1.40621881 0.54048955 0.54179175 1.95778514 0.48098441 1.02204343\n 0.56065372 0.45678314 1.4012769  1.07185749 0.66387897 0.43474994\n 1.69449106 0.65990448 1.43611859 1.0486678  0.6389541  0.75817993\n 0.77768874 0.26117108 0.63485198 0.72351503 0.29755991 0.85033572\n 0.90537297 0.68443236 0.4843746  0.41602903 0.77060337 0.45026695\n 0.62231064 1.10333521 1.24327665 0.4435823  0.66380278 1.25164183\n 0.67046208 1.75695946 0.51807955 0.65137344 0.41671247 1.06367206\n 0.68625497 0.54640242 0.44766844 1.58956475 0.45661953 0.46751715\n 0.66294205 0.48580823 1.47387004 0.75557703 0.39891727 0.54091915\n 0.7912065  0.60601093 1.03654421 0.58859634 0.54036999 0.61029904\n 0.64314654 0.43379369 1.20303044 0.78194505 0.35009648 0.30417106\n 1.05703481 0.53842165 0.68993374 0.60350681 0.5535549  0.69250946\n 1.18518063 0.52713092 0.68251296 1.56109525 0.512705   0.61226224\n 0.54761124 0.93414775 0.5919211  0.65319408 0.84141781 0.77557177\n 0.69516354 0.76796995 0.46909983 0.37178671 0.89098919 0.67979671\n 0.34191784 1.12106594 0.50328692 1.11523754 0.70225608 0.35053223\n 0.5874828  0.6104386  0.68427661 0.48437421 0.88110706 0.60753517\n 0.46696967 0.59361656 0.59290798 0.34518132 0.90651778 0.93153892\n 0.92158675 0.97719455 0.77987275 0.79558733 0.88198809 0.40260436\n 0.73172073 0.57842744 0.4941185  0.85230686 0.6443563  0.93457944\n 1.21174901 1.27321782 0.56400405 1.31567002 0.39973203 0.56434905\n 0.57016576 1.82894096 0.6160158  0.57490036 1.44836278 1.29465545\n 0.9899516  1.82906294 0.80709534 1.8580555  0.65920373 0.58555594\n 1.77260077 0.41834237 0.59798355 0.31745981 0.69071353 0.54819677\n 1.27992139 0.79297303 0.86477322 0.48229594 0.54872279 0.57393874\n 1.00834903 0.5125624  1.10072338 0.88502535 0.69263534 0.61810656\n 0.32325128 0.62310106 1.01823095 0.64991164 0.65207238 0.54125807\n 0.84172783 1.97837952 0.73795897 0.78255982 0.82936789 0.30851495\n 0.56803262 0.83210178 0.65047015 0.50701577 0.74963989 0.44044224\n 0.38995544 0.68161995 0.84419618 1.25556296 0.84258731 0.71148947\n 0.9284424  1.22387167 1.33429791 1.12834746 0.6338052  1.79722278\n 0.4554867  1.6712821  0.89701201 0.56982562 0.53677122 1.05098254\n 0.30934988 0.93854415 0.84240577 0.62993105 0.55073944 0.52928826\n 1.33112976 1.99156081 0.97534544 0.37544755 0.78875014 0.85944493\n 1.51713127 1.58189374 1.79063319 2.22711433 0.92340823 1.73379148\n 1.05995731 1.3243351  0.79006551 0.38372419 0.91627782 1.60485015\n 1.14646791 1.08666781 0.58434511 0.68423565 0.83724098 0.53308416\n 0.32554216 0.81857569 0.37065171 0.76359619 0.65052312 0.57653325\n 0.52328412 0.96288071 0.70569283 0.54207915 2.36652836 1.51164856\n 1.44109415 0.49685318 1.18864758 0.31483569 0.83452062 0.58100276\n 0.73748953 0.80418779 0.64462955 0.60923788 1.48196735 0.4706993\n 1.26452951 0.99452606 0.50891653 0.44297382 1.49632251 0.53294071\n 0.46047358 0.29937614 0.76447361 0.91993706 0.67189565 0.78829315\n 0.58256475 0.9387077  0.43736049 0.71983946 0.52703951 0.64378377\n 0.82143026 1.93457141 0.52563764 0.67457619 1.63418251 2.42372468\n 0.803812   1.34039446 0.98648454 0.53166176 0.97413904 1.79255702\n 0.52897655 0.88307996 1.2358242  0.28667549 0.86673686 0.41186074\n 1.30528305 0.46097406 0.70468303 0.5695898  0.39828623 0.31596054\n 0.91920136 0.7637142  2.52216775 1.30248235 1.27561127 1.20360861\n 0.68890905 0.48057793 1.17276291 0.82859533 1.22033998 0.30815861\n 0.32005869 0.77672854 3.29825134 0.72858317 0.5833983  2.18845521\n 0.75904197 0.52029549 0.77267293 0.35024377 0.72780354 1.57195222\n 1.24767762 0.721147   0.71265763 0.49114299 0.96524869 0.64206133\n 0.98056554 0.57329609 0.4494906  0.61139787 1.52712514 0.31493647\n 1.10073607 0.95027771 1.11490362 0.32780851 1.44479785 0.58576361\n 0.86987888 0.97782133 0.56356276 0.62322317 1.79458235 0.67184185\n 0.18037909 0.44331983 1.02537365 0.9058595  0.59694747 0.43898175\n 1.59962874 0.64475644 1.39339188 0.6124373  0.77144399 0.58342788\n 1.21387058 1.20596713 0.86790212 0.82875343 0.92679882 0.91527257\n 0.58620141 1.07552087 0.28847416 0.6747358  0.93800607 0.80209315\n 0.45327416 0.89443956 0.95617102 0.52558949 0.41931496 1.4877712\n 0.57260397 0.56619791 0.39201878 0.37957156 0.56115855 0.63766367\n 0.37493342 0.94389776 0.73443569 0.38055142 0.87898506 0.51744997\n 1.21188424 0.86856028 0.60977195 1.21582853 1.71038554 0.99539802\n 0.30370987 0.94545293 0.75258812 0.2986837  0.44720094 0.71792046\n 1.82677466 1.3810323  0.81273147 0.61974383 0.51415453 0.67589399\n 0.80820023 0.38612784 1.50110631 0.66255377 0.91464532 0.84171368\n 1.0614167  1.00544716 1.0984924  0.70824096 1.75199932 1.15746114\n 0.34641861 0.92812074 0.62937434 0.67543635 0.79420744 1.56207502\n 0.81534752 0.8275052  0.57687587 0.5159333  1.50264459 0.24889777\n 0.89968671 1.00358987 0.82593986 0.46674383 0.80272921 1.41593231\n 0.71552142 0.3648908  0.37965315 0.61766667 0.73893925 0.75818654\n 0.51658057 0.81885147 0.46309605 0.54318818 1.89933878 0.54144477\n 0.89253921 0.59555994 0.61642518 0.88910721 0.9913112  0.43843683\n 0.4510508  1.04049585 0.68165044 1.09116149 0.73256253 1.03283743\n 0.70133163 0.31966226 0.84319862 0.46412829 0.80944793 1.07137926\n 0.50104813 0.45625655 1.68983136 3.21703864 1.32958123 0.9570004\n 0.5365132  0.9651687  1.13646984 0.29998218 0.50452045 0.37451866\n 0.49684505 0.69078945 0.59928893 0.67453836 0.8347429  1.60073853\n 0.85774023 0.74985424 1.12949298 0.58374994 0.72657432 1.15925868\n 0.96218902 1.25602378 0.49548886 0.65005459 0.70166023 0.90433552\n 0.51407037 0.89037925 0.28910382 1.66829413 1.38576065 0.5727012\n 1.33707002 0.47127541 1.25796219 1.93366513 1.28761363 0.46034157\n 1.88951945 1.43244552 0.6568341  0.64484171 0.87598467 0.52298497\n 0.56982691 0.58432461 1.074992   0.7398155  0.4905531  0.47649931\n 1.62704228 1.21596958 0.51037449 0.74511298 1.27101156 0.60213221\n 0.85945154 0.41934044 0.50116729 0.96518913 1.14193282 0.40732239\n 0.88966421 0.58574069 0.84252146 0.87844653 0.33241741 0.30151049\n 1.18433538 1.1973574  0.34155134 0.84857106 0.90873979 0.89039125\n 0.93606321 0.9243896  1.14197314 1.18777324 1.20070975 0.59962401\n 0.83391793 0.276426   0.73419463 0.69701286 0.57648202 1.52819133\n 0.63231926 1.32960973 0.75565835 0.61972453 1.22059856 0.92471805\n 1.3593495  0.47205256 0.40961715 0.66430809 0.97960944 1.70639603\n 0.82332545 1.26034669 0.73397522 1.1039745  0.43850509 1.51843688\n 0.71960855 0.80408586 0.50384983 0.35784613 0.20269745 1.12732302\n 0.43540592 1.00708839 1.52938833 1.17034107 0.38945581 0.61019114\n 0.55508329 0.3808675  1.0737751  0.70352245 0.56228465 0.91809973\n 0.19637119 1.49430647 0.83639691 0.91043207 0.49541478 0.98229287\n 0.49403324 1.03300269 0.71713155 0.41884732 0.55573979 4.21670911\n 0.75266921 0.65711135 1.4647403  0.44970154 0.48788275 0.85797502\n 0.44795057 0.6473793  0.88462883 0.7415488  0.27128535 0.45359922\n 0.51639305 0.94599309 0.71647156 0.80274697 1.09241762 0.82814673\n 0.74755031 0.99773834 0.45829435 1.22096888 0.63835822 0.35201712\n 0.36765354 1.00235701 0.44737905 0.80010369 0.57776646 0.9379832\n 0.88111521 0.98062113 0.37188199 0.52584277 0.51777246 0.2844039\n 0.83396708 0.40284717 0.83355854 0.42518636 0.42558876 1.05019952\n 1.02382687 0.55379498 0.75802525 0.60635816 0.56500898 0.49579083\n 1.44259007 0.41308615 1.71855849 0.96502068 0.64660491 0.71757543\n 0.56825253 0.59680021 0.41231395 0.53171973 0.82411405 0.86116368\n 1.30169966 0.89396689 1.11403331 0.31454395 1.99447359 0.93678702\n 1.53157794 0.6424786  0.84046655 0.9791361  0.80882753 0.69651221\n 0.63916888 0.30990459 1.31377854 0.59610845 0.97279631 0.60415835\n 0.7396473  0.47415342 0.65162654 1.03160891 0.64571916 0.42510075\n 0.79403493 0.48582259 1.03138048 1.05641136 0.56508273 1.44115874\n 0.75271228 0.55626814 0.59882824 1.47334723 0.71707953 0.3299507\n 0.49913597 0.36070137 0.78200556 0.33504546 2.51097726 1.09911278\n 0.60676423 0.41195711 0.48328369 0.72023771 0.41173057 0.59910153\n 0.95374933 0.57549122 0.69547121 0.5299068  0.72156541 0.52721635\n 0.77221031 0.69023053 0.38896114 0.41241518 0.69833151 0.41277994\n 0.52178007 0.69423091 0.60856477 0.79678878 0.57226832 4.84944947\n 0.92418814 0.45149693 0.4975573  0.52884169 0.38233342 0.57371872\n 0.8329309  0.31729178 0.52401442 0.52713782 0.78232827 0.85774434\n 0.52639388 1.08586331 0.63286327 0.78005574 1.00200508 0.68751174\n 0.98892237 0.70494807 1.66814227 0.66123872 0.35831467 0.42981624\n 1.01982329 0.84763275 0.43265578 0.75839793 0.71231937 3.45068059\n 1.42454225 0.83728062 0.48825006 0.93184265 0.6303012  0.76115612\n 0.76887275 0.45944177 1.14291222 0.80069438 0.62366462 0.6212698\n 0.54329272 1.08221756 0.45333969 0.46890952 0.4836206  0.40428908\n 0.81045262 0.29093935 0.5235149  1.0123925  0.40863407 0.95633219\n 0.41259816 1.24056097 0.63451004 1.186293   1.03503965 0.57708674\n 0.83044034 0.68613956 0.7111057  0.24874557 0.58829076 0.16526678\n 0.808549   0.66755997 1.07011474 1.10535467 0.77806042 1.26705191\n 0.86288933 1.04098902 0.86435747 0.97302613 0.83673566 0.26828419\n 0.91863142 0.72723493 0.97652176 0.53805302 0.69172401 0.52885539\n 0.67825561 2.14478893 0.35682235 0.74817463 0.58270673 0.76633027\n 0.73329412 0.79631416 3.29700378 0.73786387 1.45075753 0.94605364\n 0.50981629 0.79654576 0.66733322 0.43446684 0.63053751 0.55021505\n 0.89554265 0.87655215 0.49792669 0.94473331 0.77321124 0.5392306\n 1.13641798 0.34632687 0.94907568 1.25102042 0.25894319 0.55738952\n 0.78491068 0.51068974 2.15971113 0.6237011  0.43923903 0.41830768\n 0.56933181 0.6559315  0.87176409 1.74565822 0.98089098 0.81108834\n 1.82432884 0.8267318  0.52333701 0.36771073 0.33905902 0.59416673\n 0.40560018 0.82053044 0.90199376 0.71635145 1.04159163 1.29765246\n 0.37163497 1.3739749  0.76168719 0.58261085 0.42978931 0.49149652\n 0.51766759 0.3001918  0.85388072 1.08910138 1.14693519 0.40972377\n 0.41752415 1.42075002 0.54156269 0.77194933 0.52699643 0.92785961\n 0.6954532  0.39697252 0.78527918 1.39763544 0.697246   0.98159219\n 0.21331412 0.74875952 0.50225017 0.42603526 1.32744936 0.70562176\n 0.5504564  0.50359905 0.64670366 0.81374939 0.70067519 0.63958342\n 1.41242191 0.44668255 0.46227323 0.73060379 1.38447535 0.8653379\n 0.68090654 0.68120009 0.68215603 0.44132701 0.75329803 0.4739016\n 0.71434756 1.57372938 0.47527705 0.44024207 1.24394757 0.82423923\n 0.72235897 0.5024253  0.94008955 1.03582345 0.48878125 0.71692086\n 0.79360869 0.43576457 0.86955321 1.14398213 0.57715387 0.72675932\n 0.53020217 0.62601485 0.35665206 0.56096933 1.19397298 0.55559189\n 0.39180042 1.18237192 0.6045252  0.6555848  0.64308719 1.23548869\n 0.46715727 1.16222044 0.98716263 0.82522559 0.9002928  0.66940555\n 0.64857864 0.84050979 0.95402029 1.04414391 0.28696671 1.30142044\n 0.39760547 0.66719427 0.37734366 0.70996956 1.13401941 0.41553569\n 0.82201606 0.89318298 1.06290302 0.63377483 0.65126276 0.5488397\n 1.15858258 0.91000386 1.6079373  0.55610379 1.12319421 0.83266364\n 0.6865356  0.92773819 0.52833564 0.74375145 0.90922331 0.93485917\n 0.38186904 0.4567892  1.07401921 0.28300369 0.60352644 0.60716226\n 0.73166154 1.21486371 0.43655176 1.01317722 0.83387831 0.41912383\n 1.41156489 1.49814235 1.68643984 0.41177141 0.67944915 0.50636511\n 0.87983728 0.32976089 0.53199265 0.39138504 1.41036569 0.72280963\n 0.86926988 0.77037786 0.9305568  0.70057096]\n"
    }
   ],
   "source": [
    "#first differences and log on Y_tilde\n",
    "logY_tilde = np.diff(np.log(Y_tilde))\n",
    " \n",
    "  \n",
    "# printing initial arrays \n",
    "print(\"New diff\", Y_tilde) \n"
   ]
  },
  {
   "cell_type": "code",
   "execution_count": 168,
   "metadata": {
    "tags": []
   },
   "outputs": [
    {
     "output_type": "stream",
     "name": "stdout",
     "text": "Number of observations with Y=0 is\n"
    },
    {
     "output_type": "execute_result",
     "data": {
      "text/plain": "0"
     },
     "metadata": {},
     "execution_count": 168
    }
   ],
   "source": [
    "#Calculating s1_sim\n",
    "print('Number of observations with Y=0 is') \n",
    "np.count_nonzero(logY_tilde==0)"
   ]
  },
  {
   "cell_type": "code",
   "execution_count": 169,
   "metadata": {
    "tags": []
   },
   "outputs": [
    {
     "output_type": "stream",
     "name": "stdout",
     "text": "0.44214824517553175\n"
    }
   ],
   "source": [
    "#Calculating s2_sim\n",
    "print(np.var(logY_tilde))"
   ]
  },
  {
   "cell_type": "code",
   "execution_count": 170,
   "metadata": {},
   "outputs": [
    {
     "output_type": "execute_result",
     "data": {
      "text/plain": "array(0.44259128)"
     },
     "metadata": {},
     "execution_count": 170
    }
   ],
   "source": [
    "#Calculating s3_sim\n",
    "np.cov(logY_tilde)"
   ]
  },
  {
   "cell_type": "markdown",
   "metadata": {},
   "source": [
    "Comparison of the simulated data and the factual dataset\n",
    "\n",
    "s1_sim =0\n",
    "s1_data = 49925\n",
    "s2_sim = 0.44214824517553175\n",
    "s2_data = 0.15780801990005514\n",
    "s3_sim = 0.44259128\n",
    "s3_data = 0.15780833423674454"
   ]
  },
  {
   "cell_type": "markdown",
   "metadata": {},
   "source": [
    "**Question 4:** Solve the following minimization problem to estimate $\\sigma_{\\psi}$, $\\sigma_{\\xi}$ and $\\pi$ \n",
    "\n",
    "$\\sigma_{\\psi}^*$, $\\sigma_{\\xi}^*$, $\\pi^*$ = $arg_{\\sigma_{\\psi}>=0,\\sigma_{\\xi}>=0,\\pi\\in [0,1]}$               min $(s_{1}^{sim}-s_{1}^{data})^2$ + $(s_{2}^{sim}-s_{2}^{data})^2$ + $(s_{3}^{sim}-s_{3}^{data})^2$"
   ]
  },
  {
   "cell_type": "markdown",
   "metadata": {},
   "source": [
    "where for each new guess of $\\sigma_{\\psi}$, $\\sigma_{\\xi}$ and $\\pi$ you should be re-simulating the data with the same seed and re-calculate the 3 statistics"
   ]
  },
  {
   "cell_type": "code",
   "execution_count": 287,
   "metadata": {
    "tags": []
   },
   "outputs": [
    {
     "output_type": "stream",
     "name": "stdout",
     "text": "x | f(x)\n--------------\n0.1 | 551291569.7058002\n0.2 | -2667089020.6084995\n0.3 | -472319424.2715019\n0.4 | 635592534.2758255\n0.5 | -1141634837.841262\n0.6 | 1084647442.0114043\n"
    }
   ],
   "source": [
    "#Defining s\n",
    "s1_sim = 0\n",
    "s1_data = 49925\n",
    "s2_sim = 0.44214824517553175\n",
    "s2_data = 0.15780801990005514\n",
    "s3_sim = 0.44259128\n",
    "s3_data = 0.15780833423674454\n",
    "\n",
    "np.random.seed(100)\n",
    "# Define a function that,\n",
    "def f(x):\n",
    "    x = (s1_sim-s1_data)**2+(s2_sim-s2_data)**2+(s3_sim-s3_data)**2\n",
    "    # Outputs x multiplied by a random number drawn from a normal distribution\n",
    "    return x * np.random.normal(size=1)[0]\n",
    "\n",
    "# Create some values of x\n",
    "xs = [0.1,0.2,0.3,0.4,0.5,0.6]\n",
    "#Define argmin that\n",
    "def argmin(f, xs):\n",
    "    # Applies f on all the x's\n",
    "    data = [f(x) for x in xs]\n",
    "\n",
    "    # Finds index of the smallest output of f(x)\n",
    "    index_of_min = data.index(min(data))\n",
    "        \n",
    "    # Returns the x that produced that output\n",
    "    return xs[index_of_min]\n",
    "# Run the argmin function\n",
    "argmin(f, xs)\n",
    "\n",
    "print('x','|', 'f(x)')\n",
    "print('--------------')\n",
    "for x in xs:\n",
    "    print(x,'|', f(x))\n"
   ]
  },
  {
   "cell_type": "code",
   "execution_count": 124,
   "metadata": {},
   "outputs": [
    {
     "output_type": "error",
     "ename": "NameError",
     "evalue": "name 'x' is not defined",
     "traceback": [
      "\u001b[1;31m---------------------------------------------------------------------------\u001b[0m",
      "\u001b[1;31mNameError\u001b[0m                                 Traceback (most recent call last)",
      "\u001b[1;32m<ipython-input-124-2b866ad3a275>\u001b[0m in \u001b[0;36m<module>\u001b[1;34m\u001b[0m\n\u001b[0;32m      1\u001b[0m \u001b[1;32mdef\u001b[0m \u001b[0mobjective\u001b[0m\u001b[1;33m(\u001b[0m\u001b[0mx\u001b[0m\u001b[1;33m)\u001b[0m\u001b[1;33m:\u001b[0m\u001b[1;33m\u001b[0m\u001b[1;33m\u001b[0m\u001b[0m\n\u001b[0;32m      2\u001b[0m  \u001b[1;32mpass\u001b[0m\u001b[1;33m\u001b[0m\u001b[1;33m\u001b[0m\u001b[0m\n\u001b[1;32m----> 3\u001b[1;33m \u001b[0mres\u001b[0m \u001b[1;33m=\u001b[0m \u001b[0moptimize\u001b[0m\u001b[1;33m.\u001b[0m\u001b[0mminimize\u001b[0m\u001b[1;33m(\u001b[0m\u001b[0mobjective\u001b[0m\u001b[1;33m,\u001b[0m\u001b[0mx\u001b[0m\u001b[1;33m,\u001b[0m\u001b[0mmethod\u001b[0m\u001b[1;33m=\u001b[0m\u001b[1;34m'L-BFGS-B'\u001b[0m\u001b[1;33m,\u001b[0m\u001b[0mbounds\u001b[0m\u001b[1;33m=\u001b[0m\u001b[1;33m(\u001b[0m\u001b[1;33m-\u001b[0m\u001b[1;36m3\u001b[0m\u001b[1;33m,\u001b[0m\u001b[1;36m3\u001b[0m\u001b[1;33m)\u001b[0m\u001b[1;33m,\u001b[0m\u001b[0margs\u001b[0m\u001b[1;33m=\u001b[0m\u001b[1;33m(\u001b[0m\u001b[1;33m-\u001b[0m\u001b[1;36m3\u001b[0m\u001b[1;33m,\u001b[0m\u001b[1;36m3\u001b[0m\u001b[1;33m)\u001b[0m\u001b[1;33m,\u001b[0m\u001b[0moptions\u001b[0m\u001b[1;33m=\u001b[0m\u001b[1;33m{\u001b[0m\u001b[1;34m'eps'\u001b[0m\u001b[1;33m:\u001b[0m \u001b[1;36m1e-4\u001b[0m\u001b[1;33m}\u001b[0m\u001b[1;33m)\u001b[0m\u001b[1;33m\u001b[0m\u001b[1;33m\u001b[0m\u001b[0m\n\u001b[0m\u001b[0;32m      4\u001b[0m \u001b[1;31m# hint: options={'eps':1e-4} uses a larger step-size when approximating the jacbian, which is useful in this case\u001b[0m\u001b[1;33m\u001b[0m\u001b[1;33m\u001b[0m\u001b[1;33m\u001b[0m\u001b[0m\n\u001b[0;32m      5\u001b[0m \u001b[1;33m\u001b[0m\u001b[0m\n",
      "\u001b[1;31mNameError\u001b[0m: name 'x' is not defined"
     ]
    }
   ],
   "source": [
    "def objective(x):\n",
    " pass\n",
    "res = optimize.minimize(objective,x,method='L-BFGS-B',bounds=(-3,3),args=(-3,3),options={'eps': 1e-4})\n",
    "\n",
    "\n",
    "contour()"
   ]
  },
  {
   "cell_type": "markdown",
   "metadata": {},
   "source": [
    "# Wealth in the utility function"
   ]
  },
  {
   "cell_type": "markdown",
   "metadata": {},
   "source": [
    "In the final period, t=T, the household solves the following problem:\n",
    "\n",
    "\n",
    "\n",
    "$$\n",
    "\\begin{aligned}\n",
    "v_{T}(a_{T-1})&= \\max_{c_{T}}\\frac{(c_{T}^{1-\\rho})}{1-\\rho} + \\kappa \\frac{(a_{T}+a\\underline)^{1-\\sigma}}{1-\\sigma} \\\\\n",
    "\\text{s.t.} \\\\\n",
    "a_{T} = (1+r)a_{T-1}+y-c_{T}\n",
    "\\end{aligned}\n",
    "$$\n",
    "\n",
    "where \n",
    "\n",
    " * $a_t$ is end-of-period assets in period $t$\n",
    " * $c_t$ is consumption in period $t$\n",
    " * $\\rho$ is the CRRA-coefficient for consumption utility\n",
    " * $\\sigma$ is the CRRA-coefficient for wealth utility\n",
    " * $\\underline{a}$ is an *additive* scaling factor for wealth utility\n",
    " * $\\kappa$ is a *multiplicative* scaling factor for wealth utility\n",
    " * $r$ is the rate of return\n",
    " * $y$ is income\n",
    "  \n",
    "The optimal **consumption function** is denoted $c_t^{*}(a_{t-1})$\n",
    "\n",
    "The optimal **savings function** is denoted $a_t^{*}(a_{t-1}) = (1+r)a_{t-1} + y - c_t^{*}(a_{t-1})$.\n",
    "  "
   ]
  },
  {
   "cell_type": "code",
   "execution_count": 260,
   "metadata": {},
   "outputs": [],
   "source": [
    "# a. parameters\n",
    "rho = 2.0\n",
    "sigma = 1.2\n",
    "kappa = 0.6\n",
    "a_ubar = 2.0\n",
    "r = 0.04\n",
    "y = 1.0\n",
    "# b. grids\n",
    "a_lag_vec = np.linspace(0,300,300)\n",
    "\n"
   ]
  },
  {
   "cell_type": "markdown",
   "metadata": {},
   "source": [
    "**Question 1:** Find and plot the functions $v_{T}(a_{T-1})$, $c_T^{*}(a_{T-1})$, and $a_T^{*}(a_{T-1})$\n",
    " "
   ]
  },
  {
   "cell_type": "code",
   "execution_count": 261,
   "metadata": {},
   "outputs": [],
   "source": [
    "#Value function last period\n",
    "\n",
    "def utility(c,rho):\n",
    "    return c**(1-rho)/(1-rho)\n",
    "\n",
    "def bequest(kappa,a,a_ubar,sigma):\n",
    "    return kappa*(a+a_ubar)**(1-sigma)/(1-sigma)\n",
    "\n",
    "def v2(c2,a2,a_ubar2,rho,kappa,sigma):\n",
    "    return utility(c2,rho) + bequest(a2,a_ubar2,kappa,sigma)"
   ]
  },
  {
   "cell_type": "code",
   "execution_count": 280,
   "metadata": {},
   "outputs": [],
   "source": [
    "#Value function first period\n",
    "def v1(c1,a_lag_vec, a_ubar1,rho,beta,r,y,v2_interp):\n",
    "    \n",
    "    # a. v2 value, if low income\n",
    "    a2_low = (1+r)*a_lag_vec + y - c1\n",
    "    v2_low = v2_interp([a2_low])[0]\n",
    "    \n",
    "    # b. v2 value, if high income\n",
    "    a2_high = (1+r)*a_lag_vec + y - c1\n",
    "    v2_high = v2_interp([a2_high])[0]\n",
    "    \n",
    "    # c. total value\n",
    "    return utility(c1,rho) + v2*beta"
   ]
  },
  {
   "cell_type": "code",
   "execution_count": 286,
   "metadata": {},
   "outputs": [
    {
     "output_type": "execute_result",
     "data": {
      "text/plain": "(0, 200)"
     },
     "metadata": {},
     "execution_count": 286
    },
    {
     "output_type": "display_data",
     "data": {
      "text/plain": "<Figure size 720x288 with 2 Axes>",
      "image/svg+xml": "<?xml version=\"1.0\" encoding=\"utf-8\" standalone=\"no\"?>\r\n<!DOCTYPE svg PUBLIC \"-//W3C//DTD SVG 1.1//EN\"\r\n  \"http://www.w3.org/Graphics/SVG/1.1/DTD/svg11.dtd\">\r\n<!-- Created with matplotlib (https://matplotlib.org/) -->\r\n<svg height=\"272.36625pt\" version=\"1.1\" viewBox=\"0 0 594.60625 272.36625\" width=\"594.60625pt\" xmlns=\"http://www.w3.org/2000/svg\" xmlns:xlink=\"http://www.w3.org/1999/xlink\">\r\n <defs>\r\n  <style type=\"text/css\">\r\n*{stroke-linecap:butt;stroke-linejoin:round;}\r\n  </style>\r\n </defs>\r\n <g id=\"figure_1\">\r\n  <g id=\"patch_1\">\r\n   <path d=\"M 0 272.36625 \r\nL 594.60625 272.36625 \r\nL 594.60625 0 \r\nL 0 0 \r\nz\r\n\" style=\"fill:none;\"/>\r\n  </g>\r\n  <g id=\"axes_1\">\r\n   <g id=\"patch_2\">\r\n    <path d=\"M 29.40625 239.375625 \r\nL 283.042614 239.375625 \r\nL 283.042614 21.935625 \r\nL 29.40625 21.935625 \r\nz\r\n\" style=\"fill:#ffffff;\"/>\r\n   </g>\r\n   <g id=\"matplotlib.axis_1\">\r\n    <g id=\"xtick_1\">\r\n     <g id=\"line2d_1\">\r\n      <path clip-path=\"url(#p01312a50ad)\" d=\"M 40.935175 239.375625 \r\nL 40.935175 21.935625 \r\n\" style=\"fill:none;stroke:#cccccc;stroke-linecap:round;stroke-width:0.8;\"/>\r\n     </g>\r\n     <g id=\"line2d_2\"/>\r\n     <g id=\"text_1\">\r\n      <!-- 0 -->\r\n      <defs>\r\n       <path d=\"M 4.15625 35.296875 \r\nQ 4.15625 48 6.765625 55.734375 \r\nQ 9.375 63.484375 14.515625 67.671875 \r\nQ 19.671875 71.875 27.484375 71.875 \r\nQ 33.25 71.875 37.59375 69.546875 \r\nQ 41.9375 67.234375 44.765625 62.859375 \r\nQ 47.609375 58.5 49.21875 52.21875 \r\nQ 50.828125 45.953125 50.828125 35.296875 \r\nQ 50.828125 22.703125 48.234375 14.96875 \r\nQ 45.65625 7.234375 40.5 3 \r\nQ 35.359375 -1.21875 27.484375 -1.21875 \r\nQ 17.140625 -1.21875 11.234375 6.203125 \r\nQ 4.15625 15.140625 4.15625 35.296875 \r\nz\r\nM 13.1875 35.296875 \r\nQ 13.1875 17.671875 17.3125 11.828125 \r\nQ 21.4375 6 27.484375 6 \r\nQ 33.546875 6 37.671875 11.859375 \r\nQ 41.796875 17.71875 41.796875 35.296875 \r\nQ 41.796875 52.984375 37.671875 58.78125 \r\nQ 33.546875 64.59375 27.390625 64.59375 \r\nQ 21.34375 64.59375 17.71875 59.46875 \r\nQ 13.1875 52.9375 13.1875 35.296875 \r\nz\r\n\" id=\"ArialMT-48\"/>\r\n      </defs>\r\n      <g style=\"fill:#262626;\" transform=\"translate(38.154706 250.033438)scale(0.1 -0.1)\">\r\n       <use xlink:href=\"#ArialMT-48\"/>\r\n      </g>\r\n     </g>\r\n    </g>\r\n    <g id=\"xtick_2\">\r\n     <g id=\"line2d_3\">\r\n      <path clip-path=\"url(#p01312a50ad)\" d=\"M 87.050878 239.375625 \r\nL 87.050878 21.935625 \r\n\" style=\"fill:none;stroke:#cccccc;stroke-linecap:round;stroke-width:0.8;\"/>\r\n     </g>\r\n     <g id=\"line2d_4\"/>\r\n     <g id=\"text_2\">\r\n      <!-- 1 -->\r\n      <defs>\r\n       <path d=\"M 37.25 0 \r\nL 28.46875 0 \r\nL 28.46875 56 \r\nQ 25.296875 52.984375 20.140625 49.953125 \r\nQ 14.984375 46.921875 10.890625 45.40625 \r\nL 10.890625 53.90625 \r\nQ 18.265625 57.375 23.78125 62.296875 \r\nQ 29.296875 67.234375 31.59375 71.875 \r\nL 37.25 71.875 \r\nz\r\n\" id=\"ArialMT-49\"/>\r\n      </defs>\r\n      <g style=\"fill:#262626;\" transform=\"translate(84.270409 250.033438)scale(0.1 -0.1)\">\r\n       <use xlink:href=\"#ArialMT-49\"/>\r\n      </g>\r\n     </g>\r\n    </g>\r\n    <g id=\"xtick_3\">\r\n     <g id=\"line2d_5\">\r\n      <path clip-path=\"url(#p01312a50ad)\" d=\"M 133.16658 239.375625 \r\nL 133.16658 21.935625 \r\n\" style=\"fill:none;stroke:#cccccc;stroke-linecap:round;stroke-width:0.8;\"/>\r\n     </g>\r\n     <g id=\"line2d_6\"/>\r\n     <g id=\"text_3\">\r\n      <!-- 2 -->\r\n      <defs>\r\n       <path d=\"M 50.34375 8.453125 \r\nL 50.34375 0 \r\nL 3.03125 0 \r\nQ 2.9375 3.171875 4.046875 6.109375 \r\nQ 5.859375 10.9375 9.828125 15.625 \r\nQ 13.8125 20.3125 21.34375 26.46875 \r\nQ 33.015625 36.03125 37.109375 41.625 \r\nQ 41.21875 47.21875 41.21875 52.203125 \r\nQ 41.21875 57.421875 37.46875 61 \r\nQ 33.734375 64.59375 27.734375 64.59375 \r\nQ 21.390625 64.59375 17.578125 60.78125 \r\nQ 13.765625 56.984375 13.71875 50.25 \r\nL 4.6875 51.171875 \r\nQ 5.609375 61.28125 11.65625 66.578125 \r\nQ 17.71875 71.875 27.9375 71.875 \r\nQ 38.234375 71.875 44.234375 66.15625 \r\nQ 50.25 60.453125 50.25 52 \r\nQ 50.25 47.703125 48.484375 43.546875 \r\nQ 46.734375 39.40625 42.65625 34.8125 \r\nQ 38.578125 30.21875 29.109375 22.21875 \r\nQ 21.1875 15.578125 18.9375 13.203125 \r\nQ 16.703125 10.84375 15.234375 8.453125 \r\nz\r\n\" id=\"ArialMT-50\"/>\r\n      </defs>\r\n      <g style=\"fill:#262626;\" transform=\"translate(130.386112 250.033438)scale(0.1 -0.1)\">\r\n       <use xlink:href=\"#ArialMT-50\"/>\r\n      </g>\r\n     </g>\r\n    </g>\r\n    <g id=\"xtick_4\">\r\n     <g id=\"line2d_7\">\r\n      <path clip-path=\"url(#p01312a50ad)\" d=\"M 179.282283 239.375625 \r\nL 179.282283 21.935625 \r\n\" style=\"fill:none;stroke:#cccccc;stroke-linecap:round;stroke-width:0.8;\"/>\r\n     </g>\r\n     <g id=\"line2d_8\"/>\r\n     <g id=\"text_4\">\r\n      <!-- 3 -->\r\n      <defs>\r\n       <path d=\"M 4.203125 18.890625 \r\nL 12.984375 20.0625 \r\nQ 14.5 12.59375 18.140625 9.296875 \r\nQ 21.78125 6 27 6 \r\nQ 33.203125 6 37.46875 10.296875 \r\nQ 41.75 14.59375 41.75 20.953125 \r\nQ 41.75 27 37.796875 30.921875 \r\nQ 33.84375 34.859375 27.734375 34.859375 \r\nQ 25.25 34.859375 21.53125 33.890625 \r\nL 22.515625 41.609375 \r\nQ 23.390625 41.5 23.921875 41.5 \r\nQ 29.546875 41.5 34.03125 44.421875 \r\nQ 38.53125 47.359375 38.53125 53.46875 \r\nQ 38.53125 58.296875 35.25 61.46875 \r\nQ 31.984375 64.65625 26.8125 64.65625 \r\nQ 21.6875 64.65625 18.265625 61.421875 \r\nQ 14.84375 58.203125 13.875 51.765625 \r\nL 5.078125 53.328125 \r\nQ 6.6875 62.15625 12.390625 67.015625 \r\nQ 18.109375 71.875 26.609375 71.875 \r\nQ 32.46875 71.875 37.390625 69.359375 \r\nQ 42.328125 66.84375 44.9375 62.5 \r\nQ 47.5625 58.15625 47.5625 53.265625 \r\nQ 47.5625 48.640625 45.0625 44.828125 \r\nQ 42.578125 41.015625 37.703125 38.765625 \r\nQ 44.046875 37.3125 47.5625 32.6875 \r\nQ 51.078125 28.078125 51.078125 21.140625 \r\nQ 51.078125 11.765625 44.234375 5.25 \r\nQ 37.40625 -1.265625 26.953125 -1.265625 \r\nQ 17.53125 -1.265625 11.296875 4.34375 \r\nQ 5.078125 9.96875 4.203125 18.890625 \r\nz\r\n\" id=\"ArialMT-51\"/>\r\n      </defs>\r\n      <g style=\"fill:#262626;\" transform=\"translate(176.501814 250.033438)scale(0.1 -0.1)\">\r\n       <use xlink:href=\"#ArialMT-51\"/>\r\n      </g>\r\n     </g>\r\n    </g>\r\n    <g id=\"xtick_5\">\r\n     <g id=\"line2d_9\">\r\n      <path clip-path=\"url(#p01312a50ad)\" d=\"M 225.397985 239.375625 \r\nL 225.397985 21.935625 \r\n\" style=\"fill:none;stroke:#cccccc;stroke-linecap:round;stroke-width:0.8;\"/>\r\n     </g>\r\n     <g id=\"line2d_10\"/>\r\n     <g id=\"text_5\">\r\n      <!-- 4 -->\r\n      <defs>\r\n       <path d=\"M 32.328125 0 \r\nL 32.328125 17.140625 \r\nL 1.265625 17.140625 \r\nL 1.265625 25.203125 \r\nL 33.9375 71.578125 \r\nL 41.109375 71.578125 \r\nL 41.109375 25.203125 \r\nL 50.78125 25.203125 \r\nL 50.78125 17.140625 \r\nL 41.109375 17.140625 \r\nL 41.109375 0 \r\nz\r\nM 32.328125 25.203125 \r\nL 32.328125 57.46875 \r\nL 9.90625 25.203125 \r\nz\r\n\" id=\"ArialMT-52\"/>\r\n      </defs>\r\n      <g style=\"fill:#262626;\" transform=\"translate(222.617517 250.033438)scale(0.1 -0.1)\">\r\n       <use xlink:href=\"#ArialMT-52\"/>\r\n      </g>\r\n     </g>\r\n    </g>\r\n    <g id=\"xtick_6\">\r\n     <g id=\"line2d_11\">\r\n      <path clip-path=\"url(#p01312a50ad)\" d=\"M 271.513688 239.375625 \r\nL 271.513688 21.935625 \r\n\" style=\"fill:none;stroke:#cccccc;stroke-linecap:round;stroke-width:0.8;\"/>\r\n     </g>\r\n     <g id=\"line2d_12\"/>\r\n     <g id=\"text_6\">\r\n      <!-- 5 -->\r\n      <defs>\r\n       <path d=\"M 4.15625 18.75 \r\nL 13.375 19.53125 \r\nQ 14.40625 12.796875 18.140625 9.390625 \r\nQ 21.875 6 27.15625 6 \r\nQ 33.5 6 37.890625 10.78125 \r\nQ 42.28125 15.578125 42.28125 23.484375 \r\nQ 42.28125 31 38.0625 35.34375 \r\nQ 33.84375 39.703125 27 39.703125 \r\nQ 22.75 39.703125 19.328125 37.765625 \r\nQ 15.921875 35.84375 13.96875 32.765625 \r\nL 5.71875 33.84375 \r\nL 12.640625 70.609375 \r\nL 48.25 70.609375 \r\nL 48.25 62.203125 \r\nL 19.671875 62.203125 \r\nL 15.828125 42.96875 \r\nQ 22.265625 47.46875 29.34375 47.46875 \r\nQ 38.71875 47.46875 45.15625 40.96875 \r\nQ 51.609375 34.46875 51.609375 24.265625 \r\nQ 51.609375 14.546875 45.953125 7.46875 \r\nQ 39.0625 -1.21875 27.15625 -1.21875 \r\nQ 17.390625 -1.21875 11.203125 4.25 \r\nQ 5.03125 9.71875 4.15625 18.75 \r\nz\r\n\" id=\"ArialMT-53\"/>\r\n      </defs>\r\n      <g style=\"fill:#262626;\" transform=\"translate(268.733219 250.033438)scale(0.1 -0.1)\">\r\n       <use xlink:href=\"#ArialMT-53\"/>\r\n      </g>\r\n     </g>\r\n    </g>\r\n    <g id=\"text_7\">\r\n     <!-- $a_2$ -->\r\n     <defs>\r\n      <path d=\"M 53.71875 31.203125 \r\nL 47.609375 0 \r\nL 38.625 0 \r\nL 40.28125 8.296875 \r\nQ 36.328125 3.421875 31.265625 1 \r\nQ 26.21875 -1.421875 20.015625 -1.421875 \r\nQ 13.03125 -1.421875 8.5625 2.84375 \r\nQ 4.109375 7.125 4.109375 13.8125 \r\nQ 4.109375 23.390625 11.75 28.953125 \r\nQ 19.390625 34.515625 32.8125 34.515625 \r\nL 45.3125 34.515625 \r\nL 45.796875 36.921875 \r\nQ 45.90625 37.3125 45.953125 37.765625 \r\nQ 46 38.234375 46 39.203125 \r\nQ 46 43.5625 42.453125 45.96875 \r\nQ 38.921875 48.390625 32.515625 48.390625 \r\nQ 28.125 48.390625 23.5 47.265625 \r\nQ 18.890625 46.140625 14.015625 43.890625 \r\nL 15.578125 52.203125 \r\nQ 20.65625 54.109375 25.515625 55.046875 \r\nQ 30.375 56 34.90625 56 \r\nQ 44.578125 56 49.625 51.796875 \r\nQ 54.6875 47.609375 54.6875 39.59375 \r\nQ 54.6875 37.984375 54.4375 35.8125 \r\nQ 54.203125 33.640625 53.71875 31.203125 \r\nz\r\nM 44 27.484375 \r\nL 35.015625 27.484375 \r\nQ 23.96875 27.484375 18.671875 24.53125 \r\nQ 13.375 21.578125 13.375 15.375 \r\nQ 13.375 11.078125 16.078125 8.640625 \r\nQ 18.796875 6.203125 23.578125 6.203125 \r\nQ 30.90625 6.203125 36.375 11.453125 \r\nQ 41.84375 16.703125 43.609375 25.484375 \r\nz\r\n\" id=\"DejaVuSans-Oblique-97\"/>\r\n      <path d=\"M 19.1875 8.296875 \r\nL 53.609375 8.296875 \r\nL 53.609375 0 \r\nL 7.328125 0 \r\nL 7.328125 8.296875 \r\nQ 12.9375 14.109375 22.625 23.890625 \r\nQ 32.328125 33.6875 34.8125 36.53125 \r\nQ 39.546875 41.84375 41.421875 45.53125 \r\nQ 43.3125 49.21875 43.3125 52.78125 \r\nQ 43.3125 58.59375 39.234375 62.25 \r\nQ 35.15625 65.921875 28.609375 65.921875 \r\nQ 23.96875 65.921875 18.8125 64.3125 \r\nQ 13.671875 62.703125 7.8125 59.421875 \r\nL 7.8125 69.390625 \r\nQ 13.765625 71.78125 18.9375 73 \r\nQ 24.125 74.21875 28.421875 74.21875 \r\nQ 39.75 74.21875 46.484375 68.546875 \r\nQ 53.21875 62.890625 53.21875 53.421875 \r\nQ 53.21875 48.921875 51.53125 44.890625 \r\nQ 49.859375 40.875 45.40625 35.40625 \r\nQ 44.1875 33.984375 37.640625 27.21875 \r\nQ 31.109375 20.453125 19.1875 8.296875 \r\nz\r\n\" id=\"DejaVuSans-50\"/>\r\n     </defs>\r\n     <g style=\"fill:#262626;\" transform=\"translate(150.774432 263.17875)scale(0.1 -0.1)\">\r\n      <use xlink:href=\"#DejaVuSans-Oblique-97\"/>\r\n      <use transform=\"translate(61.279297 -16.40625)scale(0.7)\" xlink:href=\"#DejaVuSans-50\"/>\r\n     </g>\r\n    </g>\r\n   </g>\r\n   <g id=\"matplotlib.axis_2\">\r\n    <g id=\"ytick_1\">\r\n     <g id=\"line2d_13\">\r\n      <path clip-path=\"url(#p01312a50ad)\" d=\"M 29.40625 229.491989 \r\nL 283.042614 229.491989 \r\n\" style=\"fill:none;stroke:#cccccc;stroke-linecap:round;stroke-width:0.8;\"/>\r\n     </g>\r\n     <g id=\"line2d_14\"/>\r\n     <g id=\"text_8\">\r\n      <!-- 0 -->\r\n      <g style=\"fill:#262626;\" transform=\"translate(20.345312 233.070895)scale(0.1 -0.1)\">\r\n       <use xlink:href=\"#ArialMT-48\"/>\r\n      </g>\r\n     </g>\r\n    </g>\r\n    <g id=\"ytick_2\">\r\n     <g id=\"line2d_15\">\r\n      <path clip-path=\"url(#p01312a50ad)\" d=\"M 29.40625 189.957443 \r\nL 283.042614 189.957443 \r\n\" style=\"fill:none;stroke:#cccccc;stroke-linecap:round;stroke-width:0.8;\"/>\r\n     </g>\r\n     <g id=\"line2d_16\"/>\r\n     <g id=\"text_9\">\r\n      <!-- 1 -->\r\n      <g style=\"fill:#262626;\" transform=\"translate(20.345312 193.53635)scale(0.1 -0.1)\">\r\n       <use xlink:href=\"#ArialMT-49\"/>\r\n      </g>\r\n     </g>\r\n    </g>\r\n    <g id=\"ytick_3\">\r\n     <g id=\"line2d_17\">\r\n      <path clip-path=\"url(#p01312a50ad)\" d=\"M 29.40625 150.422898 \r\nL 283.042614 150.422898 \r\n\" style=\"fill:none;stroke:#cccccc;stroke-linecap:round;stroke-width:0.8;\"/>\r\n     </g>\r\n     <g id=\"line2d_18\"/>\r\n     <g id=\"text_10\">\r\n      <!-- 2 -->\r\n      <g style=\"fill:#262626;\" transform=\"translate(20.345312 154.001804)scale(0.1 -0.1)\">\r\n       <use xlink:href=\"#ArialMT-50\"/>\r\n      </g>\r\n     </g>\r\n    </g>\r\n    <g id=\"ytick_4\">\r\n     <g id=\"line2d_19\">\r\n      <path clip-path=\"url(#p01312a50ad)\" d=\"M 29.40625 110.888352 \r\nL 283.042614 110.888352 \r\n\" style=\"fill:none;stroke:#cccccc;stroke-linecap:round;stroke-width:0.8;\"/>\r\n     </g>\r\n     <g id=\"line2d_20\"/>\r\n     <g id=\"text_11\">\r\n      <!-- 3 -->\r\n      <g style=\"fill:#262626;\" transform=\"translate(20.345312 114.467259)scale(0.1 -0.1)\">\r\n       <use xlink:href=\"#ArialMT-51\"/>\r\n      </g>\r\n     </g>\r\n    </g>\r\n    <g id=\"ytick_5\">\r\n     <g id=\"line2d_21\">\r\n      <path clip-path=\"url(#p01312a50ad)\" d=\"M 29.40625 71.353807 \r\nL 283.042614 71.353807 \r\n\" style=\"fill:none;stroke:#cccccc;stroke-linecap:round;stroke-width:0.8;\"/>\r\n     </g>\r\n     <g id=\"line2d_22\"/>\r\n     <g id=\"text_12\">\r\n      <!-- 4 -->\r\n      <g style=\"fill:#262626;\" transform=\"translate(20.345312 74.932713)scale(0.1 -0.1)\">\r\n       <use xlink:href=\"#ArialMT-52\"/>\r\n      </g>\r\n     </g>\r\n    </g>\r\n    <g id=\"ytick_6\">\r\n     <g id=\"line2d_23\">\r\n      <path clip-path=\"url(#p01312a50ad)\" d=\"M 29.40625 31.819261 \r\nL 283.042614 31.819261 \r\n\" style=\"fill:none;stroke:#cccccc;stroke-linecap:round;stroke-width:0.8;\"/>\r\n     </g>\r\n     <g id=\"line2d_24\"/>\r\n     <g id=\"text_13\">\r\n      <!-- 5 -->\r\n      <g style=\"fill:#262626;\" transform=\"translate(20.345312 35.398168)scale(0.1 -0.1)\">\r\n       <use xlink:href=\"#ArialMT-53\"/>\r\n      </g>\r\n     </g>\r\n    </g>\r\n    <g id=\"text_14\">\r\n     <!-- $c_2$ -->\r\n     <defs>\r\n      <path d=\"M 53.609375 52.59375 \r\nL 51.8125 43.703125 \r\nQ 48.578125 46.046875 44.9375 47.21875 \r\nQ 41.3125 48.390625 37.40625 48.390625 \r\nQ 33.109375 48.390625 29.21875 46.875 \r\nQ 25.34375 45.359375 22.703125 42.578125 \r\nQ 18.5 38.328125 16.203125 32.609375 \r\nQ 13.921875 26.90625 13.921875 20.796875 \r\nQ 13.921875 13.421875 17.609375 9.8125 \r\nQ 21.296875 6.203125 28.8125 6.203125 \r\nQ 32.515625 6.203125 36.6875 7.328125 \r\nQ 40.875 8.453125 45.40625 10.6875 \r\nL 43.703125 1.8125 \r\nQ 39.796875 0.203125 35.671875 -0.609375 \r\nQ 31.546875 -1.421875 27.203125 -1.421875 \r\nQ 16.3125 -1.421875 10.453125 4.015625 \r\nQ 4.59375 9.46875 4.59375 19.578125 \r\nQ 4.59375 28.078125 7.640625 35.234375 \r\nQ 10.6875 42.390625 16.703125 48.09375 \r\nQ 20.796875 52 26.3125 54 \r\nQ 31.84375 56 38.375 56 \r\nQ 42.1875 56 45.9375 55.140625 \r\nQ 49.703125 54.296875 53.609375 52.59375 \r\nz\r\n\" id=\"DejaVuSans-Oblique-99\"/>\r\n     </defs>\r\n     <g style=\"fill:#262626;\" transform=\"translate(14.357812 135.805625)rotate(-90)scale(0.1 -0.1)\">\r\n      <use xlink:href=\"#DejaVuSans-Oblique-99\"/>\r\n      <use transform=\"translate(54.980469 -16.40625)scale(0.7)\" xlink:href=\"#DejaVuSans-50\"/>\r\n     </g>\r\n    </g>\r\n   </g>\r\n   <g id=\"line2d_25\">\r\n    <path clip-path=\"url(#p01312a50ad)\" d=\"M 40.935176 229.491989 \r\nL 271.513688 31.819261 \r\nL 271.513688 31.819261 \r\n\" style=\"fill:none;stroke:#1f77b4;stroke-linecap:round;stroke-width:1.5;\"/>\r\n   </g>\r\n   <g id=\"patch_3\">\r\n    <path d=\"M 29.40625 239.375625 \r\nL 29.40625 21.935625 \r\n\" style=\"fill:none;stroke:#cccccc;stroke-linecap:square;stroke-linejoin:miter;\"/>\r\n   </g>\r\n   <g id=\"patch_4\">\r\n    <path d=\"M 283.042614 239.375625 \r\nL 283.042614 21.935625 \r\n\" style=\"fill:none;stroke:#cccccc;stroke-linecap:square;stroke-linejoin:miter;\"/>\r\n   </g>\r\n   <g id=\"patch_5\">\r\n    <path d=\"M 29.40625 239.375625 \r\nL 283.042614 239.375625 \r\n\" style=\"fill:none;stroke:#cccccc;stroke-linecap:square;stroke-linejoin:miter;\"/>\r\n   </g>\r\n   <g id=\"patch_6\">\r\n    <path d=\"M 29.40625 21.935625 \r\nL 283.042614 21.935625 \r\n\" style=\"fill:none;stroke:#cccccc;stroke-linecap:square;stroke-linejoin:miter;\"/>\r\n   </g>\r\n   <g id=\"text_15\">\r\n    <!-- consumption function in period 2 -->\r\n    <defs>\r\n     <path d=\"M 40.4375 19 \r\nL 49.078125 17.875 \r\nQ 47.65625 8.9375 41.8125 3.875 \r\nQ 35.984375 -1.171875 27.484375 -1.171875 \r\nQ 16.84375 -1.171875 10.375 5.78125 \r\nQ 3.90625 12.75 3.90625 25.734375 \r\nQ 3.90625 34.125 6.6875 40.421875 \r\nQ 9.46875 46.734375 15.15625 49.875 \r\nQ 20.84375 53.03125 27.546875 53.03125 \r\nQ 35.984375 53.03125 41.359375 48.75 \r\nQ 46.734375 44.484375 48.25 36.625 \r\nL 39.703125 35.296875 \r\nQ 38.484375 40.53125 35.375 43.15625 \r\nQ 32.28125 45.796875 27.875 45.796875 \r\nQ 21.234375 45.796875 17.078125 41.03125 \r\nQ 12.9375 36.28125 12.9375 25.984375 \r\nQ 12.9375 15.53125 16.9375 10.796875 \r\nQ 20.953125 6.0625 27.390625 6.0625 \r\nQ 32.5625 6.0625 36.03125 9.234375 \r\nQ 39.5 12.40625 40.4375 19 \r\nz\r\n\" id=\"ArialMT-99\"/>\r\n     <path d=\"M 3.328125 25.921875 \r\nQ 3.328125 40.328125 11.328125 47.265625 \r\nQ 18.015625 53.03125 27.640625 53.03125 \r\nQ 38.328125 53.03125 45.109375 46.015625 \r\nQ 51.90625 39.015625 51.90625 26.65625 \r\nQ 51.90625 16.65625 48.90625 10.90625 \r\nQ 45.90625 5.171875 40.15625 2 \r\nQ 34.421875 -1.171875 27.640625 -1.171875 \r\nQ 16.75 -1.171875 10.03125 5.8125 \r\nQ 3.328125 12.796875 3.328125 25.921875 \r\nz\r\nM 12.359375 25.921875 \r\nQ 12.359375 15.96875 16.703125 11.015625 \r\nQ 21.046875 6.0625 27.640625 6.0625 \r\nQ 34.1875 6.0625 38.53125 11.03125 \r\nQ 42.875 16.015625 42.875 26.21875 \r\nQ 42.875 35.84375 38.5 40.796875 \r\nQ 34.125 45.75 27.640625 45.75 \r\nQ 21.046875 45.75 16.703125 40.8125 \r\nQ 12.359375 35.890625 12.359375 25.921875 \r\nz\r\n\" id=\"ArialMT-111\"/>\r\n     <path d=\"M 6.59375 0 \r\nL 6.59375 51.859375 \r\nL 14.5 51.859375 \r\nL 14.5 44.484375 \r\nQ 20.21875 53.03125 31 53.03125 \r\nQ 35.6875 53.03125 39.625 51.34375 \r\nQ 43.5625 49.65625 45.515625 46.921875 \r\nQ 47.46875 44.1875 48.25 40.4375 \r\nQ 48.734375 37.984375 48.734375 31.890625 \r\nL 48.734375 0 \r\nL 39.9375 0 \r\nL 39.9375 31.546875 \r\nQ 39.9375 36.921875 38.90625 39.578125 \r\nQ 37.890625 42.234375 35.28125 43.8125 \r\nQ 32.671875 45.40625 29.15625 45.40625 \r\nQ 23.53125 45.40625 19.453125 41.84375 \r\nQ 15.375 38.28125 15.375 28.328125 \r\nL 15.375 0 \r\nz\r\n\" id=\"ArialMT-110\"/>\r\n     <path d=\"M 3.078125 15.484375 \r\nL 11.765625 16.84375 \r\nQ 12.5 11.625 15.84375 8.84375 \r\nQ 19.1875 6.0625 25.203125 6.0625 \r\nQ 31.25 6.0625 34.171875 8.515625 \r\nQ 37.109375 10.984375 37.109375 14.3125 \r\nQ 37.109375 17.28125 34.515625 19 \r\nQ 32.71875 20.171875 25.53125 21.96875 \r\nQ 15.875 24.421875 12.140625 26.203125 \r\nQ 8.40625 27.984375 6.46875 31.125 \r\nQ 4.546875 34.28125 4.546875 38.09375 \r\nQ 4.546875 41.546875 6.125 44.5 \r\nQ 7.71875 47.46875 10.453125 49.421875 \r\nQ 12.5 50.921875 16.03125 51.96875 \r\nQ 19.578125 53.03125 23.640625 53.03125 \r\nQ 29.734375 53.03125 34.34375 51.265625 \r\nQ 38.96875 49.515625 41.15625 46.5 \r\nQ 43.359375 43.5 44.1875 38.484375 \r\nL 35.59375 37.3125 \r\nQ 35.015625 41.3125 32.203125 43.546875 \r\nQ 29.390625 45.796875 24.265625 45.796875 \r\nQ 18.21875 45.796875 15.625 43.796875 \r\nQ 13.03125 41.796875 13.03125 39.109375 \r\nQ 13.03125 37.40625 14.109375 36.03125 \r\nQ 15.1875 34.625 17.484375 33.6875 \r\nQ 18.796875 33.203125 25.25 31.453125 \r\nQ 34.578125 28.953125 38.25 27.359375 \r\nQ 41.9375 25.78125 44.03125 22.75 \r\nQ 46.140625 19.734375 46.140625 15.234375 \r\nQ 46.140625 10.84375 43.578125 6.953125 \r\nQ 41.015625 3.078125 36.171875 0.953125 \r\nQ 31.34375 -1.171875 25.25 -1.171875 \r\nQ 15.140625 -1.171875 9.84375 3.03125 \r\nQ 4.546875 7.234375 3.078125 15.484375 \r\nz\r\n\" id=\"ArialMT-115\"/>\r\n     <path d=\"M 40.578125 0 \r\nL 40.578125 7.625 \r\nQ 34.515625 -1.171875 24.125 -1.171875 \r\nQ 19.53125 -1.171875 15.546875 0.578125 \r\nQ 11.578125 2.34375 9.640625 5 \r\nQ 7.71875 7.671875 6.9375 11.53125 \r\nQ 6.390625 14.109375 6.390625 19.734375 \r\nL 6.390625 51.859375 \r\nL 15.1875 51.859375 \r\nL 15.1875 23.09375 \r\nQ 15.1875 16.21875 15.71875 13.8125 \r\nQ 16.546875 10.359375 19.234375 8.375 \r\nQ 21.921875 6.390625 25.875 6.390625 \r\nQ 29.828125 6.390625 33.296875 8.421875 \r\nQ 36.765625 10.453125 38.203125 13.9375 \r\nQ 39.65625 17.4375 39.65625 24.078125 \r\nL 39.65625 51.859375 \r\nL 48.4375 51.859375 \r\nL 48.4375 0 \r\nz\r\n\" id=\"ArialMT-117\"/>\r\n     <path d=\"M 6.59375 0 \r\nL 6.59375 51.859375 \r\nL 14.453125 51.859375 \r\nL 14.453125 44.578125 \r\nQ 16.890625 48.390625 20.9375 50.703125 \r\nQ 25 53.03125 30.171875 53.03125 \r\nQ 35.9375 53.03125 39.625 50.640625 \r\nQ 43.3125 48.25 44.828125 43.953125 \r\nQ 50.984375 53.03125 60.84375 53.03125 \r\nQ 68.5625 53.03125 72.703125 48.75 \r\nQ 76.859375 44.484375 76.859375 35.59375 \r\nL 76.859375 0 \r\nL 68.109375 0 \r\nL 68.109375 32.671875 \r\nQ 68.109375 37.9375 67.25 40.25 \r\nQ 66.40625 42.578125 64.15625 43.984375 \r\nQ 61.921875 45.40625 58.890625 45.40625 \r\nQ 53.421875 45.40625 49.796875 41.765625 \r\nQ 46.1875 38.140625 46.1875 30.125 \r\nL 46.1875 0 \r\nL 37.40625 0 \r\nL 37.40625 33.6875 \r\nQ 37.40625 39.546875 35.25 42.46875 \r\nQ 33.109375 45.40625 28.21875 45.40625 \r\nQ 24.515625 45.40625 21.359375 43.453125 \r\nQ 18.21875 41.5 16.796875 37.734375 \r\nQ 15.375 33.984375 15.375 26.90625 \r\nL 15.375 0 \r\nz\r\n\" id=\"ArialMT-109\"/>\r\n     <path d=\"M 6.59375 -19.875 \r\nL 6.59375 51.859375 \r\nL 14.59375 51.859375 \r\nL 14.59375 45.125 \r\nQ 17.4375 49.078125 21 51.046875 \r\nQ 24.5625 53.03125 29.640625 53.03125 \r\nQ 36.28125 53.03125 41.359375 49.609375 \r\nQ 46.4375 46.1875 49.015625 39.953125 \r\nQ 51.609375 33.734375 51.609375 26.3125 \r\nQ 51.609375 18.359375 48.75 11.984375 \r\nQ 45.90625 5.609375 40.453125 2.21875 \r\nQ 35.015625 -1.171875 29 -1.171875 \r\nQ 24.609375 -1.171875 21.109375 0.6875 \r\nQ 17.625 2.546875 15.375 5.375 \r\nL 15.375 -19.875 \r\nz\r\nM 14.546875 25.640625 \r\nQ 14.546875 15.625 18.59375 10.84375 \r\nQ 22.65625 6.0625 28.421875 6.0625 \r\nQ 34.28125 6.0625 38.453125 11.015625 \r\nQ 42.625 15.96875 42.625 26.375 \r\nQ 42.625 36.28125 38.546875 41.203125 \r\nQ 34.46875 46.140625 28.8125 46.140625 \r\nQ 23.1875 46.140625 18.859375 40.890625 \r\nQ 14.546875 35.640625 14.546875 25.640625 \r\nz\r\n\" id=\"ArialMT-112\"/>\r\n     <path d=\"M 25.78125 7.859375 \r\nL 27.046875 0.09375 \r\nQ 23.34375 -0.6875 20.40625 -0.6875 \r\nQ 15.625 -0.6875 12.984375 0.828125 \r\nQ 10.359375 2.34375 9.28125 4.8125 \r\nQ 8.203125 7.28125 8.203125 15.1875 \r\nL 8.203125 45.015625 \r\nL 1.765625 45.015625 \r\nL 1.765625 51.859375 \r\nL 8.203125 51.859375 \r\nL 8.203125 64.703125 \r\nL 16.9375 69.96875 \r\nL 16.9375 51.859375 \r\nL 25.78125 51.859375 \r\nL 25.78125 45.015625 \r\nL 16.9375 45.015625 \r\nL 16.9375 14.703125 \r\nQ 16.9375 10.9375 17.40625 9.859375 \r\nQ 17.875 8.796875 18.921875 8.15625 \r\nQ 19.96875 7.515625 21.921875 7.515625 \r\nQ 23.390625 7.515625 25.78125 7.859375 \r\nz\r\n\" id=\"ArialMT-116\"/>\r\n     <path d=\"M 6.640625 61.46875 \r\nL 6.640625 71.578125 \r\nL 15.4375 71.578125 \r\nL 15.4375 61.46875 \r\nz\r\nM 6.640625 0 \r\nL 6.640625 51.859375 \r\nL 15.4375 51.859375 \r\nL 15.4375 0 \r\nz\r\n\" id=\"ArialMT-105\"/>\r\n     <path id=\"ArialMT-32\"/>\r\n     <path d=\"M 8.6875 0 \r\nL 8.6875 45.015625 \r\nL 0.921875 45.015625 \r\nL 0.921875 51.859375 \r\nL 8.6875 51.859375 \r\nL 8.6875 57.375 \r\nQ 8.6875 62.59375 9.625 65.140625 \r\nQ 10.890625 68.5625 14.078125 70.671875 \r\nQ 17.28125 72.796875 23.046875 72.796875 \r\nQ 26.765625 72.796875 31.25 71.921875 \r\nL 29.9375 64.265625 \r\nQ 27.203125 64.75 24.75 64.75 \r\nQ 20.75 64.75 19.09375 63.03125 \r\nQ 17.4375 61.328125 17.4375 56.640625 \r\nL 17.4375 51.859375 \r\nL 27.546875 51.859375 \r\nL 27.546875 45.015625 \r\nL 17.4375 45.015625 \r\nL 17.4375 0 \r\nz\r\n\" id=\"ArialMT-102\"/>\r\n     <path d=\"M 42.09375 16.703125 \r\nL 51.171875 15.578125 \r\nQ 49.03125 7.625 43.21875 3.21875 \r\nQ 37.40625 -1.171875 28.375 -1.171875 \r\nQ 17 -1.171875 10.328125 5.828125 \r\nQ 3.65625 12.84375 3.65625 25.484375 \r\nQ 3.65625 38.578125 10.390625 45.796875 \r\nQ 17.140625 53.03125 27.875 53.03125 \r\nQ 38.28125 53.03125 44.875 45.953125 \r\nQ 51.46875 38.875 51.46875 26.03125 \r\nQ 51.46875 25.25 51.421875 23.6875 \r\nL 12.75 23.6875 \r\nQ 13.234375 15.140625 17.578125 10.59375 \r\nQ 21.921875 6.0625 28.421875 6.0625 \r\nQ 33.25 6.0625 36.671875 8.59375 \r\nQ 40.09375 11.140625 42.09375 16.703125 \r\nz\r\nM 13.234375 30.90625 \r\nL 42.1875 30.90625 \r\nQ 41.609375 37.453125 38.875 40.71875 \r\nQ 34.671875 45.796875 27.984375 45.796875 \r\nQ 21.921875 45.796875 17.796875 41.75 \r\nQ 13.671875 37.703125 13.234375 30.90625 \r\nz\r\n\" id=\"ArialMT-101\"/>\r\n     <path d=\"M 6.5 0 \r\nL 6.5 51.859375 \r\nL 14.40625 51.859375 \r\nL 14.40625 44 \r\nQ 17.4375 49.515625 20 51.265625 \r\nQ 22.5625 53.03125 25.640625 53.03125 \r\nQ 30.078125 53.03125 34.671875 50.203125 \r\nL 31.640625 42.046875 \r\nQ 28.421875 43.953125 25.203125 43.953125 \r\nQ 22.3125 43.953125 20.015625 42.21875 \r\nQ 17.71875 40.484375 16.75 37.40625 \r\nQ 15.28125 32.71875 15.28125 27.15625 \r\nL 15.28125 0 \r\nz\r\n\" id=\"ArialMT-114\"/>\r\n     <path d=\"M 40.234375 0 \r\nL 40.234375 6.546875 \r\nQ 35.296875 -1.171875 25.734375 -1.171875 \r\nQ 19.53125 -1.171875 14.328125 2.25 \r\nQ 9.125 5.671875 6.265625 11.796875 \r\nQ 3.421875 17.921875 3.421875 25.875 \r\nQ 3.421875 33.640625 6 39.96875 \r\nQ 8.59375 46.296875 13.765625 49.65625 \r\nQ 18.953125 53.03125 25.34375 53.03125 \r\nQ 30.03125 53.03125 33.6875 51.046875 \r\nQ 37.359375 49.078125 39.65625 45.90625 \r\nL 39.65625 71.578125 \r\nL 48.390625 71.578125 \r\nL 48.390625 0 \r\nz\r\nM 12.453125 25.875 \r\nQ 12.453125 15.921875 16.640625 10.984375 \r\nQ 20.84375 6.0625 26.5625 6.0625 \r\nQ 32.328125 6.0625 36.34375 10.765625 \r\nQ 40.375 15.484375 40.375 25.140625 \r\nQ 40.375 35.796875 36.265625 40.765625 \r\nQ 32.171875 45.75 26.171875 45.75 \r\nQ 20.3125 45.75 16.375 40.96875 \r\nQ 12.453125 36.1875 12.453125 25.875 \r\nz\r\n\" id=\"ArialMT-100\"/>\r\n    </defs>\r\n    <g style=\"fill:#262626;\" transform=\"translate(69.843182 15.935625)scale(0.12 -0.12)\">\r\n     <use xlink:href=\"#ArialMT-99\"/>\r\n     <use x=\"50\" xlink:href=\"#ArialMT-111\"/>\r\n     <use x=\"105.615234\" xlink:href=\"#ArialMT-110\"/>\r\n     <use x=\"161.230469\" xlink:href=\"#ArialMT-115\"/>\r\n     <use x=\"211.230469\" xlink:href=\"#ArialMT-117\"/>\r\n     <use x=\"266.845703\" xlink:href=\"#ArialMT-109\"/>\r\n     <use x=\"350.146484\" xlink:href=\"#ArialMT-112\"/>\r\n     <use x=\"405.761719\" xlink:href=\"#ArialMT-116\"/>\r\n     <use x=\"433.544922\" xlink:href=\"#ArialMT-105\"/>\r\n     <use x=\"455.761719\" xlink:href=\"#ArialMT-111\"/>\r\n     <use x=\"511.376953\" xlink:href=\"#ArialMT-110\"/>\r\n     <use x=\"566.992188\" xlink:href=\"#ArialMT-32\"/>\r\n     <use x=\"594.775391\" xlink:href=\"#ArialMT-102\"/>\r\n     <use x=\"622.558594\" xlink:href=\"#ArialMT-117\"/>\r\n     <use x=\"678.173828\" xlink:href=\"#ArialMT-110\"/>\r\n     <use x=\"733.789062\" xlink:href=\"#ArialMT-99\"/>\r\n     <use x=\"783.789062\" xlink:href=\"#ArialMT-116\"/>\r\n     <use x=\"811.572266\" xlink:href=\"#ArialMT-105\"/>\r\n     <use x=\"833.789062\" xlink:href=\"#ArialMT-111\"/>\r\n     <use x=\"889.404297\" xlink:href=\"#ArialMT-110\"/>\r\n     <use x=\"945.019531\" xlink:href=\"#ArialMT-32\"/>\r\n     <use x=\"972.802734\" xlink:href=\"#ArialMT-105\"/>\r\n     <use x=\"995.019531\" xlink:href=\"#ArialMT-110\"/>\r\n     <use x=\"1050.634766\" xlink:href=\"#ArialMT-32\"/>\r\n     <use x=\"1078.417969\" xlink:href=\"#ArialMT-112\"/>\r\n     <use x=\"1134.033203\" xlink:href=\"#ArialMT-101\"/>\r\n     <use x=\"1189.648438\" xlink:href=\"#ArialMT-114\"/>\r\n     <use x=\"1222.949219\" xlink:href=\"#ArialMT-105\"/>\r\n     <use x=\"1245.166016\" xlink:href=\"#ArialMT-111\"/>\r\n     <use x=\"1300.78125\" xlink:href=\"#ArialMT-100\"/>\r\n     <use x=\"1356.396484\" xlink:href=\"#ArialMT-32\"/>\r\n     <use x=\"1384.179688\" xlink:href=\"#ArialMT-50\"/>\r\n    </g>\r\n   </g>\r\n  </g>\r\n  <g id=\"axes_2\">\r\n   <g id=\"patch_7\">\r\n    <path d=\"M 333.769886 239.375625 \r\nL 587.40625 239.375625 \r\nL 587.40625 21.935625 \r\nL 333.769886 21.935625 \r\nz\r\n\" style=\"fill:#ffffff;\"/>\r\n   </g>\r\n   <g id=\"matplotlib.axis_3\">\r\n    <g id=\"xtick_7\">\r\n     <g id=\"line2d_26\">\r\n      <path clip-path=\"url(#p49054c2f9e)\" d=\"M 345.298812 239.375625 \r\nL 345.298812 21.935625 \r\n\" style=\"fill:none;stroke:#cccccc;stroke-linecap:round;stroke-width:0.8;\"/>\r\n     </g>\r\n     <g id=\"line2d_27\"/>\r\n     <g id=\"text_16\">\r\n      <!-- 0 -->\r\n      <g style=\"fill:#262626;\" transform=\"translate(342.518343 250.033438)scale(0.1 -0.1)\">\r\n       <use xlink:href=\"#ArialMT-48\"/>\r\n      </g>\r\n     </g>\r\n    </g>\r\n    <g id=\"xtick_8\">\r\n     <g id=\"line2d_28\">\r\n      <path clip-path=\"url(#p49054c2f9e)\" d=\"M 391.414514 239.375625 \r\nL 391.414514 21.935625 \r\n\" style=\"fill:none;stroke:#cccccc;stroke-linecap:round;stroke-width:0.8;\"/>\r\n     </g>\r\n     <g id=\"line2d_29\"/>\r\n     <g id=\"text_17\">\r\n      <!-- 1 -->\r\n      <g style=\"fill:#262626;\" transform=\"translate(388.634045 250.033438)scale(0.1 -0.1)\">\r\n       <use xlink:href=\"#ArialMT-49\"/>\r\n      </g>\r\n     </g>\r\n    </g>\r\n    <g id=\"xtick_9\">\r\n     <g id=\"line2d_30\">\r\n      <path clip-path=\"url(#p49054c2f9e)\" d=\"M 437.530217 239.375625 \r\nL 437.530217 21.935625 \r\n\" style=\"fill:none;stroke:#cccccc;stroke-linecap:round;stroke-width:0.8;\"/>\r\n     </g>\r\n     <g id=\"line2d_31\"/>\r\n     <g id=\"text_18\">\r\n      <!-- 2 -->\r\n      <g style=\"fill:#262626;\" transform=\"translate(434.749748 250.033438)scale(0.1 -0.1)\">\r\n       <use xlink:href=\"#ArialMT-50\"/>\r\n      </g>\r\n     </g>\r\n    </g>\r\n    <g id=\"xtick_10\">\r\n     <g id=\"line2d_32\">\r\n      <path clip-path=\"url(#p49054c2f9e)\" d=\"M 483.645919 239.375625 \r\nL 483.645919 21.935625 \r\n\" style=\"fill:none;stroke:#cccccc;stroke-linecap:round;stroke-width:0.8;\"/>\r\n     </g>\r\n     <g id=\"line2d_33\"/>\r\n     <g id=\"text_19\">\r\n      <!-- 3 -->\r\n      <g style=\"fill:#262626;\" transform=\"translate(480.86545 250.033438)scale(0.1 -0.1)\">\r\n       <use xlink:href=\"#ArialMT-51\"/>\r\n      </g>\r\n     </g>\r\n    </g>\r\n    <g id=\"xtick_11\">\r\n     <g id=\"line2d_34\">\r\n      <path clip-path=\"url(#p49054c2f9e)\" d=\"M 529.761622 239.375625 \r\nL 529.761622 21.935625 \r\n\" style=\"fill:none;stroke:#cccccc;stroke-linecap:round;stroke-width:0.8;\"/>\r\n     </g>\r\n     <g id=\"line2d_35\"/>\r\n     <g id=\"text_20\">\r\n      <!-- 4 -->\r\n      <g style=\"fill:#262626;\" transform=\"translate(526.981153 250.033438)scale(0.1 -0.1)\">\r\n       <use xlink:href=\"#ArialMT-52\"/>\r\n      </g>\r\n     </g>\r\n    </g>\r\n    <g id=\"xtick_12\">\r\n     <g id=\"line2d_36\">\r\n      <path clip-path=\"url(#p49054c2f9e)\" d=\"M 575.877324 239.375625 \r\nL 575.877324 21.935625 \r\n\" style=\"fill:none;stroke:#cccccc;stroke-linecap:round;stroke-width:0.8;\"/>\r\n     </g>\r\n     <g id=\"line2d_37\"/>\r\n     <g id=\"text_21\">\r\n      <!-- 5 -->\r\n      <g style=\"fill:#262626;\" transform=\"translate(573.096856 250.033438)scale(0.1 -0.1)\">\r\n       <use xlink:href=\"#ArialMT-53\"/>\r\n      </g>\r\n     </g>\r\n    </g>\r\n    <g id=\"text_22\">\r\n     <!-- $a_2$ -->\r\n     <g style=\"fill:#262626;\" transform=\"translate(455.138068 263.17875)scale(0.1 -0.1)\">\r\n      <use xlink:href=\"#DejaVuSans-Oblique-97\"/>\r\n      <use transform=\"translate(61.279297 -16.40625)scale(0.7)\" xlink:href=\"#DejaVuSans-50\"/>\r\n     </g>\r\n    </g>\r\n   </g>\r\n   <g id=\"matplotlib.axis_4\">\r\n    <g id=\"ytick_7\">\r\n     <g id=\"line2d_38\">\r\n      <path clip-path=\"url(#p49054c2f9e)\" d=\"M 333.769886 239.375625 \r\nL 587.40625 239.375625 \r\n\" style=\"fill:none;stroke:#cccccc;stroke-linecap:round;stroke-width:0.8;\"/>\r\n     </g>\r\n     <g id=\"line2d_39\"/>\r\n     <g id=\"text_23\">\r\n      <!-- 0 -->\r\n      <g style=\"fill:#262626;\" transform=\"translate(324.708949 242.954531)scale(0.1 -0.1)\">\r\n       <use xlink:href=\"#ArialMT-48\"/>\r\n      </g>\r\n     </g>\r\n    </g>\r\n    <g id=\"ytick_8\">\r\n     <g id=\"line2d_40\">\r\n      <path clip-path=\"url(#p49054c2f9e)\" d=\"M 333.769886 212.195625 \r\nL 587.40625 212.195625 \r\n\" style=\"fill:none;stroke:#cccccc;stroke-linecap:round;stroke-width:0.8;\"/>\r\n     </g>\r\n     <g id=\"line2d_41\"/>\r\n     <g id=\"text_24\">\r\n      <!-- 25 -->\r\n      <g style=\"fill:#262626;\" transform=\"translate(319.148011 215.774531)scale(0.1 -0.1)\">\r\n       <use xlink:href=\"#ArialMT-50\"/>\r\n       <use x=\"55.615234\" xlink:href=\"#ArialMT-53\"/>\r\n      </g>\r\n     </g>\r\n    </g>\r\n    <g id=\"ytick_9\">\r\n     <g id=\"line2d_42\">\r\n      <path clip-path=\"url(#p49054c2f9e)\" d=\"M 333.769886 185.015625 \r\nL 587.40625 185.015625 \r\n\" style=\"fill:none;stroke:#cccccc;stroke-linecap:round;stroke-width:0.8;\"/>\r\n     </g>\r\n     <g id=\"line2d_43\"/>\r\n     <g id=\"text_25\">\r\n      <!-- 50 -->\r\n      <g style=\"fill:#262626;\" transform=\"translate(319.148011 188.594531)scale(0.1 -0.1)\">\r\n       <use xlink:href=\"#ArialMT-53\"/>\r\n       <use x=\"55.615234\" xlink:href=\"#ArialMT-48\"/>\r\n      </g>\r\n     </g>\r\n    </g>\r\n    <g id=\"ytick_10\">\r\n     <g id=\"line2d_44\">\r\n      <path clip-path=\"url(#p49054c2f9e)\" d=\"M 333.769886 157.835625 \r\nL 587.40625 157.835625 \r\n\" style=\"fill:none;stroke:#cccccc;stroke-linecap:round;stroke-width:0.8;\"/>\r\n     </g>\r\n     <g id=\"line2d_45\"/>\r\n     <g id=\"text_26\">\r\n      <!-- 75 -->\r\n      <defs>\r\n       <path d=\"M 4.734375 62.203125 \r\nL 4.734375 70.65625 \r\nL 51.078125 70.65625 \r\nL 51.078125 63.8125 \r\nQ 44.234375 56.546875 37.515625 44.484375 \r\nQ 30.8125 32.421875 27.15625 19.671875 \r\nQ 24.515625 10.6875 23.78125 0 \r\nL 14.75 0 \r\nQ 14.890625 8.453125 18.0625 20.40625 \r\nQ 21.234375 32.375 27.171875 43.484375 \r\nQ 33.109375 54.59375 39.796875 62.203125 \r\nz\r\n\" id=\"ArialMT-55\"/>\r\n      </defs>\r\n      <g style=\"fill:#262626;\" transform=\"translate(319.148011 161.414531)scale(0.1 -0.1)\">\r\n       <use xlink:href=\"#ArialMT-55\"/>\r\n       <use x=\"55.615234\" xlink:href=\"#ArialMT-53\"/>\r\n      </g>\r\n     </g>\r\n    </g>\r\n    <g id=\"ytick_11\">\r\n     <g id=\"line2d_46\">\r\n      <path clip-path=\"url(#p49054c2f9e)\" d=\"M 333.769886 130.655625 \r\nL 587.40625 130.655625 \r\n\" style=\"fill:none;stroke:#cccccc;stroke-linecap:round;stroke-width:0.8;\"/>\r\n     </g>\r\n     <g id=\"line2d_47\"/>\r\n     <g id=\"text_27\">\r\n      <!-- 100 -->\r\n      <g style=\"fill:#262626;\" transform=\"translate(313.587074 134.234531)scale(0.1 -0.1)\">\r\n       <use xlink:href=\"#ArialMT-49\"/>\r\n       <use x=\"55.615234\" xlink:href=\"#ArialMT-48\"/>\r\n       <use x=\"111.230469\" xlink:href=\"#ArialMT-48\"/>\r\n      </g>\r\n     </g>\r\n    </g>\r\n    <g id=\"ytick_12\">\r\n     <g id=\"line2d_48\">\r\n      <path clip-path=\"url(#p49054c2f9e)\" d=\"M 333.769886 103.475625 \r\nL 587.40625 103.475625 \r\n\" style=\"fill:none;stroke:#cccccc;stroke-linecap:round;stroke-width:0.8;\"/>\r\n     </g>\r\n     <g id=\"line2d_49\"/>\r\n     <g id=\"text_28\">\r\n      <!-- 125 -->\r\n      <g style=\"fill:#262626;\" transform=\"translate(313.587074 107.054531)scale(0.1 -0.1)\">\r\n       <use xlink:href=\"#ArialMT-49\"/>\r\n       <use x=\"55.615234\" xlink:href=\"#ArialMT-50\"/>\r\n       <use x=\"111.230469\" xlink:href=\"#ArialMT-53\"/>\r\n      </g>\r\n     </g>\r\n    </g>\r\n    <g id=\"ytick_13\">\r\n     <g id=\"line2d_50\">\r\n      <path clip-path=\"url(#p49054c2f9e)\" d=\"M 333.769886 76.295625 \r\nL 587.40625 76.295625 \r\n\" style=\"fill:none;stroke:#cccccc;stroke-linecap:round;stroke-width:0.8;\"/>\r\n     </g>\r\n     <g id=\"line2d_51\"/>\r\n     <g id=\"text_29\">\r\n      <!-- 150 -->\r\n      <g style=\"fill:#262626;\" transform=\"translate(313.587074 79.874531)scale(0.1 -0.1)\">\r\n       <use xlink:href=\"#ArialMT-49\"/>\r\n       <use x=\"55.615234\" xlink:href=\"#ArialMT-53\"/>\r\n       <use x=\"111.230469\" xlink:href=\"#ArialMT-48\"/>\r\n      </g>\r\n     </g>\r\n    </g>\r\n    <g id=\"ytick_14\">\r\n     <g id=\"line2d_52\">\r\n      <path clip-path=\"url(#p49054c2f9e)\" d=\"M 333.769886 49.115625 \r\nL 587.40625 49.115625 \r\n\" style=\"fill:none;stroke:#cccccc;stroke-linecap:round;stroke-width:0.8;\"/>\r\n     </g>\r\n     <g id=\"line2d_53\"/>\r\n     <g id=\"text_30\">\r\n      <!-- 175 -->\r\n      <g style=\"fill:#262626;\" transform=\"translate(313.587074 52.694531)scale(0.1 -0.1)\">\r\n       <use xlink:href=\"#ArialMT-49\"/>\r\n       <use x=\"55.615234\" xlink:href=\"#ArialMT-55\"/>\r\n       <use x=\"111.230469\" xlink:href=\"#ArialMT-53\"/>\r\n      </g>\r\n     </g>\r\n    </g>\r\n    <g id=\"ytick_15\">\r\n     <g id=\"line2d_54\">\r\n      <path clip-path=\"url(#p49054c2f9e)\" d=\"M 333.769886 21.935625 \r\nL 587.40625 21.935625 \r\n\" style=\"fill:none;stroke:#cccccc;stroke-linecap:round;stroke-width:0.8;\"/>\r\n     </g>\r\n     <g id=\"line2d_55\"/>\r\n     <g id=\"text_31\">\r\n      <!-- 200 -->\r\n      <g style=\"fill:#262626;\" transform=\"translate(313.587074 25.514531)scale(0.1 -0.1)\">\r\n       <use xlink:href=\"#ArialMT-50\"/>\r\n       <use x=\"55.615234\" xlink:href=\"#ArialMT-48\"/>\r\n       <use x=\"111.230469\" xlink:href=\"#ArialMT-48\"/>\r\n      </g>\r\n     </g>\r\n    </g>\r\n    <g id=\"text_32\">\r\n     <!-- $v_2$ -->\r\n     <defs>\r\n      <path d=\"M 7.171875 54.6875 \r\nL 16.703125 54.6875 \r\nL 24.703125 8.203125 \r\nL 50.875 54.6875 \r\nL 60.40625 54.6875 \r\nL 29.296875 0 \r\nL 17.1875 0 \r\nz\r\n\" id=\"DejaVuSans-Oblique-118\"/>\r\n     </defs>\r\n     <g style=\"fill:#262626;\" transform=\"translate(307.599574 136.005625)rotate(-90)scale(0.1 -0.1)\">\r\n      <use transform=\"translate(0 0.3125)\" xlink:href=\"#DejaVuSans-Oblique-118\"/>\r\n      <use transform=\"translate(59.179688 -16.09375)scale(0.7)\" xlink:href=\"#DejaVuSans-50\"/>\r\n     </g>\r\n    </g>\r\n   </g>\r\n   <g id=\"line2d_56\">\r\n    <path clip-path=\"url(#p49054c2f9e)\" d=\"M 345.298812 239.37391 \r\nL 345.760893 238.568484 \r\nL 347.609218 236.674818 \r\nL 351.767949 232.872395 \r\nL 360.08541 225.618475 \r\nL 375.334089 212.644641 \r\nL 401.672717 190.555679 \r\nL 444.184186 155.219361 \r\nL 509.337633 101.372835 \r\nL 575.877324 46.566994 \r\nL 575.877324 46.566994 \r\n\" style=\"fill:none;stroke:#1f77b4;stroke-linecap:round;stroke-width:1.5;\"/>\r\n   </g>\r\n   <g id=\"patch_8\">\r\n    <path d=\"M 333.769886 239.375625 \r\nL 333.769886 21.935625 \r\n\" style=\"fill:none;stroke:#cccccc;stroke-linecap:square;stroke-linejoin:miter;\"/>\r\n   </g>\r\n   <g id=\"patch_9\">\r\n    <path d=\"M 587.40625 239.375625 \r\nL 587.40625 21.935625 \r\n\" style=\"fill:none;stroke:#cccccc;stroke-linecap:square;stroke-linejoin:miter;\"/>\r\n   </g>\r\n   <g id=\"patch_10\">\r\n    <path d=\"M 333.769886 239.375625 \r\nL 587.40625 239.375625 \r\n\" style=\"fill:none;stroke:#cccccc;stroke-linecap:square;stroke-linejoin:miter;\"/>\r\n   </g>\r\n   <g id=\"patch_11\">\r\n    <path d=\"M 333.769886 21.935625 \r\nL 587.40625 21.935625 \r\n\" style=\"fill:none;stroke:#cccccc;stroke-linecap:square;stroke-linejoin:miter;\"/>\r\n   </g>\r\n   <g id=\"text_33\">\r\n    <!-- value function in period 2 -->\r\n    <defs>\r\n     <path d=\"M 21 0 \r\nL 1.265625 51.859375 \r\nL 10.546875 51.859375 \r\nL 21.6875 20.796875 \r\nQ 23.484375 15.765625 25 10.359375 \r\nQ 26.171875 14.453125 28.265625 20.21875 \r\nL 39.796875 51.859375 \r\nL 48.828125 51.859375 \r\nL 29.203125 0 \r\nz\r\n\" id=\"ArialMT-118\"/>\r\n     <path d=\"M 40.4375 6.390625 \r\nQ 35.546875 2.25 31.03125 0.53125 \r\nQ 26.515625 -1.171875 21.34375 -1.171875 \r\nQ 12.796875 -1.171875 8.203125 3 \r\nQ 3.609375 7.171875 3.609375 13.671875 \r\nQ 3.609375 17.484375 5.34375 20.625 \r\nQ 7.078125 23.78125 9.890625 25.6875 \r\nQ 12.703125 27.59375 16.21875 28.5625 \r\nQ 18.796875 29.25 24.03125 29.890625 \r\nQ 34.671875 31.15625 39.703125 32.90625 \r\nQ 39.75 34.71875 39.75 35.203125 \r\nQ 39.75 40.578125 37.25 42.78125 \r\nQ 33.890625 45.75 27.25 45.75 \r\nQ 21.046875 45.75 18.09375 43.578125 \r\nQ 15.140625 41.40625 13.71875 35.890625 \r\nL 5.125 37.0625 \r\nQ 6.296875 42.578125 8.984375 45.96875 \r\nQ 11.671875 49.359375 16.75 51.1875 \r\nQ 21.828125 53.03125 28.515625 53.03125 \r\nQ 35.15625 53.03125 39.296875 51.46875 \r\nQ 43.453125 49.90625 45.40625 47.53125 \r\nQ 47.359375 45.171875 48.140625 41.546875 \r\nQ 48.578125 39.3125 48.578125 33.453125 \r\nL 48.578125 21.734375 \r\nQ 48.578125 9.46875 49.140625 6.21875 \r\nQ 49.703125 2.984375 51.375 0 \r\nL 42.1875 0 \r\nQ 40.828125 2.734375 40.4375 6.390625 \r\nz\r\nM 39.703125 26.03125 \r\nQ 34.90625 24.078125 25.34375 22.703125 \r\nQ 19.921875 21.921875 17.671875 20.9375 \r\nQ 15.4375 19.96875 14.203125 18.09375 \r\nQ 12.984375 16.21875 12.984375 13.921875 \r\nQ 12.984375 10.40625 15.640625 8.0625 \r\nQ 18.3125 5.71875 23.4375 5.71875 \r\nQ 28.515625 5.71875 32.46875 7.9375 \r\nQ 36.421875 10.15625 38.28125 14.015625 \r\nQ 39.703125 17 39.703125 22.796875 \r\nz\r\n\" id=\"ArialMT-97\"/>\r\n     <path d=\"M 6.390625 0 \r\nL 6.390625 71.578125 \r\nL 15.1875 71.578125 \r\nL 15.1875 0 \r\nz\r\n\" id=\"ArialMT-108\"/>\r\n    </defs>\r\n    <g style=\"fill:#262626;\" transform=\"translate(393.881193 15.935625)scale(0.12 -0.12)\">\r\n     <use xlink:href=\"#ArialMT-118\"/>\r\n     <use x=\"50\" xlink:href=\"#ArialMT-97\"/>\r\n     <use x=\"105.615234\" xlink:href=\"#ArialMT-108\"/>\r\n     <use x=\"127.832031\" xlink:href=\"#ArialMT-117\"/>\r\n     <use x=\"183.447266\" xlink:href=\"#ArialMT-101\"/>\r\n     <use x=\"239.0625\" xlink:href=\"#ArialMT-32\"/>\r\n     <use x=\"266.845703\" xlink:href=\"#ArialMT-102\"/>\r\n     <use x=\"294.628906\" xlink:href=\"#ArialMT-117\"/>\r\n     <use x=\"350.244141\" xlink:href=\"#ArialMT-110\"/>\r\n     <use x=\"405.859375\" xlink:href=\"#ArialMT-99\"/>\r\n     <use x=\"455.859375\" xlink:href=\"#ArialMT-116\"/>\r\n     <use x=\"483.642578\" xlink:href=\"#ArialMT-105\"/>\r\n     <use x=\"505.859375\" xlink:href=\"#ArialMT-111\"/>\r\n     <use x=\"561.474609\" xlink:href=\"#ArialMT-110\"/>\r\n     <use x=\"617.089844\" xlink:href=\"#ArialMT-32\"/>\r\n     <use x=\"644.873047\" xlink:href=\"#ArialMT-105\"/>\r\n     <use x=\"667.089844\" xlink:href=\"#ArialMT-110\"/>\r\n     <use x=\"722.705078\" xlink:href=\"#ArialMT-32\"/>\r\n     <use x=\"750.488281\" xlink:href=\"#ArialMT-112\"/>\r\n     <use x=\"806.103516\" xlink:href=\"#ArialMT-101\"/>\r\n     <use x=\"861.71875\" xlink:href=\"#ArialMT-114\"/>\r\n     <use x=\"895.019531\" xlink:href=\"#ArialMT-105\"/>\r\n     <use x=\"917.236328\" xlink:href=\"#ArialMT-111\"/>\r\n     <use x=\"972.851562\" xlink:href=\"#ArialMT-100\"/>\r\n     <use x=\"1028.466797\" xlink:href=\"#ArialMT-32\"/>\r\n     <use x=\"1056.25\" xlink:href=\"#ArialMT-50\"/>\r\n    </g>\r\n   </g>\r\n  </g>\r\n </g>\r\n <defs>\r\n  <clipPath id=\"p01312a50ad\">\r\n   <rect height=\"217.44\" width=\"253.636364\" x=\"29.40625\" y=\"21.935625\"/>\r\n  </clipPath>\r\n  <clipPath id=\"p49054c2f9e\">\r\n   <rect height=\"217.44\" width=\"253.636364\" x=\"333.769886\" y=\"21.935625\"/>\r\n  </clipPath>\r\n </defs>\r\n</svg>\r\n",
      "image/png": "[encoded data removed]"
     },
     "metadata": {
      "needs_background": "light"
     }
    }
   ],
   "source": [
    "def solve_period_2(rho,kappa,sigma,beta):\n",
    "\n",
    "    # a. grids\n",
    "    a2_vec = np.linspace(1e-8,5,500)\n",
    "    v2_vec = np.empty(500)\n",
    "    c2_vec = np.empty(500)\n",
    "\n",
    "    # b. solve for each m2 in grid\n",
    "    for i,a2 in enumerate(a2_vec):\n",
    "\n",
    "        # i. objective\n",
    "        obj = lambda x: -v2(x[0],a2,rho,kappa,sigma,beta)\n",
    "\n",
    "        # ii. initial value (consume half)\n",
    "        x0 = a2/2\n",
    "\n",
    "        # iii. optimizer\n",
    "        result = optimize.minimize(obj,[x0],method='L-BFGS-B',bounds=((1e-8,a2),))\n",
    "\n",
    "        # iv. save\n",
    "        v2_vec[i] = -result.fun\n",
    "        c2_vec[i] = result.x\n",
    "        \n",
    "    return a2_vec,v2_vec,c2_vec\n",
    "\n",
    "# solve\n",
    "a2_vec,v2_vec,c2_vec = solve_period_2(rho,kappa,sigma,beta)\n",
    "\n",
    "# illustration\n",
    "fig = plt.figure(figsize=(10,4))\n",
    "ax = fig.add_subplot(1,2,1)\n",
    "ax.plot(a2_vec,c2_vec)\n",
    "ax.set_xlabel('$a_2$')\n",
    "ax.set_ylabel('$c_2$')\n",
    "ax.set_title('consumption function in period 2')\n",
    "\n",
    "ax = fig.add_subplot(1,2,2)\n",
    "ax.plot(a2_vec,v2_vec)\n",
    "ax.set_xlabel('$a_2$')\n",
    "ax.set_ylabel('$v_2$')\n",
    "ax.set_title('value function in period 2')\n",
    "ax.set_ylim([0,200])\n"
   ]
  },
  {
   "cell_type": "code",
   "execution_count": 282,
   "metadata": {},
   "outputs": [],
   "source": [
    "#Interpolator\n",
    "\n",
    "v2_interp = interpolate.RegularGridInterpolator([a2_vec], v2_vec,\n",
    "                                                bounds_error=False,fill_value=None)"
   ]
  },
  {
   "cell_type": "markdown",
   "metadata": {},
   "source": [
    "In all periods *before the last*, $t < T$, the household solves:\n",
    " \n",
    " \n",
    "\n",
    "$v_{t}(a_{t-1})$ = $max_{c_{t}} \\frac{c_t^{1-\\rho}}{1-\\rho} + \\kappa \\frac{(a_t+\\underline{a})^{1-\\sigma}}{1-\\sigma} + \\beta v_{t+1}(a_t)$\n",
    "\n",
    "{s.t.} \n",
    "    $a_{t} = (1+r)a_{t-1} + y - c_{t}$\n",
    "\n",
    "where $\\beta$ is the discount factor for future utility."
   ]
  },
  {
   "cell_type": "markdown",
   "metadata": {},
   "source": [
    "**Question 2:** Find and plot $v_{T-1}(a_{T-2})$ and  $c_{T-1}^{*}(a_{T-2})$.\n"
   ]
  },
  {
   "cell_type": "code",
   "execution_count": 283,
   "metadata": {},
   "outputs": [],
   "source": [
    "beta = 0.97\n",
    "T = 20\n"
   ]
  },
  {
   "cell_type": "code",
   "execution_count": 290,
   "metadata": {},
   "outputs": [
    {
     "output_type": "error",
     "ename": "TypeError",
     "evalue": "unsupported operand type(s) for +: 'float' and 'RegularGridInterpolator'",
     "traceback": [
      "\u001b[1;31m---------------------------------------------------------------------------\u001b[0m",
      "\u001b[1;31mTypeError\u001b[0m                                 Traceback (most recent call last)",
      "\u001b[1;32m<ipython-input-290-5ae107e504d0>\u001b[0m in \u001b[0;36m<module>\u001b[1;34m\u001b[0m\n\u001b[0;32m     30\u001b[0m \u001b[1;33m\u001b[0m\u001b[0m\n\u001b[0;32m     31\u001b[0m \u001b[1;31m# solve\u001b[0m\u001b[1;33m\u001b[0m\u001b[1;33m\u001b[0m\u001b[1;33m\u001b[0m\u001b[0m\n\u001b[1;32m---> 32\u001b[1;33m \u001b[0ma1_vec\u001b[0m\u001b[1;33m,\u001b[0m\u001b[0mv1_vec\u001b[0m\u001b[1;33m,\u001b[0m\u001b[0mc1_vec\u001b[0m \u001b[1;33m=\u001b[0m \u001b[0msolve_period_1\u001b[0m\u001b[1;33m(\u001b[0m\u001b[0mrho\u001b[0m\u001b[1;33m,\u001b[0m\u001b[0mbeta\u001b[0m\u001b[1;33m,\u001b[0m\u001b[0mr\u001b[0m\u001b[1;33m,\u001b[0m\u001b[0my\u001b[0m\u001b[1;33m,\u001b[0m\u001b[0mv2_interp\u001b[0m\u001b[1;33m,\u001b[0m\u001b[0mkappa\u001b[0m\u001b[1;33m)\u001b[0m\u001b[1;33m\u001b[0m\u001b[1;33m\u001b[0m\u001b[0m\n\u001b[0m\u001b[0;32m     33\u001b[0m \u001b[1;33m\u001b[0m\u001b[0m\n\u001b[0;32m     34\u001b[0m \u001b[1;31m# illustrate\u001b[0m\u001b[1;33m\u001b[0m\u001b[1;33m\u001b[0m\u001b[1;33m\u001b[0m\u001b[0m\n",
      "\u001b[1;32m<ipython-input-290-5ae107e504d0>\u001b[0m in \u001b[0;36msolve_period_1\u001b[1;34m(rho, beta, r, y, v2_interp, kappa)\u001b[0m\n\u001b[0;32m     21\u001b[0m \u001b[1;33m\u001b[0m\u001b[0m\n\u001b[0;32m     22\u001b[0m         \u001b[1;31m# iii. optimize\u001b[0m\u001b[1;33m\u001b[0m\u001b[1;33m\u001b[0m\u001b[1;33m\u001b[0m\u001b[0m\n\u001b[1;32m---> 23\u001b[1;33m         \u001b[0mresult\u001b[0m \u001b[1;33m=\u001b[0m \u001b[0moptimize\u001b[0m\u001b[1;33m.\u001b[0m\u001b[0mminimize\u001b[0m\u001b[1;33m(\u001b[0m\u001b[0mobj\u001b[0m\u001b[1;33m,\u001b[0m\u001b[1;33m[\u001b[0m\u001b[0mx0\u001b[0m\u001b[1;33m]\u001b[0m\u001b[1;33m,\u001b[0m\u001b[0mmethod\u001b[0m\u001b[1;33m=\u001b[0m\u001b[1;34m'L-BFGS-B'\u001b[0m\u001b[1;33m,\u001b[0m\u001b[0mbounds\u001b[0m\u001b[1;33m=\u001b[0m\u001b[1;33m(\u001b[0m\u001b[1;33m(\u001b[0m\u001b[1;36m1e-12\u001b[0m\u001b[1;33m,\u001b[0m\u001b[0ma1\u001b[0m\u001b[1;33m)\u001b[0m\u001b[1;33m,\u001b[0m\u001b[1;33m)\u001b[0m\u001b[1;33m)\u001b[0m\u001b[1;33m\u001b[0m\u001b[1;33m\u001b[0m\u001b[0m\n\u001b[0m\u001b[0;32m     24\u001b[0m \u001b[1;33m\u001b[0m\u001b[0m\n\u001b[0;32m     25\u001b[0m         \u001b[1;31m# iv. save\u001b[0m\u001b[1;33m\u001b[0m\u001b[1;33m\u001b[0m\u001b[1;33m\u001b[0m\u001b[0m\n",
      "\u001b[1;32m~\\anaconda3\\lib\\site-packages\\scipy\\optimize\\_minimize.py\u001b[0m in \u001b[0;36mminimize\u001b[1;34m(fun, x0, args, method, jac, hess, hessp, bounds, constraints, tol, callback, options)\u001b[0m\n\u001b[0;32m    608\u001b[0m     \u001b[1;32melif\u001b[0m \u001b[0mmeth\u001b[0m \u001b[1;33m==\u001b[0m \u001b[1;34m'l-bfgs-b'\u001b[0m\u001b[1;33m:\u001b[0m\u001b[1;33m\u001b[0m\u001b[1;33m\u001b[0m\u001b[0m\n\u001b[0;32m    609\u001b[0m         return _minimize_lbfgsb(fun, x0, args, jac, bounds,\n\u001b[1;32m--> 610\u001b[1;33m                                 callback=callback, **options)\n\u001b[0m\u001b[0;32m    611\u001b[0m     \u001b[1;32melif\u001b[0m \u001b[0mmeth\u001b[0m \u001b[1;33m==\u001b[0m \u001b[1;34m'tnc'\u001b[0m\u001b[1;33m:\u001b[0m\u001b[1;33m\u001b[0m\u001b[1;33m\u001b[0m\u001b[0m\n\u001b[0;32m    612\u001b[0m         return _minimize_tnc(fun, x0, args, jac, bounds, callback=callback,\n",
      "\u001b[1;32m~\\anaconda3\\lib\\site-packages\\scipy\\optimize\\lbfgsb.py\u001b[0m in \u001b[0;36m_minimize_lbfgsb\u001b[1;34m(fun, x0, args, jac, bounds, disp, maxcor, ftol, gtol, eps, maxfun, maxiter, iprint, callback, maxls, **unknown_options)\u001b[0m\n\u001b[0;32m    343\u001b[0m             \u001b[1;31m# until the completion of the current minimization iteration.\u001b[0m\u001b[1;33m\u001b[0m\u001b[1;33m\u001b[0m\u001b[1;33m\u001b[0m\u001b[0m\n\u001b[0;32m    344\u001b[0m             \u001b[1;31m# Overwrite f and g:\u001b[0m\u001b[1;33m\u001b[0m\u001b[1;33m\u001b[0m\u001b[1;33m\u001b[0m\u001b[0m\n\u001b[1;32m--> 345\u001b[1;33m             \u001b[0mf\u001b[0m\u001b[1;33m,\u001b[0m \u001b[0mg\u001b[0m \u001b[1;33m=\u001b[0m \u001b[0mfunc_and_grad\u001b[0m\u001b[1;33m(\u001b[0m\u001b[0mx\u001b[0m\u001b[1;33m)\u001b[0m\u001b[1;33m\u001b[0m\u001b[1;33m\u001b[0m\u001b[0m\n\u001b[0m\u001b[0;32m    346\u001b[0m         \u001b[1;32melif\u001b[0m \u001b[0mtask_str\u001b[0m\u001b[1;33m.\u001b[0m\u001b[0mstartswith\u001b[0m\u001b[1;33m(\u001b[0m\u001b[1;34mb'NEW_X'\u001b[0m\u001b[1;33m)\u001b[0m\u001b[1;33m:\u001b[0m\u001b[1;33m\u001b[0m\u001b[1;33m\u001b[0m\u001b[0m\n\u001b[0;32m    347\u001b[0m             \u001b[1;31m# new iteration\u001b[0m\u001b[1;33m\u001b[0m\u001b[1;33m\u001b[0m\u001b[1;33m\u001b[0m\u001b[0m\n",
      "\u001b[1;32m~\\anaconda3\\lib\\site-packages\\scipy\\optimize\\lbfgsb.py\u001b[0m in \u001b[0;36mfunc_and_grad\u001b[1;34m(x)\u001b[0m\n\u001b[0;32m    288\u001b[0m     \u001b[1;32mif\u001b[0m \u001b[0mjac\u001b[0m \u001b[1;32mis\u001b[0m \u001b[1;32mNone\u001b[0m\u001b[1;33m:\u001b[0m\u001b[1;33m\u001b[0m\u001b[1;33m\u001b[0m\u001b[0m\n\u001b[0;32m    289\u001b[0m         \u001b[1;32mdef\u001b[0m \u001b[0mfunc_and_grad\u001b[0m\u001b[1;33m(\u001b[0m\u001b[0mx\u001b[0m\u001b[1;33m)\u001b[0m\u001b[1;33m:\u001b[0m\u001b[1;33m\u001b[0m\u001b[1;33m\u001b[0m\u001b[0m\n\u001b[1;32m--> 290\u001b[1;33m             \u001b[0mf\u001b[0m \u001b[1;33m=\u001b[0m \u001b[0mfun\u001b[0m\u001b[1;33m(\u001b[0m\u001b[0mx\u001b[0m\u001b[1;33m,\u001b[0m \u001b[1;33m*\u001b[0m\u001b[0margs\u001b[0m\u001b[1;33m)\u001b[0m\u001b[1;33m\u001b[0m\u001b[1;33m\u001b[0m\u001b[0m\n\u001b[0m\u001b[0;32m    291\u001b[0m             \u001b[0mg\u001b[0m \u001b[1;33m=\u001b[0m \u001b[0m_approx_fprime_helper\u001b[0m\u001b[1;33m(\u001b[0m\u001b[0mx\u001b[0m\u001b[1;33m,\u001b[0m \u001b[0mfun\u001b[0m\u001b[1;33m,\u001b[0m \u001b[0mepsilon\u001b[0m\u001b[1;33m,\u001b[0m \u001b[0margs\u001b[0m\u001b[1;33m=\u001b[0m\u001b[0margs\u001b[0m\u001b[1;33m,\u001b[0m \u001b[0mf0\u001b[0m\u001b[1;33m=\u001b[0m\u001b[0mf\u001b[0m\u001b[1;33m)\u001b[0m\u001b[1;33m\u001b[0m\u001b[1;33m\u001b[0m\u001b[0m\n\u001b[0;32m    292\u001b[0m             \u001b[1;32mreturn\u001b[0m \u001b[0mf\u001b[0m\u001b[1;33m,\u001b[0m \u001b[0mg\u001b[0m\u001b[1;33m\u001b[0m\u001b[1;33m\u001b[0m\u001b[0m\n",
      "\u001b[1;32m~\\anaconda3\\lib\\site-packages\\scipy\\optimize\\optimize.py\u001b[0m in \u001b[0;36mfunction_wrapper\u001b[1;34m(*wrapper_args)\u001b[0m\n\u001b[0;32m    325\u001b[0m     \u001b[1;32mdef\u001b[0m \u001b[0mfunction_wrapper\u001b[0m\u001b[1;33m(\u001b[0m\u001b[1;33m*\u001b[0m\u001b[0mwrapper_args\u001b[0m\u001b[1;33m)\u001b[0m\u001b[1;33m:\u001b[0m\u001b[1;33m\u001b[0m\u001b[1;33m\u001b[0m\u001b[0m\n\u001b[0;32m    326\u001b[0m         \u001b[0mncalls\u001b[0m\u001b[1;33m[\u001b[0m\u001b[1;36m0\u001b[0m\u001b[1;33m]\u001b[0m \u001b[1;33m+=\u001b[0m \u001b[1;36m1\u001b[0m\u001b[1;33m\u001b[0m\u001b[1;33m\u001b[0m\u001b[0m\n\u001b[1;32m--> 327\u001b[1;33m         \u001b[1;32mreturn\u001b[0m \u001b[0mfunction\u001b[0m\u001b[1;33m(\u001b[0m\u001b[1;33m*\u001b[0m\u001b[1;33m(\u001b[0m\u001b[0mwrapper_args\u001b[0m \u001b[1;33m+\u001b[0m \u001b[0margs\u001b[0m\u001b[1;33m)\u001b[0m\u001b[1;33m)\u001b[0m\u001b[1;33m\u001b[0m\u001b[1;33m\u001b[0m\u001b[0m\n\u001b[0m\u001b[0;32m    328\u001b[0m \u001b[1;33m\u001b[0m\u001b[0m\n\u001b[0;32m    329\u001b[0m     \u001b[1;32mreturn\u001b[0m \u001b[0mncalls\u001b[0m\u001b[1;33m,\u001b[0m \u001b[0mfunction_wrapper\u001b[0m\u001b[1;33m\u001b[0m\u001b[1;33m\u001b[0m\u001b[0m\n",
      "\u001b[1;32m<ipython-input-290-5ae107e504d0>\u001b[0m in \u001b[0;36m<lambda>\u001b[1;34m(x)\u001b[0m\n\u001b[0;32m     15\u001b[0m \u001b[1;33m\u001b[0m\u001b[0m\n\u001b[0;32m     16\u001b[0m         \u001b[1;31m# i. objective\u001b[0m\u001b[1;33m\u001b[0m\u001b[1;33m\u001b[0m\u001b[1;33m\u001b[0m\u001b[0m\n\u001b[1;32m---> 17\u001b[1;33m         \u001b[0mobj\u001b[0m \u001b[1;33m=\u001b[0m \u001b[1;32mlambda\u001b[0m \u001b[0mx\u001b[0m\u001b[1;33m:\u001b[0m \u001b[1;33m-\u001b[0m\u001b[0mv1\u001b[0m\u001b[1;33m(\u001b[0m\u001b[0mx\u001b[0m\u001b[1;33m[\u001b[0m\u001b[1;36m0\u001b[0m\u001b[1;33m]\u001b[0m\u001b[1;33m,\u001b[0m\u001b[0ma1\u001b[0m\u001b[1;33m,\u001b[0m\u001b[0mrho\u001b[0m\u001b[1;33m,\u001b[0m\u001b[0mbeta\u001b[0m\u001b[1;33m,\u001b[0m\u001b[0mr\u001b[0m\u001b[1;33m,\u001b[0m\u001b[0my\u001b[0m\u001b[1;33m,\u001b[0m\u001b[0mv2_interp\u001b[0m\u001b[1;33m,\u001b[0m\u001b[0mkappa\u001b[0m\u001b[1;33m)\u001b[0m\u001b[1;33m\u001b[0m\u001b[1;33m\u001b[0m\u001b[0m\n\u001b[0m\u001b[0;32m     18\u001b[0m \u001b[1;33m\u001b[0m\u001b[0m\n\u001b[0;32m     19\u001b[0m         \u001b[1;31m# ii. initial guess (consume half)\u001b[0m\u001b[1;33m\u001b[0m\u001b[1;33m\u001b[0m\u001b[1;33m\u001b[0m\u001b[0m\n",
      "\u001b[1;32m<ipython-input-280-4157f8ad7030>\u001b[0m in \u001b[0;36mv1\u001b[1;34m(c1, a_lag_vec, a_ubar1, rho, beta, r, y, v2_interp)\u001b[0m\n\u001b[0;32m      3\u001b[0m \u001b[1;33m\u001b[0m\u001b[0m\n\u001b[0;32m      4\u001b[0m     \u001b[1;31m# a. v2 value, if low income\u001b[0m\u001b[1;33m\u001b[0m\u001b[1;33m\u001b[0m\u001b[1;33m\u001b[0m\u001b[0m\n\u001b[1;32m----> 5\u001b[1;33m     \u001b[0ma2_low\u001b[0m \u001b[1;33m=\u001b[0m \u001b[1;33m(\u001b[0m\u001b[1;36m1\u001b[0m\u001b[1;33m+\u001b[0m\u001b[0mr\u001b[0m\u001b[1;33m)\u001b[0m\u001b[1;33m*\u001b[0m\u001b[0ma_lag_vec\u001b[0m \u001b[1;33m+\u001b[0m \u001b[0my\u001b[0m \u001b[1;33m-\u001b[0m \u001b[0mc1\u001b[0m\u001b[1;33m\u001b[0m\u001b[1;33m\u001b[0m\u001b[0m\n\u001b[0m\u001b[0;32m      6\u001b[0m     \u001b[0mv2_low\u001b[0m \u001b[1;33m=\u001b[0m \u001b[0mv2_interp\u001b[0m\u001b[1;33m(\u001b[0m\u001b[1;33m[\u001b[0m\u001b[0ma2_low\u001b[0m\u001b[1;33m]\u001b[0m\u001b[1;33m)\u001b[0m\u001b[1;33m[\u001b[0m\u001b[1;36m0\u001b[0m\u001b[1;33m]\u001b[0m\u001b[1;33m\u001b[0m\u001b[1;33m\u001b[0m\u001b[0m\n\u001b[0;32m      7\u001b[0m \u001b[1;33m\u001b[0m\u001b[0m\n",
      "\u001b[1;31mTypeError\u001b[0m: unsupported operand type(s) for +: 'float' and 'RegularGridInterpolator'"
     ]
    }
   ],
   "source": [
    "# grids\n",
    "m1_vec = np.linspace(1e-8,10,100)\n",
    "a2_vec = np.linspace(1e-8,10,100)\n",
    "\n",
    "\n",
    "def solve_period_1(rho,beta,r,y,v2_interp, kappa):\n",
    "\n",
    "    # a. grids\n",
    "    a_lag_vec = np.linspace(0,300,300)\n",
    "    v1_vec = np.empty(100)\n",
    "    c1_vec = np.empty(100)\n",
    "    \n",
    "    # b. solve for each m1 in grid\n",
    "    for i,a1 in enumerate(a1_vec):\n",
    "        \n",
    "        # i. objective\n",
    "        obj = lambda x: -v1(x[0],a1,rho,beta,r,y,v2_interp,kappa)\n",
    "        \n",
    "        # ii. initial guess (consume half)\n",
    "        x0 = a1/2\n",
    "        \n",
    "        # iii. optimize\n",
    "        result = optimize.minimize(obj,[x0],method='L-BFGS-B',bounds=((1e-12,a1),))\n",
    "        \n",
    "        # iv. save\n",
    "        v1_vec[i] = -result.fun\n",
    "        c1_vec[i] = result.x[0]\n",
    "     \n",
    "    return a1_vec,v1_vec,c1_vec\n",
    "\n",
    "# solve\n",
    "a1_vec,v1_vec,c1_vec = solve_period_1(rho,beta,r,y,v2_interp,kappa)\n",
    "\n",
    "# illustrate\n",
    "fig = plt.figure(figsize=(10,4))\n",
    "ax = fig.add_subplot(1,2,1)\n",
    "ax.plot(a1_vec,c1_vec)\n",
    "ax.set_xlabel('$m_1$')\n",
    "ax.set_ylabel('$c_1$')\n",
    "ax.set_title('consumption function in period 1')\n",
    "\n",
    "ax = fig.add_subplot(1,2,2)\n",
    "ax.plot(a1_vec,v1_vec)\n",
    "ax.set_xlabel('$m_1$')\n",
    "ax.set_ylabel('$v_1$')\n",
    "ax.set_title('value function in period 1')\n",
    "ax.set_ylim([-40,1])\n"
   ]
  },
  {
   "cell_type": "markdown",
   "metadata": {},
   "source": [
    "**Question 3:** Find $c_t^{*}(a_{t-1})$ for $t \\in {0,1,...,T}$ and plot them in a single figure.\n",
    "\n",
    "\n",
    " \n"
   ]
  },
  {
   "cell_type": "code",
   "execution_count": 291,
   "metadata": {},
   "outputs": [
    {
     "output_type": "error",
     "ename": "TypeError",
     "evalue": "solve() missing 1 required positional argument: 'kappa'",
     "traceback": [
      "\u001b[1;31m---------------------------------------------------------------------------\u001b[0m",
      "\u001b[1;31mTypeError\u001b[0m                                 Traceback (most recent call last)",
      "\u001b[1;32m<ipython-input-291-dcd4bc22df3d>\u001b[0m in \u001b[0;36m<module>\u001b[1;34m\u001b[0m\n\u001b[0;32m      3\u001b[0m \u001b[1;33m\u001b[0m\u001b[0m\n\u001b[0;32m      4\u001b[0m \u001b[1;32mfor\u001b[0m \u001b[0mbeta\u001b[0m \u001b[1;32min\u001b[0m \u001b[1;33m[\u001b[0m\u001b[1;36m0.05\u001b[0m\u001b[1;33m,\u001b[0m\u001b[1;36m0.15\u001b[0m\u001b[1;33m,\u001b[0m\u001b[1;36m0.25\u001b[0m\u001b[1;33m]\u001b[0m\u001b[1;33m:\u001b[0m\u001b[1;33m\u001b[0m\u001b[1;33m\u001b[0m\u001b[0m\n\u001b[1;32m----> 5\u001b[1;33m     \u001b[0ma1_vec\u001b[0m\u001b[1;33m,\u001b[0m\u001b[0mc1_vec\u001b[0m\u001b[1;33m,\u001b[0m\u001b[0ma2_vec\u001b[0m\u001b[1;33m,\u001b[0m\u001b[0mc2_vec\u001b[0m \u001b[1;33m=\u001b[0m \u001b[0msolve\u001b[0m\u001b[1;33m(\u001b[0m\u001b[0mrho\u001b[0m\u001b[1;33m,\u001b[0m\u001b[0mbeta\u001b[0m\u001b[1;33m,\u001b[0m\u001b[0mr\u001b[0m\u001b[1;33m,\u001b[0m\u001b[0mDelta\u001b[0m\u001b[1;33m,\u001b[0m\u001b[0mkappa\u001b[0m\u001b[1;33m)\u001b[0m\u001b[1;33m\u001b[0m\u001b[1;33m\u001b[0m\u001b[0m\n\u001b[0m\u001b[0;32m      6\u001b[0m     \u001b[0max\u001b[0m\u001b[1;33m.\u001b[0m\u001b[0mplot\u001b[0m\u001b[1;33m(\u001b[0m\u001b[0ma1_vec\u001b[0m\u001b[1;33m,\u001b[0m\u001b[0mc1_vec\u001b[0m\u001b[1;33m,\u001b[0m\u001b[0mlabel\u001b[0m\u001b[1;33m=\u001b[0m\u001b[1;34mf'$\\Delta = {Delta}$'\u001b[0m\u001b[1;33m)\u001b[0m\u001b[1;33m\u001b[0m\u001b[1;33m\u001b[0m\u001b[0m\n\u001b[0;32m      7\u001b[0m \u001b[1;33m\u001b[0m\u001b[0m\n",
      "\u001b[1;31mTypeError\u001b[0m: solve() missing 1 required positional argument: 'kappa'"
     ]
    }
   ],
   "source": [
    "fig = plt.figure()\n",
    "ax = fig.add_subplot(1,1,1)\n",
    "\n",
    "for beta in [0.05,0.15,0.25]:\n",
    "    a1_vec,c1_vec,a2_vec,c2_vec = solve(rho,beta,r,Delta,kappa)\n",
    "    ax.plot(a1_vec,c1_vec,label=f'$\\Delta = {Delta}$')\n",
    "\n",
    "ax.legend(loc='lower right',facecolor='white',frameon=True)\n",
    "ax.set_xlabel('$m_1$')\n",
    "ax.set_ylabel('$c_1$')\n",
    "ax.set_title('value function in period 1')\n",
    "ax.set_xlim([0,2])\n",
    "ax.set_ylim([0,1.5])"
   ]
  },
  {
   "cell_type": "markdown",
   "metadata": {},
   "source": [
    "Define the saving rate as:\n",
    "\n",
    "$s_{t}^* (a_{t-1})$ = $\\frac{(a_{t}-a_{t-1}+y-c_{t}^*(a_{t-1}))-a_{t-1}}{y+ra_{t-1}}$\n"
   ]
  },
  {
   "cell_type": "markdown",
   "metadata": {},
   "source": [
    "**Question 4:** Plot $s_0^{*}(a_{-1})$. Do the rich or the poor save the most?\n",
    "   "
   ]
  },
  {
   "cell_type": "code",
   "execution_count": 250,
   "metadata": {},
   "outputs": [
    {
     "output_type": "error",
     "ename": "TypeError",
     "evalue": "unsupported operand type(s) for *: 'function' and 'float'",
     "traceback": [
      "\u001b[1;31m---------------------------------------------------------------------------\u001b[0m",
      "\u001b[1;31mTypeError\u001b[0m                                 Traceback (most recent call last)",
      "\u001b[1;32m<ipython-input-250-ba2f86e4d951>\u001b[0m in \u001b[0;36m<module>\u001b[1;34m\u001b[0m\n\u001b[0;32m      1\u001b[0m \u001b[0mDelta\u001b[0m \u001b[1;33m=\u001b[0m \u001b[1;36m0.5\u001b[0m\u001b[1;33m\u001b[0m\u001b[1;33m\u001b[0m\u001b[0m\n\u001b[1;32m----> 2\u001b[1;33m \u001b[0ma1_vec\u001b[0m\u001b[1;33m,\u001b[0m\u001b[0mc1_vec\u001b[0m\u001b[1;33m,\u001b[0m\u001b[0ma2_vec\u001b[0m\u001b[1;33m,\u001b[0m\u001b[0mc2_vec\u001b[0m \u001b[1;33m=\u001b[0m \u001b[0msolve\u001b[0m\u001b[1;33m(\u001b[0m\u001b[0mrho\u001b[0m\u001b[1;33m,\u001b[0m\u001b[0mbeta\u001b[0m\u001b[1;33m,\u001b[0m\u001b[0mr\u001b[0m\u001b[1;33m,\u001b[0m\u001b[0mDelta\u001b[0m\u001b[1;33m,\u001b[0m\u001b[0msigma\u001b[0m\u001b[1;33m,\u001b[0m\u001b[0mkappa\u001b[0m\u001b[1;33m)\u001b[0m\u001b[1;33m\u001b[0m\u001b[1;33m\u001b[0m\u001b[0m\n\u001b[0m\u001b[0;32m      3\u001b[0m \u001b[1;33m\u001b[0m\u001b[0m\n\u001b[0;32m      4\u001b[0m c1_interp = interpolate.RegularGridInterpolator([a1_vec], c1_vec,\n\u001b[0;32m      5\u001b[0m                                                 bounds_error=False,fill_value=None)\n",
      "\u001b[1;32m<ipython-input-249-36b421825d53>\u001b[0m in \u001b[0;36msolve\u001b[1;34m(rho, beta, r, Delta, nu, kappa)\u001b[0m\n\u001b[0;32m      9\u001b[0m \u001b[1;33m\u001b[0m\u001b[0m\n\u001b[0;32m     10\u001b[0m     \u001b[1;31m# c. solve period 1\u001b[0m\u001b[1;33m\u001b[0m\u001b[1;33m\u001b[0m\u001b[1;33m\u001b[0m\u001b[0m\n\u001b[1;32m---> 11\u001b[1;33m     \u001b[0ma1_vec\u001b[0m\u001b[1;33m,\u001b[0m\u001b[0mv1_vec\u001b[0m\u001b[1;33m,\u001b[0m\u001b[0mc1_vec\u001b[0m \u001b[1;33m=\u001b[0m \u001b[0msolve_period_1\u001b[0m\u001b[1;33m(\u001b[0m\u001b[0mrho\u001b[0m\u001b[1;33m,\u001b[0m\u001b[0mbeta\u001b[0m\u001b[1;33m,\u001b[0m\u001b[0mr\u001b[0m\u001b[1;33m,\u001b[0m\u001b[0mDelta\u001b[0m\u001b[1;33m,\u001b[0m\u001b[0mv2_interp\u001b[0m\u001b[1;33m)\u001b[0m\u001b[1;33m\u001b[0m\u001b[1;33m\u001b[0m\u001b[0m\n\u001b[0m\u001b[0;32m     12\u001b[0m \u001b[1;33m\u001b[0m\u001b[0m\n\u001b[0;32m     13\u001b[0m     \u001b[1;32mreturn\u001b[0m \u001b[0ma1_vec\u001b[0m\u001b[1;33m,\u001b[0m\u001b[0mc1_vec\u001b[0m\u001b[1;33m,\u001b[0m\u001b[0ma2_vec\u001b[0m\u001b[1;33m,\u001b[0m\u001b[0mc2_vec\u001b[0m\u001b[1;33m\u001b[0m\u001b[1;33m\u001b[0m\u001b[0m\n",
      "\u001b[1;32m<ipython-input-247-db8abecdf1e3>\u001b[0m in \u001b[0;36msolve_period_1\u001b[1;34m(rho, beta, r, Delta, v2_interp)\u001b[0m\n\u001b[0;32m     21\u001b[0m \u001b[1;33m\u001b[0m\u001b[0m\n\u001b[0;32m     22\u001b[0m         \u001b[1;31m# iii. optimize\u001b[0m\u001b[1;33m\u001b[0m\u001b[1;33m\u001b[0m\u001b[1;33m\u001b[0m\u001b[0m\n\u001b[1;32m---> 23\u001b[1;33m         \u001b[0mresult\u001b[0m \u001b[1;33m=\u001b[0m \u001b[0moptimize\u001b[0m\u001b[1;33m.\u001b[0m\u001b[0mminimize\u001b[0m\u001b[1;33m(\u001b[0m\u001b[0mobj\u001b[0m\u001b[1;33m,\u001b[0m\u001b[1;33m[\u001b[0m\u001b[0mx0\u001b[0m\u001b[1;33m]\u001b[0m\u001b[1;33m,\u001b[0m\u001b[0mmethod\u001b[0m\u001b[1;33m=\u001b[0m\u001b[1;34m'L-BFGS-B'\u001b[0m\u001b[1;33m,\u001b[0m\u001b[0mbounds\u001b[0m\u001b[1;33m=\u001b[0m\u001b[1;33m(\u001b[0m\u001b[1;33m(\u001b[0m\u001b[1;36m1e-12\u001b[0m\u001b[1;33m,\u001b[0m\u001b[0ma1\u001b[0m\u001b[1;33m)\u001b[0m\u001b[1;33m,\u001b[0m\u001b[1;33m)\u001b[0m\u001b[1;33m)\u001b[0m\u001b[1;33m\u001b[0m\u001b[1;33m\u001b[0m\u001b[0m\n\u001b[0m\u001b[0;32m     24\u001b[0m \u001b[1;33m\u001b[0m\u001b[0m\n\u001b[0;32m     25\u001b[0m         \u001b[1;31m# iv. save\u001b[0m\u001b[1;33m\u001b[0m\u001b[1;33m\u001b[0m\u001b[1;33m\u001b[0m\u001b[0m\n",
      "\u001b[1;32m~\\anaconda3\\lib\\site-packages\\scipy\\optimize\\_minimize.py\u001b[0m in \u001b[0;36mminimize\u001b[1;34m(fun, x0, args, method, jac, hess, hessp, bounds, constraints, tol, callback, options)\u001b[0m\n\u001b[0;32m    608\u001b[0m     \u001b[1;32melif\u001b[0m \u001b[0mmeth\u001b[0m \u001b[1;33m==\u001b[0m \u001b[1;34m'l-bfgs-b'\u001b[0m\u001b[1;33m:\u001b[0m\u001b[1;33m\u001b[0m\u001b[1;33m\u001b[0m\u001b[0m\n\u001b[0;32m    609\u001b[0m         return _minimize_lbfgsb(fun, x0, args, jac, bounds,\n\u001b[1;32m--> 610\u001b[1;33m                                 callback=callback, **options)\n\u001b[0m\u001b[0;32m    611\u001b[0m     \u001b[1;32melif\u001b[0m \u001b[0mmeth\u001b[0m \u001b[1;33m==\u001b[0m \u001b[1;34m'tnc'\u001b[0m\u001b[1;33m:\u001b[0m\u001b[1;33m\u001b[0m\u001b[1;33m\u001b[0m\u001b[0m\n\u001b[0;32m    612\u001b[0m         return _minimize_tnc(fun, x0, args, jac, bounds, callback=callback,\n",
      "\u001b[1;32m~\\anaconda3\\lib\\site-packages\\scipy\\optimize\\lbfgsb.py\u001b[0m in \u001b[0;36m_minimize_lbfgsb\u001b[1;34m(fun, x0, args, jac, bounds, disp, maxcor, ftol, gtol, eps, maxfun, maxiter, iprint, callback, maxls, **unknown_options)\u001b[0m\n\u001b[0;32m    343\u001b[0m             \u001b[1;31m# until the completion of the current minimization iteration.\u001b[0m\u001b[1;33m\u001b[0m\u001b[1;33m\u001b[0m\u001b[1;33m\u001b[0m\u001b[0m\n\u001b[0;32m    344\u001b[0m             \u001b[1;31m# Overwrite f and g:\u001b[0m\u001b[1;33m\u001b[0m\u001b[1;33m\u001b[0m\u001b[1;33m\u001b[0m\u001b[0m\n\u001b[1;32m--> 345\u001b[1;33m             \u001b[0mf\u001b[0m\u001b[1;33m,\u001b[0m \u001b[0mg\u001b[0m \u001b[1;33m=\u001b[0m \u001b[0mfunc_and_grad\u001b[0m\u001b[1;33m(\u001b[0m\u001b[0mx\u001b[0m\u001b[1;33m)\u001b[0m\u001b[1;33m\u001b[0m\u001b[1;33m\u001b[0m\u001b[0m\n\u001b[0m\u001b[0;32m    346\u001b[0m         \u001b[1;32melif\u001b[0m \u001b[0mtask_str\u001b[0m\u001b[1;33m.\u001b[0m\u001b[0mstartswith\u001b[0m\u001b[1;33m(\u001b[0m\u001b[1;34mb'NEW_X'\u001b[0m\u001b[1;33m)\u001b[0m\u001b[1;33m:\u001b[0m\u001b[1;33m\u001b[0m\u001b[1;33m\u001b[0m\u001b[0m\n\u001b[0;32m    347\u001b[0m             \u001b[1;31m# new iteration\u001b[0m\u001b[1;33m\u001b[0m\u001b[1;33m\u001b[0m\u001b[1;33m\u001b[0m\u001b[0m\n",
      "\u001b[1;32m~\\anaconda3\\lib\\site-packages\\scipy\\optimize\\lbfgsb.py\u001b[0m in \u001b[0;36mfunc_and_grad\u001b[1;34m(x)\u001b[0m\n\u001b[0;32m    288\u001b[0m     \u001b[1;32mif\u001b[0m \u001b[0mjac\u001b[0m \u001b[1;32mis\u001b[0m \u001b[1;32mNone\u001b[0m\u001b[1;33m:\u001b[0m\u001b[1;33m\u001b[0m\u001b[1;33m\u001b[0m\u001b[0m\n\u001b[0;32m    289\u001b[0m         \u001b[1;32mdef\u001b[0m \u001b[0mfunc_and_grad\u001b[0m\u001b[1;33m(\u001b[0m\u001b[0mx\u001b[0m\u001b[1;33m)\u001b[0m\u001b[1;33m:\u001b[0m\u001b[1;33m\u001b[0m\u001b[1;33m\u001b[0m\u001b[0m\n\u001b[1;32m--> 290\u001b[1;33m             \u001b[0mf\u001b[0m \u001b[1;33m=\u001b[0m \u001b[0mfun\u001b[0m\u001b[1;33m(\u001b[0m\u001b[0mx\u001b[0m\u001b[1;33m,\u001b[0m \u001b[1;33m*\u001b[0m\u001b[0margs\u001b[0m\u001b[1;33m)\u001b[0m\u001b[1;33m\u001b[0m\u001b[1;33m\u001b[0m\u001b[0m\n\u001b[0m\u001b[0;32m    291\u001b[0m             \u001b[0mg\u001b[0m \u001b[1;33m=\u001b[0m \u001b[0m_approx_fprime_helper\u001b[0m\u001b[1;33m(\u001b[0m\u001b[0mx\u001b[0m\u001b[1;33m,\u001b[0m \u001b[0mfun\u001b[0m\u001b[1;33m,\u001b[0m \u001b[0mepsilon\u001b[0m\u001b[1;33m,\u001b[0m \u001b[0margs\u001b[0m\u001b[1;33m=\u001b[0m\u001b[0margs\u001b[0m\u001b[1;33m,\u001b[0m \u001b[0mf0\u001b[0m\u001b[1;33m=\u001b[0m\u001b[0mf\u001b[0m\u001b[1;33m)\u001b[0m\u001b[1;33m\u001b[0m\u001b[1;33m\u001b[0m\u001b[0m\n\u001b[0;32m    292\u001b[0m             \u001b[1;32mreturn\u001b[0m \u001b[0mf\u001b[0m\u001b[1;33m,\u001b[0m \u001b[0mg\u001b[0m\u001b[1;33m\u001b[0m\u001b[1;33m\u001b[0m\u001b[0m\n",
      "\u001b[1;32m~\\anaconda3\\lib\\site-packages\\scipy\\optimize\\optimize.py\u001b[0m in \u001b[0;36mfunction_wrapper\u001b[1;34m(*wrapper_args)\u001b[0m\n\u001b[0;32m    325\u001b[0m     \u001b[1;32mdef\u001b[0m \u001b[0mfunction_wrapper\u001b[0m\u001b[1;33m(\u001b[0m\u001b[1;33m*\u001b[0m\u001b[0mwrapper_args\u001b[0m\u001b[1;33m)\u001b[0m\u001b[1;33m:\u001b[0m\u001b[1;33m\u001b[0m\u001b[1;33m\u001b[0m\u001b[0m\n\u001b[0;32m    326\u001b[0m         \u001b[0mncalls\u001b[0m\u001b[1;33m[\u001b[0m\u001b[1;36m0\u001b[0m\u001b[1;33m]\u001b[0m \u001b[1;33m+=\u001b[0m \u001b[1;36m1\u001b[0m\u001b[1;33m\u001b[0m\u001b[1;33m\u001b[0m\u001b[0m\n\u001b[1;32m--> 327\u001b[1;33m         \u001b[1;32mreturn\u001b[0m \u001b[0mfunction\u001b[0m\u001b[1;33m(\u001b[0m\u001b[1;33m*\u001b[0m\u001b[1;33m(\u001b[0m\u001b[0mwrapper_args\u001b[0m \u001b[1;33m+\u001b[0m \u001b[0margs\u001b[0m\u001b[1;33m)\u001b[0m\u001b[1;33m)\u001b[0m\u001b[1;33m\u001b[0m\u001b[1;33m\u001b[0m\u001b[0m\n\u001b[0m\u001b[0;32m    328\u001b[0m \u001b[1;33m\u001b[0m\u001b[0m\n\u001b[0;32m    329\u001b[0m     \u001b[1;32mreturn\u001b[0m \u001b[0mncalls\u001b[0m\u001b[1;33m,\u001b[0m \u001b[0mfunction_wrapper\u001b[0m\u001b[1;33m\u001b[0m\u001b[1;33m\u001b[0m\u001b[0m\n",
      "\u001b[1;32m<ipython-input-247-db8abecdf1e3>\u001b[0m in \u001b[0;36m<lambda>\u001b[1;34m(x)\u001b[0m\n\u001b[0;32m     15\u001b[0m \u001b[1;33m\u001b[0m\u001b[0m\n\u001b[0;32m     16\u001b[0m         \u001b[1;31m# i. objective\u001b[0m\u001b[1;33m\u001b[0m\u001b[1;33m\u001b[0m\u001b[1;33m\u001b[0m\u001b[0m\n\u001b[1;32m---> 17\u001b[1;33m         \u001b[0mobj\u001b[0m \u001b[1;33m=\u001b[0m \u001b[1;32mlambda\u001b[0m \u001b[0mx\u001b[0m\u001b[1;33m:\u001b[0m \u001b[1;33m-\u001b[0m\u001b[0mv1\u001b[0m\u001b[1;33m(\u001b[0m\u001b[0mx\u001b[0m\u001b[1;33m[\u001b[0m\u001b[1;36m0\u001b[0m\u001b[1;33m]\u001b[0m\u001b[1;33m,\u001b[0m\u001b[0ma1\u001b[0m\u001b[1;33m,\u001b[0m\u001b[0mrho\u001b[0m\u001b[1;33m,\u001b[0m\u001b[0mbeta\u001b[0m\u001b[1;33m,\u001b[0m\u001b[0mr\u001b[0m\u001b[1;33m,\u001b[0m\u001b[0mDelta\u001b[0m\u001b[1;33m,\u001b[0m\u001b[0my\u001b[0m\u001b[1;33m,\u001b[0m\u001b[0mv2_interp\u001b[0m\u001b[1;33m)\u001b[0m\u001b[1;33m\u001b[0m\u001b[1;33m\u001b[0m\u001b[0m\n\u001b[0m\u001b[0;32m     18\u001b[0m \u001b[1;33m\u001b[0m\u001b[0m\n\u001b[0;32m     19\u001b[0m         \u001b[1;31m# ii. initial guess (consume half)\u001b[0m\u001b[1;33m\u001b[0m\u001b[1;33m\u001b[0m\u001b[1;33m\u001b[0m\u001b[0m\n",
      "\u001b[1;32m<ipython-input-243-4157f8ad7030>\u001b[0m in \u001b[0;36mv1\u001b[1;34m(c1, a_lag_vec, a_ubar1, rho, beta, r, y, v2_interp)\u001b[0m\n\u001b[0;32m     11\u001b[0m \u001b[1;33m\u001b[0m\u001b[0m\n\u001b[0;32m     12\u001b[0m     \u001b[1;31m# c. total value\u001b[0m\u001b[1;33m\u001b[0m\u001b[1;33m\u001b[0m\u001b[1;33m\u001b[0m\u001b[0m\n\u001b[1;32m---> 13\u001b[1;33m     \u001b[1;32mreturn\u001b[0m \u001b[0mutility\u001b[0m\u001b[1;33m(\u001b[0m\u001b[0mc1\u001b[0m\u001b[1;33m,\u001b[0m\u001b[0mrho\u001b[0m\u001b[1;33m)\u001b[0m \u001b[1;33m+\u001b[0m \u001b[0mv2\u001b[0m\u001b[1;33m*\u001b[0m\u001b[0mbeta\u001b[0m\u001b[1;33m\u001b[0m\u001b[1;33m\u001b[0m\u001b[0m\n\u001b[0m",
      "\u001b[1;31mTypeError\u001b[0m: unsupported operand type(s) for *: 'function' and 'float'"
     ]
    }
   ],
   "source": [
    "Delta = 0.5\n",
    "a1_vec,c1_vec,a2_vec,c2_vec = solve(rho,beta,r,Delta,sigma,kappa)\n",
    "\n",
    "c1_interp = interpolate.RegularGridInterpolator([a1_vec], c1_vec,\n",
    "                                                bounds_error=False,fill_value=None)\n",
    "\n",
    "c2_interp = interpolate.RegularGridInterpolator([a2_vec], c2_vec,\n",
    "                                                bounds_error=False,fill_value=None)\n",
    "\n",
    "#Draw initial distribution\n",
    "# a. draw initial\n",
    "simN = 10000\n",
    "sim_a1 = np.fmax(np.random.normal(1,0.1,size=simN),0) # \"randomly\" chosen distribution\n",
    "\n",
    "# b. period 1\n",
    "sim_c1 = c1_interp(sim_a1)\n",
    "sim_a1 = sim_a1-sim_c1\n",
    "\n",
    "# c. transition to period 2 with random draw\n",
    "sim_a2 = (1+r)*sim_a1+np.random.choice([0.5,1.5],p=[0.5,0.5])\n",
    "\n",
    "# d. period 2\n",
    "sim_c2 = c2_interp(sim_a2)\n",
    "\n",
    "#Plot distributions\n",
    "fig = plt.figure()\n",
    "ax = fig.add_subplot(1,1,1)\n",
    "\n",
    "ax.hist(sim_c1,bins=100,label='period 1')\n",
    "ax.hist(sim_c2,bins=100,label='period 2')\n",
    "\n",
    "ax.legend(loc='lower right',facecolor='white',frameon=True)\n",
    "ax.set_xlabel('$c_t$')\n",
    "ax.set_ylabel('freq.')\n",
    "ax.set_title('consumption')"
   ]
  },
  {
   "cell_type": "markdown",
   "metadata": {},
   "source": [
    "**Question 5:** Can you change the parameter choices such that $s_0^{*}(a_{-1})$ is monotonically decreasing in $a_{-1}$?"
   ]
  },
  {
   "cell_type": "markdown",
   "metadata": {},
   "source": [
    "# Refined grid search"
   ]
  },
  {
   "cell_type": "markdown",
   "metadata": {},
   "source": [
    "Let $\\boldsymbol{x} = \\left[\\begin{array}{c}\n",
    "x_1 \\\\\n",
    "x_2\\\\\n",
    "\\end{array}\\right]$ be a two-dimensional vector. Consider the following algorithm:"
   ]
  },
  {
   "cell_type": "markdown",
   "metadata": {},
   "source": [
    "**Algorithm:** `grid_search()`\n",
    "\n",
    "**Goal:** Minimize the function $f(\\boldsymbol{x})$.\n",
    "\n",
    "1. Choose a grid size $N$ and minimum and maximum values of $x_{1}$ and $x_{2}$ denoted $\\overline{x_{1}}$>$\\underline{x_{1}}$ and $\\overline{x_{2}}$>$\\underline{x_{2}}$\n",
    "2. Calculate step sizes \n",
    "\n",
    "    $\\Delta_{1}$ =($\\overline{x_{1}}$-$\\underline{x_{1}}$)/(N-1)\n",
    "    \n",
    "    $\\Delta_{2}$ =($\\overline{x_{2}}$-$\\underline{x_{2}}$)/(N-1)\n",
    "3. Find the grid point with the lowest function value solving \n",
    "\n",
    "    $j^{*}_{1}$, $j^{*}_{2}$ = $arg_{j_{1}\\in{0,...,N-1}, j_{2}\\in{0,...,N-1}}$  f( $\\underline{x_{1}+j_{1}$\\Delta_{1}$,$\\underline{x_{2}+j_{2}$\\Delta_{2}$)\n",
    "\n",
    "    \n",
    "    \n",
    "\n",
    "\n",
    "1. Return \n"
   ]
  },
  {
   "cell_type": "markdown",
   "metadata": {},
   "source": [
    "**Question 1:** Implement the grid_search() algorithm to minimize the rosen function.\n"
   ]
  },
  {
   "cell_type": "code",
   "execution_count": 120,
   "metadata": {},
   "outputs": [],
   "source": [
    "def rosen(x):\n",
    " return (1.0-x[0])**2+2*(x[1]-x[0]**2)**2\n"
   ]
  },
  {
   "cell_type": "code",
   "execution_count": 122,
   "metadata": {
    "tags": []
   },
   "outputs": [
    {
     "output_type": "stream",
     "name": "stdout",
     "text": "minimum found at (nan,nan) with the function value nan\n"
    }
   ],
   "source": [
    "def grid_search(f,x1_min,x1_max,x2_min,x2_max,N,delta1,delta2):\n",
    " return np.nan,np.nan,np.nan\n",
    "# settings\n",
    "x1_min = 0\n",
    "x1_max = 5\n",
    "x2_min = 0\n",
    "x2_max = 4\n",
    "N = 1000\n",
    "\n",
    "#calculate step sizes\n",
    "## delta1=(x1_max-x1_min)/(N-1)\n",
    "## delta2=(x2_max-x2_min)/(N-1)\n",
    "# apply grid search\n",
    "x1,x2,f = grid_search(rosen,x1_min,x1_max,x2_min,x2_max,N, delta1,delta2)\n",
    "print(f'minimum found at ({x1:.8f},{x2:.8f}) with the function value {f:.8f}')"
   ]
  },
  {
   "cell_type": "markdown",
   "metadata": {},
   "source": [
    "**Question 2:** Implement the refined_grid_search() algorithm to minimize the rosen function"
   ]
  },
  {
   "cell_type": "code",
   "execution_count": 47,
   "metadata": {},
   "outputs": [
    {
     "output_type": "error",
     "ename": "SyntaxError",
     "evalue": "unexpected EOF while parsing (<ipython-input-47-36645f060032>, line 7)",
     "traceback": [
      "\u001b[1;36m  File \u001b[1;32m\"<ipython-input-47-36645f060032>\"\u001b[1;36m, line \u001b[1;32m7\u001b[0m\n\u001b[1;33m    print(f'minimum found at ({x1:.8f},{x2:.8f}) with the function value {f:.8f}'\u001b[0m\n\u001b[1;37m                                                                                 ^\u001b[0m\n\u001b[1;31mSyntaxError\u001b[0m\u001b[1;31m:\u001b[0m unexpected EOF while parsing\n"
     ]
    }
   ],
   "source": [
    "def refined_grid_search(f,x1_min,x1_max,x2_min,x2_max,N,K):\n",
    " return np.nan,np.nan,np.nan\n",
    "# more settings\n",
    "K = 10\n",
    "# apply refined grid search\n",
    "x1,x2,f = refined_grid_search(rosen,x1_min,x1_max,x2_min,x2_max,N,K)\n",
    "print(f'minimum found at ({x1:.8f},{x2:.8f}) with the function value {f:.8f}'"
   ]
  },
  {
   "cell_type": "code",
   "execution_count": null,
   "metadata": {},
   "outputs": [],
   "source": []
  }
 ],
 "metadata": {
  "language_info": {
   "codemirror_mode": {
    "name": "ipython",
    "version": 3
   },
   "file_extension": ".py",
   "mimetype": "text/x-python",
   "name": "python",
   "nbconvert_exporter": "python",
   "pygments_lexer": "ipython3",
   "version": "3.7.6-final"
  },
  "orig_nbformat": 2,
  "kernelspec": {
   "name": "python3",
   "display_name": "Python 3"
  }
 },
 "nbformat": 4,
 "nbformat_minor": 2
}
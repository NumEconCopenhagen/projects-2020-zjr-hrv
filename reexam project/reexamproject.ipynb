{
 "cells": [
  {
   "cell_type": "code",
   "execution_count": 33,
   "metadata": {},
   "outputs": [],
   "source": [
    "#Import and set magics\n",
    "import numpy as np\n",
    "%matplotlib inline\n",
    "import pandas as pd\n",
    "import datetime\n",
    "import pandas_datareader\n",
    "import pydst\n",
    "import statsmodels.api as sm\n",
    "import statsmodels.formula.api as smf\n",
    "from statsmodels.sandbox.regression.predstd import wls_prediction_std\n",
    "import scipy as sp\n",
    "from scipy import stats\n",
    "from scipy import optimize\n",
    "from scipy import interpolate\n",
    "from scipy import linalg\n",
    "import sympy as sm\n",
    "\n",
    "import matplotlib.pyplot as plt\n",
    "plt.style.use('seaborn-whitegrid')\n",
    "from matplotlib import cm\n",
    "%matplotlib inline\n",
    "from matplotlib import cm\n",
    "from mpl_toolkits.mplot3d import Axes3D\n",
    "from matplotlib import pyplot\n"
   ]
  },
  {
   "cell_type": "markdown",
   "metadata": {},
   "source": [
    "# Estimating income processes\n"
   ]
  },
  {
   "cell_type": "markdown",
   "metadata": {},
   "source": [
    "Consider $N$ households indexed by $i$ who are in the labor market for $T$ periods indexed by $t \\in ${1,2,...,T}$,\n",
    "\n",
    "Their **wage income** is stochastic and given by,\n",
    " \n",
    "$P_{i,t}$ = $\\psi_{i,t}$ $P_{i,t-1}$\n",
    "\n",
    "$\\tilde{Y}_{i,t}$ = $xi_{i,t}$ $P_{i,t}$\n",
    "\n",
    "$Y_{i,t}$ = \\left\\begin{array}{rcl}$\n",
    "            \\overline{\\overline{0}+\\text{if}\\mu_{i,t}<\\pi}\n",
    "            \\\\tilde{Y}_{i,t} +\\text{else}\n",
    "            \\end{array}\\right.\n",
    "\n",
    "\n",
    "   \n",
    "\n",
    "\n",
    "$\\psi_{i,t}$ ~ LogNormal(-0.5$\\sigma_{\\psi}^2$,$\\sigma_{\\psi})$\n",
    "\n",
    "$\\xi_{i,t}$ ~ LogNormal(-0.5$\\sigma_{\\xi}^2$,$\\sigma_{\\xi})$\n",
    "\n",
    "$\\mu_{i,t}$ ~ $Uniform(0,1)$\n",
    "\n",
    "\n",
    "$P_{0} = 1$\n",
    "   \n",
    "where\n",
    "\n",
    "$\\sigma_{\\psi}$ is the standard deviation of the *permanent* shocks, $\\psi_{i,t}$\n",
    "\n",
    "$\\sigma_{\\xi}$ is the standard deviation of the *transitory* shocks, $\\xi_{i,t}$\n",
    "\n",
    "$\\pi$ is the risk of unemployment"
   ]
  },
  {
   "cell_type": "markdown",
   "metadata": {},
   "source": [
    "The data you have access to is:\n"
   ]
  },
  {
   "cell_type": "code",
   "execution_count": 87,
   "metadata": {
    "tags": []
   },
   "outputs": [
    {
     "output_type": "stream",
     "name": "stdout",
     "text": "[[0.83317569 0.72881172 0.         ... 1.16771806 0.93207083 0.86711803]\n [1.18542294 0.92826337 1.62913142 ... 1.13903869 0.94479246 0.78842682]\n [1.14813596 0.90542496 0.70634401 ... 1.49584791 1.08969956 0.        ]\n ...\n [0.73818651 0.59958039 0.56135238 ... 2.60075173 1.07070489 0.43010036]\n [1.14130879 0.85728537 0.54530761 ... 3.79294856 0.67764143 0.38720822]\n [0.64908127 0.85101393 0.59517395 ... 3.32800991 0.82400879 0.5814573 ]]\n(20, 50000)\n"
    }
   ],
   "source": [
    "import numpy as np\n",
    "dataY = np.load(r'C:\\Users\\musse\\Documents\\GitHub\\projects-2020-zjr-hrv\\projects-2020-zjr-hrv\\dataY.npy')\n",
    "T,N = dataY.shape\n",
    "print(dataY)\n",
    "print(dataY.shape)\n",
    "\n",
    "\n"
   ]
  },
  {
   "cell_type": "markdown",
   "metadata": {},
   "source": [
    "**Question 1:** Calculate income growth rates as log-changes"
   ]
  },
  {
   "cell_type": "code",
   "execution_count": 102,
   "metadata": {
    "tags": []
   },
   "outputs": [
    {
     "output_type": "stream",
     "name": "stdout",
     "text": "initial diff [[-0.13382911        -inf         inf ...  0.45991757 -0.22539794\n  -0.0722337 ]\n [-0.2445394   0.56248678 -0.45247293 ...  0.10650339 -0.18697465\n  -0.18092569]\n [-0.2374906  -0.24830202  0.49367077 ...  0.38133059 -0.31679118\n         -inf]\n ...\n [-0.20796646 -0.06588123  0.6550227  ...  1.08826931 -0.88748332\n  -0.9120539 ]\n [-0.2861601  -0.45242079  0.43603115 ...  1.35354726 -1.7222807\n  -0.5596557 ]\n [ 0.27087056 -0.35757477  0.31896575 ...  1.52939372 -1.39594858\n  -0.34864367]]\nNew resulting diff:  [[       nan        nan        inf ... 0.45991757        nan        nan]\n [       nan 0.56248678        nan ... 0.10650339        nan        nan]\n [       nan        nan 0.49367077 ... 0.38133059        nan        nan]\n ...\n [       nan        nan 0.6550227  ... 1.08826931        nan        nan]\n [       nan        nan 0.43603115 ... 1.35354726        nan        nan]\n [0.27087056        nan 0.31896575 ... 1.52939372        nan        nan]]\n"
    }
   ],
   "source": [
    "#Defining income growth rate by finding the first differences. Thereafter replacing the negative Y-values with .nan\n",
    "\n",
    "logY = np.diff(np.log(dataY))\n",
    "#diff_dataY = np.diff(dataY) \n",
    "  \n",
    "# printing initial arrays \n",
    "print(\"Initial diff\", logY) \n",
    "  \n",
    "# code to replace all negative value with 0 \n",
    "logY[logY<=0] = np.nan\n",
    "  \n",
    "# printing result \n",
    "print(\"New resulting diff: \", logY) \n",
    "\n",
    "\n",
    "\n",
    "\n"
   ]
  },
  {
   "cell_type": "markdown",
   "metadata": {},
   "source": [
    "**Question 2:** Calculate the following 3 statistics from the data:\n",
    "\n",
    "$s_{1}$: Share of observations with $Y_{i,t}$=0\n",
    "\n",
    "$s_{2}$: Variance of income growth rate, Var($\\Delta$ Log $Y_{i,t}$)\n",
    "\n",
    "$s_{3}$: Covariance of income growth rates one period apart, Cov($\\Delta$ Log $Y_{i,t}$,$\\Delta$ Log $Y_{i,t-1}$ )"
   ]
  },
  {
   "cell_type": "markdown",
   "metadata": {},
   "source": [
    "To count shares of observations with $Y_{i,t}$=0, we use the nonzero-function"
   ]
  },
  {
   "cell_type": "code",
   "execution_count": 103,
   "metadata": {
    "tags": []
   },
   "outputs": [
    {
     "output_type": "stream",
     "name": "stdout",
     "text": "Number of observations with Y=0 is\n"
    },
    {
     "output_type": "execute_result",
     "data": {
      "text/plain": "49925"
     },
     "metadata": {},
     "execution_count": 103
    }
   ],
   "source": [
    "#S1:\n",
    "print('Number of observations with Y=0 is') \n",
    "np.count_nonzero(dataY==0)\n",
    "\n"
   ]
  },
  {
   "cell_type": "markdown",
   "metadata": {},
   "source": [
    "The variance is calculated by the mean of square minus the square of the mean, i.e.\n",
    "\n",
    "$Var(x)=E[(X-\\mu)^{2}]$\n",
    "\n"
   ]
  },
  {
   "cell_type": "code",
   "execution_count": 104,
   "metadata": {
    "tags": []
   },
   "outputs": [
    {
     "output_type": "stream",
     "name": "stdout",
     "text": "nan\n"
    }
   ],
   "source": [
    "#S2:\n",
    "print(np.var(logY))"
   ]
  },
  {
   "cell_type": "markdown",
   "metadata": {},
   "source": [
    "As seen above, the variance results in \"nan\", meaning we would have to remove the nan values from our sample to find a value for the variance. Hence, we find:"
   ]
  },
  {
   "cell_type": "code",
   "execution_count": 175,
   "metadata": {
    "tags": []
   },
   "outputs": [
    {
     "output_type": "stream",
     "name": "stdout",
     "text": "The variance is 0.15780801990005514\n"
    }
   ],
   "source": [
    "diffY = diff_dataY[~np.isnan(diff_dataY)]\n",
    "print('The variance is' ,np.var(diffY))"
   ]
  },
  {
   "cell_type": "markdown",
   "metadata": {},
   "source": [
    "Finally, the Covariance is found by $cov(X,Y)$ = $E[(X-E[X])(Y-E[Y])]$"
   ]
  },
  {
   "cell_type": "code",
   "execution_count": 173,
   "metadata": {
    "tags": []
   },
   "outputs": [
    {
     "output_type": "stream",
     "name": "stdout",
     "text": "The covariance is 0.15780833423674454\n"
    }
   ],
   "source": [
    "print('The covariance is' ,np.cov(diffY)) "
   ]
  },
  {
   "cell_type": "markdown",
   "metadata": {},
   "source": [
    "Question 3: Simulate the income process using your own choice of $\\sigma_{\\psi}$, $\\sigma_{\\xi}$, $\\pi$, T and N. Calculate the 3 same statistics. Compare with the data statistics"
   ]
  },
  {
   "cell_type": "code",
   "execution_count": 155,
   "metadata": {},
   "outputs": [],
   "source": [
    "import matplotlib.pyplot as plt\n",
    "%matplotlib inline\n",
    "import numpy as np\n",
    "import random\n",
    "from numba import njit\n",
    "\n",
    "#Simulated figures\n",
    "T = 50\n",
    "N = 1000\n",
    "pi = 0.3\n",
    "s_psi = 0.23\n",
    "s_xi = 0.4\n",
    "\n",
    "#Model\n",
    "psi = np.random.lognormal(-0.5 * s_psi, s_psi, 1000)\n",
    "xi = np.random.lognormal(-0.5 * s_xi,s_xi, 1000)\n",
    "P_0 = 1\n",
    "P = psi * P_0\n",
    "Y_tilde = xi * P\n",
    "mu = np.random.uniform(0,1)\n",
    "\n",
    "\n",
    "\n",
    "\n",
    "#Defining Y\n",
    "def income(Y): \n",
    "    if mu < pi:\n",
    "        Y=0 \n",
    "    else :\n",
    "        Y = Y_tilde\n",
    "\n",
    "@njit\n",
    "def time_path(T):\n",
    "    w = np.random.randn(T+1)  # w_0, w_1, ..., w_T\n",
    "    w[0] = 0\n",
    "    P = np.zeros(T+1)\n",
    "    for t in range(1, T+1):\n",
    "        P[t] = w[1:t].sum()\n",
    "   \n",
    "    return  P\n",
    "\n",
    "\n",
    "\n"
   ]
  },
  {
   "cell_type": "code",
   "execution_count": 167,
   "metadata": {
    "tags": []
   },
   "outputs": [
    {
     "output_type": "stream",
     "name": "stdout",
     "text": "New diff [1.40621881 0.54048955 0.54179175 1.95778514 0.48098441 1.02204343\n 0.56065372 0.45678314 1.4012769  1.07185749 0.66387897 0.43474994\n 1.69449106 0.65990448 1.43611859 1.0486678  0.6389541  0.75817993\n 0.77768874 0.26117108 0.63485198 0.72351503 0.29755991 0.85033572\n 0.90537297 0.68443236 0.4843746  0.41602903 0.77060337 0.45026695\n 0.62231064 1.10333521 1.24327665 0.4435823  0.66380278 1.25164183\n 0.67046208 1.75695946 0.51807955 0.65137344 0.41671247 1.06367206\n 0.68625497 0.54640242 0.44766844 1.58956475 0.45661953 0.46751715\n 0.66294205 0.48580823 1.47387004 0.75557703 0.39891727 0.54091915\n 0.7912065  0.60601093 1.03654421 0.58859634 0.54036999 0.61029904\n 0.64314654 0.43379369 1.20303044 0.78194505 0.35009648 0.30417106\n 1.05703481 0.53842165 0.68993374 0.60350681 0.5535549  0.69250946\n 1.18518063 0.52713092 0.68251296 1.56109525 0.512705   0.61226224\n 0.54761124 0.93414775 0.5919211  0.65319408 0.84141781 0.77557177\n 0.69516354 0.76796995 0.46909983 0.37178671 0.89098919 0.67979671\n 0.34191784 1.12106594 0.50328692 1.11523754 0.70225608 0.35053223\n 0.5874828  0.6104386  0.68427661 0.48437421 0.88110706 0.60753517\n 0.46696967 0.59361656 0.59290798 0.34518132 0.90651778 0.93153892\n 0.92158675 0.97719455 0.77987275 0.79558733 0.88198809 0.40260436\n 0.73172073 0.57842744 0.4941185  0.85230686 0.6443563  0.93457944\n 1.21174901 1.27321782 0.56400405 1.31567002 0.39973203 0.56434905\n 0.57016576 1.82894096 0.6160158  0.57490036 1.44836278 1.29465545\n 0.9899516  1.82906294 0.80709534 1.8580555  0.65920373 0.58555594\n 1.77260077 0.41834237 0.59798355 0.31745981 0.69071353 0.54819677\n 1.27992139 0.79297303 0.86477322 0.48229594 0.54872279 0.57393874\n 1.00834903 0.5125624  1.10072338 0.88502535 0.69263534 0.61810656\n 0.32325128 0.62310106 1.01823095 0.64991164 0.65207238 0.54125807\n 0.84172783 1.97837952 0.73795897 0.78255982 0.82936789 0.30851495\n 0.56803262 0.83210178 0.65047015 0.50701577 0.74963989 0.44044224\n 0.38995544 0.68161995 0.84419618 1.25556296 0.84258731 0.71148947\n 0.9284424  1.22387167 1.33429791 1.12834746 0.6338052  1.79722278\n 0.4554867  1.6712821  0.89701201 0.56982562 0.53677122 1.05098254\n 0.30934988 0.93854415 0.84240577 0.62993105 0.55073944 0.52928826\n 1.33112976 1.99156081 0.97534544 0.37544755 0.78875014 0.85944493\n 1.51713127 1.58189374 1.79063319 2.22711433 0.92340823 1.73379148\n 1.05995731 1.3243351  0.79006551 0.38372419 0.91627782 1.60485015\n 1.14646791 1.08666781 0.58434511 0.68423565 0.83724098 0.53308416\n 0.32554216 0.81857569 0.37065171 0.76359619 0.65052312 0.57653325\n 0.52328412 0.96288071 0.70569283 0.54207915 2.36652836 1.51164856\n 1.44109415 0.49685318 1.18864758 0.31483569 0.83452062 0.58100276\n 0.73748953 0.80418779 0.64462955 0.60923788 1.48196735 0.4706993\n 1.26452951 0.99452606 0.50891653 0.44297382 1.49632251 0.53294071\n 0.46047358 0.29937614 0.76447361 0.91993706 0.67189565 0.78829315\n 0.58256475 0.9387077  0.43736049 0.71983946 0.52703951 0.64378377\n 0.82143026 1.93457141 0.52563764 0.67457619 1.63418251 2.42372468\n 0.803812   1.34039446 0.98648454 0.53166176 0.97413904 1.79255702\n 0.52897655 0.88307996 1.2358242  0.28667549 0.86673686 0.41186074\n 1.30528305 0.46097406 0.70468303 0.5695898  0.39828623 0.31596054\n 0.91920136 0.7637142  2.52216775 1.30248235 1.27561127 1.20360861\n 0.68890905 0.48057793 1.17276291 0.82859533 1.22033998 0.30815861\n 0.32005869 0.77672854 3.29825134 0.72858317 0.5833983  2.18845521\n 0.75904197 0.52029549 0.77267293 0.35024377 0.72780354 1.57195222\n 1.24767762 0.721147   0.71265763 0.49114299 0.96524869 0.64206133\n 0.98056554 0.57329609 0.4494906  0.61139787 1.52712514 0.31493647\n 1.10073607 0.95027771 1.11490362 0.32780851 1.44479785 0.58576361\n 0.86987888 0.97782133 0.56356276 0.62322317 1.79458235 0.67184185\n 0.18037909 0.44331983 1.02537365 0.9058595  0.59694747 0.43898175\n 1.59962874 0.64475644 1.39339188 0.6124373  0.77144399 0.58342788\n 1.21387058 1.20596713 0.86790212 0.82875343 0.92679882 0.91527257\n 0.58620141 1.07552087 0.28847416 0.6747358  0.93800607 0.80209315\n 0.45327416 0.89443956 0.95617102 0.52558949 0.41931496 1.4877712\n 0.57260397 0.56619791 0.39201878 0.37957156 0.56115855 0.63766367\n 0.37493342 0.94389776 0.73443569 0.38055142 0.87898506 0.51744997\n 1.21188424 0.86856028 0.60977195 1.21582853 1.71038554 0.99539802\n 0.30370987 0.94545293 0.75258812 0.2986837  0.44720094 0.71792046\n 1.82677466 1.3810323  0.81273147 0.61974383 0.51415453 0.67589399\n 0.80820023 0.38612784 1.50110631 0.66255377 0.91464532 0.84171368\n 1.0614167  1.00544716 1.0984924  0.70824096 1.75199932 1.15746114\n 0.34641861 0.92812074 0.62937434 0.67543635 0.79420744 1.56207502\n 0.81534752 0.8275052  0.57687587 0.5159333  1.50264459 0.24889777\n 0.89968671 1.00358987 0.82593986 0.46674383 0.80272921 1.41593231\n 0.71552142 0.3648908  0.37965315 0.61766667 0.73893925 0.75818654\n 0.51658057 0.81885147 0.46309605 0.54318818 1.89933878 0.54144477\n 0.89253921 0.59555994 0.61642518 0.88910721 0.9913112  0.43843683\n 0.4510508  1.04049585 0.68165044 1.09116149 0.73256253 1.03283743\n 0.70133163 0.31966226 0.84319862 0.46412829 0.80944793 1.07137926\n 0.50104813 0.45625655 1.68983136 3.21703864 1.32958123 0.9570004\n 0.5365132  0.9651687  1.13646984 0.29998218 0.50452045 0.37451866\n 0.49684505 0.69078945 0.59928893 0.67453836 0.8347429  1.60073853\n 0.85774023 0.74985424 1.12949298 0.58374994 0.72657432 1.15925868\n 0.96218902 1.25602378 0.49548886 0.65005459 0.70166023 0.90433552\n 0.51407037 0.89037925 0.28910382 1.66829413 1.38576065 0.5727012\n 1.33707002 0.47127541 1.25796219 1.93366513 1.28761363 0.46034157\n 1.88951945 1.43244552 0.6568341  0.64484171 0.87598467 0.52298497\n 0.56982691 0.58432461 1.074992   0.7398155  0.4905531  0.47649931\n 1.62704228 1.21596958 0.51037449 0.74511298 1.27101156 0.60213221\n 0.85945154 0.41934044 0.50116729 0.96518913 1.14193282 0.40732239\n 0.88966421 0.58574069 0.84252146 0.87844653 0.33241741 0.30151049\n 1.18433538 1.1973574  0.34155134 0.84857106 0.90873979 0.89039125\n 0.93606321 0.9243896  1.14197314 1.18777324 1.20070975 0.59962401\n 0.83391793 0.276426   0.73419463 0.69701286 0.57648202 1.52819133\n 0.63231926 1.32960973 0.75565835 0.61972453 1.22059856 0.92471805\n 1.3593495  0.47205256 0.40961715 0.66430809 0.97960944 1.70639603\n 0.82332545 1.26034669 0.73397522 1.1039745  0.43850509 1.51843688\n 0.71960855 0.80408586 0.50384983 0.35784613 0.20269745 1.12732302\n 0.43540592 1.00708839 1.52938833 1.17034107 0.38945581 0.61019114\n 0.55508329 0.3808675  1.0737751  0.70352245 0.56228465 0.91809973\n 0.19637119 1.49430647 0.83639691 0.91043207 0.49541478 0.98229287\n 0.49403324 1.03300269 0.71713155 0.41884732 0.55573979 4.21670911\n 0.75266921 0.65711135 1.4647403  0.44970154 0.48788275 0.85797502\n 0.44795057 0.6473793  0.88462883 0.7415488  0.27128535 0.45359922\n 0.51639305 0.94599309 0.71647156 0.80274697 1.09241762 0.82814673\n 0.74755031 0.99773834 0.45829435 1.22096888 0.63835822 0.35201712\n 0.36765354 1.00235701 0.44737905 0.80010369 0.57776646 0.9379832\n 0.88111521 0.98062113 0.37188199 0.52584277 0.51777246 0.2844039\n 0.83396708 0.40284717 0.83355854 0.42518636 0.42558876 1.05019952\n 1.02382687 0.55379498 0.75802525 0.60635816 0.56500898 0.49579083\n 1.44259007 0.41308615 1.71855849 0.96502068 0.64660491 0.71757543\n 0.56825253 0.59680021 0.41231395 0.53171973 0.82411405 0.86116368\n 1.30169966 0.89396689 1.11403331 0.31454395 1.99447359 0.93678702\n 1.53157794 0.6424786  0.84046655 0.9791361  0.80882753 0.69651221\n 0.63916888 0.30990459 1.31377854 0.59610845 0.97279631 0.60415835\n 0.7396473  0.47415342 0.65162654 1.03160891 0.64571916 0.42510075\n 0.79403493 0.48582259 1.03138048 1.05641136 0.56508273 1.44115874\n 0.75271228 0.55626814 0.59882824 1.47334723 0.71707953 0.3299507\n 0.49913597 0.36070137 0.78200556 0.33504546 2.51097726 1.09911278\n 0.60676423 0.41195711 0.48328369 0.72023771 0.41173057 0.59910153\n 0.95374933 0.57549122 0.69547121 0.5299068  0.72156541 0.52721635\n 0.77221031 0.69023053 0.38896114 0.41241518 0.69833151 0.41277994\n 0.52178007 0.69423091 0.60856477 0.79678878 0.57226832 4.84944947\n 0.92418814 0.45149693 0.4975573  0.52884169 0.38233342 0.57371872\n 0.8329309  0.31729178 0.52401442 0.52713782 0.78232827 0.85774434\n 0.52639388 1.08586331 0.63286327 0.78005574 1.00200508 0.68751174\n 0.98892237 0.70494807 1.66814227 0.66123872 0.35831467 0.42981624\n 1.01982329 0.84763275 0.43265578 0.75839793 0.71231937 3.45068059\n 1.42454225 0.83728062 0.48825006 0.93184265 0.6303012  0.76115612\n 0.76887275 0.45944177 1.14291222 0.80069438 0.62366462 0.6212698\n 0.54329272 1.08221756 0.45333969 0.46890952 0.4836206  0.40428908\n 0.81045262 0.29093935 0.5235149  1.0123925  0.40863407 0.95633219\n 0.41259816 1.24056097 0.63451004 1.186293   1.03503965 0.57708674\n 0.83044034 0.68613956 0.7111057  0.24874557 0.58829076 0.16526678\n 0.808549   0.66755997 1.07011474 1.10535467 0.77806042 1.26705191\n 0.86288933 1.04098902 0.86435747 0.97302613 0.83673566 0.26828419\n 0.91863142 0.72723493 0.97652176 0.53805302 0.69172401 0.52885539\n 0.67825561 2.14478893 0.35682235 0.74817463 0.58270673 0.76633027\n 0.73329412 0.79631416 3.29700378 0.73786387 1.45075753 0.94605364\n 0.50981629 0.79654576 0.66733322 0.43446684 0.63053751 0.55021505\n 0.89554265 0.87655215 0.49792669 0.94473331 0.77321124 0.5392306\n 1.13641798 0.34632687 0.94907568 1.25102042 0.25894319 0.55738952\n 0.78491068 0.51068974 2.15971113 0.6237011  0.43923903 0.41830768\n 0.56933181 0.6559315  0.87176409 1.74565822 0.98089098 0.81108834\n 1.82432884 0.8267318  0.52333701 0.36771073 0.33905902 0.59416673\n 0.40560018 0.82053044 0.90199376 0.71635145 1.04159163 1.29765246\n 0.37163497 1.3739749  0.76168719 0.58261085 0.42978931 0.49149652\n 0.51766759 0.3001918  0.85388072 1.08910138 1.14693519 0.40972377\n 0.41752415 1.42075002 0.54156269 0.77194933 0.52699643 0.92785961\n 0.6954532  0.39697252 0.78527918 1.39763544 0.697246   0.98159219\n 0.21331412 0.74875952 0.50225017 0.42603526 1.32744936 0.70562176\n 0.5504564  0.50359905 0.64670366 0.81374939 0.70067519 0.63958342\n 1.41242191 0.44668255 0.46227323 0.73060379 1.38447535 0.8653379\n 0.68090654 0.68120009 0.68215603 0.44132701 0.75329803 0.4739016\n 0.71434756 1.57372938 0.47527705 0.44024207 1.24394757 0.82423923\n 0.72235897 0.5024253  0.94008955 1.03582345 0.48878125 0.71692086\n 0.79360869 0.43576457 0.86955321 1.14398213 0.57715387 0.72675932\n 0.53020217 0.62601485 0.35665206 0.56096933 1.19397298 0.55559189\n 0.39180042 1.18237192 0.6045252  0.6555848  0.64308719 1.23548869\n 0.46715727 1.16222044 0.98716263 0.82522559 0.9002928  0.66940555\n 0.64857864 0.84050979 0.95402029 1.04414391 0.28696671 1.30142044\n 0.39760547 0.66719427 0.37734366 0.70996956 1.13401941 0.41553569\n 0.82201606 0.89318298 1.06290302 0.63377483 0.65126276 0.5488397\n 1.15858258 0.91000386 1.6079373  0.55610379 1.12319421 0.83266364\n 0.6865356  0.92773819 0.52833564 0.74375145 0.90922331 0.93485917\n 0.38186904 0.4567892  1.07401921 0.28300369 0.60352644 0.60716226\n 0.73166154 1.21486371 0.43655176 1.01317722 0.83387831 0.41912383\n 1.41156489 1.49814235 1.68643984 0.41177141 0.67944915 0.50636511\n 0.87983728 0.32976089 0.53199265 0.39138504 1.41036569 0.72280963\n 0.86926988 0.77037786 0.9305568  0.70057096]\n"
    }
   ],
   "source": [
    "#first differences and log on Y_tilde\n",
    "logY_tilde = np.diff(np.log(Y_tilde))\n",
    " \n",
    "  \n",
    "# printing initial arrays \n",
    "print(\"New diff\", Y_tilde) \n"
   ]
  },
  {
   "cell_type": "code",
   "execution_count": 168,
   "metadata": {
    "tags": []
   },
   "outputs": [
    {
     "output_type": "stream",
     "name": "stdout",
     "text": "Number of observations with Y=0 is\n"
    },
    {
     "output_type": "execute_result",
     "data": {
      "text/plain": "0"
     },
     "metadata": {},
     "execution_count": 168
    }
   ],
   "source": [
    "#Calculating s1_sim\n",
    "print('Number of observations with Y=0 is') \n",
    "np.count_nonzero(logY_tilde==0)"
   ]
  },
  {
   "cell_type": "code",
   "execution_count": 169,
   "metadata": {
    "tags": []
   },
   "outputs": [
    {
     "output_type": "stream",
     "name": "stdout",
     "text": "0.44214824517553175\n"
    }
   ],
   "source": [
    "#Calculating s2_sim\n",
    "print(np.var(logY_tilde))"
   ]
  },
  {
   "cell_type": "code",
   "execution_count": 170,
   "metadata": {},
   "outputs": [
    {
     "output_type": "execute_result",
     "data": {
      "text/plain": "array(0.44259128)"
     },
     "metadata": {},
     "execution_count": 170
    }
   ],
   "source": [
    "#Calculating s3_sim\n",
    "np.cov(logY_tilde)"
   ]
  },
  {
   "cell_type": "markdown",
   "metadata": {},
   "source": [
    "Comparison of the simulated data and the factual dataset\n",
    "\n",
    "s1_sim =0\n",
    "s1_data = 49925\n",
    "s2_sim = 0.44214824517553175\n",
    "s2_data = 0.15780801990005514\n",
    "s3_sim = 0.44259128\n",
    "s3_data = 0.15780833423674454"
   ]
  },
  {
   "cell_type": "markdown",
   "metadata": {},
   "source": [
    "**Question 4:** Solve the following minimization problem to estimate $\\sigma_{\\psi}$, $\\sigma_{\\xi}$ and $\\pi$ \n",
    "\n",
    "$\\sigma_{\\psi}^*$, $\\sigma_{\\xi}^*$, $\\pi^*$ = $arg_{\\sigma_{\\psi}>=0,\\sigma_{\\xi}>=0,\\pi\\in [0,1]}$               min $(s_{1}^{sim}-s_{1}^{data})^2$ + $(s_{2}^{sim}-s_{2}^{data})^2$ + $(s_{3}^{sim}-s_{3}^{data})^2$"
   ]
  },
  {
   "cell_type": "markdown",
   "metadata": {},
   "source": [
    "where for each new guess of $\\sigma_{\\psi}$, $\\sigma_{\\xi}$ and $\\pi$ you should be re-simulating the data with the same seed and re-calculate the 3 statistics"
   ]
  },
  {
   "cell_type": "code",
   "execution_count": 176,
   "metadata": {
    "tags": []
   },
   "outputs": [
    {
     "output_type": "stream",
     "name": "stdout",
     "text": "x | f(x)\n--------------\n1 | 551291569.7058002\n2 | -2667089020.6084995\n3 | -472319424.2715019\n4 | 635592534.2758255\n5 | -1141634837.841262\n6 | 1084647442.0114043\n"
    }
   ],
   "source": [
    "#Defining s\n",
    "s1_sim = 0\n",
    "s1_data = 49925\n",
    "s2_sim = 0.44214824517553175\n",
    "s2_data = 0.15780801990005514\n",
    "s3_sim = 0.44259128\n",
    "s3_data = 0.15780833423674454\n",
    "\n",
    "np.random.seed(100)\n",
    "# Define a function that,\n",
    "def f(x):\n",
    "    x = (s1_sim-s1_data)**2+(s2_sim-s2_data)**2+(s3_sim-s3_data)**2\n",
    "    # Outputs x multiplied by a random number drawn from a normal distribution\n",
    "    return x * np.random.normal(size=1)[0]\n",
    "\n",
    "# Create some values of x\n",
    "xs = [1,2,3,4,5,6]\n",
    "#Define argmin that\n",
    "def argmin(f, xs):\n",
    "    # Applies f on all the x's\n",
    "    data = [f(x) for x in xs]\n",
    "\n",
    "    # Finds index of the smallest output of f(x)\n",
    "    index_of_min = data.index(min(data))\n",
    "        \n",
    "    # Returns the x that produced that output\n",
    "    return xs[index_of_min]\n",
    "# Run the argmin function\n",
    "argmin(f, xs)\n",
    "\n",
    "print('x','|', 'f(x)')\n",
    "print('--------------')\n",
    "for x in xs:\n",
    "    print(x,'|', f(x))\n"
   ]
  },
  {
   "cell_type": "code",
   "execution_count": 124,
   "metadata": {},
   "outputs": [
    {
     "output_type": "error",
     "ename": "NameError",
     "evalue": "name 'x' is not defined",
     "traceback": [
      "\u001b[1;31m---------------------------------------------------------------------------\u001b[0m",
      "\u001b[1;31mNameError\u001b[0m                                 Traceback (most recent call last)",
      "\u001b[1;32m<ipython-input-124-2b866ad3a275>\u001b[0m in \u001b[0;36m<module>\u001b[1;34m\u001b[0m\n\u001b[0;32m      1\u001b[0m \u001b[1;32mdef\u001b[0m \u001b[0mobjective\u001b[0m\u001b[1;33m(\u001b[0m\u001b[0mx\u001b[0m\u001b[1;33m)\u001b[0m\u001b[1;33m:\u001b[0m\u001b[1;33m\u001b[0m\u001b[1;33m\u001b[0m\u001b[0m\n\u001b[0;32m      2\u001b[0m  \u001b[1;32mpass\u001b[0m\u001b[1;33m\u001b[0m\u001b[1;33m\u001b[0m\u001b[0m\n\u001b[1;32m----> 3\u001b[1;33m \u001b[0mres\u001b[0m \u001b[1;33m=\u001b[0m \u001b[0moptimize\u001b[0m\u001b[1;33m.\u001b[0m\u001b[0mminimize\u001b[0m\u001b[1;33m(\u001b[0m\u001b[0mobjective\u001b[0m\u001b[1;33m,\u001b[0m\u001b[0mx\u001b[0m\u001b[1;33m,\u001b[0m\u001b[0mmethod\u001b[0m\u001b[1;33m=\u001b[0m\u001b[1;34m'L-BFGS-B'\u001b[0m\u001b[1;33m,\u001b[0m\u001b[0mbounds\u001b[0m\u001b[1;33m=\u001b[0m\u001b[1;33m(\u001b[0m\u001b[1;33m-\u001b[0m\u001b[1;36m3\u001b[0m\u001b[1;33m,\u001b[0m\u001b[1;36m3\u001b[0m\u001b[1;33m)\u001b[0m\u001b[1;33m,\u001b[0m\u001b[0margs\u001b[0m\u001b[1;33m=\u001b[0m\u001b[1;33m(\u001b[0m\u001b[1;33m-\u001b[0m\u001b[1;36m3\u001b[0m\u001b[1;33m,\u001b[0m\u001b[1;36m3\u001b[0m\u001b[1;33m)\u001b[0m\u001b[1;33m,\u001b[0m\u001b[0moptions\u001b[0m\u001b[1;33m=\u001b[0m\u001b[1;33m{\u001b[0m\u001b[1;34m'eps'\u001b[0m\u001b[1;33m:\u001b[0m \u001b[1;36m1e-4\u001b[0m\u001b[1;33m}\u001b[0m\u001b[1;33m)\u001b[0m\u001b[1;33m\u001b[0m\u001b[1;33m\u001b[0m\u001b[0m\n\u001b[0m\u001b[0;32m      4\u001b[0m \u001b[1;31m# hint: options={'eps':1e-4} uses a larger step-size when approximating the jacbian, which is useful in this case\u001b[0m\u001b[1;33m\u001b[0m\u001b[1;33m\u001b[0m\u001b[1;33m\u001b[0m\u001b[0m\n\u001b[0;32m      5\u001b[0m \u001b[1;33m\u001b[0m\u001b[0m\n",
      "\u001b[1;31mNameError\u001b[0m: name 'x' is not defined"
     ]
    }
   ],
   "source": [
    "def objective(x):\n",
    " pass\n",
    "res = optimize.minimize(objective,x,method='L-BFGS-B',bounds=(-3,3),args=(-3,3),options={'eps': 1e-4})\n",
    "\n",
    "\n",
    "contour()"
   ]
  },
  {
   "cell_type": "markdown",
   "metadata": {},
   "source": [
    "# Wealth in the utility function"
   ]
  },
  {
   "cell_type": "markdown",
   "metadata": {},
   "source": [
    "In the final period, t=T, the household solves the following problem:\n",
    "\n",
    "\n",
    "\n",
    "$$\n",
    "\\begin{aligned}\n",
    "v_{T}(a_{T-1})&= \\max_{c_{T}}\\frac{(c_{T}^{1-\\rho})}{1-\\rho} + \\kappa \\frac{(a_{T}+a\\underline)^{1-\\sigma}}{1-\\sigma} \\\\\n",
    "\\text{s.t.} \\\\\n",
    "a_{T} = (1+r)a_{T-1}+y-c_{T}\n",
    "\\end{aligned}\n",
    "$$\n",
    "\n",
    "where \n",
    "\n",
    " * $a_t$ is end-of-period assets in period $t$\n",
    " * $c_t$ is consumption in period $t$\n",
    " * $rho$ is the CRRA-coefficient for consumption utility\n",
    " * $sigma$ is the CRRA-coefficient for wealth utility\n",
    " * $underline{a}$ is an *additive* scaling factor for wealth utility\n",
    " * $kappa$ is a *multiplicative* scaling factor for wealth utility\n",
    " * $r$ is the rate of return\n",
    " * $y$ is income\n",
    "  \n",
    "The optimal **consumption function** is denoted $c_t^{*}(a_{t-1})$\n",
    "\n",
    "The optimal **savings function** is denoted $a_t^{*}(a_{t-1}) equiv (1+r)a_{t-1} + y - c_t^{*}(a_{t-1})$.\n",
    "  "
   ]
  },
  {
   "cell_type": "code",
   "execution_count": 161,
   "metadata": {},
   "outputs": [],
   "source": [
    "# a. parameters\n",
    "rho = 2.0\n",
    "sigma = 1.2\n",
    "kappa = 0.6\n",
    "a_ubar = 2.0\n",
    "r = 0.04\n",
    "y = 1.0\n",
    "# b. grids\n",
    "a_lag_vec = np.linspace(0,300,300)\n"
   ]
  },
  {
   "cell_type": "markdown",
   "metadata": {},
   "source": [
    "**Question 1:** Find and plot the functions $v_{T}(a_{T-1})$, $c_T^{*}(a_{T-1})$, and $a_T^{*}(a_{T-1})$\n",
    " \n",
    " In all periods *before the last*, $t < T$, the household solves:\n",
    " \n",
    " \n",
    "\n",
    "$v_{t}(a_{t-1})$ = $max_{c_{t}} \\frac{c_t^{1-\\rho}}{1-\\rho} + \\kappa \\frac{(a_t+\\underline{a})^{1-\\sigma}}{1-\\sigma} + \\beta v_{t+1}(a_t)$\n",
    "\n",
    "{s.t.} \n",
    "    $a_{t} = (1+r)a_{t-1} + y - c_{t}$\n",
    "\n",
    "where $\\beta$ is the discount factor for future utility."
   ]
  },
  {
   "cell_type": "code",
   "execution_count": 162,
   "metadata": {},
   "outputs": [],
   "source": [
    "beta = 0.97\n",
    "T = 20"
   ]
  },
  {
   "cell_type": "markdown",
   "metadata": {},
   "source": [
    "**Question 2:** Find and plot $v_{T-1}(a_{T-2})$ and  $c_{T-1}^{*}(a_{T-2})$.\n"
   ]
  },
  {
   "cell_type": "code",
   "execution_count": null,
   "metadata": {},
   "outputs": [],
   "source": []
  },
  {
   "cell_type": "code",
   "execution_count": 3,
   "metadata": {},
   "outputs": [],
   "source": [
    "# a. parameters\n",
    "rho = 2\n",
    "alpha = 0.8\n",
    "beta = 0.96\n",
    "chi = 0.9\n",
    "r = 0.04\n",
    "Delta = 0.25\n",
    "\n",
    "# b. grids\n",
    "m1_vec = np.linspace(1e-8,10,100)\n",
    "m2_vec = np.linspace(1e-8,10,100)\n",
    "d_vec = np.linspace(1e-8,5,100)\n",
    "\n",
    "\n"
   ]
  },
  {
   "cell_type": "markdown",
   "metadata": {},
   "source": [
    "**Question 3:** Find $c_t^{*}(a_{t-1})$ for $t \\in {0,1,...,T}$ and plot them in a single figure.\n",
    "\n",
    "Define the saving rate as:\n",
    "\n",
    "$s_{t}^*$ $(a_{t-1})$ = $\\frac{(a_{t}-a_{t-1}+y-c_{t}^*(a_{t-1}))-a_{t-1}{y+ra_{t-1}}$\n",
    "\n",
    " \n"
   ]
  },
  {
   "cell_type": "code",
   "execution_count": null,
   "metadata": {},
   "outputs": [],
   "source": []
  },
  {
   "cell_type": "markdown",
   "metadata": {},
   "source": [
    "**Question 4:** Plot $s_0^{*}(a_{-1})$. Do the rich or the poor save the most?\n",
    "   "
   ]
  },
  {
   "cell_type": "code",
   "execution_count": null,
   "metadata": {},
   "outputs": [],
   "source": []
  },
  {
   "cell_type": "markdown",
   "metadata": {},
   "source": [
    "**Question 5:** Can you change the parameter choices such that $s_0^{*}(a_{-1})$ is monotonically decreasing in $a_{-1}$?"
   ]
  },
  {
   "cell_type": "markdown",
   "metadata": {},
   "source": [
    "# Refined grid search"
   ]
  },
  {
   "cell_type": "markdown",
   "metadata": {},
   "source": [
    "Let $\\boldsymbol{x} = \\left[\\begin{array}{c}\n",
    "x_1 \\\\\n",
    "x_2\\\\\n",
    "\\end{array}\\right]$ be a two-dimensional vector. Consider the following algorithm:"
   ]
  },
  {
   "cell_type": "markdown",
   "metadata": {},
   "source": [
    "**Algorithm:** `grid_search()`\n",
    "\n",
    "**Goal:** Minimize the function $f(\\boldsymbol{x})$.\n",
    "\n",
    "1. Choose a grid size $N$ and minimum and maximum values of $x_{1}$ and $x_{2}$ denoted $\\overline{x_{1}}$>$\\underline{x_{1}}$ and $\\overline{x_{2}}$>$\\underline{x_{2}}$\n",
    "2. Calculate step sizes \n",
    "\n",
    "    $\\Delta_{1}$ =($\\overline{x_{1}}$-$\\underline{x_{1}}$)/(N-1)\n",
    "    \n",
    "    $\\Delta_{2}$ =($\\overline{x_{2}}$-$\\underline{x_{2}}$)/(N-1)\n",
    "3. Find the grid point with the lowest function value solving \n",
    "\n",
    "    $j^{*}_{1}$, $j^{*}_{2}$ = $arg_{j_{1}\\in{0,...,N-1}, j_{2}\\in{0,...,N-1}}$  f( $\\underline{x_{1}+j_{1}$\\Delta_{1}$,$\\underline{x_{2}+j_{2}$\\Delta_{2}$)\n",
    "\n",
    "    \n",
    "    \n",
    "\n",
    "\n",
    "1. Return \n"
   ]
  },
  {
   "cell_type": "markdown",
   "metadata": {},
   "source": [
    "**Question 1:** Implement the grid_search() algorithm to minimize the rosen function.\n"
   ]
  },
  {
   "cell_type": "code",
   "execution_count": 120,
   "metadata": {},
   "outputs": [],
   "source": [
    "def rosen(x):\n",
    " return (1.0-x[0])**2+2*(x[1]-x[0]**2)**2\n"
   ]
  },
  {
   "cell_type": "code",
   "execution_count": 122,
   "metadata": {
    "tags": []
   },
   "outputs": [
    {
     "output_type": "stream",
     "name": "stdout",
     "text": "minimum found at (nan,nan) with the function value nan\n"
    }
   ],
   "source": [
    "def grid_search(f,x1_min,x1_max,x2_min,x2_max,N,delta1,delta2):\n",
    " return np.nan,np.nan,np.nan\n",
    "# settings\n",
    "x1_min = 0\n",
    "x1_max = 5\n",
    "x2_min = 0\n",
    "x2_max = 4\n",
    "N = 1000\n",
    "\n",
    "#calculate step sizes\n",
    "## delta1=(x1_max-x1_min)/(N-1)\n",
    "## delta2=(x2_max-x2_min)/(N-1)\n",
    "# apply grid search\n",
    "x1,x2,f = grid_search(rosen,x1_min,x1_max,x2_min,x2_max,N, delta1,delta2)\n",
    "print(f'minimum found at ({x1:.8f},{x2:.8f}) with the function value {f:.8f}')"
   ]
  },
  {
   "cell_type": "markdown",
   "metadata": {},
   "source": [
    "**Question 2:** Implement the refined_grid_search() algorithm to minimize the rosen function"
   ]
  },
  {
   "cell_type": "code",
   "execution_count": 47,
   "metadata": {},
   "outputs": [
    {
     "output_type": "error",
     "ename": "SyntaxError",
     "evalue": "unexpected EOF while parsing (<ipython-input-47-36645f060032>, line 7)",
     "traceback": [
      "\u001b[1;36m  File \u001b[1;32m\"<ipython-input-47-36645f060032>\"\u001b[1;36m, line \u001b[1;32m7\u001b[0m\n\u001b[1;33m    print(f'minimum found at ({x1:.8f},{x2:.8f}) with the function value {f:.8f}'\u001b[0m\n\u001b[1;37m                                                                                 ^\u001b[0m\n\u001b[1;31mSyntaxError\u001b[0m\u001b[1;31m:\u001b[0m unexpected EOF while parsing\n"
     ]
    }
   ],
   "source": [
    "def refined_grid_search(f,x1_min,x1_max,x2_min,x2_max,N,K):\n",
    " return np.nan,np.nan,np.nan\n",
    "# more settings\n",
    "K = 10\n",
    "# apply refined grid search\n",
    "x1,x2,f = refined_grid_search(rosen,x1_min,x1_max,x2_min,x2_max,N,K)\n",
    "print(f'minimum found at ({x1:.8f},{x2:.8f}) with the function value {f:.8f}'"
   ]
  },
  {
   "cell_type": "code",
   "execution_count": null,
   "metadata": {},
   "outputs": [],
   "source": []
  }
 ],
 "metadata": {
  "language_info": {
   "codemirror_mode": {
    "name": "ipython",
    "version": 3
   },
   "file_extension": ".py",
   "mimetype": "text/x-python",
   "name": "python",
   "nbconvert_exporter": "python",
   "pygments_lexer": "ipython3",
   "version": "3.7.6-final"
  },
  "orig_nbformat": 2,
  "kernelspec": {
   "name": "python3",
   "display_name": "Python 3"
  }
 },
 "nbformat": 4,
 "nbformat_minor": 2
}
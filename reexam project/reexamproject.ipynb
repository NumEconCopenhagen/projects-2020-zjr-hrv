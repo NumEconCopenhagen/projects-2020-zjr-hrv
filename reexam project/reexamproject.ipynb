{
 "cells": [
  {
   "cell_type": "code",
   "execution_count": 1,
   "metadata": {},
   "outputs": [],
   "source": [
    "#Import and set magics\n",
    "import numpy as np\n",
    "%matplotlib inline\n",
    "import pandas as pd\n",
    "import datetime\n",
    "import pandas_datareader\n",
    "import pydst\n",
    "import statsmodels.api as stat\n",
    "import statsmodels.formula.api as statf\n",
    "from statsmodels.sandbox.regression.predstd import wls_prediction_std\n",
    "import scipy as sp\n",
    "from scipy import stats\n",
    "from scipy import optimize\n",
    "from scipy import interpolate\n",
    "from scipy import linalg\n",
    "import sympy as sm\n",
    "import math\n",
    "import random\n",
    "\n",
    "import matplotlib.pyplot as plt\n",
    "plt.style.use('seaborn-whitegrid')\n",
    "from matplotlib import cm\n",
    "%matplotlib inline\n",
    "from mpl_toolkits.mplot3d import Axes3D\n",
    "\n"
   ]
  },
  {
   "cell_type": "markdown",
   "metadata": {},
   "source": [
    "# Estimating income processes\n"
   ]
  },
  {
   "cell_type": "markdown",
   "metadata": {},
   "source": [
    "Consider $N$ households indexed by $i$ who are in the labor market for $T$ periods indexed by $t \\in ${1,2,...,T}$,\n",
    "\n",
    "Their **wage income** is stochastic and given by,\n",
    " \n",
    "$P_{i,t}$ = $\\psi_{i,t}$ $P_{i,t-1}$\n",
    "\n",
    "$\\tilde{Y}_{i,t}$ = $xi_{i,t}$ $P_{i,t}$\n",
    "\n",
    "$Y_{i,t}$ = \\left\\begin{array}{rcl}$\n",
    "            \\overline{\\overline{0}+\\text{if}\\mu_{i,t}<\\pi}\n",
    "            \\\\tilde{Y}_{i,t} +\\text{else}\n",
    "            \\end{array}\\right.\n",
    "\n",
    "\n",
    "   \n",
    "\n",
    "\n",
    "$\\psi_{i,t}$ ~ LogNormal(-0.5$\\sigma_{\\psi}^2$,$\\sigma_{\\psi})$\n",
    "\n",
    "$\\xi_{i,t}$ ~ LogNormal(-0.5$\\sigma_{\\xi}^2$,$\\sigma_{\\xi})$\n",
    "\n",
    "$\\mu_{i,t}$ ~ $Uniform(0,1)$\n",
    "\n",
    "\n",
    "$P_{0} = 1$\n",
    "   \n",
    "where\n",
    "\n",
    "$\\sigma_{\\psi}$ is the standard deviation of the *permanent* shocks, $\\psi_{i,t}$\n",
    "\n",
    "$\\sigma_{\\xi}$ is the standard deviation of the *transitory* shocks, $\\xi_{i,t}$\n",
    "\n",
    "$\\pi$ is the risk of unemployment"
   ]
  },
  {
   "cell_type": "markdown",
   "metadata": {},
   "source": [
    "The data you have access to is:\n"
   ]
  },
  {
   "cell_type": "code",
   "execution_count": 2,
   "metadata": {
    "tags": []
   },
   "outputs": [
    {
     "output_type": "stream",
     "name": "stdout",
     "text": "[[0.83317569 0.72881172 0.         ... 1.16771806 0.93207083 0.86711803]\n [1.18542294 0.92826337 1.62913142 ... 1.13903869 0.94479246 0.78842682]\n [1.14813596 0.90542496 0.70634401 ... 1.49584791 1.08969956 0.        ]\n ...\n [0.73818651 0.59958039 0.56135238 ... 2.60075173 1.07070489 0.43010036]\n [1.14130879 0.85728537 0.54530761 ... 3.79294856 0.67764143 0.38720822]\n [0.64908127 0.85101393 0.59517395 ... 3.32800991 0.82400879 0.5814573 ]]\n(20, 50000)\n"
    }
   ],
   "source": [
    "import numpy as np\n",
    "dataY = np.load(r'C:\\Users\\musse\\Documents\\GitHub\\projects-2020-zjr-hrv\\projects-2020-zjr-hrv\\dataY.npy')\n",
    "T,N = dataY.shape\n",
    "print(dataY)\n",
    "print(dataY.shape)\n",
    "\n",
    "\n"
   ]
  },
  {
   "cell_type": "markdown",
   "metadata": {},
   "source": [
    "**Question 1:** Calculate income growth rates as log-changes"
   ]
  },
  {
   "cell_type": "code",
   "execution_count": 102,
   "metadata": {
    "tags": []
   },
   "outputs": [
    {
     "output_type": "stream",
     "name": "stdout",
     "text": "initial diff [[-0.13382911        -inf         inf ...  0.45991757 -0.22539794\n  -0.0722337 ]\n [-0.2445394   0.56248678 -0.45247293 ...  0.10650339 -0.18697465\n  -0.18092569]\n [-0.2374906  -0.24830202  0.49367077 ...  0.38133059 -0.31679118\n         -inf]\n ...\n [-0.20796646 -0.06588123  0.6550227  ...  1.08826931 -0.88748332\n  -0.9120539 ]\n [-0.2861601  -0.45242079  0.43603115 ...  1.35354726 -1.7222807\n  -0.5596557 ]\n [ 0.27087056 -0.35757477  0.31896575 ...  1.52939372 -1.39594858\n  -0.34864367]]\nNew resulting diff:  [[       nan        nan        inf ... 0.45991757        nan        nan]\n [       nan 0.56248678        nan ... 0.10650339        nan        nan]\n [       nan        nan 0.49367077 ... 0.38133059        nan        nan]\n ...\n [       nan        nan 0.6550227  ... 1.08826931        nan        nan]\n [       nan        nan 0.43603115 ... 1.35354726        nan        nan]\n [0.27087056        nan 0.31896575 ... 1.52939372        nan        nan]]\n"
    }
   ],
   "source": [
    "#Defining income growth rate by finding the first differences. Thereafter replacing the negative Y-values with .nan\n",
    "\n",
    "logY = np.diff(np.log(dataY))\n",
    "#diff_dataY = np.diff(dataY) \n",
    "  \n",
    "# printing initial arrays \n",
    "print(\"Initial diff\", logY) \n",
    "  \n",
    "# code to replace all negative value with 0 \n",
    "logY[logY<=0] = np.nan\n",
    "  \n",
    "# printing result \n",
    "print(\"New resulting diff: \", logY) \n",
    "\n",
    "\n",
    "\n",
    "\n"
   ]
  },
  {
   "cell_type": "markdown",
   "metadata": {},
   "source": [
    "**Question 2:** Calculate the following 3 statistics from the data:\n",
    "\n",
    "$s_{1}$: Share of observations with $Y_{i,t}$=0\n",
    "\n",
    "$s_{2}$: Variance of income growth rate, Var($\\Delta$ Log $Y_{i,t}$)\n",
    "\n",
    "$s_{3}$: Covariance of income growth rates one period apart, Cov($\\Delta$ Log $Y_{i,t}$,$\\Delta$ Log $Y_{i,t-1}$ )"
   ]
  },
  {
   "cell_type": "markdown",
   "metadata": {},
   "source": [
    "To count shares of observations with $Y_{i,t}$=0, we use the nonzero-function"
   ]
  },
  {
   "cell_type": "code",
   "execution_count": 358,
   "metadata": {
    "tags": []
   },
   "outputs": [
    {
     "output_type": "stream",
     "name": "stdout",
     "text": "Number of observations with Y=0 is\n"
    },
    {
     "output_type": "execute_result",
     "data": {
      "text/plain": "49925"
     },
     "metadata": {},
     "execution_count": 358
    }
   ],
   "source": [
    "#S1:\n",
    "print('Number of observations with Y=0 is') \n",
    "np.count_nonzero(dataY==0)\n",
    "\n"
   ]
  },
  {
   "cell_type": "markdown",
   "metadata": {},
   "source": [
    "The variance is calculated by the mean of square minus the square of the mean, i.e.\n",
    "\n",
    "$Var(x)=E[(X-\\mu)^{2}]$\n",
    "\n"
   ]
  },
  {
   "cell_type": "code",
   "execution_count": 104,
   "metadata": {
    "tags": []
   },
   "outputs": [
    {
     "output_type": "stream",
     "name": "stdout",
     "text": "nan\n"
    }
   ],
   "source": [
    "#S2:\n",
    "print(np.var(logY))"
   ]
  },
  {
   "cell_type": "markdown",
   "metadata": {},
   "source": [
    "As seen above, the variance results in \"nan\", meaning we would have to remove the nan values from our sample to find a value for the variance. Hence, we find:"
   ]
  },
  {
   "cell_type": "code",
   "execution_count": 175,
   "metadata": {
    "tags": []
   },
   "outputs": [
    {
     "output_type": "stream",
     "name": "stdout",
     "text": "The variance is 0.15780801990005514\n"
    }
   ],
   "source": [
    "diffY = diff_dataY[~np.isnan(diff_dataY)]\n",
    "print('The variance is' ,np.var(diffY))"
   ]
  },
  {
   "cell_type": "markdown",
   "metadata": {},
   "source": [
    "Finally, the Covariance is found by $cov(X,Y)$ = $E[(X-E[X])(Y-E[Y])]$"
   ]
  },
  {
   "cell_type": "code",
   "execution_count": 689,
   "metadata": {},
   "outputs": [
    {
     "output_type": "execute_result",
     "data": {
      "text/plain": "array([0.94718895, 0.08465306, 0.20212118, ..., 1.94543748, 0.35063015,\n       2.60694002])"
     },
     "metadata": {},
     "execution_count": 689
    }
   ],
   "source": [
    "diffY"
   ]
  },
  {
   "cell_type": "code",
   "execution_count": 688,
   "metadata": {
    "tags": []
   },
   "outputs": [
    {
     "output_type": "execute_result",
     "data": {
      "text/plain": "array(0.15780833)"
     },
     "metadata": {},
     "execution_count": 688
    }
   ],
   "source": [
    "np.cov(diffY)"
   ]
  },
  {
   "cell_type": "markdown",
   "metadata": {},
   "source": [
    "Question 3: Simulate the income process using your own choice of $\\sigma_{\\psi}$, $\\sigma_{\\xi}$, $\\pi$, T and N. Calculate the 3 same statistics. Compare with the data statistics"
   ]
  },
  {
   "cell_type": "code",
   "execution_count": 3,
   "metadata": {},
   "outputs": [],
   "source": [
    "# skal bruge i 1.2 og 1.3 \n",
    "\n",
    "def momments(Y):\n",
    "    s_sim1 = np.count_nonzero(Y==0)/np.size(Y)\n",
    "    Y[Y<0] = np.nan\n",
    "    Ydiff = np.diff(np.log(Y))\n",
    "    cov = pd.DataFrame(Ydiff).cov()\n",
    "\n",
    "    s_sim2 = np.zeros(Ydiff.shape[1])\n",
    "    for i in range(Ydiff.shape[1]):\n",
    "        s_sim2[i] = cov.iloc[i,i]\n",
    "    s_sim2 = np.mean(s_sim2)\n",
    "\n",
    "    s_sim3 = np.zeros(Ydiff.shape[1]-1)\n",
    "    for i in range(Ydiff.shape[1]-1):\n",
    "        s_sim3[i] = cov.iloc[i,(i+1)]\n",
    "    s_sim3 = np.mean(s_sim3)\n",
    "\n",
    "    return s_sim1, s_sim2, s_sim3"
   ]
  },
  {
   "cell_type": "code",
   "execution_count": 4,
   "metadata": {},
   "outputs": [
    {
     "output_type": "execute_result",
     "data": {
      "text/plain": "[0.049925, 0.054993983413371354, -0.022504802437365256]"
     },
     "metadata": {},
     "execution_count": 4
    }
   ],
   "source": [
    "s_data = [None]*3\n",
    "s_data[0], s_data[1], s_data[2] = momments(dataY.T)\n",
    "s_data"
   ]
  },
  {
   "cell_type": "code",
   "execution_count": 32,
   "metadata": {},
   "outputs": [
    {
     "output_type": "execute_result",
     "data": {
      "text/plain": "[0.29988, 17.827012770658502, -8.922596424853145]"
     },
     "metadata": {},
     "execution_count": 32
    }
   ],
   "source": [
    "\n",
    "#Simulated figures\n",
    "T = 50\n",
    "N = 1000\n",
    "pi = 0.3\n",
    "s_psi = 0.23\n",
    "s_xi = 0.4\n",
    "P_0 = 1\n",
    "\n",
    "\n",
    "def sim(s_psi,s_xi,pi,N,T):\n",
    "    #Model\n",
    "    Y = np.zeros((N,T))\n",
    "    np.random.seed(1)\n",
    "    for t in range(T):\n",
    "        psi = np.random.lognormal(-0.5 * s_psi, s_psi, N)\n",
    "        xi = np.random.lognormal(-0.5 * s_xi,s_xi, N)\n",
    "        P = psi * P_0\n",
    "        Y_tilde = xi * P\n",
    "        mu = np.random.uniform(0,1,N)\n",
    "        Y[(pi<mu),t] = Y_tilde[(pi<mu)]\n",
    "    return Y\n",
    "\n",
    "Y_sim = sim(s_psi,s_xi,pi,N,T)\n",
    "\n",
    "s_sim = [None]*3\n",
    "s_sim[0], s_sim[1], s_sim[2] = momments(Y_sim)\n",
    "s_sim\n",
    "\n"
   ]
  },
  {
   "cell_type": "code",
   "execution_count": 63,
   "metadata": {},
   "outputs": [
    {
     "output_type": "execute_result",
     "data": {
      "text/plain": "      fun: 1.6144875720339336e-05\n hess_inv: <3x3 LbfgsInvHessProduct with dtype=float64>\n      jac: array([ 2.25305304e-05,  6.20294454e-06, -2.49368487e-04])\n  message: b'CONVERGENCE: REL_REDUCTION_OF_F_<=_FACTR*EPSMCH'\n     nfev: 104\n      nit: 16\n   status: 0\n  success: True\n        x: array([0.11493023, 0.11775912, 0.04956846])"
     },
     "metadata": {},
     "execution_count": 63
    }
   ],
   "source": [
    "def objective(s):\n",
    "\n",
    "    Y = sim(s[0],s[1],s[2],N,T)\n",
    "    s_sim1, s_sim2, s_sim3 = momments(Y)\n",
    "    #obj =  (s_sim1 - s_data1)**2 + (s_sim2 - s_data2)**2 + (s_sim3 - s_data3)**2 \n",
    "    obj =   (s_sim1 - s_data[0])**2 + (s_sim2 - s_data[1])**2 + (s_sim3 - s_data[2])**2 \n",
    "    return obj\n",
    "\n",
    "\n",
    "\n",
    "x0 = np.ones(3)/100\n",
    "\n",
    "#res = optimize.minimize(objective,x,method='L-BFGS-B', bounds=((0,None),(0,None),(0,1)),tol=1e-20)\n",
    "res = optimize.minimize(objective,x0,method='L-BFGS-B',options={'eps':1e-4},bounds=((0,None),(0,None),(0,None),))\n",
    "#objective(x)\n",
    "res"
   ]
  },
  {
   "cell_type": "code",
   "execution_count": 62,
   "metadata": {},
   "outputs": [
    {
     "output_type": "execute_result",
     "data": {
      "text/plain": "0.000455000000000004"
     },
     "metadata": {},
     "execution_count": 62
    }
   ],
   "source": [
    "\n",
    "Y = sim(0.11499217,0.11770293,0.05,N,T)\n",
    "s_sim1, s_sim2, s_sim3 = momments(Y)\n",
    "s_sim1 -s_data[0] \n"
   ]
  },
  {
   "cell_type": "code",
   "execution_count": 17,
   "metadata": {},
   "outputs": [
    {
     "output_type": "execute_result",
     "data": {
      "text/plain": "0.29988"
     },
     "metadata": {},
     "execution_count": 17
    }
   ],
   "source": [
    "Y = sim(1,1,0.3,N,T)\n",
    "s_sim1, s_sim2, s_sim3 = momments(Y)\n",
    "s_sim1"
   ]
  },
  {
   "cell_type": "code",
   "execution_count": 312,
   "metadata": {
    "tags": []
   },
   "outputs": [
    {
     "output_type": "stream",
     "name": "stdout",
     "text": "New diff [0.76490623 0.54775785 0.87866154 0.3186033  0.58003673 1.14538839\n 1.06600189 0.43761411 0.33612469 0.93192906 0.32228203 0.77918641\n 0.68135253 0.64898698 0.76127426 0.70063782 0.56319563 0.96014644\n 1.06190535 0.62759354 0.55334932 0.4683173  0.99910588 1.72282662\n 1.07217598 1.33696167 0.6540446  0.42089238 0.46188817 0.50845608\n 0.67628466 0.4640271  0.45399858 1.31992146 0.38433886 0.38542381\n 1.17109731 0.41406103 0.75620395 0.69813366 0.7435846  0.73852665\n 0.53507918 0.94476785 1.28570108 0.94804939 0.78152821 0.49901244\n 0.89038294 0.93138788 0.81283685 0.48546922 1.45273448 1.31423155\n 1.04130304 0.75836007 0.37889511 0.43730584 0.66222366 0.55180226\n 0.56460394 1.16062731 0.40278451 0.48118903 0.86071215 1.08291318\n 0.37415956 0.69293963 0.50797687 0.69159815 0.53920818 0.41954049\n 0.649402   0.48079952 0.53432434 0.73457489 0.43178342 0.42043118\n 1.11767808 0.78761336 1.01611968 0.68959211 0.42375901 0.53289127\n 0.98430296 0.54545086 0.9800488  0.95776761 0.54815861 0.59392937\n 0.31883829 0.49862443 0.51990572 1.03947568 1.16854156 2.00839937\n 0.65524488 0.33949955 1.08093353 0.67032645 0.53388284 0.65455246\n 2.02115071 0.49066765 0.3621875  0.4603293  0.75108609 0.71245815\n 0.88932046 0.66931353 0.51907844 0.41226533 0.80359175 0.74800754\n 0.51334235 1.54764563 0.55204205 0.5332508  1.13575376 0.4684161\n 0.31718721 0.89839886 0.72803737 1.14828375 0.81250985 0.94586703\n 0.81617346 0.78291335 0.88627771 0.42135863 0.5071575  0.47296187\n 0.43256218 0.63034867 0.63328458 0.90722295 0.63865091 0.41057271\n 0.91093194 0.77918541 0.2192917  0.49674011 1.18938515 0.43865996\n 1.81018629 0.56849597 0.54996608 0.49940108 0.80337661 0.70249098\n 0.61894453 0.59737466 1.70168324 0.71396858 0.56309948 0.70982373\n 0.73548782 0.62158267 0.45479293 0.94076612 0.77860079 0.69092374\n 1.47718152 1.06168945 0.36469187 0.93721429 0.65749444 0.61262962\n 0.79836854 0.69520635 0.87050611 0.86380143 0.8358276  0.27742392\n 0.64115127 0.4591216  0.50465289 0.82142382 0.62396375 0.25521106\n 0.26576248 0.83561714 0.47475897 0.56302656 0.57285081 2.29462264\n 0.8069256  0.30953723 0.82200354 0.67056107 0.85904147 1.14031378\n 1.33175503 0.5404986  0.73633812 0.8577706  0.49333874 1.0563469\n 0.73017397 0.44753255 0.66730579 1.31575587 0.4751571  0.74778208\n 1.03656187 1.08391659 0.52066468 1.18302962 1.15920475 0.63277234\n 2.40436139 0.5237075  0.64631708 0.74455652 1.28848774 0.58416054\n 0.75834933 0.4662628  0.71406867 0.79002757 0.42997209 0.4883154\n 1.15726855 0.59419361 0.54345538 1.0996958  0.8351678  0.657857\n 0.68084724 0.54231541 0.59494723 0.43540883 1.01151036 0.67851055\n 1.66819821 1.05541058 0.62955299 1.1485929  0.61554073 0.82902998\n 1.35478798 0.70189972 0.31268777 0.8884377  1.09880256 0.86681403\n 0.80400309 0.50417263 0.68094813 0.56129304 0.61484013 0.91827821\n 0.84580434 0.68239929 0.37147461 0.29345454 0.98287026 0.740975\n 0.44619941 0.5760229  2.1913513  0.3812245  0.37323495 0.46326844\n 1.24929103 0.40384928 0.39631597 0.72103774 1.10329601 1.56432072\n 0.69526671 0.61930075 1.24077767 0.71121116 1.19220094 0.50465666\n 0.79952386 0.74611405 1.05598925 0.71683758 2.05848387 0.84455574\n 0.96901401 0.94613342 1.71046318 0.31579767 1.3490612  0.58392743\n 0.93182962 0.7411605  1.12772356 1.73095323 1.09063474 1.57686603\n 0.41033919 0.8035387  0.55036355 0.50790371 1.16272836 0.99208015\n 1.19733052 0.63703672 1.07964076 1.31946098 1.41001808 0.739088\n 0.80833475 0.88846694 0.87666345 1.26969448 1.47963801 0.51916636\n 0.69682758 1.939442   0.45348629 0.91999276 0.46720635 0.55827534\n 1.23492789 0.85884867 0.93405452 1.01531958 0.71272901 1.0717564\n 0.47612598 0.58734414 0.33023594 0.89112754 0.44465204 0.71402475\n 0.63623122 0.33776484 1.3089499  1.16900555 1.83663237 1.33985947\n 0.8872857  0.40715769 0.73109212 0.96367844 0.55647239 0.66025669\n 0.22466532 0.97232698 0.75431517 0.60966118 0.49154285 0.73448368\n 0.57115905 0.28541691 0.64928252 0.65813326 1.08456974 0.66321463\n 0.95127869 0.91821376 0.51812194 0.64695233 1.52038163 0.31490887\n 0.24797559 0.74270119 0.48304652 0.53105152 0.65471866 0.66725442\n 0.769158   0.73551587 0.3966906  1.25601086 1.38368609 0.74907732\n 1.51549415 0.34241309 1.82817605 0.90934393 0.62621061 0.26398605\n 0.49853625 0.80563566 0.93512436 0.72405401 0.72590756 1.0963495\n 0.92895366 0.26626102 1.54642354 0.66577132 1.13937001 2.09300659\n 0.457698   1.20508221 0.72414309 0.82676298 0.41093487 1.19741636\n 1.54737711 0.24034716 0.71506034 0.45586259 0.81987994 0.44128834\n 0.75867048 1.04045888 0.6717479  0.67430654 0.65978856 0.69526074\n 0.87862388 0.76326725 0.57766269 0.75613041 0.94864883 0.65958359\n 0.27904588 0.43340907 0.99871654 0.58994978 0.90801795 0.56009878\n 1.00417996 0.75201055 0.58168991 0.69038164 0.79613189 0.65701913\n 0.7250035  1.06010766 0.84677565 0.70667161 1.088753   0.75287595\n 0.76437769 1.1344452  1.1992585  0.57839538 0.99448331 0.55317214\n 1.22491283 0.35068719 1.16280938 1.18026912 0.94501619 1.635211\n 1.17381388 0.55828446 1.30940972 0.65485959 1.12254884 0.96324401\n 0.98395043 1.08338172 0.87001452 0.44631985 0.96326795 1.58235629\n 1.2829504  0.75179775 0.41149234 0.70659536 1.0923876  0.70682024\n 0.73894577 0.51352405 0.42460085 0.90700728 1.01520244 0.75559153\n 0.54451117 0.59632013 0.27388143 1.58531116 0.88681414 0.4875848\n 1.08072778 0.6590989  0.77078448 0.57115294 0.49451953 0.22448789\n 1.15325279 0.81540004 0.66405933 1.29222878 1.00844749 1.03551181\n 0.31437097 1.03923192 1.44222814 1.08226005 1.02706206 1.36032474\n 0.88785263 0.64853316 0.63295165 0.72021065 0.32029059 0.88755827\n 0.64854776 1.58497536 1.27537315 0.48090987 0.62217898 0.7276513\n 0.94649703 0.92718092 1.35610036 0.68128279 1.7171588  1.95278493\n 1.11869244 0.78308483 0.79284712 0.84947122 1.8549659  0.76464763\n 0.46792375 0.51377656 0.75336775 0.37595124 0.42072059 0.53027822\n 0.96838645 0.4462164  0.38432415 0.35751526 0.57962613 0.78801347\n 1.6661761  0.46274491 0.78404623 0.68850403 0.52898497 1.05994186\n 1.57901772 0.71811344 0.81695728 0.5228418  0.70740432 0.68913912\n 0.75776394 1.16046065 0.41902736 0.95560723 0.8476643  0.62795729\n 0.27237842 1.01024347 0.57043846 0.64010448 0.70630078 0.60918651\n 1.00755912 0.89705831 0.35043148 0.69153827 0.95203703 0.55641473\n 0.79475876 1.56280668 0.69429159 0.53410315 0.33398135 0.81916325\n 1.12318566 0.9426347  0.66584328 1.67774458 0.45131521 0.75307377\n 0.96752138 0.82365045 0.6262812  0.71208184 0.25290705 1.16503929\n 0.52579002 1.1608935  0.69348998 0.66529038 0.73444147 1.04370235\n 0.31172512 0.88941508 0.43478068 0.65217551 0.49018761 0.41813478\n 0.50983572 0.4124663  0.81270332 0.62670814 1.06573067 0.72447127\n 1.2656038  2.95227811 0.56639525 0.42186792 1.13598831 1.58474461\n 0.61455321 1.04599218 1.49991333 1.81441223 0.55448071 1.07126136\n 0.52434302 1.11576583 0.56059862 0.58838972 1.58171462 0.87930693\n 0.9342184  1.72219576 0.97880332 0.41844976 1.30880352 0.63883265\n 0.48678169 0.66477731 0.95286534 0.41480304 0.37526201 0.82672253\n 0.38890573 1.04822962 0.79667559 0.5863222  0.72224017 1.15490797\n 0.50993606 2.15482047 1.15178869 1.0175685  0.60029826 0.42059685\n 0.8338877  1.15147006 1.37151665 0.7005114  0.82386261 1.11387401\n 1.13118913 0.53948716 0.57285678 0.94188115 1.14768575 0.59492094\n 0.81492201 0.88745624 0.41993959 2.03592882 0.81721421 0.91428938\n 0.34786911 0.46916336 0.40713257 1.76235941 0.72057973 0.66826576\n 0.66382316 0.66833163 2.20645401 0.68594384 0.63603634 0.72676218\n 0.50121462 0.50980609 0.35481305 1.01542749 1.05062078 0.53960698\n 1.01556945 0.34423067 0.86155664 1.06557233 0.89414953 0.76620739\n 1.56156658 0.69429215 0.82688715 0.51480896 1.39568474 0.72125014\n 0.37257829 1.24951832 0.64238277 0.39291022 0.66913168 0.65525846\n 0.75142496 0.23924844 1.47541701 0.59152776 0.58401702 0.7553417\n 0.85167819 1.17902865 0.67714    0.94213451 0.44182391 1.11694305\n 0.54545561 0.78460593 0.62032201 0.41883313 0.38185214 0.46613899\n 0.55892031 0.67784111 1.50561583 0.42479827 1.15038585 0.50230812\n 1.20342784 1.32766032 0.46655501 0.47088312 0.8184571  2.58403951\n 0.76201424 0.42519077 0.96397957 0.48714616 1.42523104 1.77543295\n 0.83922484 0.78971001 0.51653192 0.95847991 0.59044029 0.52878457\n 1.04593649 1.00842894 1.23835687 0.34659208 0.94600863 1.25197133\n 2.30723483 1.25945065 0.62337518 0.56063363 1.51172935 1.23781815\n 1.26511632 0.91973886 0.75156297 1.21632235 0.9344304  1.03873172\n 0.9373121  0.85325877 0.80320994 1.32852238 0.49992307 0.54779323\n 1.14026637 0.60264939 0.41236406 0.7692853  0.63084541 0.85322049\n 0.48616007 0.74729621 0.21783926 0.66945372 0.51973958 0.89439844\n 1.12975707 0.70803443 0.70932744 0.35314555 1.15393736 0.62553065\n 0.74945866 0.74494578 0.84275753 1.63096854 0.631917   0.44519139\n 0.20087588 0.46793019 1.22143752 1.11549314 0.74421142 0.29499365\n 1.11471152 0.66865297 0.89979046 0.69824038 0.78081541 0.35512768\n 0.73417181 0.52633456 1.24046776 0.38141502 0.72826492 1.54529599\n 0.44714632 0.60543331 0.40895775 1.15844114 0.58273825 0.8415666\n 1.01101419 0.64853747 0.77791685 1.23096145 1.10511606 0.9684551\n 1.16732281 1.04638444 0.45888591 1.15628906 0.66346425 1.35377556\n 1.16643887 0.65662598 0.71779259 0.30319525 2.44633819 1.13771836\n 0.68184166 0.55650531 0.79096994 0.28430196 1.08238245 0.76163768\n 0.6057911  0.33820837 1.79951342 0.99935062 1.3250633  0.86657008\n 0.78255394 0.57050962 0.4037425  0.55629218 0.56756835 0.29943595\n 1.12579873 0.67148829 0.87703011 0.40946291 1.29879154 0.96020991\n 0.78560783 0.70802673 0.9215063  0.88746509 1.10513006 0.2278528\n 1.10263592 0.80666291 0.41891123 0.5756662  1.04403665 0.48504323\n 1.11791886 0.72807199 0.50119663 0.41884597 0.48526169 0.37406125\n 0.95204518 0.39715938 0.81092543 0.86870383 0.8366973  0.30298878\n 0.95162615 0.51494701 0.32623481 0.57652403 0.71329037 1.51855159\n 0.87545025 0.72110406 0.36815755 0.27400432 1.08791573 0.88510875\n 1.30826416 1.06159927 0.82210627 1.00991513 1.29637871 0.5401843\n 0.64069953 0.72356303 1.22832931 0.64126802 0.72294829 0.81135416\n 0.47986828 0.75534974 1.33065826 0.26794036 0.64763519 0.46446704\n 0.53336041 0.70727971 0.37983998 1.18263803 0.46270602 0.68816937\n 0.82862492 0.27248142 1.93171112 0.4807477  0.7663493  1.17534683\n 0.66586934 0.51522527 2.1119521  0.95246056 0.91304832 0.55584658\n 0.59422129 0.38980981 0.34965335 0.6594699  0.44460006 0.55974077\n 0.90061284 0.5762944  0.43147362 1.24539357 0.50983052 0.35411185\n 0.92954943 0.72983252 1.48440679 1.09503419 0.52641904 0.82528073\n 0.47934424 0.49694721 0.73348108 0.34951743 0.55190903 0.27018708\n 0.48117611 0.8989153  0.3328637  0.82842075 0.58277009 0.32208482\n 1.94313942 0.78393568 0.62570476 0.89992018 0.56996205 2.16452577\n 0.31569272 0.89588489 0.59082145 0.66609482 0.57502427 0.64863983\n 1.38432043 0.49856789 0.63266532 1.03921034 0.65620104 0.4677364\n 0.77529123 0.34701597 0.69418235 0.85558597 0.84411133 1.16730547\n 0.64570352 0.47700936 0.38042247 0.84349182 1.99178689 0.90867233\n 0.89660989 0.64035984 0.45268414 0.53486251 1.27400591 0.80096513\n 1.96809449 0.39661857 0.52131419 1.08541028 0.80517966 1.10725112\n 0.31914331 0.28108978 0.98813209 0.33437856 0.37742185 0.72427545\n 0.51679164 0.58487572 1.46576903 0.4837123 ]\n"
    }
   ],
   "source": [
    "#first differences and log on Y_tilde\n",
    "logY_tilde = np.diff(np.log(Y_tilde))\n",
    " \n",
    "  \n",
    "# printing initial arrays \n",
    "print(\"New diff\", Y_tilde) \n"
   ]
  },
  {
   "cell_type": "code",
   "execution_count": 168,
   "metadata": {
    "tags": []
   },
   "outputs": [
    {
     "output_type": "stream",
     "name": "stdout",
     "text": "Number of observations with Y=0 is\n"
    },
    {
     "output_type": "execute_result",
     "data": {
      "text/plain": "0"
     },
     "metadata": {},
     "execution_count": 168
    }
   ],
   "source": [
    "#Calculating s1_sim\n",
    "print('Number of observations with Y=0 is') \n",
    "np.count_nonzero(logY_tilde==0)"
   ]
  },
  {
   "cell_type": "code",
   "execution_count": 169,
   "metadata": {
    "tags": []
   },
   "outputs": [
    {
     "output_type": "stream",
     "name": "stdout",
     "text": "0.44214824517553175\n"
    }
   ],
   "source": [
    "#Calculating s2_sim\n",
    "print(np.var(logY_tilde))"
   ]
  },
  {
   "cell_type": "code",
   "execution_count": 170,
   "metadata": {},
   "outputs": [
    {
     "output_type": "execute_result",
     "data": {
      "text/plain": "array(0.44259128)"
     },
     "metadata": {},
     "execution_count": 170
    }
   ],
   "source": [
    "#Calculating s3_sim\n",
    "np.cov(logY_tilde)"
   ]
  },
  {
   "cell_type": "markdown",
   "metadata": {},
   "source": [
    "Comparison of the simulated data and the factual dataset\n",
    "\n",
    "s1_sim =0\n",
    "\n",
    "s1_data = 49925\n",
    "\n",
    "s2_sim = 0.44214824517553175\n",
    "\n",
    "s2_data = 0.15780801990005514\n",
    "\n",
    "s3_sim = 0.44259128\n",
    "\n",
    "s3_data = 0.15780833423674454"
   ]
  },
  {
   "cell_type": "markdown",
   "metadata": {},
   "source": [
    "**Question 4:** Solve the following minimization problem to estimate $\\sigma_{\\psi}$, $\\sigma_{\\xi}$ and $\\pi$ \n",
    "\n",
    "$\\sigma_{\\psi}^*$, $\\sigma_{\\xi}^*$, $\\pi^*$ = $arg_{\\sigma_{\\psi}>=0,\\sigma_{\\xi}>=0,\\pi\\in [0,1]}$               min $(s_{1}^{sim}-s_{1}^{data})^2$ + $(s_{2}^{sim}-s_{2}^{data})^2$ + $(s_{3}^{sim}-s_{3}^{data})^2$"
   ]
  },
  {
   "cell_type": "markdown",
   "metadata": {},
   "source": [
    "where for each new guess of $\\sigma_{\\psi}$, $\\sigma_{\\xi}$ and $\\pi$ you should be re-simulating the data with the same seed and re-calculate the 3 statistics"
   ]
  },
  {
   "cell_type": "code",
   "execution_count": 124,
   "metadata": {},
   "outputs": [
    {
     "output_type": "error",
     "ename": "NameError",
     "evalue": "name 'x' is not defined",
     "traceback": [
      "\u001b[1;31m---------------------------------------------------------------------------\u001b[0m",
      "\u001b[1;31mNameError\u001b[0m                                 Traceback (most recent call last)",
      "\u001b[1;32m<ipython-input-124-2b866ad3a275>\u001b[0m in \u001b[0;36m<module>\u001b[1;34m\u001b[0m\n\u001b[0;32m      1\u001b[0m \u001b[1;32mdef\u001b[0m \u001b[0mobjective\u001b[0m\u001b[1;33m(\u001b[0m\u001b[0mx\u001b[0m\u001b[1;33m)\u001b[0m\u001b[1;33m:\u001b[0m\u001b[1;33m\u001b[0m\u001b[1;33m\u001b[0m\u001b[0m\n\u001b[0;32m      2\u001b[0m  \u001b[1;32mpass\u001b[0m\u001b[1;33m\u001b[0m\u001b[1;33m\u001b[0m\u001b[0m\n\u001b[1;32m----> 3\u001b[1;33m \u001b[0mres\u001b[0m \u001b[1;33m=\u001b[0m \u001b[0moptimize\u001b[0m\u001b[1;33m.\u001b[0m\u001b[0mminimize\u001b[0m\u001b[1;33m(\u001b[0m\u001b[0mobjective\u001b[0m\u001b[1;33m,\u001b[0m\u001b[0mx\u001b[0m\u001b[1;33m,\u001b[0m\u001b[0mmethod\u001b[0m\u001b[1;33m=\u001b[0m\u001b[1;34m'L-BFGS-B'\u001b[0m\u001b[1;33m,\u001b[0m\u001b[0mbounds\u001b[0m\u001b[1;33m=\u001b[0m\u001b[1;33m(\u001b[0m\u001b[1;33m-\u001b[0m\u001b[1;36m3\u001b[0m\u001b[1;33m,\u001b[0m\u001b[1;36m3\u001b[0m\u001b[1;33m)\u001b[0m\u001b[1;33m,\u001b[0m\u001b[0margs\u001b[0m\u001b[1;33m=\u001b[0m\u001b[1;33m(\u001b[0m\u001b[1;33m-\u001b[0m\u001b[1;36m3\u001b[0m\u001b[1;33m,\u001b[0m\u001b[1;36m3\u001b[0m\u001b[1;33m)\u001b[0m\u001b[1;33m,\u001b[0m\u001b[0moptions\u001b[0m\u001b[1;33m=\u001b[0m\u001b[1;33m{\u001b[0m\u001b[1;34m'eps'\u001b[0m\u001b[1;33m:\u001b[0m \u001b[1;36m1e-4\u001b[0m\u001b[1;33m}\u001b[0m\u001b[1;33m)\u001b[0m\u001b[1;33m\u001b[0m\u001b[1;33m\u001b[0m\u001b[0m\n\u001b[0m\u001b[0;32m      4\u001b[0m \u001b[1;31m# hint: options={'eps':1e-4} uses a larger step-size when approximating the jacbian, which is useful in this case\u001b[0m\u001b[1;33m\u001b[0m\u001b[1;33m\u001b[0m\u001b[1;33m\u001b[0m\u001b[0m\n\u001b[0;32m      5\u001b[0m \u001b[1;33m\u001b[0m\u001b[0m\n",
      "\u001b[1;31mNameError\u001b[0m: name 'x' is not defined"
     ]
    }
   ],
   "source": [
    "def objective(x):\n",
    " pass\n",
    "res = optimize.minimize(objective,x,method='L-BFGS-B',bounds=(-3,3),args=(-3,3),options={'eps': 1e-4})\n",
    "\n",
    "\n",
    "contour()"
   ]
  },
  {
   "cell_type": "markdown",
   "metadata": {},
   "source": [
    "# Wealth in the utility function"
   ]
  },
  {
   "cell_type": "markdown",
   "metadata": {},
   "source": [
    "In the final period, t=T, the household solves the following problem:\n",
    "\n",
    "\n",
    "\n",
    "$$\n",
    "\\begin{aligned}\n",
    "v_{T}(a_{T-1})&= \\max_{c_{T}}\\frac{(c_{T}^{1-\\rho})}{1-\\rho} + \\kappa \\frac{(a_{T}+a\\underline)^{1-\\sigma}}{1-\\sigma} \\\\\n",
    "\\text{s.t.} \\\\\n",
    "a_{T} = (1+r)a_{T-1}+y-c_{T}\n",
    "\\end{aligned}\n",
    "$$\n",
    "\n",
    "where \n",
    "\n",
    " * $a_t$ is end-of-period assets in period $t$\n",
    " * $c_t$ is consumption in period $t$\n",
    " * $\\rho$ is the CRRA-coefficient for consumption utility\n",
    " * $\\sigma$ is the CRRA-coefficient for wealth utility\n",
    " * $\\underline{a}$ is an *additive* scaling factor for wealth utility\n",
    " * $\\kappa$ is a *multiplicative* scaling factor for wealth utility\n",
    " * $r$ is the rate of return\n",
    " * $y$ is income\n",
    "  \n",
    "The optimal **consumption function** is denoted $c_t^{*}(a_{t-1})$\n",
    "\n",
    "The optimal **savings function** is denoted $a_t^{*}(a_{t-1}) = (1+r)a_{t-1} + y - c_t^{*}(a_{t-1})$.\n",
    "  "
   ]
  },
  {
   "cell_type": "code",
   "execution_count": 418,
   "metadata": {},
   "outputs": [],
   "source": [
    "# a. parameters\n",
    "rho = 2.0\n",
    "sigma = 1.2\n",
    "kappa = 0.6\n",
    "a_ubar = 2.0\n",
    "r = 0.04\n",
    "y = 1.0\n",
    "# b. grids\n",
    "a_lag_vec = np.linspace(0,300,300)\n",
    "\n"
   ]
  },
  {
   "cell_type": "markdown",
   "metadata": {},
   "source": [
    "**Question 1:** Find and plot the functions $v_{T}(a_{T-1})$, $c_T^{*}(a_{T-1})$, and $a_T^{*}(a_{T-1})$\n",
    " "
   ]
  },
  {
   "cell_type": "code",
   "execution_count": 610,
   "metadata": {},
   "outputs": [],
   "source": [
    "def utility (c,y,r,rho,kappa,a_lag,a_ubar,sigma):\n",
    "    return c**(1-rho)/(1-rho) + (kappa*(((1+r)*a_lag+y-c)+a_ubar)**(1-sigma))/(1-sigma)\n"
   ]
  },
  {
   "cell_type": "code",
   "execution_count": 611,
   "metadata": {},
   "outputs": [],
   "source": [
    "def solve_period_T(rho,kappa,a_ubar,sigma,y):\n",
    "\n",
    "    vT_grid = np.empty(a_lag_vec.size)\n",
    "    cT_grid = np.empty(a_lag_vec.size) \n",
    "    aT_grid = np.empty(a_lag_vec.size) \n",
    "\n",
    "    for i, a_lag in enumerate(a_lag_vec): \n",
    "\n",
    "    \n",
    "        obj = lambda c: -utility(c,y,r,rho,kappa,a_lag_vec[i],a_ubar,sigma)\n",
    "        x0 = a_lag_vec[i]/10 + y\n",
    "        result = optimize.minimize(obj,[x0],method='L-BFGS-B')\n",
    "        vT_grid[i] = -result.fun\n",
    "        cT_grid[i] = result.x\n",
    "        aT_grid[i] = (1+r)*a_lag_vec[i]+y-cT_grid[i]\n",
    "\n",
    "    return vT_grid,cT_grid,aT_grid\n"
   ]
  },
  {
   "cell_type": "code",
   "execution_count": 612,
   "metadata": {},
   "outputs": [],
   "source": [
    "beta = 0.97\n",
    "T= 20"
   ]
  },
  {
   "cell_type": "code",
   "execution_count": 613,
   "metadata": {},
   "outputs": [],
   "source": [
    "v_grid =  [None]*(T+1)\n",
    "c_grid = [None]*(T+1)\n",
    "a_grid = [None]*(T+1)\n",
    "v_interp_list =  [None]*(T+1)"
   ]
  },
  {
   "cell_type": "code",
   "execution_count": 614,
   "metadata": {
    "tags": []
   },
   "outputs": [],
   "source": [
    "v_grid[T],c_grid[T],a_grid[T] = solve_period_T(rho,kappa,a_ubar,sigma,y)\n"
   ]
  },
  {
   "cell_type": "code",
   "execution_count": 629,
   "metadata": {},
   "outputs": [],
   "source": [
    "v_interp_list[T] = interpolate.RegularGridInterpolator([a_lag_vec],v_grid[T], bounds_error=False)"
   ]
  },
  {
   "cell_type": "code",
   "execution_count": 636,
   "metadata": {},
   "outputs": [],
   "source": [
    "def solve_period_t(rho,kappa,a_ubar,sigma,y,t):\n",
    "\n",
    "    vt_grid = np.empty(a_lag_vec.size)\n",
    "    ct_grid = np.empty(a_lag_vec.size) \n",
    "    at_grid = np.empty(a_lag_vec.size) \n",
    "\n",
    "    for i, a_lag in enumerate(a_lag_vec): \n",
    "\n",
    "    \n",
    "        obj = lambda c: -utility(c,y,r,rho,kappa,a_lag_vec[i],a_ubar,sigma) - beta*v_interp_list[t+1]([((1+r)*a_lag+y-c)])\n",
    "        x0 = a_lag_vec[i]/10 + y\n",
    "        result = optimize.minimize(obj,[x0],method='L-BFGS-B',bounds=((1e-8,None),))\n",
    "        vt_grid[i] = -result.fun\n",
    "        ct_grid[i] = result.x\n",
    "        at_grid[i] = (1+r)*a_lag_vec[i]+y-ct_grid[i]\n",
    "\n",
    "    return vt_grid,ct_grid,at_grid"
   ]
  },
  {
   "cell_type": "code",
   "execution_count": 641,
   "metadata": {
    "tags": []
   },
   "outputs": [],
   "source": [
    "for i in range(T):\n",
    "    \n",
    "    t = T-i-1\n",
    "    v_gridt,c_gridt,a_gridt = solve_period_t(rho,kappa,a_ubar,sigma,y,t)\n",
    "    v_grid[t] = v_gridt\n",
    "    c_grid[t] = c_gridt\n",
    "    a_grid[t] = a_gridt\n",
    "    v_interp_list[t] = interpolate.RegularGridInterpolator([a_lag_vec],v_grid[t], bounds_error=False, fill_value=None)\n"
   ]
  },
  {
   "cell_type": "code",
   "execution_count": 644,
   "metadata": {},
   "outputs": [],
   "source": [
    "s_0 = (r*a_lag_vec + y - c_grid[0])/(y+r*a_lag_vec)"
   ]
  },
  {
   "cell_type": "code",
   "execution_count": 647,
   "metadata": {},
   "outputs": [
    {
     "output_type": "execute_result",
     "data": {
      "text/plain": "(-10, 0)"
     },
     "metadata": {},
     "execution_count": 647
    },
    {
     "output_type": "display_data",
     "data": {
      "text/plain": "<Figure size 720x288 with 2 Axes>",
      "image/svg+xml": "<?xml version=\"1.0\" encoding=\"utf-8\" standalone=\"no\"?>\r\n<!DOCTYPE svg PUBLIC \"-//W3C//DTD SVG 1.1//EN\"\r\n  \"http://www.w3.org/Graphics/SVG/1.1/DTD/svg11.dtd\">\r\n<!-- Created with matplotlib (https://matplotlib.org/) -->\r\n<svg height=\"272.36625pt\" version=\"1.1\" viewBox=\"0 0 608.50625 272.36625\" width=\"608.50625pt\" xmlns=\"http://www.w3.org/2000/svg\" xmlns:xlink=\"http://www.w3.org/1999/xlink\">\r\n <defs>\r\n  <style type=\"text/css\">\r\n*{stroke-linecap:butt;stroke-linejoin:round;}\r\n  </style>\r\n </defs>\r\n <g id=\"figure_1\">\r\n  <g id=\"patch_1\">\r\n   <path d=\"M 0 272.36625 \r\nL 608.50625 272.36625 \r\nL 608.50625 0 \r\nL 0 0 \r\nz\r\n\" style=\"fill:none;\"/>\r\n  </g>\r\n  <g id=\"axes_1\">\r\n   <g id=\"patch_2\">\r\n    <path d=\"M 43.30625 239.375625 \r\nL 296.942614 239.375625 \r\nL 296.942614 21.935625 \r\nL 43.30625 21.935625 \r\nz\r\n\" style=\"fill:#ffffff;\"/>\r\n   </g>\r\n   <g id=\"matplotlib.axis_1\">\r\n    <g id=\"xtick_1\">\r\n     <g id=\"line2d_1\">\r\n      <path clip-path=\"url(#p243a2849c2)\" d=\"M 54.835176 239.375625 \r\nL 54.835176 21.935625 \r\n\" style=\"fill:none;stroke:#cccccc;stroke-linecap:round;stroke-width:0.8;\"/>\r\n     </g>\r\n     <g id=\"line2d_2\"/>\r\n     <g id=\"text_1\">\r\n      <!-- 0 -->\r\n      <defs>\r\n       <path d=\"M 4.15625 35.296875 \r\nQ 4.15625 48 6.765625 55.734375 \r\nQ 9.375 63.484375 14.515625 67.671875 \r\nQ 19.671875 71.875 27.484375 71.875 \r\nQ 33.25 71.875 37.59375 69.546875 \r\nQ 41.9375 67.234375 44.765625 62.859375 \r\nQ 47.609375 58.5 49.21875 52.21875 \r\nQ 50.828125 45.953125 50.828125 35.296875 \r\nQ 50.828125 22.703125 48.234375 14.96875 \r\nQ 45.65625 7.234375 40.5 3 \r\nQ 35.359375 -1.21875 27.484375 -1.21875 \r\nQ 17.140625 -1.21875 11.234375 6.203125 \r\nQ 4.15625 15.140625 4.15625 35.296875 \r\nz\r\nM 13.1875 35.296875 \r\nQ 13.1875 17.671875 17.3125 11.828125 \r\nQ 21.4375 6 27.484375 6 \r\nQ 33.546875 6 37.671875 11.859375 \r\nQ 41.796875 17.71875 41.796875 35.296875 \r\nQ 41.796875 52.984375 37.671875 58.78125 \r\nQ 33.546875 64.59375 27.390625 64.59375 \r\nQ 21.34375 64.59375 17.71875 59.46875 \r\nQ 13.1875 52.9375 13.1875 35.296875 \r\nz\r\n\" id=\"ArialMT-48\"/>\r\n      </defs>\r\n      <g style=\"fill:#262626;\" transform=\"translate(52.054707 250.033438)scale(0.1 -0.1)\">\r\n       <use xlink:href=\"#ArialMT-48\"/>\r\n      </g>\r\n     </g>\r\n    </g>\r\n    <g id=\"xtick_2\">\r\n     <g id=\"line2d_3\">\r\n      <path clip-path=\"url(#p243a2849c2)\" d=\"M 93.264928 239.375625 \r\nL 93.264928 21.935625 \r\n\" style=\"fill:none;stroke:#cccccc;stroke-linecap:round;stroke-width:0.8;\"/>\r\n     </g>\r\n     <g id=\"line2d_4\"/>\r\n     <g id=\"text_2\">\r\n      <!-- 50 -->\r\n      <defs>\r\n       <path d=\"M 4.15625 18.75 \r\nL 13.375 19.53125 \r\nQ 14.40625 12.796875 18.140625 9.390625 \r\nQ 21.875 6 27.15625 6 \r\nQ 33.5 6 37.890625 10.78125 \r\nQ 42.28125 15.578125 42.28125 23.484375 \r\nQ 42.28125 31 38.0625 35.34375 \r\nQ 33.84375 39.703125 27 39.703125 \r\nQ 22.75 39.703125 19.328125 37.765625 \r\nQ 15.921875 35.84375 13.96875 32.765625 \r\nL 5.71875 33.84375 \r\nL 12.640625 70.609375 \r\nL 48.25 70.609375 \r\nL 48.25 62.203125 \r\nL 19.671875 62.203125 \r\nL 15.828125 42.96875 \r\nQ 22.265625 47.46875 29.34375 47.46875 \r\nQ 38.71875 47.46875 45.15625 40.96875 \r\nQ 51.609375 34.46875 51.609375 24.265625 \r\nQ 51.609375 14.546875 45.953125 7.46875 \r\nQ 39.0625 -1.21875 27.15625 -1.21875 \r\nQ 17.390625 -1.21875 11.203125 4.25 \r\nQ 5.03125 9.71875 4.15625 18.75 \r\nz\r\n\" id=\"ArialMT-53\"/>\r\n      </defs>\r\n      <g style=\"fill:#262626;\" transform=\"translate(87.70399 250.033438)scale(0.1 -0.1)\">\r\n       <use xlink:href=\"#ArialMT-53\"/>\r\n       <use x=\"55.615234\" xlink:href=\"#ArialMT-48\"/>\r\n      </g>\r\n     </g>\r\n    </g>\r\n    <g id=\"xtick_3\">\r\n     <g id=\"line2d_5\">\r\n      <path clip-path=\"url(#p243a2849c2)\" d=\"M 131.69468 239.375625 \r\nL 131.69468 21.935625 \r\n\" style=\"fill:none;stroke:#cccccc;stroke-linecap:round;stroke-width:0.8;\"/>\r\n     </g>\r\n     <g id=\"line2d_6\"/>\r\n     <g id=\"text_3\">\r\n      <!-- 100 -->\r\n      <defs>\r\n       <path d=\"M 37.25 0 \r\nL 28.46875 0 \r\nL 28.46875 56 \r\nQ 25.296875 52.984375 20.140625 49.953125 \r\nQ 14.984375 46.921875 10.890625 45.40625 \r\nL 10.890625 53.90625 \r\nQ 18.265625 57.375 23.78125 62.296875 \r\nQ 29.296875 67.234375 31.59375 71.875 \r\nL 37.25 71.875 \r\nz\r\n\" id=\"ArialMT-49\"/>\r\n      </defs>\r\n      <g style=\"fill:#262626;\" transform=\"translate(123.353274 250.033438)scale(0.1 -0.1)\">\r\n       <use xlink:href=\"#ArialMT-49\"/>\r\n       <use x=\"55.615234\" xlink:href=\"#ArialMT-48\"/>\r\n       <use x=\"111.230469\" xlink:href=\"#ArialMT-48\"/>\r\n      </g>\r\n     </g>\r\n    </g>\r\n    <g id=\"xtick_4\">\r\n     <g id=\"line2d_7\">\r\n      <path clip-path=\"url(#p243a2849c2)\" d=\"M 170.124432 239.375625 \r\nL 170.124432 21.935625 \r\n\" style=\"fill:none;stroke:#cccccc;stroke-linecap:round;stroke-width:0.8;\"/>\r\n     </g>\r\n     <g id=\"line2d_8\"/>\r\n     <g id=\"text_4\">\r\n      <!-- 150 -->\r\n      <g style=\"fill:#262626;\" transform=\"translate(161.783026 250.033438)scale(0.1 -0.1)\">\r\n       <use xlink:href=\"#ArialMT-49\"/>\r\n       <use x=\"55.615234\" xlink:href=\"#ArialMT-53\"/>\r\n       <use x=\"111.230469\" xlink:href=\"#ArialMT-48\"/>\r\n      </g>\r\n     </g>\r\n    </g>\r\n    <g id=\"xtick_5\">\r\n     <g id=\"line2d_9\">\r\n      <path clip-path=\"url(#p243a2849c2)\" d=\"M 208.554184 239.375625 \r\nL 208.554184 21.935625 \r\n\" style=\"fill:none;stroke:#cccccc;stroke-linecap:round;stroke-width:0.8;\"/>\r\n     </g>\r\n     <g id=\"line2d_10\"/>\r\n     <g id=\"text_5\">\r\n      <!-- 200 -->\r\n      <defs>\r\n       <path d=\"M 50.34375 8.453125 \r\nL 50.34375 0 \r\nL 3.03125 0 \r\nQ 2.9375 3.171875 4.046875 6.109375 \r\nQ 5.859375 10.9375 9.828125 15.625 \r\nQ 13.8125 20.3125 21.34375 26.46875 \r\nQ 33.015625 36.03125 37.109375 41.625 \r\nQ 41.21875 47.21875 41.21875 52.203125 \r\nQ 41.21875 57.421875 37.46875 61 \r\nQ 33.734375 64.59375 27.734375 64.59375 \r\nQ 21.390625 64.59375 17.578125 60.78125 \r\nQ 13.765625 56.984375 13.71875 50.25 \r\nL 4.6875 51.171875 \r\nQ 5.609375 61.28125 11.65625 66.578125 \r\nQ 17.71875 71.875 27.9375 71.875 \r\nQ 38.234375 71.875 44.234375 66.15625 \r\nQ 50.25 60.453125 50.25 52 \r\nQ 50.25 47.703125 48.484375 43.546875 \r\nQ 46.734375 39.40625 42.65625 34.8125 \r\nQ 38.578125 30.21875 29.109375 22.21875 \r\nQ 21.1875 15.578125 18.9375 13.203125 \r\nQ 16.703125 10.84375 15.234375 8.453125 \r\nz\r\n\" id=\"ArialMT-50\"/>\r\n      </defs>\r\n      <g style=\"fill:#262626;\" transform=\"translate(200.212778 250.033438)scale(0.1 -0.1)\">\r\n       <use xlink:href=\"#ArialMT-50\"/>\r\n       <use x=\"55.615234\" xlink:href=\"#ArialMT-48\"/>\r\n       <use x=\"111.230469\" xlink:href=\"#ArialMT-48\"/>\r\n      </g>\r\n     </g>\r\n    </g>\r\n    <g id=\"xtick_6\">\r\n     <g id=\"line2d_11\">\r\n      <path clip-path=\"url(#p243a2849c2)\" d=\"M 246.983936 239.375625 \r\nL 246.983936 21.935625 \r\n\" style=\"fill:none;stroke:#cccccc;stroke-linecap:round;stroke-width:0.8;\"/>\r\n     </g>\r\n     <g id=\"line2d_12\"/>\r\n     <g id=\"text_6\">\r\n      <!-- 250 -->\r\n      <g style=\"fill:#262626;\" transform=\"translate(238.64253 250.033438)scale(0.1 -0.1)\">\r\n       <use xlink:href=\"#ArialMT-50\"/>\r\n       <use x=\"55.615234\" xlink:href=\"#ArialMT-53\"/>\r\n       <use x=\"111.230469\" xlink:href=\"#ArialMT-48\"/>\r\n      </g>\r\n     </g>\r\n    </g>\r\n    <g id=\"xtick_7\">\r\n     <g id=\"line2d_13\">\r\n      <path clip-path=\"url(#p243a2849c2)\" d=\"M 285.413688 239.375625 \r\nL 285.413688 21.935625 \r\n\" style=\"fill:none;stroke:#cccccc;stroke-linecap:round;stroke-width:0.8;\"/>\r\n     </g>\r\n     <g id=\"line2d_14\"/>\r\n     <g id=\"text_7\">\r\n      <!-- 300 -->\r\n      <defs>\r\n       <path d=\"M 4.203125 18.890625 \r\nL 12.984375 20.0625 \r\nQ 14.5 12.59375 18.140625 9.296875 \r\nQ 21.78125 6 27 6 \r\nQ 33.203125 6 37.46875 10.296875 \r\nQ 41.75 14.59375 41.75 20.953125 \r\nQ 41.75 27 37.796875 30.921875 \r\nQ 33.84375 34.859375 27.734375 34.859375 \r\nQ 25.25 34.859375 21.53125 33.890625 \r\nL 22.515625 41.609375 \r\nQ 23.390625 41.5 23.921875 41.5 \r\nQ 29.546875 41.5 34.03125 44.421875 \r\nQ 38.53125 47.359375 38.53125 53.46875 \r\nQ 38.53125 58.296875 35.25 61.46875 \r\nQ 31.984375 64.65625 26.8125 64.65625 \r\nQ 21.6875 64.65625 18.265625 61.421875 \r\nQ 14.84375 58.203125 13.875 51.765625 \r\nL 5.078125 53.328125 \r\nQ 6.6875 62.15625 12.390625 67.015625 \r\nQ 18.109375 71.875 26.609375 71.875 \r\nQ 32.46875 71.875 37.390625 69.359375 \r\nQ 42.328125 66.84375 44.9375 62.5 \r\nQ 47.5625 58.15625 47.5625 53.265625 \r\nQ 47.5625 48.640625 45.0625 44.828125 \r\nQ 42.578125 41.015625 37.703125 38.765625 \r\nQ 44.046875 37.3125 47.5625 32.6875 \r\nQ 51.078125 28.078125 51.078125 21.140625 \r\nQ 51.078125 11.765625 44.234375 5.25 \r\nQ 37.40625 -1.265625 26.953125 -1.265625 \r\nQ 17.53125 -1.265625 11.296875 4.34375 \r\nQ 5.078125 9.96875 4.203125 18.890625 \r\nz\r\n\" id=\"ArialMT-51\"/>\r\n      </defs>\r\n      <g style=\"fill:#262626;\" transform=\"translate(277.072282 250.033438)scale(0.1 -0.1)\">\r\n       <use xlink:href=\"#ArialMT-51\"/>\r\n       <use x=\"55.615234\" xlink:href=\"#ArialMT-48\"/>\r\n       <use x=\"111.230469\" xlink:href=\"#ArialMT-48\"/>\r\n      </g>\r\n     </g>\r\n    </g>\r\n    <g id=\"text_8\">\r\n     <!-- $a_2$ -->\r\n     <defs>\r\n      <path d=\"M 53.71875 31.203125 \r\nL 47.609375 0 \r\nL 38.625 0 \r\nL 40.28125 8.296875 \r\nQ 36.328125 3.421875 31.265625 1 \r\nQ 26.21875 -1.421875 20.015625 -1.421875 \r\nQ 13.03125 -1.421875 8.5625 2.84375 \r\nQ 4.109375 7.125 4.109375 13.8125 \r\nQ 4.109375 23.390625 11.75 28.953125 \r\nQ 19.390625 34.515625 32.8125 34.515625 \r\nL 45.3125 34.515625 \r\nL 45.796875 36.921875 \r\nQ 45.90625 37.3125 45.953125 37.765625 \r\nQ 46 38.234375 46 39.203125 \r\nQ 46 43.5625 42.453125 45.96875 \r\nQ 38.921875 48.390625 32.515625 48.390625 \r\nQ 28.125 48.390625 23.5 47.265625 \r\nQ 18.890625 46.140625 14.015625 43.890625 \r\nL 15.578125 52.203125 \r\nQ 20.65625 54.109375 25.515625 55.046875 \r\nQ 30.375 56 34.90625 56 \r\nQ 44.578125 56 49.625 51.796875 \r\nQ 54.6875 47.609375 54.6875 39.59375 \r\nQ 54.6875 37.984375 54.4375 35.8125 \r\nQ 54.203125 33.640625 53.71875 31.203125 \r\nz\r\nM 44 27.484375 \r\nL 35.015625 27.484375 \r\nQ 23.96875 27.484375 18.671875 24.53125 \r\nQ 13.375 21.578125 13.375 15.375 \r\nQ 13.375 11.078125 16.078125 8.640625 \r\nQ 18.796875 6.203125 23.578125 6.203125 \r\nQ 30.90625 6.203125 36.375 11.453125 \r\nQ 41.84375 16.703125 43.609375 25.484375 \r\nz\r\n\" id=\"DejaVuSans-Oblique-97\"/>\r\n      <path d=\"M 19.1875 8.296875 \r\nL 53.609375 8.296875 \r\nL 53.609375 0 \r\nL 7.328125 0 \r\nL 7.328125 8.296875 \r\nQ 12.9375 14.109375 22.625 23.890625 \r\nQ 32.328125 33.6875 34.8125 36.53125 \r\nQ 39.546875 41.84375 41.421875 45.53125 \r\nQ 43.3125 49.21875 43.3125 52.78125 \r\nQ 43.3125 58.59375 39.234375 62.25 \r\nQ 35.15625 65.921875 28.609375 65.921875 \r\nQ 23.96875 65.921875 18.8125 64.3125 \r\nQ 13.671875 62.703125 7.8125 59.421875 \r\nL 7.8125 69.390625 \r\nQ 13.765625 71.78125 18.9375 73 \r\nQ 24.125 74.21875 28.421875 74.21875 \r\nQ 39.75 74.21875 46.484375 68.546875 \r\nQ 53.21875 62.890625 53.21875 53.421875 \r\nQ 53.21875 48.921875 51.53125 44.890625 \r\nQ 49.859375 40.875 45.40625 35.40625 \r\nQ 44.1875 33.984375 37.640625 27.21875 \r\nQ 31.109375 20.453125 19.1875 8.296875 \r\nz\r\n\" id=\"DejaVuSans-50\"/>\r\n     </defs>\r\n     <g style=\"fill:#262626;\" transform=\"translate(164.674432 263.17875)scale(0.1 -0.1)\">\r\n      <use xlink:href=\"#DejaVuSans-Oblique-97\"/>\r\n      <use transform=\"translate(61.279297 -16.40625)scale(0.7)\" xlink:href=\"#DejaVuSans-50\"/>\r\n     </g>\r\n    </g>\r\n   </g>\r\n   <g id=\"matplotlib.axis_2\">\r\n    <g id=\"ytick_1\">\r\n     <g id=\"line2d_15\">\r\n      <path clip-path=\"url(#p243a2849c2)\" d=\"M 43.30625 230.154751 \r\nL 296.942614 230.154751 \r\n\" style=\"fill:none;stroke:#cccccc;stroke-linecap:round;stroke-width:0.8;\"/>\r\n     </g>\r\n     <g id=\"line2d_16\"/>\r\n     <g id=\"text_9\">\r\n      <!-- 0.10 -->\r\n      <defs>\r\n       <path d=\"M 9.078125 0 \r\nL 9.078125 10.015625 \r\nL 19.09375 10.015625 \r\nL 19.09375 0 \r\nz\r\n\" id=\"ArialMT-46\"/>\r\n      </defs>\r\n      <g style=\"fill:#262626;\" transform=\"translate(20.345313 233.733657)scale(0.1 -0.1)\">\r\n       <use xlink:href=\"#ArialMT-48\"/>\r\n       <use x=\"55.615234\" xlink:href=\"#ArialMT-46\"/>\r\n       <use x=\"83.398438\" xlink:href=\"#ArialMT-49\"/>\r\n       <use x=\"139.013672\" xlink:href=\"#ArialMT-48\"/>\r\n      </g>\r\n     </g>\r\n    </g>\r\n    <g id=\"ytick_2\">\r\n     <g id=\"line2d_17\">\r\n      <path clip-path=\"url(#p243a2849c2)\" d=\"M 43.30625 194.853077 \r\nL 296.942614 194.853077 \r\n\" style=\"fill:none;stroke:#cccccc;stroke-linecap:round;stroke-width:0.8;\"/>\r\n     </g>\r\n     <g id=\"line2d_18\"/>\r\n     <g id=\"text_10\">\r\n      <!-- 0.15 -->\r\n      <g style=\"fill:#262626;\" transform=\"translate(20.345313 198.431984)scale(0.1 -0.1)\">\r\n       <use xlink:href=\"#ArialMT-48\"/>\r\n       <use x=\"55.615234\" xlink:href=\"#ArialMT-46\"/>\r\n       <use x=\"83.398438\" xlink:href=\"#ArialMT-49\"/>\r\n       <use x=\"139.013672\" xlink:href=\"#ArialMT-53\"/>\r\n      </g>\r\n     </g>\r\n    </g>\r\n    <g id=\"ytick_3\">\r\n     <g id=\"line2d_19\">\r\n      <path clip-path=\"url(#p243a2849c2)\" d=\"M 43.30625 159.551404 \r\nL 296.942614 159.551404 \r\n\" style=\"fill:none;stroke:#cccccc;stroke-linecap:round;stroke-width:0.8;\"/>\r\n     </g>\r\n     <g id=\"line2d_20\"/>\r\n     <g id=\"text_11\">\r\n      <!-- 0.20 -->\r\n      <g style=\"fill:#262626;\" transform=\"translate(20.345313 163.13031)scale(0.1 -0.1)\">\r\n       <use xlink:href=\"#ArialMT-48\"/>\r\n       <use x=\"55.615234\" xlink:href=\"#ArialMT-46\"/>\r\n       <use x=\"83.398438\" xlink:href=\"#ArialMT-50\"/>\r\n       <use x=\"139.013672\" xlink:href=\"#ArialMT-48\"/>\r\n      </g>\r\n     </g>\r\n    </g>\r\n    <g id=\"ytick_4\">\r\n     <g id=\"line2d_21\">\r\n      <path clip-path=\"url(#p243a2849c2)\" d=\"M 43.30625 124.24973 \r\nL 296.942614 124.24973 \r\n\" style=\"fill:none;stroke:#cccccc;stroke-linecap:round;stroke-width:0.8;\"/>\r\n     </g>\r\n     <g id=\"line2d_22\"/>\r\n     <g id=\"text_12\">\r\n      <!-- 0.25 -->\r\n      <g style=\"fill:#262626;\" transform=\"translate(20.345313 127.828636)scale(0.1 -0.1)\">\r\n       <use xlink:href=\"#ArialMT-48\"/>\r\n       <use x=\"55.615234\" xlink:href=\"#ArialMT-46\"/>\r\n       <use x=\"83.398438\" xlink:href=\"#ArialMT-50\"/>\r\n       <use x=\"139.013672\" xlink:href=\"#ArialMT-53\"/>\r\n      </g>\r\n     </g>\r\n    </g>\r\n    <g id=\"ytick_5\">\r\n     <g id=\"line2d_23\">\r\n      <path clip-path=\"url(#p243a2849c2)\" d=\"M 43.30625 88.948057 \r\nL 296.942614 88.948057 \r\n\" style=\"fill:none;stroke:#cccccc;stroke-linecap:round;stroke-width:0.8;\"/>\r\n     </g>\r\n     <g id=\"line2d_24\"/>\r\n     <g id=\"text_13\">\r\n      <!-- 0.30 -->\r\n      <g style=\"fill:#262626;\" transform=\"translate(20.345313 92.526963)scale(0.1 -0.1)\">\r\n       <use xlink:href=\"#ArialMT-48\"/>\r\n       <use x=\"55.615234\" xlink:href=\"#ArialMT-46\"/>\r\n       <use x=\"83.398438\" xlink:href=\"#ArialMT-51\"/>\r\n       <use x=\"139.013672\" xlink:href=\"#ArialMT-48\"/>\r\n      </g>\r\n     </g>\r\n    </g>\r\n    <g id=\"ytick_6\">\r\n     <g id=\"line2d_25\">\r\n      <path clip-path=\"url(#p243a2849c2)\" d=\"M 43.30625 53.646383 \r\nL 296.942614 53.646383 \r\n\" style=\"fill:none;stroke:#cccccc;stroke-linecap:round;stroke-width:0.8;\"/>\r\n     </g>\r\n     <g id=\"line2d_26\"/>\r\n     <g id=\"text_14\">\r\n      <!-- 0.35 -->\r\n      <g style=\"fill:#262626;\" transform=\"translate(20.345313 57.225289)scale(0.1 -0.1)\">\r\n       <use xlink:href=\"#ArialMT-48\"/>\r\n       <use x=\"55.615234\" xlink:href=\"#ArialMT-46\"/>\r\n       <use x=\"83.398438\" xlink:href=\"#ArialMT-51\"/>\r\n       <use x=\"139.013672\" xlink:href=\"#ArialMT-53\"/>\r\n      </g>\r\n     </g>\r\n    </g>\r\n    <g id=\"text_15\">\r\n     <!-- $c_2$ -->\r\n     <defs>\r\n      <path d=\"M 53.609375 52.59375 \r\nL 51.8125 43.703125 \r\nQ 48.578125 46.046875 44.9375 47.21875 \r\nQ 41.3125 48.390625 37.40625 48.390625 \r\nQ 33.109375 48.390625 29.21875 46.875 \r\nQ 25.34375 45.359375 22.703125 42.578125 \r\nQ 18.5 38.328125 16.203125 32.609375 \r\nQ 13.921875 26.90625 13.921875 20.796875 \r\nQ 13.921875 13.421875 17.609375 9.8125 \r\nQ 21.296875 6.203125 28.8125 6.203125 \r\nQ 32.515625 6.203125 36.6875 7.328125 \r\nQ 40.875 8.453125 45.40625 10.6875 \r\nL 43.703125 1.8125 \r\nQ 39.796875 0.203125 35.671875 -0.609375 \r\nQ 31.546875 -1.421875 27.203125 -1.421875 \r\nQ 16.3125 -1.421875 10.453125 4.015625 \r\nQ 4.59375 9.46875 4.59375 19.578125 \r\nQ 4.59375 28.078125 7.640625 35.234375 \r\nQ 10.6875 42.390625 16.703125 48.09375 \r\nQ 20.796875 52 26.3125 54 \r\nQ 31.84375 56 38.375 56 \r\nQ 42.1875 56 45.9375 55.140625 \r\nQ 49.703125 54.296875 53.609375 52.59375 \r\nz\r\n\" id=\"DejaVuSans-Oblique-99\"/>\r\n     </defs>\r\n     <g style=\"fill:#262626;\" transform=\"translate(14.357813 135.805625)rotate(-90)scale(0.1 -0.1)\">\r\n      <use xlink:href=\"#DejaVuSans-Oblique-99\"/>\r\n      <use transform=\"translate(54.980469 -16.40625)scale(0.7)\" xlink:href=\"#DejaVuSans-50\"/>\r\n     </g>\r\n    </g>\r\n   </g>\r\n   <g id=\"line2d_27\">\r\n    <path clip-path=\"url(#p243a2849c2)\" d=\"M 54.835176 31.819261 \r\nL 55.606341 61.627358 \r\nL 56.377507 84.701114 \r\nL 57.148672 103.465883 \r\nL 57.919838 119.171334 \r\nL 59.462169 144.10842 \r\nL 61.0045 162.997103 \r\nL 62.546832 177.683236 \r\nL 64.089163 189.272882 \r\nL 65.631494 198.515871 \r\nL 67.173825 205.932127 \r\nL 68.716156 211.870073 \r\nL 70.258487 216.563281 \r\nL 71.800819 220.242407 \r\nL 73.34315 223.153115 \r\nL 74.885481 225.414568 \r\nL 76.427812 227.056765 \r\nL 77.970143 228.208556 \r\nL 79.512475 228.964357 \r\nL 81.054806 229.360466 \r\nL 81.825971 229.491989 \r\nL 83.368303 229.361759 \r\nL 84.910634 229.028897 \r\nL 87.224131 228.21489 \r\nL 88.766462 227.482379 \r\nL 91.079959 226.072537 \r\nL 93.393455 224.367964 \r\nL 96.478118 221.746293 \r\nL 100.333946 218.132349 \r\nL 104.189774 214.233746 \r\nL 108.816767 209.266313 \r\nL 117.299589 199.757368 \r\nL 135.807563 178.907548 \r\nL 141.205722 173.015709 \r\nL 141.976888 172.776281 \r\nL 142.748053 173.697477 \r\nL 143.519219 173.732623 \r\nL 151.230875 165.377172 \r\nL 163.569524 152.735568 \r\nL 172.052346 144.469944 \r\nL 173.594677 143.096857 \r\nL 181.306333 136.008519 \r\nL 190.56032 127.886052 \r\nL 191.331486 127.233748 \r\nL 192.102651 127.690499 \r\nL 192.873817 127.513111 \r\nL 193.644982 127.208307 \r\nL 195.187314 125.815226 \r\nL 207.525963 115.782747 \r\nL 212.924122 111.604879 \r\nL 221.406944 105.15154 \r\nL 222.178109 104.659518 \r\nL 223.720441 103.448014 \r\nL 229.1186 99.563686 \r\nL 234.516759 95.769336 \r\nL 235.287924 96.194038 \r\nL 236.05909 96.056068 \r\nL 242.228415 91.849961 \r\nL 246.855408 88.841913 \r\nL 247.626574 88.235556 \r\nL 249.168905 87.322052 \r\nL 255.33823 83.265743 \r\nL 257.651727 81.783207 \r\nL 258.422892 81.260244 \r\nL 259.194058 80.878146 \r\nL 259.965223 80.237922 \r\nL 261.507555 78.426101 \r\nL 263.821051 75.065477 \r\nL 267.676879 69.032949 \r\nL 268.448045 67.764049 \r\nL 269.219211 66.755751 \r\nL 272.303873 61.609871 \r\nL 273.846204 58.793161 \r\nL 280.786694 46.702794 \r\nL 285.413688 38.61243 \r\nL 285.413688 38.61243 \r\n\" style=\"fill:none;stroke:#1f77b4;stroke-linecap:round;stroke-width:1.5;\"/>\r\n   </g>\r\n   <g id=\"patch_3\">\r\n    <path d=\"M 43.30625 239.375625 \r\nL 43.30625 21.935625 \r\n\" style=\"fill:none;stroke:#cccccc;stroke-linecap:square;stroke-linejoin:miter;\"/>\r\n   </g>\r\n   <g id=\"patch_4\">\r\n    <path d=\"M 296.942614 239.375625 \r\nL 296.942614 21.935625 \r\n\" style=\"fill:none;stroke:#cccccc;stroke-linecap:square;stroke-linejoin:miter;\"/>\r\n   </g>\r\n   <g id=\"patch_5\">\r\n    <path d=\"M 43.30625 239.375625 \r\nL 296.942614 239.375625 \r\n\" style=\"fill:none;stroke:#cccccc;stroke-linecap:square;stroke-linejoin:miter;\"/>\r\n   </g>\r\n   <g id=\"patch_6\">\r\n    <path d=\"M 43.30625 21.935625 \r\nL 296.942614 21.935625 \r\n\" style=\"fill:none;stroke:#cccccc;stroke-linecap:square;stroke-linejoin:miter;\"/>\r\n   </g>\r\n   <g id=\"text_16\">\r\n    <!-- consumption function in period 2 -->\r\n    <defs>\r\n     <path d=\"M 40.4375 19 \r\nL 49.078125 17.875 \r\nQ 47.65625 8.9375 41.8125 3.875 \r\nQ 35.984375 -1.171875 27.484375 -1.171875 \r\nQ 16.84375 -1.171875 10.375 5.78125 \r\nQ 3.90625 12.75 3.90625 25.734375 \r\nQ 3.90625 34.125 6.6875 40.421875 \r\nQ 9.46875 46.734375 15.15625 49.875 \r\nQ 20.84375 53.03125 27.546875 53.03125 \r\nQ 35.984375 53.03125 41.359375 48.75 \r\nQ 46.734375 44.484375 48.25 36.625 \r\nL 39.703125 35.296875 \r\nQ 38.484375 40.53125 35.375 43.15625 \r\nQ 32.28125 45.796875 27.875 45.796875 \r\nQ 21.234375 45.796875 17.078125 41.03125 \r\nQ 12.9375 36.28125 12.9375 25.984375 \r\nQ 12.9375 15.53125 16.9375 10.796875 \r\nQ 20.953125 6.0625 27.390625 6.0625 \r\nQ 32.5625 6.0625 36.03125 9.234375 \r\nQ 39.5 12.40625 40.4375 19 \r\nz\r\n\" id=\"ArialMT-99\"/>\r\n     <path d=\"M 3.328125 25.921875 \r\nQ 3.328125 40.328125 11.328125 47.265625 \r\nQ 18.015625 53.03125 27.640625 53.03125 \r\nQ 38.328125 53.03125 45.109375 46.015625 \r\nQ 51.90625 39.015625 51.90625 26.65625 \r\nQ 51.90625 16.65625 48.90625 10.90625 \r\nQ 45.90625 5.171875 40.15625 2 \r\nQ 34.421875 -1.171875 27.640625 -1.171875 \r\nQ 16.75 -1.171875 10.03125 5.8125 \r\nQ 3.328125 12.796875 3.328125 25.921875 \r\nz\r\nM 12.359375 25.921875 \r\nQ 12.359375 15.96875 16.703125 11.015625 \r\nQ 21.046875 6.0625 27.640625 6.0625 \r\nQ 34.1875 6.0625 38.53125 11.03125 \r\nQ 42.875 16.015625 42.875 26.21875 \r\nQ 42.875 35.84375 38.5 40.796875 \r\nQ 34.125 45.75 27.640625 45.75 \r\nQ 21.046875 45.75 16.703125 40.8125 \r\nQ 12.359375 35.890625 12.359375 25.921875 \r\nz\r\n\" id=\"ArialMT-111\"/>\r\n     <path d=\"M 6.59375 0 \r\nL 6.59375 51.859375 \r\nL 14.5 51.859375 \r\nL 14.5 44.484375 \r\nQ 20.21875 53.03125 31 53.03125 \r\nQ 35.6875 53.03125 39.625 51.34375 \r\nQ 43.5625 49.65625 45.515625 46.921875 \r\nQ 47.46875 44.1875 48.25 40.4375 \r\nQ 48.734375 37.984375 48.734375 31.890625 \r\nL 48.734375 0 \r\nL 39.9375 0 \r\nL 39.9375 31.546875 \r\nQ 39.9375 36.921875 38.90625 39.578125 \r\nQ 37.890625 42.234375 35.28125 43.8125 \r\nQ 32.671875 45.40625 29.15625 45.40625 \r\nQ 23.53125 45.40625 19.453125 41.84375 \r\nQ 15.375 38.28125 15.375 28.328125 \r\nL 15.375 0 \r\nz\r\n\" id=\"ArialMT-110\"/>\r\n     <path d=\"M 3.078125 15.484375 \r\nL 11.765625 16.84375 \r\nQ 12.5 11.625 15.84375 8.84375 \r\nQ 19.1875 6.0625 25.203125 6.0625 \r\nQ 31.25 6.0625 34.171875 8.515625 \r\nQ 37.109375 10.984375 37.109375 14.3125 \r\nQ 37.109375 17.28125 34.515625 19 \r\nQ 32.71875 20.171875 25.53125 21.96875 \r\nQ 15.875 24.421875 12.140625 26.203125 \r\nQ 8.40625 27.984375 6.46875 31.125 \r\nQ 4.546875 34.28125 4.546875 38.09375 \r\nQ 4.546875 41.546875 6.125 44.5 \r\nQ 7.71875 47.46875 10.453125 49.421875 \r\nQ 12.5 50.921875 16.03125 51.96875 \r\nQ 19.578125 53.03125 23.640625 53.03125 \r\nQ 29.734375 53.03125 34.34375 51.265625 \r\nQ 38.96875 49.515625 41.15625 46.5 \r\nQ 43.359375 43.5 44.1875 38.484375 \r\nL 35.59375 37.3125 \r\nQ 35.015625 41.3125 32.203125 43.546875 \r\nQ 29.390625 45.796875 24.265625 45.796875 \r\nQ 18.21875 45.796875 15.625 43.796875 \r\nQ 13.03125 41.796875 13.03125 39.109375 \r\nQ 13.03125 37.40625 14.109375 36.03125 \r\nQ 15.1875 34.625 17.484375 33.6875 \r\nQ 18.796875 33.203125 25.25 31.453125 \r\nQ 34.578125 28.953125 38.25 27.359375 \r\nQ 41.9375 25.78125 44.03125 22.75 \r\nQ 46.140625 19.734375 46.140625 15.234375 \r\nQ 46.140625 10.84375 43.578125 6.953125 \r\nQ 41.015625 3.078125 36.171875 0.953125 \r\nQ 31.34375 -1.171875 25.25 -1.171875 \r\nQ 15.140625 -1.171875 9.84375 3.03125 \r\nQ 4.546875 7.234375 3.078125 15.484375 \r\nz\r\n\" id=\"ArialMT-115\"/>\r\n     <path d=\"M 40.578125 0 \r\nL 40.578125 7.625 \r\nQ 34.515625 -1.171875 24.125 -1.171875 \r\nQ 19.53125 -1.171875 15.546875 0.578125 \r\nQ 11.578125 2.34375 9.640625 5 \r\nQ 7.71875 7.671875 6.9375 11.53125 \r\nQ 6.390625 14.109375 6.390625 19.734375 \r\nL 6.390625 51.859375 \r\nL 15.1875 51.859375 \r\nL 15.1875 23.09375 \r\nQ 15.1875 16.21875 15.71875 13.8125 \r\nQ 16.546875 10.359375 19.234375 8.375 \r\nQ 21.921875 6.390625 25.875 6.390625 \r\nQ 29.828125 6.390625 33.296875 8.421875 \r\nQ 36.765625 10.453125 38.203125 13.9375 \r\nQ 39.65625 17.4375 39.65625 24.078125 \r\nL 39.65625 51.859375 \r\nL 48.4375 51.859375 \r\nL 48.4375 0 \r\nz\r\n\" id=\"ArialMT-117\"/>\r\n     <path d=\"M 6.59375 0 \r\nL 6.59375 51.859375 \r\nL 14.453125 51.859375 \r\nL 14.453125 44.578125 \r\nQ 16.890625 48.390625 20.9375 50.703125 \r\nQ 25 53.03125 30.171875 53.03125 \r\nQ 35.9375 53.03125 39.625 50.640625 \r\nQ 43.3125 48.25 44.828125 43.953125 \r\nQ 50.984375 53.03125 60.84375 53.03125 \r\nQ 68.5625 53.03125 72.703125 48.75 \r\nQ 76.859375 44.484375 76.859375 35.59375 \r\nL 76.859375 0 \r\nL 68.109375 0 \r\nL 68.109375 32.671875 \r\nQ 68.109375 37.9375 67.25 40.25 \r\nQ 66.40625 42.578125 64.15625 43.984375 \r\nQ 61.921875 45.40625 58.890625 45.40625 \r\nQ 53.421875 45.40625 49.796875 41.765625 \r\nQ 46.1875 38.140625 46.1875 30.125 \r\nL 46.1875 0 \r\nL 37.40625 0 \r\nL 37.40625 33.6875 \r\nQ 37.40625 39.546875 35.25 42.46875 \r\nQ 33.109375 45.40625 28.21875 45.40625 \r\nQ 24.515625 45.40625 21.359375 43.453125 \r\nQ 18.21875 41.5 16.796875 37.734375 \r\nQ 15.375 33.984375 15.375 26.90625 \r\nL 15.375 0 \r\nz\r\n\" id=\"ArialMT-109\"/>\r\n     <path d=\"M 6.59375 -19.875 \r\nL 6.59375 51.859375 \r\nL 14.59375 51.859375 \r\nL 14.59375 45.125 \r\nQ 17.4375 49.078125 21 51.046875 \r\nQ 24.5625 53.03125 29.640625 53.03125 \r\nQ 36.28125 53.03125 41.359375 49.609375 \r\nQ 46.4375 46.1875 49.015625 39.953125 \r\nQ 51.609375 33.734375 51.609375 26.3125 \r\nQ 51.609375 18.359375 48.75 11.984375 \r\nQ 45.90625 5.609375 40.453125 2.21875 \r\nQ 35.015625 -1.171875 29 -1.171875 \r\nQ 24.609375 -1.171875 21.109375 0.6875 \r\nQ 17.625 2.546875 15.375 5.375 \r\nL 15.375 -19.875 \r\nz\r\nM 14.546875 25.640625 \r\nQ 14.546875 15.625 18.59375 10.84375 \r\nQ 22.65625 6.0625 28.421875 6.0625 \r\nQ 34.28125 6.0625 38.453125 11.015625 \r\nQ 42.625 15.96875 42.625 26.375 \r\nQ 42.625 36.28125 38.546875 41.203125 \r\nQ 34.46875 46.140625 28.8125 46.140625 \r\nQ 23.1875 46.140625 18.859375 40.890625 \r\nQ 14.546875 35.640625 14.546875 25.640625 \r\nz\r\n\" id=\"ArialMT-112\"/>\r\n     <path d=\"M 25.78125 7.859375 \r\nL 27.046875 0.09375 \r\nQ 23.34375 -0.6875 20.40625 -0.6875 \r\nQ 15.625 -0.6875 12.984375 0.828125 \r\nQ 10.359375 2.34375 9.28125 4.8125 \r\nQ 8.203125 7.28125 8.203125 15.1875 \r\nL 8.203125 45.015625 \r\nL 1.765625 45.015625 \r\nL 1.765625 51.859375 \r\nL 8.203125 51.859375 \r\nL 8.203125 64.703125 \r\nL 16.9375 69.96875 \r\nL 16.9375 51.859375 \r\nL 25.78125 51.859375 \r\nL 25.78125 45.015625 \r\nL 16.9375 45.015625 \r\nL 16.9375 14.703125 \r\nQ 16.9375 10.9375 17.40625 9.859375 \r\nQ 17.875 8.796875 18.921875 8.15625 \r\nQ 19.96875 7.515625 21.921875 7.515625 \r\nQ 23.390625 7.515625 25.78125 7.859375 \r\nz\r\n\" id=\"ArialMT-116\"/>\r\n     <path d=\"M 6.640625 61.46875 \r\nL 6.640625 71.578125 \r\nL 15.4375 71.578125 \r\nL 15.4375 61.46875 \r\nz\r\nM 6.640625 0 \r\nL 6.640625 51.859375 \r\nL 15.4375 51.859375 \r\nL 15.4375 0 \r\nz\r\n\" id=\"ArialMT-105\"/>\r\n     <path id=\"ArialMT-32\"/>\r\n     <path d=\"M 8.6875 0 \r\nL 8.6875 45.015625 \r\nL 0.921875 45.015625 \r\nL 0.921875 51.859375 \r\nL 8.6875 51.859375 \r\nL 8.6875 57.375 \r\nQ 8.6875 62.59375 9.625 65.140625 \r\nQ 10.890625 68.5625 14.078125 70.671875 \r\nQ 17.28125 72.796875 23.046875 72.796875 \r\nQ 26.765625 72.796875 31.25 71.921875 \r\nL 29.9375 64.265625 \r\nQ 27.203125 64.75 24.75 64.75 \r\nQ 20.75 64.75 19.09375 63.03125 \r\nQ 17.4375 61.328125 17.4375 56.640625 \r\nL 17.4375 51.859375 \r\nL 27.546875 51.859375 \r\nL 27.546875 45.015625 \r\nL 17.4375 45.015625 \r\nL 17.4375 0 \r\nz\r\n\" id=\"ArialMT-102\"/>\r\n     <path d=\"M 42.09375 16.703125 \r\nL 51.171875 15.578125 \r\nQ 49.03125 7.625 43.21875 3.21875 \r\nQ 37.40625 -1.171875 28.375 -1.171875 \r\nQ 17 -1.171875 10.328125 5.828125 \r\nQ 3.65625 12.84375 3.65625 25.484375 \r\nQ 3.65625 38.578125 10.390625 45.796875 \r\nQ 17.140625 53.03125 27.875 53.03125 \r\nQ 38.28125 53.03125 44.875 45.953125 \r\nQ 51.46875 38.875 51.46875 26.03125 \r\nQ 51.46875 25.25 51.421875 23.6875 \r\nL 12.75 23.6875 \r\nQ 13.234375 15.140625 17.578125 10.59375 \r\nQ 21.921875 6.0625 28.421875 6.0625 \r\nQ 33.25 6.0625 36.671875 8.59375 \r\nQ 40.09375 11.140625 42.09375 16.703125 \r\nz\r\nM 13.234375 30.90625 \r\nL 42.1875 30.90625 \r\nQ 41.609375 37.453125 38.875 40.71875 \r\nQ 34.671875 45.796875 27.984375 45.796875 \r\nQ 21.921875 45.796875 17.796875 41.75 \r\nQ 13.671875 37.703125 13.234375 30.90625 \r\nz\r\n\" id=\"ArialMT-101\"/>\r\n     <path d=\"M 6.5 0 \r\nL 6.5 51.859375 \r\nL 14.40625 51.859375 \r\nL 14.40625 44 \r\nQ 17.4375 49.515625 20 51.265625 \r\nQ 22.5625 53.03125 25.640625 53.03125 \r\nQ 30.078125 53.03125 34.671875 50.203125 \r\nL 31.640625 42.046875 \r\nQ 28.421875 43.953125 25.203125 43.953125 \r\nQ 22.3125 43.953125 20.015625 42.21875 \r\nQ 17.71875 40.484375 16.75 37.40625 \r\nQ 15.28125 32.71875 15.28125 27.15625 \r\nL 15.28125 0 \r\nz\r\n\" id=\"ArialMT-114\"/>\r\n     <path d=\"M 40.234375 0 \r\nL 40.234375 6.546875 \r\nQ 35.296875 -1.171875 25.734375 -1.171875 \r\nQ 19.53125 -1.171875 14.328125 2.25 \r\nQ 9.125 5.671875 6.265625 11.796875 \r\nQ 3.421875 17.921875 3.421875 25.875 \r\nQ 3.421875 33.640625 6 39.96875 \r\nQ 8.59375 46.296875 13.765625 49.65625 \r\nQ 18.953125 53.03125 25.34375 53.03125 \r\nQ 30.03125 53.03125 33.6875 51.046875 \r\nQ 37.359375 49.078125 39.65625 45.90625 \r\nL 39.65625 71.578125 \r\nL 48.390625 71.578125 \r\nL 48.390625 0 \r\nz\r\nM 12.453125 25.875 \r\nQ 12.453125 15.921875 16.640625 10.984375 \r\nQ 20.84375 6.0625 26.5625 6.0625 \r\nQ 32.328125 6.0625 36.34375 10.765625 \r\nQ 40.375 15.484375 40.375 25.140625 \r\nQ 40.375 35.796875 36.265625 40.765625 \r\nQ 32.171875 45.75 26.171875 45.75 \r\nQ 20.3125 45.75 16.375 40.96875 \r\nQ 12.453125 36.1875 12.453125 25.875 \r\nz\r\n\" id=\"ArialMT-100\"/>\r\n    </defs>\r\n    <g style=\"fill:#262626;\" transform=\"translate(83.743182 15.935625)scale(0.12 -0.12)\">\r\n     <use xlink:href=\"#ArialMT-99\"/>\r\n     <use x=\"50\" xlink:href=\"#ArialMT-111\"/>\r\n     <use x=\"105.615234\" xlink:href=\"#ArialMT-110\"/>\r\n     <use x=\"161.230469\" xlink:href=\"#ArialMT-115\"/>\r\n     <use x=\"211.230469\" xlink:href=\"#ArialMT-117\"/>\r\n     <use x=\"266.845703\" xlink:href=\"#ArialMT-109\"/>\r\n     <use x=\"350.146484\" xlink:href=\"#ArialMT-112\"/>\r\n     <use x=\"405.761719\" xlink:href=\"#ArialMT-116\"/>\r\n     <use x=\"433.544922\" xlink:href=\"#ArialMT-105\"/>\r\n     <use x=\"455.761719\" xlink:href=\"#ArialMT-111\"/>\r\n     <use x=\"511.376953\" xlink:href=\"#ArialMT-110\"/>\r\n     <use x=\"566.992188\" xlink:href=\"#ArialMT-32\"/>\r\n     <use x=\"594.775391\" xlink:href=\"#ArialMT-102\"/>\r\n     <use x=\"622.558594\" xlink:href=\"#ArialMT-117\"/>\r\n     <use x=\"678.173828\" xlink:href=\"#ArialMT-110\"/>\r\n     <use x=\"733.789062\" xlink:href=\"#ArialMT-99\"/>\r\n     <use x=\"783.789062\" xlink:href=\"#ArialMT-116\"/>\r\n     <use x=\"811.572266\" xlink:href=\"#ArialMT-105\"/>\r\n     <use x=\"833.789062\" xlink:href=\"#ArialMT-111\"/>\r\n     <use x=\"889.404297\" xlink:href=\"#ArialMT-110\"/>\r\n     <use x=\"945.019531\" xlink:href=\"#ArialMT-32\"/>\r\n     <use x=\"972.802734\" xlink:href=\"#ArialMT-105\"/>\r\n     <use x=\"995.019531\" xlink:href=\"#ArialMT-110\"/>\r\n     <use x=\"1050.634766\" xlink:href=\"#ArialMT-32\"/>\r\n     <use x=\"1078.417969\" xlink:href=\"#ArialMT-112\"/>\r\n     <use x=\"1134.033203\" xlink:href=\"#ArialMT-101\"/>\r\n     <use x=\"1189.648438\" xlink:href=\"#ArialMT-114\"/>\r\n     <use x=\"1222.949219\" xlink:href=\"#ArialMT-105\"/>\r\n     <use x=\"1245.166016\" xlink:href=\"#ArialMT-111\"/>\r\n     <use x=\"1300.78125\" xlink:href=\"#ArialMT-100\"/>\r\n     <use x=\"1356.396484\" xlink:href=\"#ArialMT-32\"/>\r\n     <use x=\"1384.179688\" xlink:href=\"#ArialMT-50\"/>\r\n    </g>\r\n   </g>\r\n  </g>\r\n  <g id=\"axes_2\">\r\n   <g id=\"patch_7\">\r\n    <path d=\"M 347.669886 239.375625 \r\nL 601.30625 239.375625 \r\nL 601.30625 21.935625 \r\nL 347.669886 21.935625 \r\nz\r\n\" style=\"fill:#ffffff;\"/>\r\n   </g>\r\n   <g id=\"matplotlib.axis_3\">\r\n    <g id=\"xtick_8\">\r\n     <g id=\"line2d_28\">\r\n      <path clip-path=\"url(#p4718c0caf3)\" d=\"M 359.198812 239.375625 \r\nL 359.198812 21.935625 \r\n\" style=\"fill:none;stroke:#cccccc;stroke-linecap:round;stroke-width:0.8;\"/>\r\n     </g>\r\n     <g id=\"line2d_29\"/>\r\n     <g id=\"text_17\">\r\n      <!-- 0 -->\r\n      <g style=\"fill:#262626;\" transform=\"translate(356.418343 250.033438)scale(0.1 -0.1)\">\r\n       <use xlink:href=\"#ArialMT-48\"/>\r\n      </g>\r\n     </g>\r\n    </g>\r\n    <g id=\"xtick_9\">\r\n     <g id=\"line2d_30\">\r\n      <path clip-path=\"url(#p4718c0caf3)\" d=\"M 397.628564 239.375625 \r\nL 397.628564 21.935625 \r\n\" style=\"fill:none;stroke:#cccccc;stroke-linecap:round;stroke-width:0.8;\"/>\r\n     </g>\r\n     <g id=\"line2d_31\"/>\r\n     <g id=\"text_18\">\r\n      <!-- 50 -->\r\n      <g style=\"fill:#262626;\" transform=\"translate(392.067627 250.033438)scale(0.1 -0.1)\">\r\n       <use xlink:href=\"#ArialMT-53\"/>\r\n       <use x=\"55.615234\" xlink:href=\"#ArialMT-48\"/>\r\n      </g>\r\n     </g>\r\n    </g>\r\n    <g id=\"xtick_10\">\r\n     <g id=\"line2d_32\">\r\n      <path clip-path=\"url(#p4718c0caf3)\" d=\"M 436.058316 239.375625 \r\nL 436.058316 21.935625 \r\n\" style=\"fill:none;stroke:#cccccc;stroke-linecap:round;stroke-width:0.8;\"/>\r\n     </g>\r\n     <g id=\"line2d_33\"/>\r\n     <g id=\"text_19\">\r\n      <!-- 100 -->\r\n      <g style=\"fill:#262626;\" transform=\"translate(427.71691 250.033438)scale(0.1 -0.1)\">\r\n       <use xlink:href=\"#ArialMT-49\"/>\r\n       <use x=\"55.615234\" xlink:href=\"#ArialMT-48\"/>\r\n       <use x=\"111.230469\" xlink:href=\"#ArialMT-48\"/>\r\n      </g>\r\n     </g>\r\n    </g>\r\n    <g id=\"xtick_11\">\r\n     <g id=\"line2d_34\">\r\n      <path clip-path=\"url(#p4718c0caf3)\" d=\"M 474.488068 239.375625 \r\nL 474.488068 21.935625 \r\n\" style=\"fill:none;stroke:#cccccc;stroke-linecap:round;stroke-width:0.8;\"/>\r\n     </g>\r\n     <g id=\"line2d_35\"/>\r\n     <g id=\"text_20\">\r\n      <!-- 150 -->\r\n      <g style=\"fill:#262626;\" transform=\"translate(466.146662 250.033438)scale(0.1 -0.1)\">\r\n       <use xlink:href=\"#ArialMT-49\"/>\r\n       <use x=\"55.615234\" xlink:href=\"#ArialMT-53\"/>\r\n       <use x=\"111.230469\" xlink:href=\"#ArialMT-48\"/>\r\n      </g>\r\n     </g>\r\n    </g>\r\n    <g id=\"xtick_12\">\r\n     <g id=\"line2d_36\">\r\n      <path clip-path=\"url(#p4718c0caf3)\" d=\"M 512.91782 239.375625 \r\nL 512.91782 21.935625 \r\n\" style=\"fill:none;stroke:#cccccc;stroke-linecap:round;stroke-width:0.8;\"/>\r\n     </g>\r\n     <g id=\"line2d_37\"/>\r\n     <g id=\"text_21\">\r\n      <!-- 200 -->\r\n      <g style=\"fill:#262626;\" transform=\"translate(504.576414 250.033438)scale(0.1 -0.1)\">\r\n       <use xlink:href=\"#ArialMT-50\"/>\r\n       <use x=\"55.615234\" xlink:href=\"#ArialMT-48\"/>\r\n       <use x=\"111.230469\" xlink:href=\"#ArialMT-48\"/>\r\n      </g>\r\n     </g>\r\n    </g>\r\n    <g id=\"xtick_13\">\r\n     <g id=\"line2d_38\">\r\n      <path clip-path=\"url(#p4718c0caf3)\" d=\"M 551.347572 239.375625 \r\nL 551.347572 21.935625 \r\n\" style=\"fill:none;stroke:#cccccc;stroke-linecap:round;stroke-width:0.8;\"/>\r\n     </g>\r\n     <g id=\"line2d_39\"/>\r\n     <g id=\"text_22\">\r\n      <!-- 250 -->\r\n      <g style=\"fill:#262626;\" transform=\"translate(543.006166 250.033438)scale(0.1 -0.1)\">\r\n       <use xlink:href=\"#ArialMT-50\"/>\r\n       <use x=\"55.615234\" xlink:href=\"#ArialMT-53\"/>\r\n       <use x=\"111.230469\" xlink:href=\"#ArialMT-48\"/>\r\n      </g>\r\n     </g>\r\n    </g>\r\n    <g id=\"xtick_14\">\r\n     <g id=\"line2d_40\">\r\n      <path clip-path=\"url(#p4718c0caf3)\" d=\"M 589.777324 239.375625 \r\nL 589.777324 21.935625 \r\n\" style=\"fill:none;stroke:#cccccc;stroke-linecap:round;stroke-width:0.8;\"/>\r\n     </g>\r\n     <g id=\"line2d_41\"/>\r\n     <g id=\"text_23\">\r\n      <!-- 300 -->\r\n      <g style=\"fill:#262626;\" transform=\"translate(581.435918 250.033438)scale(0.1 -0.1)\">\r\n       <use xlink:href=\"#ArialMT-51\"/>\r\n       <use x=\"55.615234\" xlink:href=\"#ArialMT-48\"/>\r\n       <use x=\"111.230469\" xlink:href=\"#ArialMT-48\"/>\r\n      </g>\r\n     </g>\r\n    </g>\r\n    <g id=\"text_24\">\r\n     <!-- $a_2$ -->\r\n     <g style=\"fill:#262626;\" transform=\"translate(469.038068 263.17875)scale(0.1 -0.1)\">\r\n      <use xlink:href=\"#DejaVuSans-Oblique-97\"/>\r\n      <use transform=\"translate(61.279297 -16.40625)scale(0.7)\" xlink:href=\"#DejaVuSans-50\"/>\r\n     </g>\r\n    </g>\r\n   </g>\r\n   <g id=\"matplotlib.axis_4\">\r\n    <g id=\"ytick_7\">\r\n     <g id=\"line2d_42\">\r\n      <path clip-path=\"url(#p4718c0caf3)\" d=\"M 347.669886 239.375625 \r\nL 601.30625 239.375625 \r\n\" style=\"fill:none;stroke:#cccccc;stroke-linecap:round;stroke-width:0.8;\"/>\r\n     </g>\r\n     <g id=\"line2d_43\"/>\r\n     <g id=\"text_25\">\r\n      <!-- −10 -->\r\n      <defs>\r\n       <path d=\"M 52.828125 31.203125 \r\nL 5.5625 31.203125 \r\nL 5.5625 39.40625 \r\nL 52.828125 39.40625 \r\nz\r\n\" id=\"ArialMT-8722\"/>\r\n      </defs>\r\n      <g style=\"fill:#262626;\" transform=\"translate(327.207386 242.954531)scale(0.1 -0.1)\">\r\n       <use xlink:href=\"#ArialMT-8722\"/>\r\n       <use x=\"58.398438\" xlink:href=\"#ArialMT-49\"/>\r\n       <use x=\"114.013672\" xlink:href=\"#ArialMT-48\"/>\r\n      </g>\r\n     </g>\r\n    </g>\r\n    <g id=\"ytick_8\">\r\n     <g id=\"line2d_44\">\r\n      <path clip-path=\"url(#p4718c0caf3)\" d=\"M 347.669886 195.887625 \r\nL 601.30625 195.887625 \r\n\" style=\"fill:none;stroke:#cccccc;stroke-linecap:round;stroke-width:0.8;\"/>\r\n     </g>\r\n     <g id=\"line2d_45\"/>\r\n     <g id=\"text_26\">\r\n      <!-- −8 -->\r\n      <defs>\r\n       <path d=\"M 17.671875 38.8125 \r\nQ 12.203125 40.828125 9.5625 44.53125 \r\nQ 6.9375 48.25 6.9375 53.421875 \r\nQ 6.9375 61.234375 12.546875 66.546875 \r\nQ 18.171875 71.875 27.484375 71.875 \r\nQ 36.859375 71.875 42.578125 66.421875 \r\nQ 48.296875 60.984375 48.296875 53.171875 \r\nQ 48.296875 48.1875 45.671875 44.5 \r\nQ 43.0625 40.828125 37.75 38.8125 \r\nQ 44.34375 36.671875 47.78125 31.875 \r\nQ 51.21875 27.09375 51.21875 20.453125 \r\nQ 51.21875 11.28125 44.71875 5.03125 \r\nQ 38.234375 -1.21875 27.640625 -1.21875 \r\nQ 17.046875 -1.21875 10.546875 5.046875 \r\nQ 4.046875 11.328125 4.046875 20.703125 \r\nQ 4.046875 27.6875 7.59375 32.390625 \r\nQ 11.140625 37.109375 17.671875 38.8125 \r\nz\r\nM 15.921875 53.71875 \r\nQ 15.921875 48.640625 19.1875 45.40625 \r\nQ 22.46875 42.1875 27.6875 42.1875 \r\nQ 32.765625 42.1875 36.015625 45.375 \r\nQ 39.265625 48.578125 39.265625 53.21875 \r\nQ 39.265625 58.0625 35.90625 61.359375 \r\nQ 32.5625 64.65625 27.59375 64.65625 \r\nQ 22.5625 64.65625 19.234375 61.421875 \r\nQ 15.921875 58.203125 15.921875 53.71875 \r\nz\r\nM 13.09375 20.65625 \r\nQ 13.09375 16.890625 14.875 13.375 \r\nQ 16.65625 9.859375 20.171875 7.921875 \r\nQ 23.6875 6 27.734375 6 \r\nQ 34.03125 6 38.125 10.046875 \r\nQ 42.234375 14.109375 42.234375 20.359375 \r\nQ 42.234375 26.703125 38.015625 30.859375 \r\nQ 33.796875 35.015625 27.4375 35.015625 \r\nQ 21.234375 35.015625 17.15625 30.90625 \r\nQ 13.09375 26.8125 13.09375 20.65625 \r\nz\r\n\" id=\"ArialMT-56\"/>\r\n      </defs>\r\n      <g style=\"fill:#262626;\" transform=\"translate(332.768324 199.466531)scale(0.1 -0.1)\">\r\n       <use xlink:href=\"#ArialMT-8722\"/>\r\n       <use x=\"58.398438\" xlink:href=\"#ArialMT-56\"/>\r\n      </g>\r\n     </g>\r\n    </g>\r\n    <g id=\"ytick_9\">\r\n     <g id=\"line2d_46\">\r\n      <path clip-path=\"url(#p4718c0caf3)\" d=\"M 347.669886 152.399625 \r\nL 601.30625 152.399625 \r\n\" style=\"fill:none;stroke:#cccccc;stroke-linecap:round;stroke-width:0.8;\"/>\r\n     </g>\r\n     <g id=\"line2d_47\"/>\r\n     <g id=\"text_27\">\r\n      <!-- −6 -->\r\n      <defs>\r\n       <path d=\"M 49.75 54.046875 \r\nL 41.015625 53.375 \r\nQ 39.84375 58.546875 37.703125 60.890625 \r\nQ 34.125 64.65625 28.90625 64.65625 \r\nQ 24.703125 64.65625 21.53125 62.3125 \r\nQ 17.390625 59.28125 14.984375 53.46875 \r\nQ 12.59375 47.65625 12.5 36.921875 \r\nQ 15.671875 41.75 20.265625 44.09375 \r\nQ 24.859375 46.4375 29.890625 46.4375 \r\nQ 38.671875 46.4375 44.84375 39.96875 \r\nQ 51.03125 33.5 51.03125 23.25 \r\nQ 51.03125 16.5 48.125 10.71875 \r\nQ 45.21875 4.9375 40.140625 1.859375 \r\nQ 35.0625 -1.21875 28.609375 -1.21875 \r\nQ 17.625 -1.21875 10.6875 6.859375 \r\nQ 3.765625 14.9375 3.765625 33.5 \r\nQ 3.765625 54.25 11.421875 63.671875 \r\nQ 18.109375 71.875 29.4375 71.875 \r\nQ 37.890625 71.875 43.28125 67.140625 \r\nQ 48.6875 62.40625 49.75 54.046875 \r\nz\r\nM 13.875 23.1875 \r\nQ 13.875 18.65625 15.796875 14.5 \r\nQ 17.71875 10.359375 21.1875 8.171875 \r\nQ 24.65625 6 28.46875 6 \r\nQ 34.03125 6 38.03125 10.484375 \r\nQ 42.046875 14.984375 42.046875 22.703125 \r\nQ 42.046875 30.125 38.078125 34.390625 \r\nQ 34.125 38.671875 28.125 38.671875 \r\nQ 22.171875 38.671875 18.015625 34.390625 \r\nQ 13.875 30.125 13.875 23.1875 \r\nz\r\n\" id=\"ArialMT-54\"/>\r\n      </defs>\r\n      <g style=\"fill:#262626;\" transform=\"translate(332.768324 155.978531)scale(0.1 -0.1)\">\r\n       <use xlink:href=\"#ArialMT-8722\"/>\r\n       <use x=\"58.398438\" xlink:href=\"#ArialMT-54\"/>\r\n      </g>\r\n     </g>\r\n    </g>\r\n    <g id=\"ytick_10\">\r\n     <g id=\"line2d_48\">\r\n      <path clip-path=\"url(#p4718c0caf3)\" d=\"M 347.669886 108.911625 \r\nL 601.30625 108.911625 \r\n\" style=\"fill:none;stroke:#cccccc;stroke-linecap:round;stroke-width:0.8;\"/>\r\n     </g>\r\n     <g id=\"line2d_49\"/>\r\n     <g id=\"text_28\">\r\n      <!-- −4 -->\r\n      <defs>\r\n       <path d=\"M 32.328125 0 \r\nL 32.328125 17.140625 \r\nL 1.265625 17.140625 \r\nL 1.265625 25.203125 \r\nL 33.9375 71.578125 \r\nL 41.109375 71.578125 \r\nL 41.109375 25.203125 \r\nL 50.78125 25.203125 \r\nL 50.78125 17.140625 \r\nL 41.109375 17.140625 \r\nL 41.109375 0 \r\nz\r\nM 32.328125 25.203125 \r\nL 32.328125 57.46875 \r\nL 9.90625 25.203125 \r\nz\r\n\" id=\"ArialMT-52\"/>\r\n      </defs>\r\n      <g style=\"fill:#262626;\" transform=\"translate(332.768324 112.490531)scale(0.1 -0.1)\">\r\n       <use xlink:href=\"#ArialMT-8722\"/>\r\n       <use x=\"58.398438\" xlink:href=\"#ArialMT-52\"/>\r\n      </g>\r\n     </g>\r\n    </g>\r\n    <g id=\"ytick_11\">\r\n     <g id=\"line2d_50\">\r\n      <path clip-path=\"url(#p4718c0caf3)\" d=\"M 347.669886 65.423625 \r\nL 601.30625 65.423625 \r\n\" style=\"fill:none;stroke:#cccccc;stroke-linecap:round;stroke-width:0.8;\"/>\r\n     </g>\r\n     <g id=\"line2d_51\"/>\r\n     <g id=\"text_29\">\r\n      <!-- −2 -->\r\n      <g style=\"fill:#262626;\" transform=\"translate(332.768324 69.002531)scale(0.1 -0.1)\">\r\n       <use xlink:href=\"#ArialMT-8722\"/>\r\n       <use x=\"58.398438\" xlink:href=\"#ArialMT-50\"/>\r\n      </g>\r\n     </g>\r\n    </g>\r\n    <g id=\"ytick_12\">\r\n     <g id=\"line2d_52\">\r\n      <path clip-path=\"url(#p4718c0caf3)\" d=\"M 347.669886 21.935625 \r\nL 601.30625 21.935625 \r\n\" style=\"fill:none;stroke:#cccccc;stroke-linecap:round;stroke-width:0.8;\"/>\r\n     </g>\r\n     <g id=\"line2d_53\"/>\r\n     <g id=\"text_30\">\r\n      <!-- 0 -->\r\n      <g style=\"fill:#262626;\" transform=\"translate(338.608949 25.514531)scale(0.1 -0.1)\">\r\n       <use xlink:href=\"#ArialMT-48\"/>\r\n      </g>\r\n     </g>\r\n    </g>\r\n    <g id=\"text_31\">\r\n     <!-- $v_2$ -->\r\n     <defs>\r\n      <path d=\"M 7.171875 54.6875 \r\nL 16.703125 54.6875 \r\nL 24.703125 8.203125 \r\nL 50.875 54.6875 \r\nL 60.40625 54.6875 \r\nL 29.296875 0 \r\nL 17.1875 0 \r\nz\r\n\" id=\"DejaVuSans-Oblique-118\"/>\r\n     </defs>\r\n     <g style=\"fill:#262626;\" transform=\"translate(321.219886 136.005625)rotate(-90)scale(0.1 -0.1)\">\r\n      <use transform=\"translate(0 0.3125)\" xlink:href=\"#DejaVuSans-Oblique-118\"/>\r\n      <use transform=\"translate(59.179688 -16.09375)scale(0.7)\" xlink:href=\"#DejaVuSans-50\"/>\r\n     </g>\r\n    </g>\r\n   </g>\r\n   <g id=\"line2d_54\">\r\n    <path clip-path=\"url(#p4718c0caf3)\" d=\"M 359.198812 96.510999 \r\nL 359.969978 89.351093 \r\nL 360.741143 84.522596 \r\nL 361.512309 80.967888 \r\nL 362.283474 78.200228 \r\nL 363.05464 75.959977 \r\nL 364.596971 72.505859 \r\nL 366.139302 69.922298 \r\nL 367.681634 67.886426 \r\nL 369.223965 66.222687 \r\nL 370.766296 64.826087 \r\nL 373.079793 63.091112 \r\nL 375.393289 61.667034 \r\nL 378.477952 60.106968 \r\nL 381.562614 58.823001 \r\nL 385.418442 57.492884 \r\nL 390.045436 56.183279 \r\nL 395.443595 54.932866 \r\nL 401.61292 53.760533 \r\nL 408.55341 52.672731 \r\nL 417.036231 51.577805 \r\nL 427.061384 50.517945 \r\nL 439.400034 49.455482 \r\nL 454.05218 48.432977 \r\nL 471.788989 47.432608 \r\nL 493.381625 46.452967 \r\nL 519.601255 45.500113 \r\nL 551.219045 44.582018 \r\nL 589.777324 43.689695 \r\nL 589.777324 43.689695 \r\n\" style=\"fill:none;stroke:#1f77b4;stroke-linecap:round;stroke-width:1.5;\"/>\r\n   </g>\r\n   <g id=\"patch_8\">\r\n    <path d=\"M 347.669886 239.375625 \r\nL 347.669886 21.935625 \r\n\" style=\"fill:none;stroke:#cccccc;stroke-linecap:square;stroke-linejoin:miter;\"/>\r\n   </g>\r\n   <g id=\"patch_9\">\r\n    <path d=\"M 601.30625 239.375625 \r\nL 601.30625 21.935625 \r\n\" style=\"fill:none;stroke:#cccccc;stroke-linecap:square;stroke-linejoin:miter;\"/>\r\n   </g>\r\n   <g id=\"patch_10\">\r\n    <path d=\"M 347.669886 239.375625 \r\nL 601.30625 239.375625 \r\n\" style=\"fill:none;stroke:#cccccc;stroke-linecap:square;stroke-linejoin:miter;\"/>\r\n   </g>\r\n   <g id=\"patch_11\">\r\n    <path d=\"M 347.669886 21.935625 \r\nL 601.30625 21.935625 \r\n\" style=\"fill:none;stroke:#cccccc;stroke-linecap:square;stroke-linejoin:miter;\"/>\r\n   </g>\r\n   <g id=\"text_32\">\r\n    <!-- value function in period 2 -->\r\n    <defs>\r\n     <path d=\"M 21 0 \r\nL 1.265625 51.859375 \r\nL 10.546875 51.859375 \r\nL 21.6875 20.796875 \r\nQ 23.484375 15.765625 25 10.359375 \r\nQ 26.171875 14.453125 28.265625 20.21875 \r\nL 39.796875 51.859375 \r\nL 48.828125 51.859375 \r\nL 29.203125 0 \r\nz\r\n\" id=\"ArialMT-118\"/>\r\n     <path d=\"M 40.4375 6.390625 \r\nQ 35.546875 2.25 31.03125 0.53125 \r\nQ 26.515625 -1.171875 21.34375 -1.171875 \r\nQ 12.796875 -1.171875 8.203125 3 \r\nQ 3.609375 7.171875 3.609375 13.671875 \r\nQ 3.609375 17.484375 5.34375 20.625 \r\nQ 7.078125 23.78125 9.890625 25.6875 \r\nQ 12.703125 27.59375 16.21875 28.5625 \r\nQ 18.796875 29.25 24.03125 29.890625 \r\nQ 34.671875 31.15625 39.703125 32.90625 \r\nQ 39.75 34.71875 39.75 35.203125 \r\nQ 39.75 40.578125 37.25 42.78125 \r\nQ 33.890625 45.75 27.25 45.75 \r\nQ 21.046875 45.75 18.09375 43.578125 \r\nQ 15.140625 41.40625 13.71875 35.890625 \r\nL 5.125 37.0625 \r\nQ 6.296875 42.578125 8.984375 45.96875 \r\nQ 11.671875 49.359375 16.75 51.1875 \r\nQ 21.828125 53.03125 28.515625 53.03125 \r\nQ 35.15625 53.03125 39.296875 51.46875 \r\nQ 43.453125 49.90625 45.40625 47.53125 \r\nQ 47.359375 45.171875 48.140625 41.546875 \r\nQ 48.578125 39.3125 48.578125 33.453125 \r\nL 48.578125 21.734375 \r\nQ 48.578125 9.46875 49.140625 6.21875 \r\nQ 49.703125 2.984375 51.375 0 \r\nL 42.1875 0 \r\nQ 40.828125 2.734375 40.4375 6.390625 \r\nz\r\nM 39.703125 26.03125 \r\nQ 34.90625 24.078125 25.34375 22.703125 \r\nQ 19.921875 21.921875 17.671875 20.9375 \r\nQ 15.4375 19.96875 14.203125 18.09375 \r\nQ 12.984375 16.21875 12.984375 13.921875 \r\nQ 12.984375 10.40625 15.640625 8.0625 \r\nQ 18.3125 5.71875 23.4375 5.71875 \r\nQ 28.515625 5.71875 32.46875 7.9375 \r\nQ 36.421875 10.15625 38.28125 14.015625 \r\nQ 39.703125 17 39.703125 22.796875 \r\nz\r\n\" id=\"ArialMT-97\"/>\r\n     <path d=\"M 6.390625 0 \r\nL 6.390625 71.578125 \r\nL 15.1875 71.578125 \r\nL 15.1875 0 \r\nz\r\n\" id=\"ArialMT-108\"/>\r\n    </defs>\r\n    <g style=\"fill:#262626;\" transform=\"translate(407.781193 15.935625)scale(0.12 -0.12)\">\r\n     <use xlink:href=\"#ArialMT-118\"/>\r\n     <use x=\"50\" xlink:href=\"#ArialMT-97\"/>\r\n     <use x=\"105.615234\" xlink:href=\"#ArialMT-108\"/>\r\n     <use x=\"127.832031\" xlink:href=\"#ArialMT-117\"/>\r\n     <use x=\"183.447266\" xlink:href=\"#ArialMT-101\"/>\r\n     <use x=\"239.0625\" xlink:href=\"#ArialMT-32\"/>\r\n     <use x=\"266.845703\" xlink:href=\"#ArialMT-102\"/>\r\n     <use x=\"294.628906\" xlink:href=\"#ArialMT-117\"/>\r\n     <use x=\"350.244141\" xlink:href=\"#ArialMT-110\"/>\r\n     <use x=\"405.859375\" xlink:href=\"#ArialMT-99\"/>\r\n     <use x=\"455.859375\" xlink:href=\"#ArialMT-116\"/>\r\n     <use x=\"483.642578\" xlink:href=\"#ArialMT-105\"/>\r\n     <use x=\"505.859375\" xlink:href=\"#ArialMT-111\"/>\r\n     <use x=\"561.474609\" xlink:href=\"#ArialMT-110\"/>\r\n     <use x=\"617.089844\" xlink:href=\"#ArialMT-32\"/>\r\n     <use x=\"644.873047\" xlink:href=\"#ArialMT-105\"/>\r\n     <use x=\"667.089844\" xlink:href=\"#ArialMT-110\"/>\r\n     <use x=\"722.705078\" xlink:href=\"#ArialMT-32\"/>\r\n     <use x=\"750.488281\" xlink:href=\"#ArialMT-112\"/>\r\n     <use x=\"806.103516\" xlink:href=\"#ArialMT-101\"/>\r\n     <use x=\"861.71875\" xlink:href=\"#ArialMT-114\"/>\r\n     <use x=\"895.019531\" xlink:href=\"#ArialMT-105\"/>\r\n     <use x=\"917.236328\" xlink:href=\"#ArialMT-111\"/>\r\n     <use x=\"972.851562\" xlink:href=\"#ArialMT-100\"/>\r\n     <use x=\"1028.466797\" xlink:href=\"#ArialMT-32\"/>\r\n     <use x=\"1056.25\" xlink:href=\"#ArialMT-50\"/>\r\n    </g>\r\n   </g>\r\n  </g>\r\n </g>\r\n <defs>\r\n  <clipPath id=\"p243a2849c2\">\r\n   <rect height=\"217.44\" width=\"253.636364\" x=\"43.30625\" y=\"21.935625\"/>\r\n  </clipPath>\r\n  <clipPath id=\"p4718c0caf3\">\r\n   <rect height=\"217.44\" width=\"253.636364\" x=\"347.669886\" y=\"21.935625\"/>\r\n  </clipPath>\r\n </defs>\r\n</svg>\r\n",
      "image/png": "[encoded data removed]"
     },
     "metadata": {
      "needs_background": "light"
     }
    }
   ],
   "source": [
    "\n",
    "\n",
    "# illustration\n",
    "fig = plt.figure(figsize=(10,4))\n",
    "ax = fig.add_subplot(1,2,1)\n",
    "ax.plot(a_lag_vec,s_0)\n",
    "ax.set_xlabel('$a_2$')\n",
    "ax.set_ylabel('$c_2$')\n",
    "ax.set_title('consumption function in period 2')\n",
    "\n",
    "ax = fig.add_subplot(1,2,2)\n",
    "ax.plot(a_lag_vec,vT_grid)\n",
    "ax.set_xlabel('$a_2$')\n",
    "ax.set_ylabel('$v_2$')\n",
    "ax.set_title('value function in period 2')\n",
    "ax.set_ylim([-10,0])\n"
   ]
  },
  {
   "cell_type": "markdown",
   "metadata": {},
   "source": [
    "In all periods *before the last*, $t < T$, the household solves:\n",
    " \n",
    " \n",
    "\n",
    "$v_{t}(a_{t-1})$ = $max_{c_{t}} \\frac{c_t^{1-\\rho}}{1-\\rho} + \\kappa \\frac{(a_t+\\underline{a})^{1-\\sigma}}{1-\\sigma} + \\beta v_{t+1}(a_t)$\n",
    "\n",
    "{s.t.} \n",
    "    $a_{t} = (1+r)a_{t-1} + y - c_{t}$\n",
    "\n",
    "where $\\beta$ is the discount factor for future utility."
   ]
  },
  {
   "cell_type": "markdown",
   "metadata": {},
   "source": [
    "**Question 2:** Find and plot $v_{T-1}(a_{T-2})$ and  $c_{T-1}^{*}(a_{T-2})$.\n"
   ]
  },
  {
   "cell_type": "code",
   "execution_count": 283,
   "metadata": {},
   "outputs": [],
   "source": [
    "beta = 0.97\n",
    "T = 20\n"
   ]
  },
  {
   "cell_type": "code",
   "execution_count": 290,
   "metadata": {},
   "outputs": [
    {
     "output_type": "error",
     "ename": "TypeError",
     "evalue": "unsupported operand type(s) for +: 'float' and 'RegularGridInterpolator'",
     "traceback": [
      "\u001b[1;31m---------------------------------------------------------------------------\u001b[0m",
      "\u001b[1;31mTypeError\u001b[0m                                 Traceback (most recent call last)",
      "\u001b[1;32m<ipython-input-290-5ae107e504d0>\u001b[0m in \u001b[0;36m<module>\u001b[1;34m\u001b[0m\n\u001b[0;32m     30\u001b[0m \u001b[1;33m\u001b[0m\u001b[0m\n\u001b[0;32m     31\u001b[0m \u001b[1;31m# solve\u001b[0m\u001b[1;33m\u001b[0m\u001b[1;33m\u001b[0m\u001b[1;33m\u001b[0m\u001b[0m\n\u001b[1;32m---> 32\u001b[1;33m \u001b[0ma1_vec\u001b[0m\u001b[1;33m,\u001b[0m\u001b[0mv1_vec\u001b[0m\u001b[1;33m,\u001b[0m\u001b[0mc1_vec\u001b[0m \u001b[1;33m=\u001b[0m \u001b[0msolve_period_1\u001b[0m\u001b[1;33m(\u001b[0m\u001b[0mrho\u001b[0m\u001b[1;33m,\u001b[0m\u001b[0mbeta\u001b[0m\u001b[1;33m,\u001b[0m\u001b[0mr\u001b[0m\u001b[1;33m,\u001b[0m\u001b[0my\u001b[0m\u001b[1;33m,\u001b[0m\u001b[0mv2_interp\u001b[0m\u001b[1;33m,\u001b[0m\u001b[0mkappa\u001b[0m\u001b[1;33m)\u001b[0m\u001b[1;33m\u001b[0m\u001b[1;33m\u001b[0m\u001b[0m\n\u001b[0m\u001b[0;32m     33\u001b[0m \u001b[1;33m\u001b[0m\u001b[0m\n\u001b[0;32m     34\u001b[0m \u001b[1;31m# illustrate\u001b[0m\u001b[1;33m\u001b[0m\u001b[1;33m\u001b[0m\u001b[1;33m\u001b[0m\u001b[0m\n",
      "\u001b[1;32m<ipython-input-290-5ae107e504d0>\u001b[0m in \u001b[0;36msolve_period_1\u001b[1;34m(rho, beta, r, y, v2_interp, kappa)\u001b[0m\n\u001b[0;32m     21\u001b[0m \u001b[1;33m\u001b[0m\u001b[0m\n\u001b[0;32m     22\u001b[0m         \u001b[1;31m# iii. optimize\u001b[0m\u001b[1;33m\u001b[0m\u001b[1;33m\u001b[0m\u001b[1;33m\u001b[0m\u001b[0m\n\u001b[1;32m---> 23\u001b[1;33m         \u001b[0mresult\u001b[0m \u001b[1;33m=\u001b[0m \u001b[0moptimize\u001b[0m\u001b[1;33m.\u001b[0m\u001b[0mminimize\u001b[0m\u001b[1;33m(\u001b[0m\u001b[0mobj\u001b[0m\u001b[1;33m,\u001b[0m\u001b[1;33m[\u001b[0m\u001b[0mx0\u001b[0m\u001b[1;33m]\u001b[0m\u001b[1;33m,\u001b[0m\u001b[0mmethod\u001b[0m\u001b[1;33m=\u001b[0m\u001b[1;34m'L-BFGS-B'\u001b[0m\u001b[1;33m,\u001b[0m\u001b[0mbounds\u001b[0m\u001b[1;33m=\u001b[0m\u001b[1;33m(\u001b[0m\u001b[1;33m(\u001b[0m\u001b[1;36m1e-12\u001b[0m\u001b[1;33m,\u001b[0m\u001b[0ma1\u001b[0m\u001b[1;33m)\u001b[0m\u001b[1;33m,\u001b[0m\u001b[1;33m)\u001b[0m\u001b[1;33m)\u001b[0m\u001b[1;33m\u001b[0m\u001b[1;33m\u001b[0m\u001b[0m\n\u001b[0m\u001b[0;32m     24\u001b[0m \u001b[1;33m\u001b[0m\u001b[0m\n\u001b[0;32m     25\u001b[0m         \u001b[1;31m# iv. save\u001b[0m\u001b[1;33m\u001b[0m\u001b[1;33m\u001b[0m\u001b[1;33m\u001b[0m\u001b[0m\n",
      "\u001b[1;32m~\\anaconda3\\lib\\site-packages\\scipy\\optimize\\_minimize.py\u001b[0m in \u001b[0;36mminimize\u001b[1;34m(fun, x0, args, method, jac, hess, hessp, bounds, constraints, tol, callback, options)\u001b[0m\n\u001b[0;32m    608\u001b[0m     \u001b[1;32melif\u001b[0m \u001b[0mmeth\u001b[0m \u001b[1;33m==\u001b[0m \u001b[1;34m'l-bfgs-b'\u001b[0m\u001b[1;33m:\u001b[0m\u001b[1;33m\u001b[0m\u001b[1;33m\u001b[0m\u001b[0m\n\u001b[0;32m    609\u001b[0m         return _minimize_lbfgsb(fun, x0, args, jac, bounds,\n\u001b[1;32m--> 610\u001b[1;33m                                 callback=callback, **options)\n\u001b[0m\u001b[0;32m    611\u001b[0m     \u001b[1;32melif\u001b[0m \u001b[0mmeth\u001b[0m \u001b[1;33m==\u001b[0m \u001b[1;34m'tnc'\u001b[0m\u001b[1;33m:\u001b[0m\u001b[1;33m\u001b[0m\u001b[1;33m\u001b[0m\u001b[0m\n\u001b[0;32m    612\u001b[0m         return _minimize_tnc(fun, x0, args, jac, bounds, callback=callback,\n",
      "\u001b[1;32m~\\anaconda3\\lib\\site-packages\\scipy\\optimize\\lbfgsb.py\u001b[0m in \u001b[0;36m_minimize_lbfgsb\u001b[1;34m(fun, x0, args, jac, bounds, disp, maxcor, ftol, gtol, eps, maxfun, maxiter, iprint, callback, maxls, **unknown_options)\u001b[0m\n\u001b[0;32m    343\u001b[0m             \u001b[1;31m# until the completion of the current minimization iteration.\u001b[0m\u001b[1;33m\u001b[0m\u001b[1;33m\u001b[0m\u001b[1;33m\u001b[0m\u001b[0m\n\u001b[0;32m    344\u001b[0m             \u001b[1;31m# Overwrite f and g:\u001b[0m\u001b[1;33m\u001b[0m\u001b[1;33m\u001b[0m\u001b[1;33m\u001b[0m\u001b[0m\n\u001b[1;32m--> 345\u001b[1;33m             \u001b[0mf\u001b[0m\u001b[1;33m,\u001b[0m \u001b[0mg\u001b[0m \u001b[1;33m=\u001b[0m \u001b[0mfunc_and_grad\u001b[0m\u001b[1;33m(\u001b[0m\u001b[0mx\u001b[0m\u001b[1;33m)\u001b[0m\u001b[1;33m\u001b[0m\u001b[1;33m\u001b[0m\u001b[0m\n\u001b[0m\u001b[0;32m    346\u001b[0m         \u001b[1;32melif\u001b[0m \u001b[0mtask_str\u001b[0m\u001b[1;33m.\u001b[0m\u001b[0mstartswith\u001b[0m\u001b[1;33m(\u001b[0m\u001b[1;34mb'NEW_X'\u001b[0m\u001b[1;33m)\u001b[0m\u001b[1;33m:\u001b[0m\u001b[1;33m\u001b[0m\u001b[1;33m\u001b[0m\u001b[0m\n\u001b[0;32m    347\u001b[0m             \u001b[1;31m# new iteration\u001b[0m\u001b[1;33m\u001b[0m\u001b[1;33m\u001b[0m\u001b[1;33m\u001b[0m\u001b[0m\n",
      "\u001b[1;32m~\\anaconda3\\lib\\site-packages\\scipy\\optimize\\lbfgsb.py\u001b[0m in \u001b[0;36mfunc_and_grad\u001b[1;34m(x)\u001b[0m\n\u001b[0;32m    288\u001b[0m     \u001b[1;32mif\u001b[0m \u001b[0mjac\u001b[0m \u001b[1;32mis\u001b[0m \u001b[1;32mNone\u001b[0m\u001b[1;33m:\u001b[0m\u001b[1;33m\u001b[0m\u001b[1;33m\u001b[0m\u001b[0m\n\u001b[0;32m    289\u001b[0m         \u001b[1;32mdef\u001b[0m \u001b[0mfunc_and_grad\u001b[0m\u001b[1;33m(\u001b[0m\u001b[0mx\u001b[0m\u001b[1;33m)\u001b[0m\u001b[1;33m:\u001b[0m\u001b[1;33m\u001b[0m\u001b[1;33m\u001b[0m\u001b[0m\n\u001b[1;32m--> 290\u001b[1;33m             \u001b[0mf\u001b[0m \u001b[1;33m=\u001b[0m \u001b[0mfun\u001b[0m\u001b[1;33m(\u001b[0m\u001b[0mx\u001b[0m\u001b[1;33m,\u001b[0m \u001b[1;33m*\u001b[0m\u001b[0margs\u001b[0m\u001b[1;33m)\u001b[0m\u001b[1;33m\u001b[0m\u001b[1;33m\u001b[0m\u001b[0m\n\u001b[0m\u001b[0;32m    291\u001b[0m             \u001b[0mg\u001b[0m \u001b[1;33m=\u001b[0m \u001b[0m_approx_fprime_helper\u001b[0m\u001b[1;33m(\u001b[0m\u001b[0mx\u001b[0m\u001b[1;33m,\u001b[0m \u001b[0mfun\u001b[0m\u001b[1;33m,\u001b[0m \u001b[0mepsilon\u001b[0m\u001b[1;33m,\u001b[0m \u001b[0margs\u001b[0m\u001b[1;33m=\u001b[0m\u001b[0margs\u001b[0m\u001b[1;33m,\u001b[0m \u001b[0mf0\u001b[0m\u001b[1;33m=\u001b[0m\u001b[0mf\u001b[0m\u001b[1;33m)\u001b[0m\u001b[1;33m\u001b[0m\u001b[1;33m\u001b[0m\u001b[0m\n\u001b[0;32m    292\u001b[0m             \u001b[1;32mreturn\u001b[0m \u001b[0mf\u001b[0m\u001b[1;33m,\u001b[0m \u001b[0mg\u001b[0m\u001b[1;33m\u001b[0m\u001b[1;33m\u001b[0m\u001b[0m\n",
      "\u001b[1;32m~\\anaconda3\\lib\\site-packages\\scipy\\optimize\\optimize.py\u001b[0m in \u001b[0;36mfunction_wrapper\u001b[1;34m(*wrapper_args)\u001b[0m\n\u001b[0;32m    325\u001b[0m     \u001b[1;32mdef\u001b[0m \u001b[0mfunction_wrapper\u001b[0m\u001b[1;33m(\u001b[0m\u001b[1;33m*\u001b[0m\u001b[0mwrapper_args\u001b[0m\u001b[1;33m)\u001b[0m\u001b[1;33m:\u001b[0m\u001b[1;33m\u001b[0m\u001b[1;33m\u001b[0m\u001b[0m\n\u001b[0;32m    326\u001b[0m         \u001b[0mncalls\u001b[0m\u001b[1;33m[\u001b[0m\u001b[1;36m0\u001b[0m\u001b[1;33m]\u001b[0m \u001b[1;33m+=\u001b[0m \u001b[1;36m1\u001b[0m\u001b[1;33m\u001b[0m\u001b[1;33m\u001b[0m\u001b[0m\n\u001b[1;32m--> 327\u001b[1;33m         \u001b[1;32mreturn\u001b[0m \u001b[0mfunction\u001b[0m\u001b[1;33m(\u001b[0m\u001b[1;33m*\u001b[0m\u001b[1;33m(\u001b[0m\u001b[0mwrapper_args\u001b[0m \u001b[1;33m+\u001b[0m \u001b[0margs\u001b[0m\u001b[1;33m)\u001b[0m\u001b[1;33m)\u001b[0m\u001b[1;33m\u001b[0m\u001b[1;33m\u001b[0m\u001b[0m\n\u001b[0m\u001b[0;32m    328\u001b[0m \u001b[1;33m\u001b[0m\u001b[0m\n\u001b[0;32m    329\u001b[0m     \u001b[1;32mreturn\u001b[0m \u001b[0mncalls\u001b[0m\u001b[1;33m,\u001b[0m \u001b[0mfunction_wrapper\u001b[0m\u001b[1;33m\u001b[0m\u001b[1;33m\u001b[0m\u001b[0m\n",
      "\u001b[1;32m<ipython-input-290-5ae107e504d0>\u001b[0m in \u001b[0;36m<lambda>\u001b[1;34m(x)\u001b[0m\n\u001b[0;32m     15\u001b[0m \u001b[1;33m\u001b[0m\u001b[0m\n\u001b[0;32m     16\u001b[0m         \u001b[1;31m# i. objective\u001b[0m\u001b[1;33m\u001b[0m\u001b[1;33m\u001b[0m\u001b[1;33m\u001b[0m\u001b[0m\n\u001b[1;32m---> 17\u001b[1;33m         \u001b[0mobj\u001b[0m \u001b[1;33m=\u001b[0m \u001b[1;32mlambda\u001b[0m \u001b[0mx\u001b[0m\u001b[1;33m:\u001b[0m \u001b[1;33m-\u001b[0m\u001b[0mv1\u001b[0m\u001b[1;33m(\u001b[0m\u001b[0mx\u001b[0m\u001b[1;33m[\u001b[0m\u001b[1;36m0\u001b[0m\u001b[1;33m]\u001b[0m\u001b[1;33m,\u001b[0m\u001b[0ma1\u001b[0m\u001b[1;33m,\u001b[0m\u001b[0mrho\u001b[0m\u001b[1;33m,\u001b[0m\u001b[0mbeta\u001b[0m\u001b[1;33m,\u001b[0m\u001b[0mr\u001b[0m\u001b[1;33m,\u001b[0m\u001b[0my\u001b[0m\u001b[1;33m,\u001b[0m\u001b[0mv2_interp\u001b[0m\u001b[1;33m,\u001b[0m\u001b[0mkappa\u001b[0m\u001b[1;33m)\u001b[0m\u001b[1;33m\u001b[0m\u001b[1;33m\u001b[0m\u001b[0m\n\u001b[0m\u001b[0;32m     18\u001b[0m \u001b[1;33m\u001b[0m\u001b[0m\n\u001b[0;32m     19\u001b[0m         \u001b[1;31m# ii. initial guess (consume half)\u001b[0m\u001b[1;33m\u001b[0m\u001b[1;33m\u001b[0m\u001b[1;33m\u001b[0m\u001b[0m\n",
      "\u001b[1;32m<ipython-input-280-4157f8ad7030>\u001b[0m in \u001b[0;36mv1\u001b[1;34m(c1, a_lag_vec, a_ubar1, rho, beta, r, y, v2_interp)\u001b[0m\n\u001b[0;32m      3\u001b[0m \u001b[1;33m\u001b[0m\u001b[0m\n\u001b[0;32m      4\u001b[0m     \u001b[1;31m# a. v2 value, if low income\u001b[0m\u001b[1;33m\u001b[0m\u001b[1;33m\u001b[0m\u001b[1;33m\u001b[0m\u001b[0m\n\u001b[1;32m----> 5\u001b[1;33m     \u001b[0ma2_low\u001b[0m \u001b[1;33m=\u001b[0m \u001b[1;33m(\u001b[0m\u001b[1;36m1\u001b[0m\u001b[1;33m+\u001b[0m\u001b[0mr\u001b[0m\u001b[1;33m)\u001b[0m\u001b[1;33m*\u001b[0m\u001b[0ma_lag_vec\u001b[0m \u001b[1;33m+\u001b[0m \u001b[0my\u001b[0m \u001b[1;33m-\u001b[0m \u001b[0mc1\u001b[0m\u001b[1;33m\u001b[0m\u001b[1;33m\u001b[0m\u001b[0m\n\u001b[0m\u001b[0;32m      6\u001b[0m     \u001b[0mv2_low\u001b[0m \u001b[1;33m=\u001b[0m \u001b[0mv2_interp\u001b[0m\u001b[1;33m(\u001b[0m\u001b[1;33m[\u001b[0m\u001b[0ma2_low\u001b[0m\u001b[1;33m]\u001b[0m\u001b[1;33m)\u001b[0m\u001b[1;33m[\u001b[0m\u001b[1;36m0\u001b[0m\u001b[1;33m]\u001b[0m\u001b[1;33m\u001b[0m\u001b[1;33m\u001b[0m\u001b[0m\n\u001b[0;32m      7\u001b[0m \u001b[1;33m\u001b[0m\u001b[0m\n",
      "\u001b[1;31mTypeError\u001b[0m: unsupported operand type(s) for +: 'float' and 'RegularGridInterpolator'"
     ]
    }
   ],
   "source": [
    "# grids\n",
    "m1_vec = np.linspace(1e-8,10,100)\n",
    "a2_vec = np.linspace(1e-8,10,100)\n",
    "\n",
    "\n",
    "def solve_period_1(rho,beta,r,y,v2_interp, kappa):\n",
    "\n",
    "    # a. grids\n",
    "    a_lag_vec = np.linspace(0,300,300)\n",
    "    v1_vec = np.empty(100)\n",
    "    c1_vec = np.empty(100)\n",
    "    \n",
    "    # b. solve for each m1 in grid\n",
    "    for i,a1 in enumerate(a1_vec):\n",
    "        \n",
    "        # i. objective\n",
    "        obj = lambda x: -v1(x[0],a1,rho,beta,r,y,v2_interp,kappa)\n",
    "        \n",
    "        # ii. initial guess (consume half)\n",
    "        x0 = a1/2\n",
    "        \n",
    "        # iii. optimize\n",
    "        result = optimize.minimize(obj,[x0],method='L-BFGS-B',bounds=((1e-12,a1),))\n",
    "        \n",
    "        # iv. save\n",
    "        v1_vec[i] = -result.fun\n",
    "        c1_vec[i] = result.x[0]\n",
    "     \n",
    "    return a1_vec,v1_vec,c1_vec\n",
    "\n",
    "# solve\n",
    "a1_vec,v1_vec,c1_vec = solve_period_1(rho,beta,r,y,v2_interp,kappa)\n",
    "\n",
    "# illustrate\n",
    "fig = plt.figure(figsize=(10,4))\n",
    "ax = fig.add_subplot(1,2,1)\n",
    "ax.plot(a1_vec,c1_vec)\n",
    "ax.set_xlabel('$m_1$')\n",
    "ax.set_ylabel('$c_1$')\n",
    "ax.set_title('consumption function in period 1')\n",
    "\n",
    "ax = fig.add_subplot(1,2,2)\n",
    "ax.plot(a1_vec,v1_vec)\n",
    "ax.set_xlabel('$m_1$')\n",
    "ax.set_ylabel('$v_1$')\n",
    "ax.set_title('value function in period 1')\n",
    "ax.set_ylim([-40,1])\n"
   ]
  },
  {
   "cell_type": "markdown",
   "metadata": {},
   "source": [
    "**Question 3:** Find $c_t^{*}(a_{t-1})$ for $t \\in {0,1,...,T}$ and plot them in a single figure.\n",
    "\n",
    "\n",
    " \n"
   ]
  },
  {
   "cell_type": "code",
   "execution_count": 291,
   "metadata": {},
   "outputs": [
    {
     "output_type": "error",
     "ename": "TypeError",
     "evalue": "solve() missing 1 required positional argument: 'kappa'",
     "traceback": [
      "\u001b[1;31m---------------------------------------------------------------------------\u001b[0m",
      "\u001b[1;31mTypeError\u001b[0m                                 Traceback (most recent call last)",
      "\u001b[1;32m<ipython-input-291-dcd4bc22df3d>\u001b[0m in \u001b[0;36m<module>\u001b[1;34m\u001b[0m\n\u001b[0;32m      3\u001b[0m \u001b[1;33m\u001b[0m\u001b[0m\n\u001b[0;32m      4\u001b[0m \u001b[1;32mfor\u001b[0m \u001b[0mbeta\u001b[0m \u001b[1;32min\u001b[0m \u001b[1;33m[\u001b[0m\u001b[1;36m0.05\u001b[0m\u001b[1;33m,\u001b[0m\u001b[1;36m0.15\u001b[0m\u001b[1;33m,\u001b[0m\u001b[1;36m0.25\u001b[0m\u001b[1;33m]\u001b[0m\u001b[1;33m:\u001b[0m\u001b[1;33m\u001b[0m\u001b[1;33m\u001b[0m\u001b[0m\n\u001b[1;32m----> 5\u001b[1;33m     \u001b[0ma1_vec\u001b[0m\u001b[1;33m,\u001b[0m\u001b[0mc1_vec\u001b[0m\u001b[1;33m,\u001b[0m\u001b[0ma2_vec\u001b[0m\u001b[1;33m,\u001b[0m\u001b[0mc2_vec\u001b[0m \u001b[1;33m=\u001b[0m \u001b[0msolve\u001b[0m\u001b[1;33m(\u001b[0m\u001b[0mrho\u001b[0m\u001b[1;33m,\u001b[0m\u001b[0mbeta\u001b[0m\u001b[1;33m,\u001b[0m\u001b[0mr\u001b[0m\u001b[1;33m,\u001b[0m\u001b[0mDelta\u001b[0m\u001b[1;33m,\u001b[0m\u001b[0mkappa\u001b[0m\u001b[1;33m)\u001b[0m\u001b[1;33m\u001b[0m\u001b[1;33m\u001b[0m\u001b[0m\n\u001b[0m\u001b[0;32m      6\u001b[0m     \u001b[0max\u001b[0m\u001b[1;33m.\u001b[0m\u001b[0mplot\u001b[0m\u001b[1;33m(\u001b[0m\u001b[0ma1_vec\u001b[0m\u001b[1;33m,\u001b[0m\u001b[0mc1_vec\u001b[0m\u001b[1;33m,\u001b[0m\u001b[0mlabel\u001b[0m\u001b[1;33m=\u001b[0m\u001b[1;34mf'$\\Delta = {Delta}$'\u001b[0m\u001b[1;33m)\u001b[0m\u001b[1;33m\u001b[0m\u001b[1;33m\u001b[0m\u001b[0m\n\u001b[0;32m      7\u001b[0m \u001b[1;33m\u001b[0m\u001b[0m\n",
      "\u001b[1;31mTypeError\u001b[0m: solve() missing 1 required positional argument: 'kappa'"
     ]
    }
   ],
   "source": [
    "fig = plt.figure()\n",
    "ax = fig.add_subplot(1,1,1)\n",
    "\n",
    "for beta in [0.05,0.15,0.25]:\n",
    "    a1_vec,c1_vec,a2_vec,c2_vec = solve(rho,beta,r,Delta,kappa)\n",
    "    ax.plot(a1_vec,c1_vec,label=f'$\\Delta = {Delta}$')\n",
    "\n",
    "ax.legend(loc='lower right',facecolor='white',frameon=True)\n",
    "ax.set_xlabel('$m_1$')\n",
    "ax.set_ylabel('$c_1$')\n",
    "ax.set_title('value function in period 1')\n",
    "ax.set_xlim([0,2])\n",
    "ax.set_ylim([0,1.5])"
   ]
  },
  {
   "cell_type": "markdown",
   "metadata": {},
   "source": [
    "Define the saving rate as:\n",
    "\n",
    "$s_{t}^* (a_{t-1})$ = $\\frac{(a_{t}-a_{t-1}+y-c_{t}^*(a_{t-1}))-a_{t-1}}{y+ra_{t-1}}$\n"
   ]
  },
  {
   "cell_type": "markdown",
   "metadata": {},
   "source": [
    "**Question 4:** Plot $s_0^{*}(a_{-1})$. Do the rich or the poor save the most?\n",
    "   "
   ]
  },
  {
   "cell_type": "code",
   "execution_count": 250,
   "metadata": {},
   "outputs": [
    {
     "output_type": "error",
     "ename": "TypeError",
     "evalue": "unsupported operand type(s) for *: 'function' and 'float'",
     "traceback": [
      "\u001b[1;31m---------------------------------------------------------------------------\u001b[0m",
      "\u001b[1;31mTypeError\u001b[0m                                 Traceback (most recent call last)",
      "\u001b[1;32m<ipython-input-250-ba2f86e4d951>\u001b[0m in \u001b[0;36m<module>\u001b[1;34m\u001b[0m\n\u001b[0;32m      1\u001b[0m \u001b[0mDelta\u001b[0m \u001b[1;33m=\u001b[0m \u001b[1;36m0.5\u001b[0m\u001b[1;33m\u001b[0m\u001b[1;33m\u001b[0m\u001b[0m\n\u001b[1;32m----> 2\u001b[1;33m \u001b[0ma1_vec\u001b[0m\u001b[1;33m,\u001b[0m\u001b[0mc1_vec\u001b[0m\u001b[1;33m,\u001b[0m\u001b[0ma2_vec\u001b[0m\u001b[1;33m,\u001b[0m\u001b[0mc2_vec\u001b[0m \u001b[1;33m=\u001b[0m \u001b[0msolve\u001b[0m\u001b[1;33m(\u001b[0m\u001b[0mrho\u001b[0m\u001b[1;33m,\u001b[0m\u001b[0mbeta\u001b[0m\u001b[1;33m,\u001b[0m\u001b[0mr\u001b[0m\u001b[1;33m,\u001b[0m\u001b[0mDelta\u001b[0m\u001b[1;33m,\u001b[0m\u001b[0msigma\u001b[0m\u001b[1;33m,\u001b[0m\u001b[0mkappa\u001b[0m\u001b[1;33m)\u001b[0m\u001b[1;33m\u001b[0m\u001b[1;33m\u001b[0m\u001b[0m\n\u001b[0m\u001b[0;32m      3\u001b[0m \u001b[1;33m\u001b[0m\u001b[0m\n\u001b[0;32m      4\u001b[0m c1_interp = interpolate.RegularGridInterpolator([a1_vec], c1_vec,\n\u001b[0;32m      5\u001b[0m                                                 bounds_error=False,fill_value=None)\n",
      "\u001b[1;32m<ipython-input-249-36b421825d53>\u001b[0m in \u001b[0;36msolve\u001b[1;34m(rho, beta, r, Delta, nu, kappa)\u001b[0m\n\u001b[0;32m      9\u001b[0m \u001b[1;33m\u001b[0m\u001b[0m\n\u001b[0;32m     10\u001b[0m     \u001b[1;31m# c. solve period 1\u001b[0m\u001b[1;33m\u001b[0m\u001b[1;33m\u001b[0m\u001b[1;33m\u001b[0m\u001b[0m\n\u001b[1;32m---> 11\u001b[1;33m     \u001b[0ma1_vec\u001b[0m\u001b[1;33m,\u001b[0m\u001b[0mv1_vec\u001b[0m\u001b[1;33m,\u001b[0m\u001b[0mc1_vec\u001b[0m \u001b[1;33m=\u001b[0m \u001b[0msolve_period_1\u001b[0m\u001b[1;33m(\u001b[0m\u001b[0mrho\u001b[0m\u001b[1;33m,\u001b[0m\u001b[0mbeta\u001b[0m\u001b[1;33m,\u001b[0m\u001b[0mr\u001b[0m\u001b[1;33m,\u001b[0m\u001b[0mDelta\u001b[0m\u001b[1;33m,\u001b[0m\u001b[0mv2_interp\u001b[0m\u001b[1;33m)\u001b[0m\u001b[1;33m\u001b[0m\u001b[1;33m\u001b[0m\u001b[0m\n\u001b[0m\u001b[0;32m     12\u001b[0m \u001b[1;33m\u001b[0m\u001b[0m\n\u001b[0;32m     13\u001b[0m     \u001b[1;32mreturn\u001b[0m \u001b[0ma1_vec\u001b[0m\u001b[1;33m,\u001b[0m\u001b[0mc1_vec\u001b[0m\u001b[1;33m,\u001b[0m\u001b[0ma2_vec\u001b[0m\u001b[1;33m,\u001b[0m\u001b[0mc2_vec\u001b[0m\u001b[1;33m\u001b[0m\u001b[1;33m\u001b[0m\u001b[0m\n",
      "\u001b[1;32m<ipython-input-247-db8abecdf1e3>\u001b[0m in \u001b[0;36msolve_period_1\u001b[1;34m(rho, beta, r, Delta, v2_interp)\u001b[0m\n\u001b[0;32m     21\u001b[0m \u001b[1;33m\u001b[0m\u001b[0m\n\u001b[0;32m     22\u001b[0m         \u001b[1;31m# iii. optimize\u001b[0m\u001b[1;33m\u001b[0m\u001b[1;33m\u001b[0m\u001b[1;33m\u001b[0m\u001b[0m\n\u001b[1;32m---> 23\u001b[1;33m         \u001b[0mresult\u001b[0m \u001b[1;33m=\u001b[0m \u001b[0moptimize\u001b[0m\u001b[1;33m.\u001b[0m\u001b[0mminimize\u001b[0m\u001b[1;33m(\u001b[0m\u001b[0mobj\u001b[0m\u001b[1;33m,\u001b[0m\u001b[1;33m[\u001b[0m\u001b[0mx0\u001b[0m\u001b[1;33m]\u001b[0m\u001b[1;33m,\u001b[0m\u001b[0mmethod\u001b[0m\u001b[1;33m=\u001b[0m\u001b[1;34m'L-BFGS-B'\u001b[0m\u001b[1;33m,\u001b[0m\u001b[0mbounds\u001b[0m\u001b[1;33m=\u001b[0m\u001b[1;33m(\u001b[0m\u001b[1;33m(\u001b[0m\u001b[1;36m1e-12\u001b[0m\u001b[1;33m,\u001b[0m\u001b[0ma1\u001b[0m\u001b[1;33m)\u001b[0m\u001b[1;33m,\u001b[0m\u001b[1;33m)\u001b[0m\u001b[1;33m)\u001b[0m\u001b[1;33m\u001b[0m\u001b[1;33m\u001b[0m\u001b[0m\n\u001b[0m\u001b[0;32m     24\u001b[0m \u001b[1;33m\u001b[0m\u001b[0m\n\u001b[0;32m     25\u001b[0m         \u001b[1;31m# iv. save\u001b[0m\u001b[1;33m\u001b[0m\u001b[1;33m\u001b[0m\u001b[1;33m\u001b[0m\u001b[0m\n",
      "\u001b[1;32m~\\anaconda3\\lib\\site-packages\\scipy\\optimize\\_minimize.py\u001b[0m in \u001b[0;36mminimize\u001b[1;34m(fun, x0, args, method, jac, hess, hessp, bounds, constraints, tol, callback, options)\u001b[0m\n\u001b[0;32m    608\u001b[0m     \u001b[1;32melif\u001b[0m \u001b[0mmeth\u001b[0m \u001b[1;33m==\u001b[0m \u001b[1;34m'l-bfgs-b'\u001b[0m\u001b[1;33m:\u001b[0m\u001b[1;33m\u001b[0m\u001b[1;33m\u001b[0m\u001b[0m\n\u001b[0;32m    609\u001b[0m         return _minimize_lbfgsb(fun, x0, args, jac, bounds,\n\u001b[1;32m--> 610\u001b[1;33m                                 callback=callback, **options)\n\u001b[0m\u001b[0;32m    611\u001b[0m     \u001b[1;32melif\u001b[0m \u001b[0mmeth\u001b[0m \u001b[1;33m==\u001b[0m \u001b[1;34m'tnc'\u001b[0m\u001b[1;33m:\u001b[0m\u001b[1;33m\u001b[0m\u001b[1;33m\u001b[0m\u001b[0m\n\u001b[0;32m    612\u001b[0m         return _minimize_tnc(fun, x0, args, jac, bounds, callback=callback,\n",
      "\u001b[1;32m~\\anaconda3\\lib\\site-packages\\scipy\\optimize\\lbfgsb.py\u001b[0m in \u001b[0;36m_minimize_lbfgsb\u001b[1;34m(fun, x0, args, jac, bounds, disp, maxcor, ftol, gtol, eps, maxfun, maxiter, iprint, callback, maxls, **unknown_options)\u001b[0m\n\u001b[0;32m    343\u001b[0m             \u001b[1;31m# until the completion of the current minimization iteration.\u001b[0m\u001b[1;33m\u001b[0m\u001b[1;33m\u001b[0m\u001b[1;33m\u001b[0m\u001b[0m\n\u001b[0;32m    344\u001b[0m             \u001b[1;31m# Overwrite f and g:\u001b[0m\u001b[1;33m\u001b[0m\u001b[1;33m\u001b[0m\u001b[1;33m\u001b[0m\u001b[0m\n\u001b[1;32m--> 345\u001b[1;33m             \u001b[0mf\u001b[0m\u001b[1;33m,\u001b[0m \u001b[0mg\u001b[0m \u001b[1;33m=\u001b[0m \u001b[0mfunc_and_grad\u001b[0m\u001b[1;33m(\u001b[0m\u001b[0mx\u001b[0m\u001b[1;33m)\u001b[0m\u001b[1;33m\u001b[0m\u001b[1;33m\u001b[0m\u001b[0m\n\u001b[0m\u001b[0;32m    346\u001b[0m         \u001b[1;32melif\u001b[0m \u001b[0mtask_str\u001b[0m\u001b[1;33m.\u001b[0m\u001b[0mstartswith\u001b[0m\u001b[1;33m(\u001b[0m\u001b[1;34mb'NEW_X'\u001b[0m\u001b[1;33m)\u001b[0m\u001b[1;33m:\u001b[0m\u001b[1;33m\u001b[0m\u001b[1;33m\u001b[0m\u001b[0m\n\u001b[0;32m    347\u001b[0m             \u001b[1;31m# new iteration\u001b[0m\u001b[1;33m\u001b[0m\u001b[1;33m\u001b[0m\u001b[1;33m\u001b[0m\u001b[0m\n",
      "\u001b[1;32m~\\anaconda3\\lib\\site-packages\\scipy\\optimize\\lbfgsb.py\u001b[0m in \u001b[0;36mfunc_and_grad\u001b[1;34m(x)\u001b[0m\n\u001b[0;32m    288\u001b[0m     \u001b[1;32mif\u001b[0m \u001b[0mjac\u001b[0m \u001b[1;32mis\u001b[0m \u001b[1;32mNone\u001b[0m\u001b[1;33m:\u001b[0m\u001b[1;33m\u001b[0m\u001b[1;33m\u001b[0m\u001b[0m\n\u001b[0;32m    289\u001b[0m         \u001b[1;32mdef\u001b[0m \u001b[0mfunc_and_grad\u001b[0m\u001b[1;33m(\u001b[0m\u001b[0mx\u001b[0m\u001b[1;33m)\u001b[0m\u001b[1;33m:\u001b[0m\u001b[1;33m\u001b[0m\u001b[1;33m\u001b[0m\u001b[0m\n\u001b[1;32m--> 290\u001b[1;33m             \u001b[0mf\u001b[0m \u001b[1;33m=\u001b[0m \u001b[0mfun\u001b[0m\u001b[1;33m(\u001b[0m\u001b[0mx\u001b[0m\u001b[1;33m,\u001b[0m \u001b[1;33m*\u001b[0m\u001b[0margs\u001b[0m\u001b[1;33m)\u001b[0m\u001b[1;33m\u001b[0m\u001b[1;33m\u001b[0m\u001b[0m\n\u001b[0m\u001b[0;32m    291\u001b[0m             \u001b[0mg\u001b[0m \u001b[1;33m=\u001b[0m \u001b[0m_approx_fprime_helper\u001b[0m\u001b[1;33m(\u001b[0m\u001b[0mx\u001b[0m\u001b[1;33m,\u001b[0m \u001b[0mfun\u001b[0m\u001b[1;33m,\u001b[0m \u001b[0mepsilon\u001b[0m\u001b[1;33m,\u001b[0m \u001b[0margs\u001b[0m\u001b[1;33m=\u001b[0m\u001b[0margs\u001b[0m\u001b[1;33m,\u001b[0m \u001b[0mf0\u001b[0m\u001b[1;33m=\u001b[0m\u001b[0mf\u001b[0m\u001b[1;33m)\u001b[0m\u001b[1;33m\u001b[0m\u001b[1;33m\u001b[0m\u001b[0m\n\u001b[0;32m    292\u001b[0m             \u001b[1;32mreturn\u001b[0m \u001b[0mf\u001b[0m\u001b[1;33m,\u001b[0m \u001b[0mg\u001b[0m\u001b[1;33m\u001b[0m\u001b[1;33m\u001b[0m\u001b[0m\n",
      "\u001b[1;32m~\\anaconda3\\lib\\site-packages\\scipy\\optimize\\optimize.py\u001b[0m in \u001b[0;36mfunction_wrapper\u001b[1;34m(*wrapper_args)\u001b[0m\n\u001b[0;32m    325\u001b[0m     \u001b[1;32mdef\u001b[0m \u001b[0mfunction_wrapper\u001b[0m\u001b[1;33m(\u001b[0m\u001b[1;33m*\u001b[0m\u001b[0mwrapper_args\u001b[0m\u001b[1;33m)\u001b[0m\u001b[1;33m:\u001b[0m\u001b[1;33m\u001b[0m\u001b[1;33m\u001b[0m\u001b[0m\n\u001b[0;32m    326\u001b[0m         \u001b[0mncalls\u001b[0m\u001b[1;33m[\u001b[0m\u001b[1;36m0\u001b[0m\u001b[1;33m]\u001b[0m \u001b[1;33m+=\u001b[0m \u001b[1;36m1\u001b[0m\u001b[1;33m\u001b[0m\u001b[1;33m\u001b[0m\u001b[0m\n\u001b[1;32m--> 327\u001b[1;33m         \u001b[1;32mreturn\u001b[0m \u001b[0mfunction\u001b[0m\u001b[1;33m(\u001b[0m\u001b[1;33m*\u001b[0m\u001b[1;33m(\u001b[0m\u001b[0mwrapper_args\u001b[0m \u001b[1;33m+\u001b[0m \u001b[0margs\u001b[0m\u001b[1;33m)\u001b[0m\u001b[1;33m)\u001b[0m\u001b[1;33m\u001b[0m\u001b[1;33m\u001b[0m\u001b[0m\n\u001b[0m\u001b[0;32m    328\u001b[0m \u001b[1;33m\u001b[0m\u001b[0m\n\u001b[0;32m    329\u001b[0m     \u001b[1;32mreturn\u001b[0m \u001b[0mncalls\u001b[0m\u001b[1;33m,\u001b[0m \u001b[0mfunction_wrapper\u001b[0m\u001b[1;33m\u001b[0m\u001b[1;33m\u001b[0m\u001b[0m\n",
      "\u001b[1;32m<ipython-input-247-db8abecdf1e3>\u001b[0m in \u001b[0;36m<lambda>\u001b[1;34m(x)\u001b[0m\n\u001b[0;32m     15\u001b[0m \u001b[1;33m\u001b[0m\u001b[0m\n\u001b[0;32m     16\u001b[0m         \u001b[1;31m# i. objective\u001b[0m\u001b[1;33m\u001b[0m\u001b[1;33m\u001b[0m\u001b[1;33m\u001b[0m\u001b[0m\n\u001b[1;32m---> 17\u001b[1;33m         \u001b[0mobj\u001b[0m \u001b[1;33m=\u001b[0m \u001b[1;32mlambda\u001b[0m \u001b[0mx\u001b[0m\u001b[1;33m:\u001b[0m \u001b[1;33m-\u001b[0m\u001b[0mv1\u001b[0m\u001b[1;33m(\u001b[0m\u001b[0mx\u001b[0m\u001b[1;33m[\u001b[0m\u001b[1;36m0\u001b[0m\u001b[1;33m]\u001b[0m\u001b[1;33m,\u001b[0m\u001b[0ma1\u001b[0m\u001b[1;33m,\u001b[0m\u001b[0mrho\u001b[0m\u001b[1;33m,\u001b[0m\u001b[0mbeta\u001b[0m\u001b[1;33m,\u001b[0m\u001b[0mr\u001b[0m\u001b[1;33m,\u001b[0m\u001b[0mDelta\u001b[0m\u001b[1;33m,\u001b[0m\u001b[0my\u001b[0m\u001b[1;33m,\u001b[0m\u001b[0mv2_interp\u001b[0m\u001b[1;33m)\u001b[0m\u001b[1;33m\u001b[0m\u001b[1;33m\u001b[0m\u001b[0m\n\u001b[0m\u001b[0;32m     18\u001b[0m \u001b[1;33m\u001b[0m\u001b[0m\n\u001b[0;32m     19\u001b[0m         \u001b[1;31m# ii. initial guess (consume half)\u001b[0m\u001b[1;33m\u001b[0m\u001b[1;33m\u001b[0m\u001b[1;33m\u001b[0m\u001b[0m\n",
      "\u001b[1;32m<ipython-input-243-4157f8ad7030>\u001b[0m in \u001b[0;36mv1\u001b[1;34m(c1, a_lag_vec, a_ubar1, rho, beta, r, y, v2_interp)\u001b[0m\n\u001b[0;32m     11\u001b[0m \u001b[1;33m\u001b[0m\u001b[0m\n\u001b[0;32m     12\u001b[0m     \u001b[1;31m# c. total value\u001b[0m\u001b[1;33m\u001b[0m\u001b[1;33m\u001b[0m\u001b[1;33m\u001b[0m\u001b[0m\n\u001b[1;32m---> 13\u001b[1;33m     \u001b[1;32mreturn\u001b[0m \u001b[0mutility\u001b[0m\u001b[1;33m(\u001b[0m\u001b[0mc1\u001b[0m\u001b[1;33m,\u001b[0m\u001b[0mrho\u001b[0m\u001b[1;33m)\u001b[0m \u001b[1;33m+\u001b[0m \u001b[0mv2\u001b[0m\u001b[1;33m*\u001b[0m\u001b[0mbeta\u001b[0m\u001b[1;33m\u001b[0m\u001b[1;33m\u001b[0m\u001b[0m\n\u001b[0m",
      "\u001b[1;31mTypeError\u001b[0m: unsupported operand type(s) for *: 'function' and 'float'"
     ]
    }
   ],
   "source": [
    "Delta = 0.5\n",
    "a1_vec,c1_vec,a2_vec,c2_vec = solve(rho,beta,r,Delta,sigma,kappa)\n",
    "\n",
    "c1_interp = interpolate.RegularGridInterpolator([a1_vec], c1_vec,\n",
    "                                                bounds_error=False,fill_value=None)\n",
    "\n",
    "c2_interp = interpolate.RegularGridInterpolator([a2_vec], c2_vec,\n",
    "                                                bounds_error=False,fill_value=None)\n",
    "\n",
    "#Draw initial distribution\n",
    "# a. draw initial\n",
    "simN = 10000\n",
    "sim_a1 = np.fmax(np.random.normal(1,0.1,size=simN),0) # \"randomly\" chosen distribution\n",
    "\n",
    "# b. period 1\n",
    "sim_c1 = c1_interp(sim_a1)\n",
    "sim_a1 = sim_a1-sim_c1\n",
    "\n",
    "# c. transition to period 2 with random draw\n",
    "sim_a2 = (1+r)*sim_a1+np.random.choice([0.5,1.5],p=[0.5,0.5])\n",
    "\n",
    "# d. period 2\n",
    "sim_c2 = c2_interp(sim_a2)\n",
    "\n",
    "#Plot distributions\n",
    "fig = plt.figure()\n",
    "ax = fig.add_subplot(1,1,1)\n",
    "\n",
    "ax.hist(sim_c1,bins=100,label='period 1')\n",
    "ax.hist(sim_c2,bins=100,label='period 2')\n",
    "\n",
    "ax.legend(loc='lower right',facecolor='white',frameon=True)\n",
    "ax.set_xlabel('$c_t$')\n",
    "ax.set_ylabel('freq.')\n",
    "ax.set_title('consumption')"
   ]
  },
  {
   "cell_type": "markdown",
   "metadata": {},
   "source": [
    "**Question 5:** Can you change the parameter choices such that $s_0^{*}(a_{-1})$ is monotonically decreasing in $a_{-1}$?"
   ]
  },
  {
   "cell_type": "markdown",
   "metadata": {},
   "source": [
    "# Refined grid search"
   ]
  },
  {
   "cell_type": "markdown",
   "metadata": {},
   "source": [
    "Let $\\boldsymbol{x} = \\left[\\begin{array}{c}\n",
    "x_1 \\\\\n",
    "x_2\\\\\n",
    "\\end{array}\\right]$ be a two-dimensional vector. Consider the following algorithm:"
   ]
  },
  {
   "cell_type": "markdown",
   "metadata": {},
   "source": [
    "**Algorithm:** `grid_search()`\n",
    "\n",
    "**Goal:** Minimize the function $f(\\boldsymbol{x})$.\n",
    "\n",
    "1. Choose a grid size $N$ and minimum and maximum values of $x_{1}$ and $x_{2}$ denoted $\\overline{x_{1}}$>$\\underline{x_{1}}$ and $\\overline{x_{2}}$>$\\underline{x_{2}}$\n",
    "2. Calculate step sizes \n",
    "\n",
    "    $\\Delta_{1}$ =($\\overline{x_{1}}$-$\\underline{x_{1}}$)/(N-1)\n",
    "    \n",
    "    $\\Delta_{2}$ =($\\overline{x_{2}}$-$\\underline{x_{2}}$)/(N-1)\n",
    "3. Find the grid point with the lowest function value solving \n",
    "\n",
    "    $j^{*}_{1}$, $j^{*}_{2}$ = $arg_{j_{1}\\in{0,...,N-1}, j_{2}\\in{0,...,N-1}}$  f( $\\underline{x_{1}+j_{1}$\\Delta_{1}$,$\\underline{x_{2}+j_{2}$\\Delta_{2}$)\n",
    "\n",
    "    \n",
    "    \n",
    "\n",
    "\n",
    "1. Return \n"
   ]
  },
  {
   "cell_type": "markdown",
   "metadata": {},
   "source": [
    "**Question 1:** Implement the grid_search() algorithm to minimize the rosen function.\n"
   ]
  },
  {
   "cell_type": "code",
   "execution_count": 648,
   "metadata": {},
   "outputs": [],
   "source": [
    "def rosen(x):\n",
    " return (1.0-x[0])**2+2*(x[1]-x[0]**2)**2\n"
   ]
  },
  {
   "cell_type": "code",
   "execution_count": 665,
   "metadata": {
    "tags": []
   },
   "outputs": [],
   "source": [
    "# settings\n",
    "x1_min = 0\n",
    "x1_max = 5\n",
    "x2_min = 0\n",
    "x2_max = 4\n",
    "N = 1000\n",
    "#Implementing grid_search()\n",
    "def grid_search(f,x1_min,x1_max,x2_min,x2_max,N):\n",
    "    \n",
    "    #calculate step sizes\n",
    "    delta1=(x1_max-x1_min)/(N-1)\n",
    "    delta2=(x2_max-x2_min)/(N-1)\n",
    "\n",
    "    f_min = np.inf\n",
    "    arg_x_min = None\n",
    "    x = None\n",
    "\n",
    "\n",
    "    for i in range(N):\n",
    "        for j in range(N):\n",
    "            x = [x1_min+i*delta1,x2_min+j*delta2]\n",
    "            f_val = f(x)\n",
    "            if f_val < f_min:\n",
    "                f_min = f_val\n",
    "                arg_x_min = x\n",
    "    \n",
    "\n",
    "\n",
    "\n",
    "    return arg_x_min,f_min\n",
    "\n",
    "# apply grid search\n",
    "x,f = grid_search(rosen,x1_min,x1_max,x2_min,x2_max,N)\n"
   ]
  },
  {
   "cell_type": "markdown",
   "metadata": {},
   "source": [
    "**Question 2:** Implement the refined_grid_search() algorithm to minimize the rosen function"
   ]
  },
  {
   "cell_type": "code",
   "execution_count": 687,
   "metadata": {
    "tags": []
   },
   "outputs": [],
   "source": [
    "K = 10\n",
    "def refined_grid_search(f,x1_min,x1_max,x2_min,x2_max,N,K):\n",
    "    x = [None]*2\n",
    "    k = 0\n",
    "    for i in range(K):\n",
    "        if k > 0:\n",
    "            x1_delta = 3*(x1_max-x1_min)/(N-1)\n",
    "            x2_delta = 3*(x2_max-x2_min)/(N-1)\n",
    "            x1_min = np.maximum(x1_min,x[0]-x1_delta)\n",
    "            x2_min = np.maximum(x2_min,x[1]-x2_delta)\n",
    "\n",
    "            x1_max = np.minimum(x1_max,x[0]+x1_delta)\n",
    "            x2_max = np.minimum(x2_max,x[1]+x2_delta)\n",
    "\n",
    "        x,f_max = grid_search(f,x1_min,x1_max,x2_min,x2_max,N)\n",
    "        k = k + 1\n",
    "        if k >= K: \n",
    "            \n",
    "            return x, f_max \n",
    "\n",
    "\n",
    "# more settings\n",
    "\n",
    "# apply refined grid search\n",
    "x,f_max = refined_grid_search(rosen,x1_min,x1_max,x2_min,x2_max,N,K)"
   ]
  },
  {
   "cell_type": "code",
   "execution_count": 685,
   "metadata": {},
   "outputs": [
    {
     "output_type": "execute_result",
     "data": {
      "text/plain": "1"
     },
     "metadata": {},
     "execution_count": 685
    }
   ],
   "source": [
    "np.minimum(1,2)"
   ]
  }
 ],
 "metadata": {
  "language_info": {
   "codemirror_mode": {
    "name": "ipython",
    "version": 3
   },
   "file_extension": ".py",
   "mimetype": "text/x-python",
   "name": "python",
   "nbconvert_exporter": "python",
   "pygments_lexer": "ipython3",
   "version": "3.7.6-final"
  },
  "orig_nbformat": 2,
  "kernelspec": {
   "name": "python3",
   "display_name": "Python 3"
  }
 },
 "nbformat": 4,
 "nbformat_minor": 2
}
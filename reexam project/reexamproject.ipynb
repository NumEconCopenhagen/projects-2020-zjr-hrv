{
 "cells": [
  {
   "cell_type": "code",
   "execution_count": 33,
   "metadata": {},
   "outputs": [],
   "source": [
    "#Import and set magics\n",
    "import numpy as np\n",
    "%matplotlib inline\n",
    "import pandas as pd\n",
    "import datetime\n",
    "import pandas_datareader\n",
    "import pydst\n",
    "import statsmodels.api as sm\n",
    "import statsmodels.formula.api as smf\n",
    "from statsmodels.sandbox.regression.predstd import wls_prediction_std\n",
    "import scipy as sp\n",
    "from scipy import stats\n",
    "from scipy import optimize\n",
    "from scipy import interpolate\n",
    "from scipy import linalg\n",
    "import sympy as sm\n",
    "\n",
    "import matplotlib.pyplot as plt\n",
    "plt.style.use('seaborn-whitegrid')\n",
    "from matplotlib import cm\n",
    "%matplotlib inline\n",
    "from matplotlib import cm\n",
    "from mpl_toolkits.mplot3d import Axes3D\n",
    "from matplotlib import pyplot\n"
   ]
  },
  {
   "cell_type": "markdown",
   "metadata": {},
   "source": [
    "# Estimating income processes\n"
   ]
  },
  {
   "cell_type": "markdown",
   "metadata": {},
   "source": [
    "Consider $N$ households indexed by $i$ who are in the labor market for $T$ periods indexed by $t \\in ${1,2,...,T}$,\n",
    "\n",
    "Their **wage income** is stochastic and given by,\n",
    " \n",
    "$P_{i,t}$ = $\\psi_{i,t}$ $P_{i,t-1}$\n",
    "\n",
    "$\\tilde{Y}_{i,t}$ = $xi_{i,t}$ $P_{i,t}$\n",
    "\n",
    "$Y_{i,t}$ = \\left\\begin{array}{rcl}$\n",
    "            \\overline{\\overline{0}+\\text{if}\\mu_{i,t}<\\pi}\n",
    "            \\\\tilde{Y}_{i,t} +\\text{else}\n",
    "            \\end{array}\\right.\n",
    "\n",
    "\n",
    "   \n",
    "\n",
    "\n",
    "$\\psi_{i,t}$ ~ LogNormal(-0.5$\\sigma_{\\psi}^2$,$\\sigma_{\\psi})$\n",
    "\n",
    "$\\xi_{i,t}$ ~ LogNormal(-0.5$\\sigma_{\\xi}^2$,$\\sigma_{\\xi})$\n",
    "\n",
    "$\\mu_{i,t}$ ~ $Uniform(0,1)$\n",
    "\n",
    "\n",
    "$P_{0} = 1$\n",
    "   \n",
    "where\n",
    "\n",
    "$\\sigma_{\\psi}$ is the standard deviation of the *permanent* shocks, $\\psi_{i,t}$\n",
    "\n",
    "$\\sigma_{\\xi}$ is the standard deviation of the *transitory* shocks, $\\xi_{i,t}$\n",
    "\n",
    "$\\pi$ is the risk of unemployment"
   ]
  },
  {
   "cell_type": "markdown",
   "metadata": {},
   "source": [
    "The data you have access to is:\n"
   ]
  },
  {
   "cell_type": "code",
   "execution_count": 87,
   "metadata": {
    "tags": []
   },
   "outputs": [
    {
     "output_type": "stream",
     "name": "stdout",
     "text": "[[0.83317569 0.72881172 0.         ... 1.16771806 0.93207083 0.86711803]\n [1.18542294 0.92826337 1.62913142 ... 1.13903869 0.94479246 0.78842682]\n [1.14813596 0.90542496 0.70634401 ... 1.49584791 1.08969956 0.        ]\n ...\n [0.73818651 0.59958039 0.56135238 ... 2.60075173 1.07070489 0.43010036]\n [1.14130879 0.85728537 0.54530761 ... 3.79294856 0.67764143 0.38720822]\n [0.64908127 0.85101393 0.59517395 ... 3.32800991 0.82400879 0.5814573 ]]\n(20, 50000)\n"
    }
   ],
   "source": [
    "import numpy as np\n",
    "dataY = np.load(r'C:\\Users\\musse\\Documents\\GitHub\\projects-2020-zjr-hrv\\projects-2020-zjr-hrv\\dataY.npy')\n",
    "T,N = dataY.shape\n",
    "print(dataY)\n",
    "print(dataY.shape)\n",
    "\n",
    "\n"
   ]
  },
  {
   "cell_type": "markdown",
   "metadata": {},
   "source": [
    "**Question 1:** Calculate income growth rates as log-changes"
   ]
  },
  {
   "cell_type": "code",
   "execution_count": 102,
   "metadata": {
    "tags": []
   },
   "outputs": [
    {
     "output_type": "stream",
     "name": "stdout",
     "text": "initial diff [[-0.13382911        -inf         inf ...  0.45991757 -0.22539794\n  -0.0722337 ]\n [-0.2445394   0.56248678 -0.45247293 ...  0.10650339 -0.18697465\n  -0.18092569]\n [-0.2374906  -0.24830202  0.49367077 ...  0.38133059 -0.31679118\n         -inf]\n ...\n [-0.20796646 -0.06588123  0.6550227  ...  1.08826931 -0.88748332\n  -0.9120539 ]\n [-0.2861601  -0.45242079  0.43603115 ...  1.35354726 -1.7222807\n  -0.5596557 ]\n [ 0.27087056 -0.35757477  0.31896575 ...  1.52939372 -1.39594858\n  -0.34864367]]\nNew resulting diff:  [[       nan        nan        inf ... 0.45991757        nan        nan]\n [       nan 0.56248678        nan ... 0.10650339        nan        nan]\n [       nan        nan 0.49367077 ... 0.38133059        nan        nan]\n ...\n [       nan        nan 0.6550227  ... 1.08826931        nan        nan]\n [       nan        nan 0.43603115 ... 1.35354726        nan        nan]\n [0.27087056        nan 0.31896575 ... 1.52939372        nan        nan]]\n"
    }
   ],
   "source": [
    "#Defining income growth rate by finding the first differences. Thereafter replacing the negative Y-values with .nan\n",
    "\n",
    "logY = np.diff(np.log(dataY))\n",
    "#diff_dataY = np.diff(dataY) \n",
    "  \n",
    "# printing initial arrays \n",
    "print(\"Initial diff\", logY) \n",
    "  \n",
    "# code to replace all negative value with 0 \n",
    "logY[logY<=0] = np.nan\n",
    "  \n",
    "# printing result \n",
    "print(\"New resulting diff: \", logY) \n",
    "\n",
    "\n",
    "\n",
    "\n"
   ]
  },
  {
   "cell_type": "markdown",
   "metadata": {},
   "source": [
    "**Question 2:** Calculate the following 3 statistics from the data:\n",
    "\n",
    "$s_{1}$: Share of observations with $Y_{i,t}$=0\n",
    "\n",
    "$s_{2}$: Variance of income growth rate, Var($\\Delta$ Log $Y_{i,t}$)\n",
    "\n",
    "$s_{3}$: Covariance of income growth rates one period apart, Cov($\\Delta$ Log $Y_{i,t}$,$\\Delta$ Log $Y_{i,t-1}$ )"
   ]
  },
  {
   "cell_type": "markdown",
   "metadata": {},
   "source": [
    "To count shares of observations with $Y_{i,t}$=0, we use the nonzero-function"
   ]
  },
  {
   "cell_type": "code",
   "execution_count": 103,
   "metadata": {
    "tags": []
   },
   "outputs": [
    {
     "output_type": "stream",
     "name": "stdout",
     "text": "Number of observations with Y=0 is\n"
    },
    {
     "output_type": "execute_result",
     "data": {
      "text/plain": "49925"
     },
     "metadata": {},
     "execution_count": 103
    }
   ],
   "source": [
    "#S1:\n",
    "print('Number of observations with Y=0 is') \n",
    "np.count_nonzero(dataY==0)\n",
    "\n"
   ]
  },
  {
   "cell_type": "markdown",
   "metadata": {},
   "source": [
    "The variance is calculated by the mean of square minus the square of the mean, i.e.\n",
    "\n",
    "$Var(x)=E[(X-\\mu)^{2}]$\n",
    "\n"
   ]
  },
  {
   "cell_type": "code",
   "execution_count": 104,
   "metadata": {
    "tags": []
   },
   "outputs": [
    {
     "output_type": "stream",
     "name": "stdout",
     "text": "nan\n"
    }
   ],
   "source": [
    "#S2:\n",
    "print(np.var(logY))"
   ]
  },
  {
   "cell_type": "markdown",
   "metadata": {},
   "source": [
    "As seen above, the variance results in \"nan\", meaning we would have to remove the nan values from our sample to find a value for the variance. Hence, we find:"
   ]
  },
  {
   "cell_type": "code",
   "execution_count": 106,
   "metadata": {
    "tags": []
   },
   "outputs": [
    {
     "output_type": "stream",
     "name": "stdout",
     "text": "The variance is 0.15780801990005514\n"
    }
   ],
   "source": [
    "diffY = diff_dataY[~np.isnan(diff_dataY)]\n",
    "print('The variance is' ,np.var(diffY))"
   ]
  },
  {
   "cell_type": "markdown",
   "metadata": {},
   "source": [
    "Finally, the Covariance is found by"
   ]
  },
  {
   "cell_type": "code",
   "execution_count": 94,
   "metadata": {},
   "outputs": [
    {
     "output_type": "execute_result",
     "data": {
      "text/plain": "array(0.15780833)"
     },
     "metadata": {},
     "execution_count": 94
    }
   ],
   "source": [
    "np.cov(diffY)"
   ]
  },
  {
   "cell_type": "markdown",
   "metadata": {},
   "source": [
    "Question 3: Simulate the income process using your own choice of $\\sigma_{\\psi}$, $\\sigma_{\\xi}$, $\\pi$, T and N. Calculate the 3 same statistics. Compare with the data statistics"
   ]
  },
  {
   "cell_type": "code",
   "execution_count": 159,
   "metadata": {},
   "outputs": [
    {
     "output_type": "error",
     "ename": "TypeError",
     "evalue": "'float' object cannot be interpreted as an integer",
     "traceback": [
      "\u001b[1;31m---------------------------------------------------------------------------\u001b[0m",
      "\u001b[1;31mTypeError\u001b[0m                                 Traceback (most recent call last)",
      "\u001b[1;32m<ipython-input-159-3910f33d9da0>\u001b[0m in \u001b[0;36m<module>\u001b[1;34m\u001b[0m\n\u001b[0;32m      8\u001b[0m \u001b[0ms_xi\u001b[0m \u001b[1;33m=\u001b[0m \u001b[1;36m0.4\u001b[0m\u001b[1;33m\u001b[0m\u001b[1;33m\u001b[0m\u001b[0m\n\u001b[0;32m      9\u001b[0m \u001b[1;33m\u001b[0m\u001b[0m\n\u001b[1;32m---> 10\u001b[1;33m \u001b[0msim_income\u001b[0m \u001b[1;33m=\u001b[0m \u001b[0mnp\u001b[0m\u001b[1;33m.\u001b[0m\u001b[0mrandom\u001b[0m\u001b[1;33m.\u001b[0m\u001b[0mnormal\u001b[0m\u001b[1;33m(\u001b[0m\u001b[0mpi\u001b[0m\u001b[1;33m,\u001b[0m\u001b[0ms_psi\u001b[0m\u001b[1;33m,\u001b[0m\u001b[0ms_xi\u001b[0m\u001b[1;33m)\u001b[0m\u001b[1;33m\u001b[0m\u001b[1;33m\u001b[0m\u001b[0m\n\u001b[0m\u001b[0;32m     11\u001b[0m \u001b[0msim_income\u001b[0m\u001b[1;33m[\u001b[0m\u001b[1;33m:\u001b[0m\u001b[1;36m1000\u001b[0m\u001b[1;33m]\u001b[0m\u001b[1;33m\u001b[0m\u001b[1;33m\u001b[0m\u001b[0m\n",
      "\u001b[1;32mmtrand.pyx\u001b[0m in \u001b[0;36mnumpy.random.mtrand.RandomState.normal\u001b[1;34m()\u001b[0m\n",
      "\u001b[1;32m_common.pyx\u001b[0m in \u001b[0;36mnumpy.random._common.cont\u001b[1;34m()\u001b[0m\n",
      "\u001b[1;31mTypeError\u001b[0m: 'float' object cannot be interpreted as an integer"
     ]
    }
   ],
   "source": [
    "import matplotlib.pyplot as plt\n",
    "%matplotlib inline\n",
    "#Simulated figures\n",
    "T = 50\n",
    "N = 1000\n",
    "pi = 0.3\n",
    "s_psi = 0.23\n",
    "s_xi = 0.4\n",
    "\n",
    "sim_income = np.random.normal(pi,s_psi,s_xi)\n",
    "sim_income[:1000]"
   ]
  },
  {
   "cell_type": "code",
   "execution_count": 155,
   "metadata": {},
   "outputs": [],
   "source": [
    "import matplotlib.pyplot as plt\n",
    "%matplotlib inline\n",
    "import numpy as np\n",
    "import random\n",
    "from numba import njit\n",
    "\n",
    "#Simulated figures\n",
    "T = 50\n",
    "N = 1000\n",
    "pi = 0.3\n",
    "s_psi = 0.23\n",
    "s_xi = 0.4\n",
    "\n",
    "#Model\n",
    "psi = np.random.lognormal(-0.5 * s_psi, s_psi, 1000)\n",
    "xi = np.random.lognormal(-0.5 * s_xi,s_xi, 1000)\n",
    "P_0 = 1\n",
    "P = psi * P_0\n",
    "Y_tilde = xi * P\n",
    "mu = np.random.uniform(0,1)\n",
    "\n",
    "\n",
    "\n",
    "\n",
    "#Defining Y\n",
    "def income(Y): \n",
    "    if mu < pi:\n",
    "        Y=0 \n",
    "    else :\n",
    "        Y = Y_tilde\n",
    "\n",
    "@njit\n",
    "def time_path(T):\n",
    "    w = np.random.randn(T+1)  # w_0, w_1, ..., w_T\n",
    "    w[0] = 0\n",
    "    P = np.zeros(T+1)\n",
    "    for t in range(1, T+1):\n",
    "        P[t] = w[1:t].sum()\n",
    "   \n",
    "    return  P\n",
    "\n",
    "\n",
    "\n"
   ]
  },
  {
   "cell_type": "markdown",
   "metadata": {},
   "source": [
    "**Question 4:** Solve the following minimization problem to estimate $\\sigma_{\\psi}$, $\\sigma_{\\xi}$ and $\\pi$ \n",
    "\n",
    "$\\sigma_{\\psi}^*$, $\\sigma_{\\xi}^*$, $\\pi^*$ = $arg_{\\sigma_{\\psi}>=0,\\sigma_{\\xi}>=0,\\pi\\in [0,1]}$               min $(s_{1}^{sim}-s_{1}^{data})^2$ + $(s_{2}^{sim}-s_{2}^{data})^2$ + $(s_{3}^{sim}-s_{3}^{data})^2$"
   ]
  },
  {
   "cell_type": "markdown",
   "metadata": {},
   "source": [
    "where for each new guess of $\\sigma_{\\psi}$, $\\sigma_{\\xi}$ and $\\pi$ you should be re-simulating the data with the same seed and re-calculate the 3 statistics"
   ]
  },
  {
   "cell_type": "code",
   "execution_count": 152,
   "metadata": {
    "tags": []
   },
   "outputs": [
    {
     "output_type": "stream",
     "name": "stdout",
     "text": "x | f(x)\n--------------\n1 | 22228694.994056508\n2 | -107540023.49925555\n3 | -19044449.432634097\n4 | 25627804.52539194\n5 | -46031998.30990557\n6 | 43734202.53355533\n"
    }
   ],
   "source": [
    "#Defining s\n",
    "s1_sim =39900\n",
    "s1_data = 49925\n",
    "s2_sim = 0.16\n",
    "s2_data = 0.15780801990005514\n",
    "s3_sim = 0.165\n",
    "s3_data = 0.15780833\n",
    "\n",
    "np.random.seed(100)\n",
    "# Define a function that,\n",
    "def f(x):\n",
    "    x = (s1_sim-s1_data)**2+(s2_sim-s2_data)**2+(s3_sim-s3_data)**2\n",
    "    # Outputs x multiplied by a random number drawn from a normal distribution\n",
    "    return x * np.random.normal(size=1)[0]\n",
    "\n",
    "# Create some values of x\n",
    "xs = [1,2,3,4,5,6]\n",
    "#Define argmin that\n",
    "def argmin(f, xs):\n",
    "    # Applies f on all the x's\n",
    "    data = [f(x) for x in xs]\n",
    "\n",
    "    # Finds index of the smallest output of f(x)\n",
    "    index_of_min = data.index(min(data))\n",
    "        \n",
    "    # Returns the x that produced that output\n",
    "    return xs[index_of_min]\n",
    "# Run the argmin function\n",
    "argmin(f, xs)\n",
    "\n",
    "print('x','|', 'f(x)')\n",
    "print('--------------')\n",
    "for x in xs:\n",
    "    print(x,'|', f(x))\n"
   ]
  },
  {
   "cell_type": "code",
   "execution_count": 124,
   "metadata": {},
   "outputs": [
    {
     "output_type": "error",
     "ename": "NameError",
     "evalue": "name 'x' is not defined",
     "traceback": [
      "\u001b[1;31m---------------------------------------------------------------------------\u001b[0m",
      "\u001b[1;31mNameError\u001b[0m                                 Traceback (most recent call last)",
      "\u001b[1;32m<ipython-input-124-2b866ad3a275>\u001b[0m in \u001b[0;36m<module>\u001b[1;34m\u001b[0m\n\u001b[0;32m      1\u001b[0m \u001b[1;32mdef\u001b[0m \u001b[0mobjective\u001b[0m\u001b[1;33m(\u001b[0m\u001b[0mx\u001b[0m\u001b[1;33m)\u001b[0m\u001b[1;33m:\u001b[0m\u001b[1;33m\u001b[0m\u001b[1;33m\u001b[0m\u001b[0m\n\u001b[0;32m      2\u001b[0m  \u001b[1;32mpass\u001b[0m\u001b[1;33m\u001b[0m\u001b[1;33m\u001b[0m\u001b[0m\n\u001b[1;32m----> 3\u001b[1;33m \u001b[0mres\u001b[0m \u001b[1;33m=\u001b[0m \u001b[0moptimize\u001b[0m\u001b[1;33m.\u001b[0m\u001b[0mminimize\u001b[0m\u001b[1;33m(\u001b[0m\u001b[0mobjective\u001b[0m\u001b[1;33m,\u001b[0m\u001b[0mx\u001b[0m\u001b[1;33m,\u001b[0m\u001b[0mmethod\u001b[0m\u001b[1;33m=\u001b[0m\u001b[1;34m'L-BFGS-B'\u001b[0m\u001b[1;33m,\u001b[0m\u001b[0mbounds\u001b[0m\u001b[1;33m=\u001b[0m\u001b[1;33m(\u001b[0m\u001b[1;33m-\u001b[0m\u001b[1;36m3\u001b[0m\u001b[1;33m,\u001b[0m\u001b[1;36m3\u001b[0m\u001b[1;33m)\u001b[0m\u001b[1;33m,\u001b[0m\u001b[0margs\u001b[0m\u001b[1;33m=\u001b[0m\u001b[1;33m(\u001b[0m\u001b[1;33m-\u001b[0m\u001b[1;36m3\u001b[0m\u001b[1;33m,\u001b[0m\u001b[1;36m3\u001b[0m\u001b[1;33m)\u001b[0m\u001b[1;33m,\u001b[0m\u001b[0moptions\u001b[0m\u001b[1;33m=\u001b[0m\u001b[1;33m{\u001b[0m\u001b[1;34m'eps'\u001b[0m\u001b[1;33m:\u001b[0m \u001b[1;36m1e-4\u001b[0m\u001b[1;33m}\u001b[0m\u001b[1;33m)\u001b[0m\u001b[1;33m\u001b[0m\u001b[1;33m\u001b[0m\u001b[0m\n\u001b[0m\u001b[0;32m      4\u001b[0m \u001b[1;31m# hint: options={'eps':1e-4} uses a larger step-size when approximating the jacbian, which is useful in this case\u001b[0m\u001b[1;33m\u001b[0m\u001b[1;33m\u001b[0m\u001b[1;33m\u001b[0m\u001b[0m\n\u001b[0;32m      5\u001b[0m \u001b[1;33m\u001b[0m\u001b[0m\n",
      "\u001b[1;31mNameError\u001b[0m: name 'x' is not defined"
     ]
    }
   ],
   "source": [
    "def objective(x):\n",
    " pass\n",
    "res = optimize.minimize(objective,x,method='L-BFGS-B',bounds=(-3,3),args=(-3,3),options={'eps': 1e-4})\n",
    "\n",
    "\n",
    "contour()"
   ]
  },
  {
   "cell_type": "markdown",
   "metadata": {},
   "source": [
    "# Wealth in the utility function"
   ]
  },
  {
   "cell_type": "markdown",
   "metadata": {},
   "source": [
    "In the final period, t=T, the household solves the following problem:\n",
    "\n",
    "\n",
    "\n",
    "$$\n",
    "\\begin{aligned}\n",
    "v_{T}(a_{T-1})&= \\max_{c_{T}}\\frac{(c_{T}^{1-\\rho})}{1-\\rho} + \\kappa \\frac{(a_{T}+a\\underline)^{1-\\sigma}}{1-\\sigma} \\\\\n",
    "\\text{s.t.} \\\\\n",
    "a_{T} = (1+r)a_{T-1}+y-c_{T}\n",
    "\\end{aligned}\n",
    "$$\n",
    "\n",
    "where \n",
    "\n",
    " * $a_t$ is end-of-period assets in period $t$\n",
    " * $c_t$ is consumption in period $t$\n",
    " * $rho$ is the CRRA-coefficient for consumption utility\n",
    " * $sigma$ is the CRRA-coefficient for wealth utility\n",
    " * $underline{a}$ is an *additive* scaling factor for wealth utility\n",
    " * $kappa$ is a *multiplicative* scaling factor for wealth utility\n",
    " * $r$ is the rate of return\n",
    " * $y$ is income\n",
    "  \n",
    "The optimal **consumption function** is denoted $c_t^{*}(a_{t-1})$\n",
    "\n",
    "The optimal **savings function** is denoted $a_t^{*}(a_{t-1}) equiv (1+r)a_{t-1} + y - c_t^{*}(a_{t-1})$.\n",
    "  "
   ]
  },
  {
   "cell_type": "code",
   "execution_count": 161,
   "metadata": {},
   "outputs": [],
   "source": [
    "# a. parameters\n",
    "rho = 2.0\n",
    "sigma = 1.2\n",
    "kappa = 0.6\n",
    "a_ubar = 2.0\n",
    "r = 0.04\n",
    "y = 1.0\n",
    "# b. grids\n",
    "a_lag_vec = np.linspace(0,300,300)\n"
   ]
  },
  {
   "cell_type": "markdown",
   "metadata": {},
   "source": [
    "**Question 1:** Find and plot the functions $v_{T}(a_{T-1})$, $c_T^{*}(a_{T-1})$, and $a_T^{*}(a_{T-1})$\n",
    " \n",
    " In all periods *before the last*, $t < T$, the household solves:\n",
    " \n",
    " \n",
    "\n",
    "$v_{t}(a_{t-1})$ = $max_{c_{t}} \\frac{c_t^{1-\\rho}}{1-\\rho} + \\kappa \\frac{(a_t+\\underline{a})^{1-\\sigma}}{1-\\sigma} + \\beta v_{t+1}(a_t)$\n",
    "\n",
    "{s.t.} \n",
    "    $a_{t} = (1+r)a_{t-1} + y - c_{t}$\n",
    "\n",
    "where $\\beta$ is the discount factor for future utility."
   ]
  },
  {
   "cell_type": "code",
   "execution_count": 162,
   "metadata": {},
   "outputs": [],
   "source": [
    "beta = 0.97\n",
    "T = 20"
   ]
  },
  {
   "cell_type": "markdown",
   "metadata": {},
   "source": [
    "**Question 2:** Find and plot $v_{T-1}(a_{T-2})$ and  $c_{T-1}^{*}(a_{T-2})$.\n"
   ]
  },
  {
   "cell_type": "code",
   "execution_count": null,
   "metadata": {},
   "outputs": [],
   "source": []
  },
  {
   "cell_type": "code",
   "execution_count": 3,
   "metadata": {},
   "outputs": [],
   "source": [
    "# a. parameters\n",
    "rho = 2\n",
    "alpha = 0.8\n",
    "beta = 0.96\n",
    "chi = 0.9\n",
    "r = 0.04\n",
    "Delta = 0.25\n",
    "\n",
    "# b. grids\n",
    "m1_vec = np.linspace(1e-8,10,100)\n",
    "m2_vec = np.linspace(1e-8,10,100)\n",
    "d_vec = np.linspace(1e-8,5,100)\n",
    "\n",
    "\n"
   ]
  },
  {
   "cell_type": "markdown",
   "metadata": {},
   "source": [
    "**Question 3:** Find $c_t^{*}(a_{t-1})$ for $t \\in {0,1,...,T}$ and plot them in a single figure.\n",
    "\n",
    "Define the saving rate as:\n",
    "\n",
    "$s_{t}^*$ $(a_{t-1})$ = $\\frac{(a_{t}-a_{t-1}+y-c_{t}^*(a_{t-1}))-a_{t-1}{y+ra_{t-1}}$\n",
    "\n",
    " \n"
   ]
  },
  {
   "cell_type": "code",
   "execution_count": null,
   "metadata": {},
   "outputs": [],
   "source": []
  },
  {
   "cell_type": "markdown",
   "metadata": {},
   "source": [
    "**Question 4:** Plot $s_0^{*}(a_{-1})$. Do the rich or the poor save the most?\n",
    "   "
   ]
  },
  {
   "cell_type": "code",
   "execution_count": null,
   "metadata": {},
   "outputs": [],
   "source": []
  },
  {
   "cell_type": "markdown",
   "metadata": {},
   "source": [
    "**Question 5:** Can you change the parameter choices such that $s_0^{*}(a_{-1})$ is monotonically decreasing in $a_{-1}$?"
   ]
  },
  {
   "cell_type": "markdown",
   "metadata": {},
   "source": [
    "# Refined grid search"
   ]
  },
  {
   "cell_type": "markdown",
   "metadata": {},
   "source": [
    "Let $\\boldsymbol{x} = \\left[\\begin{array}{c}\n",
    "x_1 \\\\\n",
    "x_2\\\\\n",
    "\\end{array}\\right]$ be a two-dimensional vector. Consider the following algorithm:"
   ]
  },
  {
   "cell_type": "markdown",
   "metadata": {},
   "source": [
    "**Algorithm:** `grid_search()`\n",
    "\n",
    "**Goal:** Minimize the function $f(\\boldsymbol{x})$.\n",
    "\n",
    "1. Choose a grid size $N$ and minimum and maximum values of $x_{1}$ and $x_{2}$ denoted $\\overline{x_{1}}$>$\\underline{x_{1}}$ and $\\overline{x_{2}}$>$\\underline{x_{2}}$\n",
    "2. Calculate step sizes \n",
    "\n",
    "    $\\Delta_{1}$ =($\\overline{x_{1}}$-$\\underline{x_{1}}$)/(N-1)\n",
    "    \n",
    "    $\\Delta_{2}$ =($\\overline{x_{2}}$-$\\underline{x_{2}}$)/(N-1)\n",
    "3. Find the grid point with the lowest function value solving \n",
    "\n",
    "    $j^{*}_{1}$, $j^{*}_{2}$ = $arg_{j_{1}\\in{0,...,N-1}, j_{2}\\in{0,...,N-1}}$  f( $\\underline{x_{1}+j_{1}$\\Delta_{1}$,$\\underline{x_{2}+j_{2}$\\Delta_{2}$)\n",
    "\n",
    "    \n",
    "    \n",
    "\n",
    "\n",
    "1. Return \n"
   ]
  },
  {
   "cell_type": "markdown",
   "metadata": {},
   "source": [
    "**Question 1:** Implement the grid_search() algorithm to minimize the rosen function.\n"
   ]
  },
  {
   "cell_type": "code",
   "execution_count": 120,
   "metadata": {},
   "outputs": [],
   "source": [
    "def rosen(x):\n",
    " return (1.0-x[0])**2+2*(x[1]-x[0]**2)**2\n"
   ]
  },
  {
   "cell_type": "code",
   "execution_count": 122,
   "metadata": {
    "tags": []
   },
   "outputs": [
    {
     "output_type": "stream",
     "name": "stdout",
     "text": "minimum found at (nan,nan) with the function value nan\n"
    }
   ],
   "source": [
    "def grid_search(f,x1_min,x1_max,x2_min,x2_max,N,delta1,delta2):\n",
    " return np.nan,np.nan,np.nan\n",
    "# settings\n",
    "x1_min = 0\n",
    "x1_max = 5\n",
    "x2_min = 0\n",
    "x2_max = 4\n",
    "N = 1000\n",
    "\n",
    "#calculate step sizes\n",
    "## delta1=(x1_max-x1_min)/(N-1)\n",
    "## delta2=(x2_max-x2_min)/(N-1)\n",
    "# apply grid search\n",
    "x1,x2,f = grid_search(rosen,x1_min,x1_max,x2_min,x2_max,N, delta1,delta2)\n",
    "print(f'minimum found at ({x1:.8f},{x2:.8f}) with the function value {f:.8f}')"
   ]
  },
  {
   "cell_type": "markdown",
   "metadata": {},
   "source": [
    "**Question 2:** Implement the refined_grid_search() algorithm to minimize the rosen function"
   ]
  },
  {
   "cell_type": "code",
   "execution_count": 47,
   "metadata": {},
   "outputs": [
    {
     "output_type": "error",
     "ename": "SyntaxError",
     "evalue": "unexpected EOF while parsing (<ipython-input-47-36645f060032>, line 7)",
     "traceback": [
      "\u001b[1;36m  File \u001b[1;32m\"<ipython-input-47-36645f060032>\"\u001b[1;36m, line \u001b[1;32m7\u001b[0m\n\u001b[1;33m    print(f'minimum found at ({x1:.8f},{x2:.8f}) with the function value {f:.8f}'\u001b[0m\n\u001b[1;37m                                                                                 ^\u001b[0m\n\u001b[1;31mSyntaxError\u001b[0m\u001b[1;31m:\u001b[0m unexpected EOF while parsing\n"
     ]
    }
   ],
   "source": [
    "def refined_grid_search(f,x1_min,x1_max,x2_min,x2_max,N,K):\n",
    " return np.nan,np.nan,np.nan\n",
    "# more settings\n",
    "K = 10\n",
    "# apply refined grid search\n",
    "x1,x2,f = refined_grid_search(rosen,x1_min,x1_max,x2_min,x2_max,N,K)\n",
    "print(f'minimum found at ({x1:.8f},{x2:.8f}) with the function value {f:.8f}'"
   ]
  },
  {
   "cell_type": "code",
   "execution_count": null,
   "metadata": {},
   "outputs": [],
   "source": []
  }
 ],
 "metadata": {
  "language_info": {
   "codemirror_mode": {
    "name": "ipython",
    "version": 3
   },
   "file_extension": ".py",
   "mimetype": "text/x-python",
   "name": "python",
   "nbconvert_exporter": "python",
   "pygments_lexer": "ipython3",
   "version": "3.7.6-final"
  },
  "orig_nbformat": 2,
  "kernelspec": {
   "name": "python3",
   "display_name": "Python 3"
  }
 },
 "nbformat": 4,
 "nbformat_minor": 2
}
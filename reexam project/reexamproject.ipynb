{
 "cells": [
  {
   "cell_type": "code",
   "execution_count": 33,
   "metadata": {},
   "outputs": [],
   "source": [
    "#Import and set magics\n",
    "import numpy as np\n",
    "%matplotlib inline\n",
    "import pandas as pd\n",
    "import datetime\n",
    "import pandas_datareader\n",
    "import pydst\n",
    "import statsmodels.api as sm\n",
    "import statsmodels.formula.api as smf\n",
    "from statsmodels.sandbox.regression.predstd import wls_prediction_std\n",
    "import scipy as sp\n",
    "from scipy import stats\n",
    "from scipy import optimize\n",
    "from scipy import interpolate\n",
    "from scipy import linalg\n",
    "import sympy as sm\n",
    "\n",
    "import matplotlib.pyplot as plt\n",
    "plt.style.use('seaborn-whitegrid')\n",
    "from matplotlib import cm\n",
    "%matplotlib inline\n",
    "from matplotlib import cm\n",
    "from mpl_toolkits.mplot3d import Axes3D\n",
    "from matplotlib import pyplot\n"
   ]
  },
  {
   "cell_type": "markdown",
   "metadata": {},
   "source": [
    "# Estimating income processes\n"
   ]
  },
  {
   "cell_type": "markdown",
   "metadata": {},
   "source": [
    "Consider $N$ households indexed by $i$ who are in the labor market for $T$ periods indexed by $t \\in ${1,2,...,T}$,\n",
    "\n",
    "Their **wage income** is stochastic and given by,\n",
    " \n",
    "$P_{i,t}$ = $\\psi_{i,t}$ $P_{i,t-1}$\n",
    "\n",
    "$\\tilde{Y}_{i,t}$ = $xi_{i,t}$ $P_{i,t}$\n",
    "\n",
    "$Y_{i,t}$ = \\left\\begin{array}{rcl}$\n",
    "            \\overline{\\overline{0}+\\text{if}\\mu_{i,t}<\\pi}\n",
    "            \\\\tilde{Y}_{i,t} +\\text{else}\n",
    "            \\end{array}\\right.\n",
    "\n",
    "\n",
    "   \n",
    "\n",
    "\n",
    "$\\psi_{i,t}$ ~ LogNormal(-0.5$\\sigma_{\\psi}^2$,$\\sigma_{\\psi})$\n",
    "\n",
    "$\\xi_{i,t}$ ~ LogNormal(-0.5$\\sigma_{\\xi}^2$,$\\sigma_{\\xi})$\n",
    "\n",
    "$\\mu_{i,t}$ ~ $Uniform(0,1)$\n",
    "\n",
    "\n",
    "$P_{0} = 1$\n",
    "   \n",
    "where\n",
    "\n",
    "$\\sigma_{\\psi}$ is the standard deviation of the *permanent* shocks, $\\psi_{i,t}$\n",
    "\n",
    "$\\sigma_{\\xi}$ is the standard deviation of the *transitory* shocks, $\\xi_{i,t}$\n",
    "\n",
    "$\\pi$ is the risk of unemployment"
   ]
  },
  {
   "cell_type": "markdown",
   "metadata": {},
   "source": [
    "The data you have access to is:\n"
   ]
  },
  {
   "cell_type": "code",
   "execution_count": 87,
   "metadata": {
    "tags": []
   },
   "outputs": [
    {
     "output_type": "stream",
     "name": "stdout",
     "text": "[[0.83317569 0.72881172 0.         ... 1.16771806 0.93207083 0.86711803]\n [1.18542294 0.92826337 1.62913142 ... 1.13903869 0.94479246 0.78842682]\n [1.14813596 0.90542496 0.70634401 ... 1.49584791 1.08969956 0.        ]\n ...\n [0.73818651 0.59958039 0.56135238 ... 2.60075173 1.07070489 0.43010036]\n [1.14130879 0.85728537 0.54530761 ... 3.79294856 0.67764143 0.38720822]\n [0.64908127 0.85101393 0.59517395 ... 3.32800991 0.82400879 0.5814573 ]]\n(20, 50000)\n"
    }
   ],
   "source": [
    "import numpy as np\n",
    "dataY = np.load(r'C:\\Users\\musse\\Documents\\GitHub\\projects-2020-zjr-hrv\\projects-2020-zjr-hrv\\dataY.npy')\n",
    "T,N = dataY.shape\n",
    "print(dataY)\n",
    "print(dataY.shape)\n",
    "\n",
    "\n"
   ]
  },
  {
   "cell_type": "markdown",
   "metadata": {},
   "source": [
    "**Question 1:** Calculate income growth rates as log-changes"
   ]
  },
  {
   "cell_type": "code",
   "execution_count": 102,
   "metadata": {
    "tags": []
   },
   "outputs": [
    {
     "output_type": "stream",
     "name": "stdout",
     "text": "initial diff [[-0.13382911        -inf         inf ...  0.45991757 -0.22539794\n  -0.0722337 ]\n [-0.2445394   0.56248678 -0.45247293 ...  0.10650339 -0.18697465\n  -0.18092569]\n [-0.2374906  -0.24830202  0.49367077 ...  0.38133059 -0.31679118\n         -inf]\n ...\n [-0.20796646 -0.06588123  0.6550227  ...  1.08826931 -0.88748332\n  -0.9120539 ]\n [-0.2861601  -0.45242079  0.43603115 ...  1.35354726 -1.7222807\n  -0.5596557 ]\n [ 0.27087056 -0.35757477  0.31896575 ...  1.52939372 -1.39594858\n  -0.34864367]]\nNew resulting diff:  [[       nan        nan        inf ... 0.45991757        nan        nan]\n [       nan 0.56248678        nan ... 0.10650339        nan        nan]\n [       nan        nan 0.49367077 ... 0.38133059        nan        nan]\n ...\n [       nan        nan 0.6550227  ... 1.08826931        nan        nan]\n [       nan        nan 0.43603115 ... 1.35354726        nan        nan]\n [0.27087056        nan 0.31896575 ... 1.52939372        nan        nan]]\n"
    }
   ],
   "source": [
    "#Defining income growth rate by finding the first differences. Thereafter replacing the negative Y-values with .nan\n",
    "\n",
    "logY = np.diff(np.log(dataY))\n",
    "#diff_dataY = np.diff(dataY) \n",
    "  \n",
    "# printing initial arrays \n",
    "print(\"Initial diff\", logY) \n",
    "  \n",
    "# code to replace all negative value with 0 \n",
    "logY[logY<=0] = np.nan\n",
    "  \n",
    "# printing result \n",
    "print(\"New resulting diff: \", logY) \n",
    "\n",
    "\n",
    "\n",
    "\n"
   ]
  },
  {
   "cell_type": "markdown",
   "metadata": {},
   "source": [
    "**Question 2:** Calculate the following 3 statistics from the data:\n",
    "\n",
    "$s_{1}$: Share of observations with $Y_{i,t}$=0\n",
    "\n",
    "$s_{2}$: Variance of income growth rate, Var($\\Delta$ Log $Y_{i,t}$)\n",
    "\n",
    "$s_{3}$: Covariance of income growth rates one period apart, Cov($\\Delta$ Log $Y_{i,t}$,$\\Delta$ Log $Y_{i,t-1}$ )"
   ]
  },
  {
   "cell_type": "markdown",
   "metadata": {},
   "source": [
    "To count shares of observations with $Y_{i,t}$=0, we use the nonzero-function"
   ]
  },
  {
   "cell_type": "code",
   "execution_count": 103,
   "metadata": {
    "tags": []
   },
   "outputs": [
    {
     "output_type": "stream",
     "name": "stdout",
     "text": "Number of observations with Y=0 is\n"
    },
    {
     "output_type": "execute_result",
     "data": {
      "text/plain": "49925"
     },
     "metadata": {},
     "execution_count": 103
    }
   ],
   "source": [
    "#S1:\n",
    "print('Number of observations with Y=0 is') \n",
    "np.count_nonzero(dataY==0)\n",
    "\n"
   ]
  },
  {
   "cell_type": "markdown",
   "metadata": {},
   "source": [
    "The variance is calculated by the mean of square minus the square of the mean, i.e.\n",
    "\n",
    "$Var(x)=E[(X-\\mu)^{2}]$\n",
    "\n"
   ]
  },
  {
   "cell_type": "code",
   "execution_count": 104,
   "metadata": {
    "tags": []
   },
   "outputs": [
    {
     "output_type": "stream",
     "name": "stdout",
     "text": "nan\n"
    }
   ],
   "source": [
    "#S2:\n",
    "print(np.var(logY))"
   ]
  },
  {
   "cell_type": "markdown",
   "metadata": {},
   "source": [
    "As seen above, the variance results in \"nan\", meaning we would have to remove the nan values from our sample to find a value for the variance. Hence, we find:"
   ]
  },
  {
   "cell_type": "code",
   "execution_count": 106,
   "metadata": {
    "tags": []
   },
   "outputs": [
    {
     "output_type": "stream",
     "name": "stdout",
     "text": "The variance is 0.15780801990005514\n"
    }
   ],
   "source": [
    "diffY = diff_dataY[~np.isnan(diff_dataY)]\n",
    "print('The variance is' ,np.var(diffY))"
   ]
  },
  {
   "cell_type": "markdown",
   "metadata": {},
   "source": [
    "Finally, the Covariance is found by"
   ]
  },
  {
   "cell_type": "code",
   "execution_count": 94,
   "metadata": {},
   "outputs": [
    {
     "output_type": "execute_result",
     "data": {
      "text/plain": "array(0.15780833)"
     },
     "metadata": {},
     "execution_count": 94
    }
   ],
   "source": [
    "np.cov(diffY)"
   ]
  },
  {
   "cell_type": "markdown",
   "metadata": {},
   "source": [
    "Question 3: Simulate the income process using your own choice of $\\sigma_{\\psi}$, $\\sigma_{\\xi}$, $\\pi$, T and N. Calculate the 3 same statistics. Compare with the data statistics"
   ]
  },
  {
   "cell_type": "code",
   "execution_count": 119,
   "metadata": {},
   "outputs": [],
   "source": [
    "#Simulated figures\n",
    "T = 50\n",
    "N = 1000\n",
    "pi = 0.3\n",
    "s_psi = 0.23\n",
    "s_xi = 0.4\n",
    "\n",
    "#Model\n",
    "psi = np.random.lognormal(-0.5 * s_psi, s_psi, 1000)\n",
    "xi = np.random.lognormal(-0.5 * s_xi,s_xi, 1000)\n",
    "P_0 = 1\n",
    "P = psi * P_0\n",
    "Y_tilde = xi * P\n",
    "mu = np.random.uniform(0,1)\n",
    "\n",
    "\n",
    "#Defining Y\n",
    "def income(Y): \n",
    "    if mu < pi:\n",
    "        Y=0 \n",
    "    else :\n",
    "        Y = Y_tilde"
   ]
  },
  {
   "cell_type": "code",
   "execution_count": null,
   "metadata": {},
   "outputs": [],
   "source": [
    "import scipy as sp\n",
    "import random\n",
    "g = random.Random()\n",
    "g.seed(1234)\n",
    "\n",
    "import random, math\n",
    "import numpy as np\n",
    "import scipy as sp\n",
    "import scipy.stats as stats\n",
    "import matplotlib.pyplot as plt\n",
    "import SimPy.Simulation as Sim\n",
    "\n",
    "initialize(): set the simulation time and the event list\n",
    "• activate(): used to mark a thread (process) as runnable when it is first\n",
    "created and add its first event into the event list.\n",
    "• simulate(): starts the simulation"
   ]
  },
  {
   "cell_type": "markdown",
   "metadata": {},
   "source": [
    "**Question 4:** Solve the following minimization problem to estimate $\\sigma_{\\psi}$, $\\sigma_{\\xi}$ and $\\pi$ \n",
    "\n",
    "$\\sigma_{\\psi}^*$, $\\sigma_{\\xi}^*$, $\\pi^*$ = $arg_{\\sigma_{\\psi}>=0,\\sigma_{\\xi}>=0,\\pi\\in [0,1]}$               min $(s_{1}^{sim}-s_{1}^{data})^2$ + $(s_{2}^{sim}-s_{2}^{data})^2$ + $(s_{3}^{sim}-s_{3}^{data})^2$"
   ]
  },
  {
   "cell_type": "markdown",
   "metadata": {},
   "source": [
    "where for each new guess of $\\sigma_{\\psi}$, $\\sigma_{\\xi}$ and $\\pi$ you should be re-simulating the data with the same seed and re-calculate the 3 statistics"
   ]
  },
  {
   "cell_type": "code",
   "execution_count": null,
   "metadata": {},
   "outputs": [],
   "source": [
    "def objective():\n",
    " pass\n",
    "res = optimize.minimize(objective,x,method='L-BFGS-B',bounds=?,args=?,options={'eps': 1e-4})\n",
    "# hint: options={'eps':1e-4} uses a larger step-size when approximating the jacbian, which is useful in this case\n"
   ]
  },
  {
   "cell_type": "markdown",
   "metadata": {},
   "source": [
    "# Durable purchases"
   ]
  },
  {
   "cell_type": "markdown",
   "metadata": {},
   "source": [
    "Consider a **household** living in two periods.\n",
    "\n",
    "In the **second period** it gets utility from **non-durable consumption**, $c$, and **durable consumption**, $d+\\chi x$:\n",
    "\n",
    "$$\n",
    "\\begin{aligned}\n",
    "v_{2}(m_{2},d)&= \\max_{c}\\frac{(c^{\\alpha}(d+\\chi x)^{1-\\alpha})^{1-\\rho}}{1-\\rho}\\\\\n",
    "\\text{s.t.} \\\\\n",
    "x &= m_{2}-c \\\\\n",
    "c &\\in [0,m_{2}]\n",
    "\\end{aligned}\n",
    "$$\n",
    "\n",
    "where \n",
    "\n",
    "* $m_2$ is cash-on-hand in the beginning of period 2\n",
    "* $c$ is non-durable consumption\n",
    "* $d$ is pre-commited durable consumption\n",
    "* $x = m_2 - c$ is extra durable consumption\n",
    "* $\\rho > 1$ is the risk aversion coefficient\n",
    "* $\\alpha \\in (0,1)$ is the utility weight on non-durable consumption\n",
    "* $\\chi \\in (0,1)$ implies that extra durable consumption is *less* valuable than pre-comitted durable consumption\n",
    "* the second constraint ensures the household *cannot* die in debt"
   ]
  },
  {
   "cell_type": "markdown",
   "metadata": {},
   "source": [
    "The **value function** $v_2(m_2,d)$ measures the household's value of having $m_2$ at the beginning of period 2 with precomitted durable consumption of $d$. The optimal choice of non-durable consumption is denoted $c^{\\ast}(m_2,d)$. The optimal extra durable consumption function is $x^{\\ast}(m_2,d) = m_2-c^{\\ast}(m_2,d)$."
   ]
  },
  {
   "cell_type": "markdown",
   "metadata": {},
   "source": [
    "Define the so-called **end-of-period 1 value function** as:\n",
    "\n",
    "$$\n",
    "\\begin{aligned}\n",
    "w(a,d)&\\equiv\\beta\\mathbb{E}_{1}\\left[v_2(m_2,d)\\right]\n",
    "\\end{aligned}\n",
    "$$\n",
    "\n",
    "where \n",
    "\n",
    "$$\n",
    "\\begin{aligned}\n",
    "m_2&= (1+r)a+y \\\\\n",
    "y &= \\begin{cases}\n",
    "1-\\Delta & \\text{with prob. }\\frac{1}{3}\\\\\n",
    "1 & \\text{with prob. }\\frac{1}{3}\\\\\n",
    "1+\\Delta & \\text{with prob. }\\frac{1}{3}\n",
    "\\end{cases}\\\\\n",
    "\\end{aligned}\n",
    "$$\n",
    "\n",
    "and\n",
    "\n",
    "* $a$ is assets at the end of period 1\n",
    "* $\\beta > 0$ is the discount factor\n",
    "* $\\mathbb{E}_1$ is the expectation operator conditional on information in period 1\n",
    "* $y$ is income in period 2\n",
    "* $\\Delta \\in (0,1)$ is the level of income risk (mean-preserving)\n",
    "* $r$ is the return on savings"
   ]
  },
  {
   "cell_type": "markdown",
   "metadata": {},
   "source": [
    "In the **first period**, the household chooses it's pre-comitted level of durable consumption for the next-period,\n",
    "\n",
    "$$\n",
    "\\begin{aligned}\n",
    "v_{1}(m_{1})&=\\max_{d} w(a,d)\\\\&\\text{s.t.}&\\\\\n",
    "a&= m_{1}-d \\\\\n",
    "d&\\in [0,m_{1}]\\\\\n",
    "\\end{aligned}\n",
    "$$\n",
    "\n",
    "where $m_1$ is cash-on-hand in period 1. The second constraint ensures the household *cannot* borrow. The **value function** $v_1(m_1)$ measures the household's value of having $m_1$ at the beginning of period 1. The optimal choice of pre-committed durable consumption is denoted $d^{\\ast}(m_1)$."
   ]
  },
  {
   "cell_type": "markdown",
   "metadata": {},
   "source": [
    "The **parameters** and **grids** for $m_1$, $m_2$ and $d$ should be:"
   ]
  },
  {
   "cell_type": "code",
   "execution_count": 3,
   "metadata": {},
   "outputs": [],
   "source": [
    "# a. parameters\n",
    "rho = 2\n",
    "alpha = 0.8\n",
    "beta = 0.96\n",
    "chi = 0.9\n",
    "r = 0.04\n",
    "Delta = 0.25\n",
    "\n",
    "# b. grids\n",
    "m1_vec = np.linspace(1e-8,10,100)\n",
    "m2_vec = np.linspace(1e-8,10,100)\n",
    "d_vec = np.linspace(1e-8,5,100)\n",
    "\n",
    "\n"
   ]
  },
  {
   "cell_type": "markdown",
   "metadata": {},
   "source": [
    "# Refined grid search"
   ]
  },
  {
   "cell_type": "markdown",
   "metadata": {},
   "source": [
    "Let $\\boldsymbol{x} = \\left[\\begin{array}{c}\n",
    "x_1 \\\\\n",
    "x_2\\\\\n",
    "\\end{array}\\right]$ be a two-dimensional vector. Consider the following algorithm:"
   ]
  },
  {
   "cell_type": "markdown",
   "metadata": {},
   "source": [
    "**Algorithm:** `grid_search()`\n",
    "\n",
    "**Goal:** Minimize the function $f(\\boldsymbol{x})$.\n",
    "\n",
    "1. Choose a grid size $N$ and minimum and maximum values of $x_{1}$ and $x_{2}$ denoted $\\overline{x_{1}}$>$\\underline{x_{1}}$ and $\\overline{x_{2}}$>$\\underline{x_{2}}$\n",
    "2. Calculate step sizes \n",
    "\n",
    "    $\\Delta_{1}$ =($\\overline{x_{1}}$-$\\underline{x_{1}}$)/(N-1)\n",
    "    \n",
    "    $\\Delta_{2}$ =($\\overline{x_{2}}$-$\\underline{x_{2}}$)/(N-1)\n",
    "3. Find the grid point with the lowest function value solving \n",
    "\n",
    "    $j^{*}_{1}$, $j^{*}_{2}$ = $arg_{j_{1}\\in{0,...,N-1}, j_{2}\\in{0,...,N-1}}$  f( $\\underline{x_{1}+j_{1}$\\Delta_{1}$,$\\underline{x_{2}+j_{2}$\\Delta_{2}$)\n",
    "\n",
    "    \n",
    "    \n",
    "\n",
    "\n",
    "1. Return \n"
   ]
  },
  {
   "cell_type": "markdown",
   "metadata": {},
   "source": [
    "**Question 1:** Implement the grid_search() algorithm to minimize the rosen function.\n"
   ]
  },
  {
   "cell_type": "code",
   "execution_count": 45,
   "metadata": {},
   "outputs": [],
   "source": [
    "def rosen(x):\n",
    " return (1.0-x[0])**2+2*(x[1]-x[0]**2)**2\n"
   ]
  },
  {
   "cell_type": "code",
   "execution_count": 46,
   "metadata": {
    "tags": []
   },
   "outputs": [
    {
     "output_type": "stream",
     "name": "stdout",
     "text": "minimum found at (nan,nan) with the function value nan\n"
    }
   ],
   "source": [
    "def grid_search(f,x1_min,x1_max,x2_min,x2_max,N):\n",
    " return np.nan,np.nan,np.nan\n",
    "# settings\n",
    "x1_min = 0\n",
    "x1_max = 5\n",
    "x2_min = 0\n",
    "x2_max = 4\n",
    "N = 1000\n",
    "# apply grid search\n",
    "x1,x2,f = grid_search(rosen,x1_min,x1_max,x2_min,x2_max,N)\n",
    "print(f'minimum found at ({x1:.8f},{x2:.8f}) with the function value {f:.8f}')"
   ]
  },
  {
   "cell_type": "markdown",
   "metadata": {},
   "source": [
    "**Question 2:** Implement the refined_grid_search() algorithm to minimize the rosen function"
   ]
  },
  {
   "cell_type": "code",
   "execution_count": 47,
   "metadata": {},
   "outputs": [
    {
     "output_type": "error",
     "ename": "SyntaxError",
     "evalue": "unexpected EOF while parsing (<ipython-input-47-36645f060032>, line 7)",
     "traceback": [
      "\u001b[1;36m  File \u001b[1;32m\"<ipython-input-47-36645f060032>\"\u001b[1;36m, line \u001b[1;32m7\u001b[0m\n\u001b[1;33m    print(f'minimum found at ({x1:.8f},{x2:.8f}) with the function value {f:.8f}'\u001b[0m\n\u001b[1;37m                                                                                 ^\u001b[0m\n\u001b[1;31mSyntaxError\u001b[0m\u001b[1;31m:\u001b[0m unexpected EOF while parsing\n"
     ]
    }
   ],
   "source": [
    "def refined_grid_search(f,x1_min,x1_max,x2_min,x2_max,N,K):\n",
    " return np.nan,np.nan,np.nan\n",
    "# more settings\n",
    "K = 10\n",
    "# apply refined grid search\n",
    "x1,x2,f = refined_grid_search(rosen,x1_min,x1_max,x2_min,x2_max,N,K)\n",
    "print(f'minimum found at ({x1:.8f},{x2:.8f}) with the function value {f:.8f}'"
   ]
  },
  {
   "cell_type": "code",
   "execution_count": null,
   "metadata": {},
   "outputs": [],
   "source": []
  }
 ],
 "metadata": {
  "language_info": {
   "codemirror_mode": {
    "name": "ipython",
    "version": 3
   },
   "file_extension": ".py",
   "mimetype": "text/x-python",
   "name": "python",
   "nbconvert_exporter": "python",
   "pygments_lexer": "ipython3",
   "version": "3.7.6-final"
  },
  "orig_nbformat": 2,
  "kernelspec": {
   "name": "python3",
   "display_name": "Python 3"
  }
 },
 "nbformat": 4,
 "nbformat_minor": 2
}
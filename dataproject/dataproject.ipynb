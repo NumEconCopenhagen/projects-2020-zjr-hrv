{
 "cells": [
  {
   "cell_type": "markdown",
   "metadata": {},
   "source": [
    "# Analysis of Gross national income (GNI)"
   ]
  },
  {
   "cell_type": "markdown",
   "metadata": {},
   "source": [
    "Imports and set magics:"
   ]
  },
  {
   "cell_type": "code",
   "execution_count": 170,
   "metadata": {},
   "outputs": [
    {
     "output_type": "stream",
     "name": "stdout",
     "text": "The autoreload extension is already loaded. To reload it, use:\n  %reload_ext autoreload\n"
    }
   ],
   "source": [
    "# First, we import an API from DST, specifying the language\n",
    "import pydst                          \n",
    "Dst = pydst.Dst(lang='en')            \n",
    "# Next, the packages for data analysis are imported\n",
    "import pandas as pd                   \n",
    "import numpy as np                    \n",
    "import matplotlib.pyplot as plt       \n",
    "import ipywidgets as widgets          \n",
    "\n",
    "# Autoreloading modules when code is run\n",
    "%load_ext autoreload\n",
    "%autoreload 2\n",
    "\n",
    "# Local modules\n",
    "import dataproject\n",
    ""
   ]
  },
  {
   "cell_type": "markdown",
   "metadata": {
    "toc-hr-collapsed": true
   },
   "source": [
    "# Read and clean data"
   ]
  },
  {
   "cell_type": "markdown",
   "metadata": {},
   "source": [
    "**Read the  data** from DSTI. We want to analyze the table named NKN2 including the Danish gross national income  by transaction and price unit:"
   ]
  },
  {
   "cell_type": "code",
   "execution_count": 171,
   "metadata": {},
   "outputs": [
    {
     "output_type": "execute_result",
     "data": {
      "text/plain": "                       TRANSAKT       PRISENHED                    SÆSON  \\\n0  B.1*g Gross domestic product  Current prices  Non-seasonally adjusted   \n\n      TID  INDHOLD  \n0  1990Q1   210169  ",
      "text/html": "<div>\n<style scoped>\n    .dataframe tbody tr th:only-of-type {\n        vertical-align: middle;\n    }\n\n    .dataframe tbody tr th {\n        vertical-align: top;\n    }\n\n    .dataframe thead th {\n        text-align: right;\n    }\n</style>\n<table border=\"1\" class=\"dataframe\">\n  <thead>\n    <tr style=\"text-align: right;\">\n      <th></th>\n      <th>TRANSAKT</th>\n      <th>PRISENHED</th>\n      <th>SÆSON</th>\n      <th>TID</th>\n      <th>INDHOLD</th>\n    </tr>\n  </thead>\n  <tbody>\n    <tr>\n      <th>0</th>\n      <td>B.1*g Gross domestic product</td>\n      <td>Current prices</td>\n      <td>Non-seasonally adjusted</td>\n      <td>1990Q1</td>\n      <td>210169</td>\n    </tr>\n  </tbody>\n</table>\n</div>"
     },
     "metadata": {},
     "execution_count": 171
    }
   ],
   "source": [
    "#In order to retrieve the dataset 'NKN2' from DST, we run the following code\n",
    "Dst.get_data(table_id = 'NKN2')      \n",
    ""
   ]
  },
  {
   "cell_type": "markdown",
   "metadata": {},
   "source": [
    "**Next, we want to get an overview** of the variables in the dataset:"
   ]
  },
  {
   "cell_type": "code",
   "execution_count": 172,
   "metadata": {},
   "outputs": [
    {
     "output_type": "execute_result",
     "data": {
      "text/plain": "          id                 text  elimination   time  \\\n0   TRANSAKT          transaction        False  False   \n1  PRISENHED           price unit        False  False   \n2      SÆSON  seasonal adjustment        False  False   \n3        Tid                 time        False   True   \n\n                                              values  \n0  [{'id': 'B1GQD', 'text': 'B.1*g Gross domestic...  \n1  [{'id': 'V', 'text': 'Current prices'}, {'id':...  \n2  [{'id': 'N', 'text': 'Non-seasonally adjusted'...  \n3  [{'id': '1990K1', 'text': '1990Q1'}, {'id': '1...  ",
      "text/html": "<div>\n<style scoped>\n    .dataframe tbody tr th:only-of-type {\n        vertical-align: middle;\n    }\n\n    .dataframe tbody tr th {\n        vertical-align: top;\n    }\n\n    .dataframe thead th {\n        text-align: right;\n    }\n</style>\n<table border=\"1\" class=\"dataframe\">\n  <thead>\n    <tr style=\"text-align: right;\">\n      <th></th>\n      <th>id</th>\n      <th>text</th>\n      <th>elimination</th>\n      <th>time</th>\n      <th>values</th>\n    </tr>\n  </thead>\n  <tbody>\n    <tr>\n      <th>0</th>\n      <td>TRANSAKT</td>\n      <td>transaction</td>\n      <td>False</td>\n      <td>False</td>\n      <td>[{'id': 'B1GQD', 'text': 'B.1*g Gross domestic...</td>\n    </tr>\n    <tr>\n      <th>1</th>\n      <td>PRISENHED</td>\n      <td>price unit</td>\n      <td>False</td>\n      <td>False</td>\n      <td>[{'id': 'V', 'text': 'Current prices'}, {'id':...</td>\n    </tr>\n    <tr>\n      <th>2</th>\n      <td>SÆSON</td>\n      <td>seasonal adjustment</td>\n      <td>False</td>\n      <td>False</td>\n      <td>[{'id': 'N', 'text': 'Non-seasonally adjusted'...</td>\n    </tr>\n    <tr>\n      <th>3</th>\n      <td>Tid</td>\n      <td>time</td>\n      <td>False</td>\n      <td>True</td>\n      <td>[{'id': '1990K1', 'text': '1990Q1'}, {'id': '1...</td>\n    </tr>\n  </tbody>\n</table>\n</div>"
     },
     "metadata": {},
     "execution_count": 172
    }
   ],
   "source": [
    "#To retrieve the different varibles of the dataset, we run the following code\n",
    "Dst.get_variables(table_id = 'NKN2') "
   ]
  },
  {
   "cell_type": "markdown",
   "metadata": {},
   "source": [
    "**Now, we want to extract the seasonally adjusted GNI for the entire period**:"
   ]
  },
  {
   "cell_type": "code",
   "execution_count": 173,
   "metadata": {},
   "outputs": [
    {
     "output_type": "execute_result",
     "data": {
      "text/plain": "                         TRANSAKT       PRISENHED                SÆSON  \\\n0    B.1*g Gross domestic product  Current prices  Seasonally adjusted   \n1    B.1*g Gross domestic product  Current prices  Seasonally adjusted   \n2    B.1*g Gross domestic product  Current prices  Seasonally adjusted   \n3    B.1*g Gross domestic product  Current prices  Seasonally adjusted   \n116  B.1*g Gross domestic product  Current prices  Seasonally adjusted   \n117  B.1*g Gross domestic product  Current prices  Seasonally adjusted   \n118  B.1*g Gross domestic product  Current prices  Seasonally adjusted   \n119  B.1*g Gross domestic product  Current prices  Seasonally adjusted   \n\n        TID  INDHOLD  \n0    1990Q1   210498  \n1    1990Q2   215917  \n2    1990Q3   214405  \n3    1990Q4   214737  \n116  2019Q1   571565  \n117  2019Q2   577887  \n118  2019Q3   584047  \n119  2019Q4   587989  ",
      "text/html": "<div>\n<style scoped>\n    .dataframe tbody tr th:only-of-type {\n        vertical-align: middle;\n    }\n\n    .dataframe tbody tr th {\n        vertical-align: top;\n    }\n\n    .dataframe thead th {\n        text-align: right;\n    }\n</style>\n<table border=\"1\" class=\"dataframe\">\n  <thead>\n    <tr style=\"text-align: right;\">\n      <th></th>\n      <th>TRANSAKT</th>\n      <th>PRISENHED</th>\n      <th>SÆSON</th>\n      <th>TID</th>\n      <th>INDHOLD</th>\n    </tr>\n  </thead>\n  <tbody>\n    <tr>\n      <th>0</th>\n      <td>B.1*g Gross domestic product</td>\n      <td>Current prices</td>\n      <td>Seasonally adjusted</td>\n      <td>1990Q1</td>\n      <td>210498</td>\n    </tr>\n    <tr>\n      <th>1</th>\n      <td>B.1*g Gross domestic product</td>\n      <td>Current prices</td>\n      <td>Seasonally adjusted</td>\n      <td>1990Q2</td>\n      <td>215917</td>\n    </tr>\n    <tr>\n      <th>2</th>\n      <td>B.1*g Gross domestic product</td>\n      <td>Current prices</td>\n      <td>Seasonally adjusted</td>\n      <td>1990Q3</td>\n      <td>214405</td>\n    </tr>\n    <tr>\n      <th>3</th>\n      <td>B.1*g Gross domestic product</td>\n      <td>Current prices</td>\n      <td>Seasonally adjusted</td>\n      <td>1990Q4</td>\n      <td>214737</td>\n    </tr>\n    <tr>\n      <th>116</th>\n      <td>B.1*g Gross domestic product</td>\n      <td>Current prices</td>\n      <td>Seasonally adjusted</td>\n      <td>2019Q1</td>\n      <td>571565</td>\n    </tr>\n    <tr>\n      <th>117</th>\n      <td>B.1*g Gross domestic product</td>\n      <td>Current prices</td>\n      <td>Seasonally adjusted</td>\n      <td>2019Q2</td>\n      <td>577887</td>\n    </tr>\n    <tr>\n      <th>118</th>\n      <td>B.1*g Gross domestic product</td>\n      <td>Current prices</td>\n      <td>Seasonally adjusted</td>\n      <td>2019Q3</td>\n      <td>584047</td>\n    </tr>\n    <tr>\n      <th>119</th>\n      <td>B.1*g Gross domestic product</td>\n      <td>Current prices</td>\n      <td>Seasonally adjusted</td>\n      <td>2019Q4</td>\n      <td>587989</td>\n    </tr>\n  </tbody>\n</table>\n</div>"
     },
     "metadata": {},
     "execution_count": 173
    }
   ],
   "source": [
    "#The following code extracts the desided variables and shows the first and last three rows of the dataset\n",
    "\n",
    "df = Dst.get_data(table_id = 'NKN2',\n",
    "     variables = {'TRANSAKT':['B1GQD'],\n",
    "     'PRISENHED':['V'],\n",
    "     'SÆSON':['Y'],'TID':['*']})        \n",
    "pd.concat([df.head(4), df.tail(4)])     "
   ]
  },
  {
   "cell_type": "code",
   "execution_count": 174,
   "metadata": {},
   "outputs": [
    {
     "output_type": "execute_result",
     "data": {
      "text/plain": "        TID  INDHOLD\n0    1990Q1   210498\n1    1990Q2   215917\n2    1990Q3   214405\n3    1990Q4   214737\n4    1991Q1   222620\n115  2018Q4   571330\n116  2019Q1   571565\n117  2019Q2   577887\n118  2019Q3   584047\n119  2019Q4   587989",
      "text/html": "<div>\n<style scoped>\n    .dataframe tbody tr th:only-of-type {\n        vertical-align: middle;\n    }\n\n    .dataframe tbody tr th {\n        vertical-align: top;\n    }\n\n    .dataframe thead th {\n        text-align: right;\n    }\n</style>\n<table border=\"1\" class=\"dataframe\">\n  <thead>\n    <tr style=\"text-align: right;\">\n      <th></th>\n      <th>TID</th>\n      <th>INDHOLD</th>\n    </tr>\n  </thead>\n  <tbody>\n    <tr>\n      <th>0</th>\n      <td>1990Q1</td>\n      <td>210498</td>\n    </tr>\n    <tr>\n      <th>1</th>\n      <td>1990Q2</td>\n      <td>215917</td>\n    </tr>\n    <tr>\n      <th>2</th>\n      <td>1990Q3</td>\n      <td>214405</td>\n    </tr>\n    <tr>\n      <th>3</th>\n      <td>1990Q4</td>\n      <td>214737</td>\n    </tr>\n    <tr>\n      <th>4</th>\n      <td>1991Q1</td>\n      <td>222620</td>\n    </tr>\n    <tr>\n      <th>115</th>\n      <td>2018Q4</td>\n      <td>571330</td>\n    </tr>\n    <tr>\n      <th>116</th>\n      <td>2019Q1</td>\n      <td>571565</td>\n    </tr>\n    <tr>\n      <th>117</th>\n      <td>2019Q2</td>\n      <td>577887</td>\n    </tr>\n    <tr>\n      <th>118</th>\n      <td>2019Q3</td>\n      <td>584047</td>\n    </tr>\n    <tr>\n      <th>119</th>\n      <td>2019Q4</td>\n      <td>587989</td>\n    </tr>\n  </tbody>\n</table>\n</div>"
     },
     "metadata": {},
     "execution_count": 174
    }
   ],
   "source": [
    "#We now remove redundant variables, so only time and GNI remain.\n",
    "\n",
    "df1 = df.drop('TRANSAKT',1).drop('PRISENHED',1).drop('SÆSON',1) \n",
    "pd.concat([df1.head(5), df1.tail(5)])                           "
   ]
  },
  {
   "cell_type": "markdown",
   "metadata": {},
   "source": [
    "Time and GNI is extracted as arrays. Empty cells are removed, converting the variable to a float type:"
   ]
  },
  {
   "cell_type": "code",
   "execution_count": 175,
   "metadata": {},
   "outputs": [
    {
     "output_type": "execute_result",
     "data": {
      "text/plain": "0      210498.0\n1      215917.0\n2      214405.0\n3      214737.0\n4      222620.0\n115    571330.0\n116    571565.0\n117    577887.0\n118    584047.0\n119    587989.0\nName: INDHOLD, dtype: float64"
     },
     "metadata": {},
     "execution_count": 175
    }
   ],
   "source": [
    "#We then extract time and GDP as arrays. We also remove empty cells in GDP and convert this variable to the type of float.\n",
    "\n",
    "Time = df1['TID']                       \n",
    "GNI  = df1['INDHOLD']                   \n",
    "\n",
    "GNI.replace('..',np.nan, inplace=True)\n",
    "GNI.dropna(inplace=True)                \n",
    "GNI = GNI.iloc[:].astype(float)         \n",
    "\n",
    "GNI = GNI.reset_index(drop=True)       \n",
    "\n",
    "#Showing the first- and last rows of the dataset\n",
    "pd.concat([GNI.head(5), GNI.tail(5)])   "
   ]
  },
  {
   "cell_type": "markdown",
   "metadata": {},
   "source": [
    "Now, we wish to remove some time units in order to create a perfectly balanced time series data set, resetting the index and plotting the first and last observations of the dataset as follows:"
   ]
  },
  {
   "cell_type": "code",
   "execution_count": 176,
   "metadata": {},
   "outputs": [
    {
     "output_type": "execute_result",
     "data": {
      "text/plain": "0      1991Q1\n1      1991Q2\n2      1991Q3\n3      1991Q4\n4      1992Q1\n111    2018Q4\n112    2019Q1\n113    2019Q2\n114    2019Q3\n115    2019Q4\nName: TID, dtype: object"
     },
     "metadata": {},
     "execution_count": 176
    }
   ],
   "source": [
    "t = time[4:]                        \n",
    "t = t.reset_index(drop=True)        \n",
    "pd.concat([t.head(5), t.tail(5)])   "
   ]
  },
  {
   "cell_type": "markdown",
   "metadata": {},
   "source": [
    "The dataset now consists of 115+1 observations for each variable "
   ]
  },
  {
   "cell_type": "markdown",
   "metadata": {},
   "source": [
    "## Growth rate and descriptive stats"
   ]
  },
  {
   "cell_type": "markdown",
   "metadata": {},
   "source": [
    "**Summarizing the data**:"
   ]
  },
  {
   "cell_type": "code",
   "execution_count": 177,
   "metadata": {},
   "outputs": [
    {
     "output_type": "execute_result",
     "data": {
      "text/plain": "             INDHOLD\ncount     120.000000\nmean   385179.391667\nstd    110077.898437\nmin    210498.000000\n25%    287099.500000\n50%    385882.500000\n75%    474208.500000\nmax    587989.000000",
      "text/html": "<div>\n<style scoped>\n    .dataframe tbody tr th:only-of-type {\n        vertical-align: middle;\n    }\n\n    .dataframe tbody tr th {\n        vertical-align: top;\n    }\n\n    .dataframe thead th {\n        text-align: right;\n    }\n</style>\n<table border=\"1\" class=\"dataframe\">\n  <thead>\n    <tr style=\"text-align: right;\">\n      <th></th>\n      <th>INDHOLD</th>\n    </tr>\n  </thead>\n  <tbody>\n    <tr>\n      <th>count</th>\n      <td>120.000000</td>\n    </tr>\n    <tr>\n      <th>mean</th>\n      <td>385179.391667</td>\n    </tr>\n    <tr>\n      <th>std</th>\n      <td>110077.898437</td>\n    </tr>\n    <tr>\n      <th>min</th>\n      <td>210498.000000</td>\n    </tr>\n    <tr>\n      <th>25%</th>\n      <td>287099.500000</td>\n    </tr>\n    <tr>\n      <th>50%</th>\n      <td>385882.500000</td>\n    </tr>\n    <tr>\n      <th>75%</th>\n      <td>474208.500000</td>\n    </tr>\n    <tr>\n      <th>max</th>\n      <td>587989.000000</td>\n    </tr>\n  </tbody>\n</table>\n</div>"
     },
     "metadata": {},
     "execution_count": 177
    }
   ],
   "source": [
    "pd.DataFrame(GNI.describe())\n",
    "\n",
    "# a. load\n",
    "#inc = pd.read_excel('INDKP101.xlsx', skiprows=2)\n",
    "\n",
    "# b. drop and rename columns\n",
    "#inc.drop([f'Unnamed: {i}' for i in range(3)], axis=1, inplace=True)\n",
    "#inc.rename(columns = {'Unnamed: 3':'municipality'}, inplace=True)\n",
    "\n",
    "# c. drop rows with missing\n",
    "#inc.dropna(inplace=True)\n",
    "\n",
    "# d. remove non-municipalities\n",
    "#inc = dataproject.only_keep_municipalities(inc)\n",
    "\n",
    "# e. convert to long\n",
    "#inc.rename(columns = {str(i):f'income{i}' for i in range(1986,2018)}, inplace=True)\n",
    "#inc_long = pd.wide_to_long(inc, stubnames='income', i='municipality', j='year').reset_index()\n",
    "\n",
    "# f. show\n",
    "#inc_long.head(5)"
   ]
  },
  {
   "cell_type": "markdown",
   "metadata": {},
   "source": [
    "> **Note:** The function ``dataproject.only_keep_municipalities()`` is used on both the employment and the income datasets."
   ]
  },
  {
   "cell_type": "markdown",
   "metadata": {},
   "source": [
    "## Explore data set"
   ]
  },
  {
   "cell_type": "markdown",
   "metadata": {},
   "source": [
    "In order to be able to **explore the raw data**, we here provide an **interactive plot** to show, respectively, the employment and income level in each municipality"
   ]
  },
  {
   "cell_type": "markdown",
   "metadata": {},
   "source": [
    "The **static plot** is:"
   ]
  },
  {
   "cell_type": "code",
   "execution_count": 178,
   "metadata": {},
   "outputs": [],
   "source": [
    "#def plot_empl_inc(empl,inc,dataset,municipality): \n",
    "    \n",
    " #   if dataset == 'Employment':\n",
    "  #      df = empl\n",
    "   #     y = 'employment'\n",
    "    #else:\n",
    "     #   df = inc\n",
    "      #  y = 'income'\n",
    "    \n",
    "   # I = df['municipality'] == municipality\n",
    "   # ax = df.loc[I,:].plot(x='year', y=y, style='-o')"
   ]
  },
  {
   "cell_type": "markdown",
   "metadata": {},
   "source": [
    "The **interactive plot** is:"
   ]
  },
  {
   "cell_type": "code",
   "execution_count": 179,
   "metadata": {},
   "outputs": [],
   "source": [
    "#widgets.interact(plot_empl_inc, \n",
    "    \n",
    " #   empl = widgets.fixed(empl_long),\n",
    "  #  inc = widgets.fixed(inc_long),\n",
    "   # dataset = widgets.Dropdown(description='Dataset', \n",
    "    #                           options=['Employment','Income']),\n",
    "    #municipality = widgets.Dropdown(description='Municipality', \n",
    "     #                               options=empl_long.municipality.unique())\n",
    "                 \n",
    "#); "
   ]
  },
  {
   "cell_type": "markdown",
   "metadata": {},
   "source": [
    "ADD SOMETHING HERE IF THE READER SHOULD KNOW THAT E.G. SOME MUNICIPALITY IS SPECIAL."
   ]
  },
  {
   "cell_type": "markdown",
   "metadata": {},
   "source": [
    "# Merge data sets"
   ]
  },
  {
   "cell_type": "markdown",
   "metadata": {},
   "source": [
    "We now create a data set with **municpalities which are in both of our data sets**. We can illustrate this **merge** as:"
   ]
  },
  {
   "cell_type": "code",
   "execution_count": 180,
   "metadata": {},
   "outputs": [],
   "source": [
    "#plt.figure(figsize=(15,7))\n",
    "#v = venn2(subsets = (4, 4, 10), set_labels = ('inc', 'empl'))\n",
    "#v.get_label_by_id('100').set_text('dropped')\n",
    "#v.get_label_by_id('010').set_text('dropped' )\n",
    "#v.get_label_by_id('110').set_text('included')\n",
    "#plt.show()"
   ]
  },
  {
   "cell_type": "code",
   "execution_count": 181,
   "metadata": {},
   "outputs": [],
   "source": [
    "#merged = pd.merge(empl_long, inc_long, how='inner',on=['municipality','year'])\n",
    "\n",
    "#print(f'Number of municipalities = {len(merged.municipality.unique())}')\n",
    "#print(f'Number of years          = {len(merged.year.unique())}')"
   ]
  },
  {
   "cell_type": "markdown",
   "metadata": {},
   "source": [
    "# Analysis"
   ]
  },
  {
   "cell_type": "markdown",
   "metadata": {},
   "source": [
    "To get a quick overview of the data, we show some **summary statistics by year**:"
   ]
  },
  {
   "cell_type": "code",
   "execution_count": 182,
   "metadata": {},
   "outputs": [],
   "source": [
    "#merged.groupby('year').agg(['mean','std']).round(2)"
   ]
  },
  {
   "cell_type": "markdown",
   "metadata": {},
   "source": [
    "ADD FURTHER ANALYSIS. EXPLAIN THE CODE BRIEFLY AND SUMMARIZE THE RESULTS."
   ]
  },
  {
   "cell_type": "markdown",
   "metadata": {},
   "source": [
    "# Conclusion"
   ]
  },
  {
   "cell_type": "markdown",
   "metadata": {},
   "source": [
    "ADD CONCISE CONLUSION."
   ]
  }
 ],
 "metadata": {
  "kernelspec": {
   "display_name": "Python 3",
   "language": "python",
   "name": "python3"
  },
  "language_info": {
   "codemirror_mode": {
    "name": "ipython",
    "version": 3
   },
   "file_extension": ".py",
   "mimetype": "text/x-python",
   "name": "python",
   "nbconvert_exporter": "python",
   "pygments_lexer": "ipython3",
   "version": "3.7.6-final"
  },
  "toc-autonumbering": true
 },
 "nbformat": 4,
 "nbformat_minor": 4
}
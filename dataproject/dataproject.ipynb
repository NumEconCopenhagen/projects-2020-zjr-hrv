{
 "cells": [
  {
   "cell_type": "markdown",
   "metadata": {},
   "source": [
    "# YOUR PROJECT TITLE"
   ]
  },
  {
   "cell_type": "markdown",
   "metadata": {},
   "source": [
    "Imports and set magics:"
   ]
  },
  {
   "cell_type": "code",
   "execution_count": 375,
   "metadata": {},
   "outputs": [
    {
     "output_type": "stream",
     "name": "stdout",
     "text": "The autoreload extension is already loaded. To reload it, use:\n  %reload_ext autoreload\n"
    }
   ],
   "source": [
    "import pandas as pd\n",
    "import pandas_datareader as web\n",
    "import requests\n",
    "from iexfinance import stocks\n",
    "#from iexfinance.stocks import stock\n",
    "from datetime import datetime\n",
    "import matplotlib.pyplot as plt\n",
    "\n",
    "#from iexfinancs import get_historical_data\n",
    "\n",
    "# autoreload modules when code is run\n",
    "%load_ext autoreload\n",
    "%autoreload 2\n",
    "\n",
    "# local modules\n",
    "import dataproject"
   ]
  },
  {
   "cell_type": "markdown",
   "metadata": {
    "toc-hr-collapsed": true
   },
   "source": [
    "# Read and clean data"
   ]
  },
  {
   "cell_type": "markdown",
   "metadata": {},
   "source": [
    "## Stock data"
   ]
  },
  {
   "cell_type": "markdown",
   "metadata": {},
   "source": [
    "**Read the stock data** from IEX removing and renaming columns:"
   ]
  },
  {
   "cell_type": "code",
   "execution_count": 376,
   "metadata": {},
   "outputs": [
    {
     "output_type": "execute_result",
     "data": {
      "text/plain": "[<matplotlib.lines.Line2D at 0x1b5862751c8>,\n <matplotlib.lines.Line2D at 0x1b589a83f88>,\n <matplotlib.lines.Line2D at 0x1b589a83e48>,\n <matplotlib.lines.Line2D at 0x1b589a83948>,\n <matplotlib.lines.Line2D at 0x1b589b9c508>,\n <matplotlib.lines.Line2D at 0x1b589b9c608>]"
     },
     "metadata": {},
     "execution_count": 376
    },
    {
     "output_type": "display_data",
     "data": {
      "text/plain": "<Figure size 432x288 with 1 Axes>",
      "image/svg+xml": "<?xml version=\"1.0\" encoding=\"utf-8\" standalone=\"no\"?>\r\n<!DOCTYPE svg PUBLIC \"-//W3C//DTD SVG 1.1//EN\"\r\n  \"http://www.w3.org/Graphics/SVG/1.1/DTD/svg11.dtd\">\r\n<!-- Created with matplotlib (https://matplotlib.org/) -->\r\n<svg height=\"259.116562pt\" version=\"1.1\" viewBox=\"0 0 372.103125 259.116562\" width=\"372.103125pt\" xmlns=\"http://www.w3.org/2000/svg\" xmlns:xlink=\"http://www.w3.org/1999/xlink\">\r\n <defs>\r\n  <style type=\"text/css\">\r\n*{stroke-linecap:butt;stroke-linejoin:round;}\r\n  </style>\r\n </defs>\r\n <g id=\"figure_1\">\r\n  <g id=\"patch_1\">\r\n   <path d=\"M 0 259.116562 \r\nL 372.103125 259.116562 \r\nL 372.103125 0 \r\nL 0 0 \r\nz\r\n\" style=\"fill:none;\"/>\r\n  </g>\r\n  <g id=\"axes_1\">\r\n   <g id=\"patch_2\">\r\n    <path d=\"M 30.103125 235.238437 \r\nL 364.903125 235.238437 \r\nL 364.903125 17.798437 \r\nL 30.103125 17.798437 \r\nz\r\n\" style=\"fill:#ffffff;\"/>\r\n   </g>\r\n   <g id=\"matplotlib.axis_1\">\r\n    <g id=\"xtick_1\">\r\n     <g id=\"line2d_1\">\r\n      <defs>\r\n       <path d=\"M 0 0 \r\nL 0 3.5 \r\n\" id=\"m58ebcfb9f0\" style=\"stroke:#000000;stroke-width:0.8;\"/>\r\n      </defs>\r\n      <g>\r\n       <use style=\"stroke:#000000;stroke-width:0.8;\" x=\"44.655303\" xlink:href=\"#m58ebcfb9f0\" y=\"235.238437\"/>\r\n      </g>\r\n     </g>\r\n     <g id=\"text_1\">\r\n      <!-- 2019-01 -->\r\n      <defs>\r\n       <path d=\"M 19.1875 8.296875 \r\nL 53.609375 8.296875 \r\nL 53.609375 0 \r\nL 7.328125 0 \r\nL 7.328125 8.296875 \r\nQ 12.9375 14.109375 22.625 23.890625 \r\nQ 32.328125 33.6875 34.8125 36.53125 \r\nQ 39.546875 41.84375 41.421875 45.53125 \r\nQ 43.3125 49.21875 43.3125 52.78125 \r\nQ 43.3125 58.59375 39.234375 62.25 \r\nQ 35.15625 65.921875 28.609375 65.921875 \r\nQ 23.96875 65.921875 18.8125 64.3125 \r\nQ 13.671875 62.703125 7.8125 59.421875 \r\nL 7.8125 69.390625 \r\nQ 13.765625 71.78125 18.9375 73 \r\nQ 24.125 74.21875 28.421875 74.21875 \r\nQ 39.75 74.21875 46.484375 68.546875 \r\nQ 53.21875 62.890625 53.21875 53.421875 \r\nQ 53.21875 48.921875 51.53125 44.890625 \r\nQ 49.859375 40.875 45.40625 35.40625 \r\nQ 44.1875 33.984375 37.640625 27.21875 \r\nQ 31.109375 20.453125 19.1875 8.296875 \r\nz\r\n\" id=\"DejaVuSans-50\"/>\r\n       <path d=\"M 31.78125 66.40625 \r\nQ 24.171875 66.40625 20.328125 58.90625 \r\nQ 16.5 51.421875 16.5 36.375 \r\nQ 16.5 21.390625 20.328125 13.890625 \r\nQ 24.171875 6.390625 31.78125 6.390625 \r\nQ 39.453125 6.390625 43.28125 13.890625 \r\nQ 47.125 21.390625 47.125 36.375 \r\nQ 47.125 51.421875 43.28125 58.90625 \r\nQ 39.453125 66.40625 31.78125 66.40625 \r\nz\r\nM 31.78125 74.21875 \r\nQ 44.046875 74.21875 50.515625 64.515625 \r\nQ 56.984375 54.828125 56.984375 36.375 \r\nQ 56.984375 17.96875 50.515625 8.265625 \r\nQ 44.046875 -1.421875 31.78125 -1.421875 \r\nQ 19.53125 -1.421875 13.0625 8.265625 \r\nQ 6.59375 17.96875 6.59375 36.375 \r\nQ 6.59375 54.828125 13.0625 64.515625 \r\nQ 19.53125 74.21875 31.78125 74.21875 \r\nz\r\n\" id=\"DejaVuSans-48\"/>\r\n       <path d=\"M 12.40625 8.296875 \r\nL 28.515625 8.296875 \r\nL 28.515625 63.921875 \r\nL 10.984375 60.40625 \r\nL 10.984375 69.390625 \r\nL 28.421875 72.90625 \r\nL 38.28125 72.90625 \r\nL 38.28125 8.296875 \r\nL 54.390625 8.296875 \r\nL 54.390625 0 \r\nL 12.40625 0 \r\nz\r\n\" id=\"DejaVuSans-49\"/>\r\n       <path d=\"M 10.984375 1.515625 \r\nL 10.984375 10.5 \r\nQ 14.703125 8.734375 18.5 7.8125 \r\nQ 22.3125 6.890625 25.984375 6.890625 \r\nQ 35.75 6.890625 40.890625 13.453125 \r\nQ 46.046875 20.015625 46.78125 33.40625 \r\nQ 43.953125 29.203125 39.59375 26.953125 \r\nQ 35.25 24.703125 29.984375 24.703125 \r\nQ 19.046875 24.703125 12.671875 31.3125 \r\nQ 6.296875 37.9375 6.296875 49.421875 \r\nQ 6.296875 60.640625 12.9375 67.421875 \r\nQ 19.578125 74.21875 30.609375 74.21875 \r\nQ 43.265625 74.21875 49.921875 64.515625 \r\nQ 56.59375 54.828125 56.59375 36.375 \r\nQ 56.59375 19.140625 48.40625 8.859375 \r\nQ 40.234375 -1.421875 26.421875 -1.421875 \r\nQ 22.703125 -1.421875 18.890625 -0.6875 \r\nQ 15.09375 0.046875 10.984375 1.515625 \r\nz\r\nM 30.609375 32.421875 \r\nQ 37.25 32.421875 41.125 36.953125 \r\nQ 45.015625 41.5 45.015625 49.421875 \r\nQ 45.015625 57.28125 41.125 61.84375 \r\nQ 37.25 66.40625 30.609375 66.40625 \r\nQ 23.96875 66.40625 20.09375 61.84375 \r\nQ 16.21875 57.28125 16.21875 49.421875 \r\nQ 16.21875 41.5 20.09375 36.953125 \r\nQ 23.96875 32.421875 30.609375 32.421875 \r\nz\r\n\" id=\"DejaVuSans-57\"/>\r\n       <path d=\"M 4.890625 31.390625 \r\nL 31.203125 31.390625 \r\nL 31.203125 23.390625 \r\nL 4.890625 23.390625 \r\nz\r\n\" id=\"DejaVuSans-45\"/>\r\n      </defs>\r\n      <g transform=\"translate(23.763897 249.836875)scale(0.1 -0.1)\">\r\n       <use xlink:href=\"#DejaVuSans-50\"/>\r\n       <use x=\"63.623047\" xlink:href=\"#DejaVuSans-48\"/>\r\n       <use x=\"127.246094\" xlink:href=\"#DejaVuSans-49\"/>\r\n       <use x=\"190.869141\" xlink:href=\"#DejaVuSans-57\"/>\r\n       <use x=\"254.492188\" xlink:href=\"#DejaVuSans-45\"/>\r\n       <use x=\"290.576172\" xlink:href=\"#DejaVuSans-48\"/>\r\n       <use x=\"354.199219\" xlink:href=\"#DejaVuSans-49\"/>\r\n      </g>\r\n     </g>\r\n    </g>\r\n    <g id=\"xtick_2\">\r\n     <g id=\"line2d_2\">\r\n      <g>\r\n       <use style=\"stroke:#000000;stroke-width:0.8;\" x=\"83.949514\" xlink:href=\"#m58ebcfb9f0\" y=\"235.238437\"/>\r\n      </g>\r\n     </g>\r\n     <g id=\"text_2\">\r\n      <!-- 2019-03 -->\r\n      <defs>\r\n       <path d=\"M 40.578125 39.3125 \r\nQ 47.65625 37.796875 51.625 33 \r\nQ 55.609375 28.21875 55.609375 21.1875 \r\nQ 55.609375 10.40625 48.1875 4.484375 \r\nQ 40.765625 -1.421875 27.09375 -1.421875 \r\nQ 22.515625 -1.421875 17.65625 -0.515625 \r\nQ 12.796875 0.390625 7.625 2.203125 \r\nL 7.625 11.71875 \r\nQ 11.71875 9.328125 16.59375 8.109375 \r\nQ 21.484375 6.890625 26.8125 6.890625 \r\nQ 36.078125 6.890625 40.9375 10.546875 \r\nQ 45.796875 14.203125 45.796875 21.1875 \r\nQ 45.796875 27.640625 41.28125 31.265625 \r\nQ 36.765625 34.90625 28.71875 34.90625 \r\nL 20.21875 34.90625 \r\nL 20.21875 43.015625 \r\nL 29.109375 43.015625 \r\nQ 36.375 43.015625 40.234375 45.921875 \r\nQ 44.09375 48.828125 44.09375 54.296875 \r\nQ 44.09375 59.90625 40.109375 62.90625 \r\nQ 36.140625 65.921875 28.71875 65.921875 \r\nQ 24.65625 65.921875 20.015625 65.03125 \r\nQ 15.375 64.15625 9.8125 62.3125 \r\nL 9.8125 71.09375 \r\nQ 15.4375 72.65625 20.34375 73.4375 \r\nQ 25.25 74.21875 29.59375 74.21875 \r\nQ 40.828125 74.21875 47.359375 69.109375 \r\nQ 53.90625 64.015625 53.90625 55.328125 \r\nQ 53.90625 49.265625 50.4375 45.09375 \r\nQ 46.96875 40.921875 40.578125 39.3125 \r\nz\r\n\" id=\"DejaVuSans-51\"/>\r\n      </defs>\r\n      <g transform=\"translate(63.058108 249.836875)scale(0.1 -0.1)\">\r\n       <use xlink:href=\"#DejaVuSans-50\"/>\r\n       <use x=\"63.623047\" xlink:href=\"#DejaVuSans-48\"/>\r\n       <use x=\"127.246094\" xlink:href=\"#DejaVuSans-49\"/>\r\n       <use x=\"190.869141\" xlink:href=\"#DejaVuSans-57\"/>\r\n       <use x=\"254.492188\" xlink:href=\"#DejaVuSans-45\"/>\r\n       <use x=\"290.576172\" xlink:href=\"#DejaVuSans-48\"/>\r\n       <use x=\"354.199219\" xlink:href=\"#DejaVuSans-51\"/>\r\n      </g>\r\n     </g>\r\n    </g>\r\n    <g id=\"xtick_3\">\r\n     <g id=\"line2d_3\">\r\n      <g>\r\n       <use style=\"stroke:#000000;stroke-width:0.8;\" x=\"124.575733\" xlink:href=\"#m58ebcfb9f0\" y=\"235.238437\"/>\r\n      </g>\r\n     </g>\r\n     <g id=\"text_3\">\r\n      <!-- 2019-05 -->\r\n      <defs>\r\n       <path d=\"M 10.796875 72.90625 \r\nL 49.515625 72.90625 \r\nL 49.515625 64.59375 \r\nL 19.828125 64.59375 \r\nL 19.828125 46.734375 \r\nQ 21.96875 47.46875 24.109375 47.828125 \r\nQ 26.265625 48.1875 28.421875 48.1875 \r\nQ 40.625 48.1875 47.75 41.5 \r\nQ 54.890625 34.8125 54.890625 23.390625 \r\nQ 54.890625 11.625 47.5625 5.09375 \r\nQ 40.234375 -1.421875 26.90625 -1.421875 \r\nQ 22.3125 -1.421875 17.546875 -0.640625 \r\nQ 12.796875 0.140625 7.71875 1.703125 \r\nL 7.71875 11.625 \r\nQ 12.109375 9.234375 16.796875 8.0625 \r\nQ 21.484375 6.890625 26.703125 6.890625 \r\nQ 35.15625 6.890625 40.078125 11.328125 \r\nQ 45.015625 15.765625 45.015625 23.390625 \r\nQ 45.015625 31 40.078125 35.4375 \r\nQ 35.15625 39.890625 26.703125 39.890625 \r\nQ 22.75 39.890625 18.8125 39.015625 \r\nQ 14.890625 38.140625 10.796875 36.28125 \r\nz\r\n\" id=\"DejaVuSans-53\"/>\r\n      </defs>\r\n      <g transform=\"translate(103.684327 249.836875)scale(0.1 -0.1)\">\r\n       <use xlink:href=\"#DejaVuSans-50\"/>\r\n       <use x=\"63.623047\" xlink:href=\"#DejaVuSans-48\"/>\r\n       <use x=\"127.246094\" xlink:href=\"#DejaVuSans-49\"/>\r\n       <use x=\"190.869141\" xlink:href=\"#DejaVuSans-57\"/>\r\n       <use x=\"254.492188\" xlink:href=\"#DejaVuSans-45\"/>\r\n       <use x=\"290.576172\" xlink:href=\"#DejaVuSans-48\"/>\r\n       <use x=\"354.199219\" xlink:href=\"#DejaVuSans-53\"/>\r\n      </g>\r\n     </g>\r\n    </g>\r\n    <g id=\"xtick_4\">\r\n     <g id=\"line2d_4\">\r\n      <g>\r\n       <use style=\"stroke:#000000;stroke-width:0.8;\" x=\"165.201951\" xlink:href=\"#m58ebcfb9f0\" y=\"235.238437\"/>\r\n      </g>\r\n     </g>\r\n     <g id=\"text_4\">\r\n      <!-- 2019-07 -->\r\n      <defs>\r\n       <path d=\"M 8.203125 72.90625 \r\nL 55.078125 72.90625 \r\nL 55.078125 68.703125 \r\nL 28.609375 0 \r\nL 18.3125 0 \r\nL 43.21875 64.59375 \r\nL 8.203125 64.59375 \r\nz\r\n\" id=\"DejaVuSans-55\"/>\r\n      </defs>\r\n      <g transform=\"translate(144.310545 249.836875)scale(0.1 -0.1)\">\r\n       <use xlink:href=\"#DejaVuSans-50\"/>\r\n       <use x=\"63.623047\" xlink:href=\"#DejaVuSans-48\"/>\r\n       <use x=\"127.246094\" xlink:href=\"#DejaVuSans-49\"/>\r\n       <use x=\"190.869141\" xlink:href=\"#DejaVuSans-57\"/>\r\n       <use x=\"254.492188\" xlink:href=\"#DejaVuSans-45\"/>\r\n       <use x=\"290.576172\" xlink:href=\"#DejaVuSans-48\"/>\r\n       <use x=\"354.199219\" xlink:href=\"#DejaVuSans-55\"/>\r\n      </g>\r\n     </g>\r\n    </g>\r\n    <g id=\"xtick_5\">\r\n     <g id=\"line2d_5\">\r\n      <g>\r\n       <use style=\"stroke:#000000;stroke-width:0.8;\" x=\"206.494173\" xlink:href=\"#m58ebcfb9f0\" y=\"235.238437\"/>\r\n      </g>\r\n     </g>\r\n     <g id=\"text_5\">\r\n      <!-- 2019-09 -->\r\n      <g transform=\"translate(185.602767 249.836875)scale(0.1 -0.1)\">\r\n       <use xlink:href=\"#DejaVuSans-50\"/>\r\n       <use x=\"63.623047\" xlink:href=\"#DejaVuSans-48\"/>\r\n       <use x=\"127.246094\" xlink:href=\"#DejaVuSans-49\"/>\r\n       <use x=\"190.869141\" xlink:href=\"#DejaVuSans-57\"/>\r\n       <use x=\"254.492188\" xlink:href=\"#DejaVuSans-45\"/>\r\n       <use x=\"290.576172\" xlink:href=\"#DejaVuSans-48\"/>\r\n       <use x=\"354.199219\" xlink:href=\"#DejaVuSans-57\"/>\r\n      </g>\r\n     </g>\r\n    </g>\r\n    <g id=\"xtick_6\">\r\n     <g id=\"line2d_6\">\r\n      <g>\r\n       <use style=\"stroke:#000000;stroke-width:0.8;\" x=\"247.120392\" xlink:href=\"#m58ebcfb9f0\" y=\"235.238437\"/>\r\n      </g>\r\n     </g>\r\n     <g id=\"text_6\">\r\n      <!-- 2019-11 -->\r\n      <g transform=\"translate(226.228986 249.836875)scale(0.1 -0.1)\">\r\n       <use xlink:href=\"#DejaVuSans-50\"/>\r\n       <use x=\"63.623047\" xlink:href=\"#DejaVuSans-48\"/>\r\n       <use x=\"127.246094\" xlink:href=\"#DejaVuSans-49\"/>\r\n       <use x=\"190.869141\" xlink:href=\"#DejaVuSans-57\"/>\r\n       <use x=\"254.492188\" xlink:href=\"#DejaVuSans-45\"/>\r\n       <use x=\"290.576172\" xlink:href=\"#DejaVuSans-49\"/>\r\n       <use x=\"354.199219\" xlink:href=\"#DejaVuSans-49\"/>\r\n      </g>\r\n     </g>\r\n    </g>\r\n    <g id=\"xtick_7\">\r\n     <g id=\"line2d_7\">\r\n      <g>\r\n       <use style=\"stroke:#000000;stroke-width:0.8;\" x=\"287.74661\" xlink:href=\"#m58ebcfb9f0\" y=\"235.238437\"/>\r\n      </g>\r\n     </g>\r\n     <g id=\"text_7\">\r\n      <!-- 2020-01 -->\r\n      <g transform=\"translate(266.855204 249.836875)scale(0.1 -0.1)\">\r\n       <use xlink:href=\"#DejaVuSans-50\"/>\r\n       <use x=\"63.623047\" xlink:href=\"#DejaVuSans-48\"/>\r\n       <use x=\"127.246094\" xlink:href=\"#DejaVuSans-50\"/>\r\n       <use x=\"190.869141\" xlink:href=\"#DejaVuSans-48\"/>\r\n       <use x=\"254.492188\" xlink:href=\"#DejaVuSans-45\"/>\r\n       <use x=\"290.576172\" xlink:href=\"#DejaVuSans-48\"/>\r\n       <use x=\"354.199219\" xlink:href=\"#DejaVuSans-49\"/>\r\n      </g>\r\n     </g>\r\n    </g>\r\n    <g id=\"xtick_8\">\r\n     <g id=\"line2d_8\">\r\n      <g>\r\n       <use style=\"stroke:#000000;stroke-width:0.8;\" x=\"327.706825\" xlink:href=\"#m58ebcfb9f0\" y=\"235.238437\"/>\r\n      </g>\r\n     </g>\r\n     <g id=\"text_8\">\r\n      <!-- 2020-03 -->\r\n      <g transform=\"translate(306.815419 249.836875)scale(0.1 -0.1)\">\r\n       <use xlink:href=\"#DejaVuSans-50\"/>\r\n       <use x=\"63.623047\" xlink:href=\"#DejaVuSans-48\"/>\r\n       <use x=\"127.246094\" xlink:href=\"#DejaVuSans-50\"/>\r\n       <use x=\"190.869141\" xlink:href=\"#DejaVuSans-48\"/>\r\n       <use x=\"254.492188\" xlink:href=\"#DejaVuSans-45\"/>\r\n       <use x=\"290.576172\" xlink:href=\"#DejaVuSans-48\"/>\r\n       <use x=\"354.199219\" xlink:href=\"#DejaVuSans-51\"/>\r\n      </g>\r\n     </g>\r\n    </g>\r\n   </g>\r\n   <g id=\"matplotlib.axis_2\">\r\n    <g id=\"ytick_1\">\r\n     <g id=\"line2d_9\">\r\n      <defs>\r\n       <path d=\"M 0 0 \r\nL -3.5 0 \r\n\" id=\"md7ca89b624\" style=\"stroke:#000000;stroke-width:0.8;\"/>\r\n      </defs>\r\n      <g>\r\n       <use style=\"stroke:#000000;stroke-width:0.8;\" x=\"30.103125\" xlink:href=\"#md7ca89b624\" y=\"225.355364\"/>\r\n      </g>\r\n     </g>\r\n     <g id=\"text_9\">\r\n      <!-- 0.0 -->\r\n      <defs>\r\n       <path d=\"M 10.6875 12.40625 \r\nL 21 12.40625 \r\nL 21 0 \r\nL 10.6875 0 \r\nz\r\n\" id=\"DejaVuSans-46\"/>\r\n      </defs>\r\n      <g transform=\"translate(7.2 229.154582)scale(0.1 -0.1)\">\r\n       <use xlink:href=\"#DejaVuSans-48\"/>\r\n       <use x=\"63.623047\" xlink:href=\"#DejaVuSans-46\"/>\r\n       <use x=\"95.410156\" xlink:href=\"#DejaVuSans-48\"/>\r\n      </g>\r\n     </g>\r\n    </g>\r\n    <g id=\"ytick_2\">\r\n     <g id=\"line2d_10\">\r\n      <g>\r\n       <use style=\"stroke:#000000;stroke-width:0.8;\" x=\"30.103125\" xlink:href=\"#md7ca89b624\" y=\"193.268357\"/>\r\n      </g>\r\n     </g>\r\n     <g id=\"text_10\">\r\n      <!-- 0.5 -->\r\n      <g transform=\"translate(7.2 197.067575)scale(0.1 -0.1)\">\r\n       <use xlink:href=\"#DejaVuSans-48\"/>\r\n       <use x=\"63.623047\" xlink:href=\"#DejaVuSans-46\"/>\r\n       <use x=\"95.410156\" xlink:href=\"#DejaVuSans-53\"/>\r\n      </g>\r\n     </g>\r\n    </g>\r\n    <g id=\"ytick_3\">\r\n     <g id=\"line2d_11\">\r\n      <g>\r\n       <use style=\"stroke:#000000;stroke-width:0.8;\" x=\"30.103125\" xlink:href=\"#md7ca89b624\" y=\"161.18135\"/>\r\n      </g>\r\n     </g>\r\n     <g id=\"text_11\">\r\n      <!-- 1.0 -->\r\n      <g transform=\"translate(7.2 164.980568)scale(0.1 -0.1)\">\r\n       <use xlink:href=\"#DejaVuSans-49\"/>\r\n       <use x=\"63.623047\" xlink:href=\"#DejaVuSans-46\"/>\r\n       <use x=\"95.410156\" xlink:href=\"#DejaVuSans-48\"/>\r\n      </g>\r\n     </g>\r\n    </g>\r\n    <g id=\"ytick_4\">\r\n     <g id=\"line2d_12\">\r\n      <g>\r\n       <use style=\"stroke:#000000;stroke-width:0.8;\" x=\"30.103125\" xlink:href=\"#md7ca89b624\" y=\"129.094343\"/>\r\n      </g>\r\n     </g>\r\n     <g id=\"text_12\">\r\n      <!-- 1.5 -->\r\n      <g transform=\"translate(7.2 132.893562)scale(0.1 -0.1)\">\r\n       <use xlink:href=\"#DejaVuSans-49\"/>\r\n       <use x=\"63.623047\" xlink:href=\"#DejaVuSans-46\"/>\r\n       <use x=\"95.410156\" xlink:href=\"#DejaVuSans-53\"/>\r\n      </g>\r\n     </g>\r\n    </g>\r\n    <g id=\"ytick_5\">\r\n     <g id=\"line2d_13\">\r\n      <g>\r\n       <use style=\"stroke:#000000;stroke-width:0.8;\" x=\"30.103125\" xlink:href=\"#md7ca89b624\" y=\"97.007336\"/>\r\n      </g>\r\n     </g>\r\n     <g id=\"text_13\">\r\n      <!-- 2.0 -->\r\n      <g transform=\"translate(7.2 100.806555)scale(0.1 -0.1)\">\r\n       <use xlink:href=\"#DejaVuSans-50\"/>\r\n       <use x=\"63.623047\" xlink:href=\"#DejaVuSans-46\"/>\r\n       <use x=\"95.410156\" xlink:href=\"#DejaVuSans-48\"/>\r\n      </g>\r\n     </g>\r\n    </g>\r\n    <g id=\"ytick_6\">\r\n     <g id=\"line2d_14\">\r\n      <g>\r\n       <use style=\"stroke:#000000;stroke-width:0.8;\" x=\"30.103125\" xlink:href=\"#md7ca89b624\" y=\"64.920329\"/>\r\n      </g>\r\n     </g>\r\n     <g id=\"text_14\">\r\n      <!-- 2.5 -->\r\n      <g transform=\"translate(7.2 68.719548)scale(0.1 -0.1)\">\r\n       <use xlink:href=\"#DejaVuSans-50\"/>\r\n       <use x=\"63.623047\" xlink:href=\"#DejaVuSans-46\"/>\r\n       <use x=\"95.410156\" xlink:href=\"#DejaVuSans-53\"/>\r\n      </g>\r\n     </g>\r\n    </g>\r\n    <g id=\"ytick_7\">\r\n     <g id=\"line2d_15\">\r\n      <g>\r\n       <use style=\"stroke:#000000;stroke-width:0.8;\" x=\"30.103125\" xlink:href=\"#md7ca89b624\" y=\"32.833322\"/>\r\n      </g>\r\n     </g>\r\n     <g id=\"text_15\">\r\n      <!-- 3.0 -->\r\n      <g transform=\"translate(7.2 36.632541)scale(0.1 -0.1)\">\r\n       <use xlink:href=\"#DejaVuSans-51\"/>\r\n       <use x=\"63.623047\" xlink:href=\"#DejaVuSans-46\"/>\r\n       <use x=\"95.410156\" xlink:href=\"#DejaVuSans-48\"/>\r\n      </g>\r\n     </g>\r\n    </g>\r\n    <g id=\"text_16\">\r\n     <!-- 1e7 -->\r\n     <defs>\r\n      <path d=\"M 56.203125 29.59375 \r\nL 56.203125 25.203125 \r\nL 14.890625 25.203125 \r\nQ 15.484375 15.921875 20.484375 11.0625 \r\nQ 25.484375 6.203125 34.421875 6.203125 \r\nQ 39.59375 6.203125 44.453125 7.46875 \r\nQ 49.3125 8.734375 54.109375 11.28125 \r\nL 54.109375 2.78125 \r\nQ 49.265625 0.734375 44.1875 -0.34375 \r\nQ 39.109375 -1.421875 33.890625 -1.421875 \r\nQ 20.796875 -1.421875 13.15625 6.1875 \r\nQ 5.515625 13.8125 5.515625 26.8125 \r\nQ 5.515625 40.234375 12.765625 48.109375 \r\nQ 20.015625 56 32.328125 56 \r\nQ 43.359375 56 49.78125 48.890625 \r\nQ 56.203125 41.796875 56.203125 29.59375 \r\nz\r\nM 47.21875 32.234375 \r\nQ 47.125 39.59375 43.09375 43.984375 \r\nQ 39.0625 48.390625 32.421875 48.390625 \r\nQ 24.90625 48.390625 20.390625 44.140625 \r\nQ 15.875 39.890625 15.1875 32.171875 \r\nz\r\n\" id=\"DejaVuSans-101\"/>\r\n     </defs>\r\n     <g transform=\"translate(30.103125 14.798437)scale(0.1 -0.1)\">\r\n      <use xlink:href=\"#DejaVuSans-49\"/>\r\n      <use x=\"63.623047\" xlink:href=\"#DejaVuSans-101\"/>\r\n      <use x=\"125.146484\" xlink:href=\"#DejaVuSans-55\"/>\r\n     </g>\r\n    </g>\r\n   </g>\r\n   <g id=\"line2d_16\">\r\n    <path clip-path=\"url(#p86ecc43903)\" d=\"M 45.321307 225.354777 \r\nL 349.684943 225.35462 \r\nL 349.684943 225.35462 \r\n\" style=\"fill:none;stroke:#1f77b4;stroke-linecap:square;stroke-width:1.5;\"/>\r\n   </g>\r\n   <g id=\"line2d_17\">\r\n    <path clip-path=\"url(#p86ecc43903)\" d=\"M 45.321307 225.354786 \r\nL 349.684943 225.354638 \r\nL 349.684943 225.354638 \r\n\" style=\"fill:none;stroke:#ff7f0e;stroke-linecap:square;stroke-width:1.5;\"/>\r\n   </g>\r\n   <g id=\"line2d_18\">\r\n    <path clip-path=\"url(#p86ecc43903)\" d=\"M 45.321307 225.354779 \r\nL 349.684943 225.354634 \r\nL 349.684943 225.354634 \r\n\" style=\"fill:none;stroke:#2ca02c;stroke-linecap:square;stroke-width:1.5;\"/>\r\n   </g>\r\n   <g id=\"line2d_19\">\r\n    <path clip-path=\"url(#p86ecc43903)\" d=\"M 45.321307 225.354778 \r\nL 349.684943 225.354625 \r\nL 349.684943 225.354625 \r\n\" style=\"fill:none;stroke:#d62728;stroke-linecap:square;stroke-width:1.5;\"/>\r\n   </g>\r\n   <g id=\"line2d_20\">\r\n    <path clip-path=\"url(#p86ecc43903)\" d=\"M 45.321307 162.183106 \r\nL 45.98731 162.335198 \r\nL 46.653314 157.551026 \r\nL 48.651325 167.518534 \r\nL 49.317328 164.060838 \r\nL 49.983332 128.994231 \r\nL 51.315339 179.364415 \r\nL 53.31335 174.324188 \r\nL 53.979353 175.078232 \r\nL 54.645357 174.24397 \r\nL 55.311361 173.730578 \r\nL 55.977364 166.955086 \r\nL 58.641378 138.601723 \r\nL 59.307382 78.595811 \r\nL 59.973386 147.407039 \r\nL 60.639389 157.215396 \r\nL 62.6374 162.685589 \r\nL 63.303403 162.658635 \r\nL 63.969407 175.619219 \r\nL 64.635411 122.392009 \r\nL 65.301414 143.720884 \r\nL 67.299425 149.068505 \r\nL 67.965429 162.642592 \r\nL 68.631432 169.563118 \r\nL 69.297436 169.315406 \r\nL 69.963439 177.332666 \r\nL 71.96145 170.845314 \r\nL 72.627454 153.231473 \r\nL 73.293457 150.99565 \r\nL 73.959461 174.464729 \r\nL 74.625464 147.903104 \r\nL 77.289479 160.551161 \r\nL 77.955482 167.936306 \r\nL 78.621486 177.579094 \r\nL 79.287489 174.494891 \r\nL 81.2855 177.634925 \r\nL 81.951504 179.693627 \r\nL 82.617507 186.763679 \r\nL 83.283511 157.488777 \r\nL 83.949514 175.728315 \r\nL 85.947525 181.105456 \r\nL 86.613529 185.088737 \r\nL 87.279532 195.692209 \r\nL 87.945536 171.394002 \r\nL 88.61154 192.341042 \r\nL 90.60955 176.939921 \r\nL 91.275554 176.599157 \r\nL 91.941557 161.93026 \r\nL 92.607561 170.228602 \r\nL 93.273565 27.682074 \r\nL 95.271575 171.174527 \r\nL 95.937579 178.2895 \r\nL 96.603583 177.136293 \r\nL 97.269586 172.597907 \r\nL 97.93559 154.533564 \r\nL 99.9336 180.719128 \r\nL 100.599604 181.01497 \r\nL 101.265608 186.61287 \r\nL 102.597615 176.997677 \r\nL 104.595625 182.830453 \r\nL 105.261629 186.28109 \r\nL 105.927633 191.814815 \r\nL 107.25964 197.877334 \r\nL 109.257651 171.008958 \r\nL 109.923654 188.004162 \r\nL 110.589658 190.737975 \r\nL 111.255661 192.765232 \r\nL 111.921665 182.308077 \r\nL 113.919676 189.166354 \r\nL 114.585679 173.142744 \r\nL 115.251683 181.857575 \r\nL 118.581701 167.231676 \r\nL 119.247704 122.806573 \r\nL 119.913708 160.57298 \r\nL 120.579711 186.303551 \r\nL 121.245715 175.637188 \r\nL 123.243726 194.631413 \r\nL 123.909729 172.403459 \r\nL 124.575733 182.141866 \r\nL 125.241736 185.116332 \r\nL 125.90774 194.594192 \r\nL 127.905751 193.971704 \r\nL 128.571754 186.711698 \r\nL 129.237758 190.748885 \r\nL 129.903762 181.064384 \r\nL 130.569765 188.033041 \r\nL 132.567776 176.740339 \r\nL 133.233779 180.407884 \r\nL 133.899783 189.831196 \r\nL 134.565787 165.774926 \r\nL 135.23179 184.475233 \r\nL 137.229801 183.223198 \r\nL 137.895805 191.815457 \r\nL 138.561808 193.976196 \r\nL 139.227812 185.72406 \r\nL 139.893815 197.297843 \r\nL 142.55783 176.483643 \r\nL 143.223833 179.552445 \r\nL 143.889837 195.006189 \r\nL 144.55584 159.369717 \r\nL 146.553851 170.596319 \r\nL 147.219855 181.034223 \r\nL 147.885858 183.759693 \r\nL 148.551862 182.476854 \r\nL 149.217865 173.609289 \r\nL 151.215876 194.763611 \r\nL 151.88188 173.538698 \r\nL 152.547883 176.019665 \r\nL 153.213887 170.092553 \r\nL 153.87989 184.039492 \r\nL 155.877901 186.722607 \r\nL 156.543905 175.74115 \r\nL 157.209908 180.253867 \r\nL 157.875912 180.149905 \r\nL 158.541916 136.799075 \r\nL 160.539926 189.943501 \r\nL 161.20593 181.681097 \r\nL 161.871933 179.34067 \r\nL 162.537937 189.332564 \r\nL 163.203941 147.371102 \r\nL 165.201951 181.871694 \r\nL 165.867955 183.140414 \r\nL 166.533958 185.41795 \r\nL 167.865966 169.557342 \r\nL 169.863976 191.228906 \r\nL 170.52998 176.982917 \r\nL 171.195984 189.413424 \r\nL 171.861987 195.672957 \r\nL 172.527991 180.057494 \r\nL 174.526001 185.306287 \r\nL 175.192005 176.298822 \r\nL 175.858009 174.903679 \r\nL 176.524012 187.950256 \r\nL 177.190016 183.340637 \r\nL 179.188027 199.565111 \r\nL 179.85403 172.767326 \r\nL 180.520034 163.517926 \r\nL 181.186037 175.239309 \r\nL 181.852041 189.677179 \r\nL 183.850052 175.500497 \r\nL 184.516055 104.780092 \r\nL 185.182059 144.227859 \r\nL 185.848062 152.783538 \r\nL 186.514066 146.638876 \r\nL 188.512077 142.090864 \r\nL 189.17808 164.450374 \r\nL 189.844084 164.341278 \r\nL 190.510087 177.760064 \r\nL 191.176091 180.821807 \r\nL 193.174102 200.358302 \r\nL 193.840105 182.217591 \r\nL 194.506109 160.229649 \r\nL 195.172112 175.569164 \r\nL 195.838116 172.07553 \r\nL 197.836127 187.703828 \r\nL 198.50213 182.074483 \r\nL 199.168134 199.445747 \r\nL 199.834138 196.102281 \r\nL 200.500141 178.272173 \r\nL 202.498152 189.023246 \r\nL 203.164155 180.457298 \r\nL 203.830159 195.833392 \r\nL 204.496163 193.194557 \r\nL 205.162166 186.805392 \r\nL 207.826181 193.529545 \r\nL 208.492184 189.501984 \r\nL 209.158188 177.276834 \r\nL 209.824191 191.298856 \r\nL 211.822202 176.182667 \r\nL 212.488206 163.86254 \r\nL 213.154209 176.804513 \r\nL 213.820213 185.604054 \r\nL 214.486216 181.862067 \r\nL 216.484227 163.576966 \r\nL 217.150231 184.430953 \r\nL 217.816234 188.877571 \r\nL 218.482238 196.311488 \r\nL 219.148241 126.771243 \r\nL 221.146252 186.463344 \r\nL 221.812256 176.370055 \r\nL 222.478259 188.053576 \r\nL 223.144263 180.531098 \r\nL 223.810266 189.483373 \r\nL 225.808277 191.940596 \r\nL 226.474281 190.600643 \r\nL 227.140284 182.005175 \r\nL 227.806288 192.170981 \r\nL 228.472292 197.260622 \r\nL 230.470302 194.874632 \r\nL 231.136306 189.768948 \r\nL 231.802309 201.125823 \r\nL 232.468313 200.048983 \r\nL 233.134317 184.975791 \r\nL 235.132327 178.122006 \r\nL 235.798331 154.033006 \r\nL 236.464334 174.188781 \r\nL 237.130338 187.127545 \r\nL 237.796342 167.49158 \r\nL 239.794352 182.155984 \r\nL 240.460356 132.877401 \r\nL 241.12636 172.416294 \r\nL 241.792363 182.194489 \r\nL 242.458367 186.252212 \r\nL 244.456377 190.322128 \r\nL 245.122381 189.034155 \r\nL 245.788385 194.972818 \r\nL 246.454388 184.287203 \r\nL 247.120392 186.786139 \r\nL 249.118403 158.926275 \r\nL 249.784406 166.061142 \r\nL 250.45041 182.000042 \r\nL 251.116413 168.178242 \r\nL 251.782417 198.082049 \r\nL 253.780428 200.645801 \r\nL 254.446431 194.8111 \r\nL 255.112435 178.747061 \r\nL 255.778438 192.05996 \r\nL 256.444442 179.736624 \r\nL 258.442453 177.265283 \r\nL 259.108456 186.921547 \r\nL 259.77446 183.770603 \r\nL 260.440463 179.829676 \r\nL 261.106467 197.023178 \r\nL 263.104478 192.4065 \r\nL 263.770481 172.50678 \r\nL 264.436485 201.281124 \r\nL 265.768492 206.569704 \r\nL 267.766503 185.912731 \r\nL 268.432506 184.308381 \r\nL 269.09851 181.349317 \r\nL 269.764514 180.246166 \r\nL 270.430517 179.465168 \r\nL 272.428528 177.527755 \r\nL 273.094531 194.936239 \r\nL 273.760535 194.402311 \r\nL 274.426539 187.506814 \r\nL 275.092542 190.24191 \r\nL 277.090553 172.207087 \r\nL 277.756556 168.675591 \r\nL 278.42256 170.116939 \r\nL 279.088564 182.813768 \r\nL 279.754567 121.069382 \r\nL 281.752578 182.875375 \r\nL 282.418582 212.378736 \r\nL 283.750589 194.805966 \r\nL 284.416592 192.036216 \r\nL 286.414603 200.428251 \r\nL 287.080607 194.558896 \r\nL 288.412614 173.176756 \r\nL 289.078617 174.205466 \r\nL 291.076628 182.52306 \r\nL 291.742632 176.689642 \r\nL 292.408635 190.797015 \r\nL 293.074639 187.21033 \r\nL 293.740642 200.153587 \r\nL 295.738653 171.390152 \r\nL 296.404657 175.109036 \r\nL 297.07066 194.271396 \r\nL 297.736664 185.351209 \r\nL 298.402667 152.741183 \r\nL 301.066682 170.466688 \r\nL 301.732685 177.887771 \r\nL 302.398689 154.144669 \r\nL 303.064693 164.334861 \r\nL 305.062703 165.427102 \r\nL 305.728707 185.566191 \r\nL 306.39471 191.529241 \r\nL 307.726718 182.91773 \r\nL 309.724728 186.515325 \r\nL 310.390732 183.563962 \r\nL 311.056736 186.046213 \r\nL 311.722739 166.939684 \r\nL 312.388743 187.395793 \r\nL 314.386753 191.881556 \r\nL 315.052757 186.172636 \r\nL 315.718761 186.647524 \r\nL 316.384764 179.413187 \r\nL 317.050768 187.562645 \r\nL 319.714782 181.924958 \r\nL 320.380786 194.975385 \r\nL 321.046789 186.243869 \r\nL 321.712793 169.370596 \r\nL 323.710804 177.007303 \r\nL 324.376807 168.219956 \r\nL 325.042811 181.112515 \r\nL 325.708814 140.010984 \r\nL 326.374818 79.11177 \r\nL 328.372829 145.78087 \r\nL 329.038832 145.067897 \r\nL 329.704836 164.651239 \r\nL 330.370839 165.266026 \r\nL 331.036843 162.353167 \r\nL 333.034854 141.181518 \r\nL 333.700857 152.074415 \r\nL 335.032864 90.666943 \r\nL 335.698868 113.82927 \r\nL 337.696879 113.901787 \r\nL 338.362882 100.527922 \r\nL 339.028886 76.861829 \r\nL 339.694889 119.929652 \r\nL 340.360893 97.502117 \r\nL 342.358904 111.274503 \r\nL 343.024907 131.49766 \r\nL 343.690911 136.865174 \r\nL 344.356915 123.986091 \r\nL 345.022918 122.207829 \r\nL 347.020929 131.843558 \r\nL 347.686932 86.15551 \r\nL 348.352936 154.149161 \r\nL 349.01894 166.515494 \r\nL 349.684943 175.500497 \r\nL 349.684943 175.500497 \r\n\" style=\"fill:none;stroke:#9467bd;stroke-linecap:square;stroke-width:1.5;\"/>\r\n   </g>\r\n   <g id=\"line2d_21\">\r\n    <path clip-path=\"url(#p86ecc43903)\" d=\"M 45.321307 225.354797 \r\nL 349.684943 225.354625 \r\nL 349.684943 225.354625 \r\n\" style=\"fill:none;stroke:#8c564b;stroke-linecap:square;stroke-width:1.5;\"/>\r\n   </g>\r\n   <g id=\"patch_3\">\r\n    <path d=\"M 30.103125 235.238437 \r\nL 30.103125 17.798438 \r\n\" style=\"fill:none;stroke:#000000;stroke-linecap:square;stroke-linejoin:miter;stroke-width:0.8;\"/>\r\n   </g>\r\n   <g id=\"patch_4\">\r\n    <path d=\"M 364.903125 235.238437 \r\nL 364.903125 17.798438 \r\n\" style=\"fill:none;stroke:#000000;stroke-linecap:square;stroke-linejoin:miter;stroke-width:0.8;\"/>\r\n   </g>\r\n   <g id=\"patch_5\">\r\n    <path d=\"M 30.103125 235.238437 \r\nL 364.903125 235.238437 \r\n\" style=\"fill:none;stroke:#000000;stroke-linecap:square;stroke-linejoin:miter;stroke-width:0.8;\"/>\r\n   </g>\r\n   <g id=\"patch_6\">\r\n    <path d=\"M 30.103125 17.798437 \r\nL 364.903125 17.798437 \r\n\" style=\"fill:none;stroke:#000000;stroke-linecap:square;stroke-linejoin:miter;stroke-width:0.8;\"/>\r\n   </g>\r\n  </g>\r\n </g>\r\n <defs>\r\n  <clipPath id=\"p86ecc43903\">\r\n   <rect height=\"217.44\" width=\"334.8\" x=\"30.103125\" y=\"17.798437\"/>\r\n  </clipPath>\r\n </defs>\r\n</svg>\r\n",
      "image/png": "[encoded data removed]"
     },
     "metadata": {
      "needs_background": "light"
     }
    }
   ],
   "source": [
    "#Import stok data from IEX\n",
    "start = datetime(2014,1,1)\n",
    "end   = datetime(2019,12,31)\n",
    "from pandas_datareader import data as wb\n",
    "pg=wb.DataReader('PG',data_source='yahoo',start='2019-1-1')\n",
    "plt.plot(pg)\n",
    "#\n",
    "#firms = [] \n",
    "#for i, stock_name in enumerate(['FB','AAPL', 'GOOGL', 'NFLX', 'AMZN', 'SPY']): \n",
    "  #  firm_stock = pandas.datareader.iex.daily.IEXDailyReader(stock_name, start, end).read()\n",
    "  #  firms = pd.datareader.iex.daily.IEXDailyReader(stock_name, start, end).read()\n",
    "   # firm_stock['firm'] = stock_name\n",
    "    #firms.append(firm_stock)\n",
    "\n",
    "#stocks = pd.concat(firms)\n",
    "\n",
    "# a. load\n",
    "#empl = pd.read_excel('RAS200.xlsx', skiprows=2)\n",
    "\n",
    "# b. drop columns\n",
    "#drop_these = ['Unnamed: 0', 'Unnamed: 1', 'Unnamed: 2', 'Unnamed: 3']\n",
    "#empl.drop(drop_these, axis=1, inplace=True)\n",
    "\n",
    "# c. rename columns\n",
    "#empl.rename(columns = {'Unnamed: 4':'municipality'}, inplace=True)"
   ]
  },
  {
   "cell_type": "markdown",
   "metadata": {},
   "source": [
    "The dataset now looks like this:"
   ]
  },
  {
   "cell_type": "code",
   "execution_count": 377,
   "metadata": {},
   "outputs": [],
   "source": [
    "#empl.head()"
   ]
  },
  {
   "cell_type": "markdown",
   "metadata": {},
   "source": [
    "**Remove all rows which are not municipalities**:"
   ]
  },
  {
   "cell_type": "code",
   "execution_count": 378,
   "metadata": {},
   "outputs": [],
   "source": [
    "#empl = dataproject.only_keep_municipalities(empl)\n",
    "#empl.head()"
   ]
  },
  {
   "cell_type": "markdown",
   "metadata": {},
   "source": [
    "**Convert the dataset to long format**:"
   ]
  },
  {
   "cell_type": "code",
   "execution_count": 379,
   "metadata": {},
   "outputs": [],
   "source": [
    "# a. rename year columns\n",
    "#mydict = {str(i):f'employment{i}' for i in range(2008,2018)}\n",
    "#empl.rename(columns = mydict, inplace=True)\n",
    "\n",
    "# b. convert to long\n",
    "#empl_long = pd.wide_to_long(empl, stubnames='employment', i='municipality', j='year').reset_index()\n",
    "\n",
    "# c. show\n",
    "#empl_long.head()"
   ]
  },
  {
   "cell_type": "markdown",
   "metadata": {},
   "source": [
    "## Income data"
   ]
  },
  {
   "cell_type": "markdown",
   "metadata": {},
   "source": [
    "**Read the income data** in ``INDKP101.xlsx`` and **clean it**:"
   ]
  },
  {
   "cell_type": "code",
   "execution_count": 380,
   "metadata": {},
   "outputs": [],
   "source": [
    "# a. load\n",
    "#inc = pd.read_excel('INDKP101.xlsx', skiprows=2)\n",
    "\n",
    "# b. drop and rename columns\n",
    "#inc.drop([f'Unnamed: {i}' for i in range(3)], axis=1, inplace=True)\n",
    "#inc.rename(columns = {'Unnamed: 3':'municipality'}, inplace=True)\n",
    "\n",
    "# c. drop rows with missing\n",
    "#inc.dropna(inplace=True)\n",
    "\n",
    "# d. remove non-municipalities\n",
    "#inc = dataproject.only_keep_municipalities(inc)\n",
    "\n",
    "# e. convert to long\n",
    "#inc.rename(columns = {str(i):f'income{i}' for i in range(1986,2018)}, inplace=True)\n",
    "#inc_long = pd.wide_to_long(inc, stubnames='income', i='municipality', j='year').reset_index()\n",
    "\n",
    "# f. show\n",
    "#inc_long.head(5)"
   ]
  },
  {
   "cell_type": "markdown",
   "metadata": {},
   "source": [
    "> **Note:** The function ``dataproject.only_keep_municipalities()`` is used on both the employment and the income datasets."
   ]
  },
  {
   "cell_type": "markdown",
   "metadata": {},
   "source": [
    "## Explore data set"
   ]
  },
  {
   "cell_type": "markdown",
   "metadata": {},
   "source": [
    "In order to be able to **explore the raw data**, we here provide an **interactive plot** to show, respectively, the employment and income level in each municipality"
   ]
  },
  {
   "cell_type": "markdown",
   "metadata": {},
   "source": [
    "The **static plot** is:"
   ]
  },
  {
   "cell_type": "code",
   "execution_count": 381,
   "metadata": {},
   "outputs": [],
   "source": [
    "#def plot_empl_inc(empl,inc,dataset,municipality): \n",
    "    \n",
    " #   if dataset == 'Employment':\n",
    "  #      df = empl\n",
    "   #     y = 'employment'\n",
    "    #else:\n",
    "     #   df = inc\n",
    "      #  y = 'income'\n",
    "    \n",
    "   # I = df['municipality'] == municipality\n",
    "   # ax = df.loc[I,:].plot(x='year', y=y, style='-o')"
   ]
  },
  {
   "cell_type": "markdown",
   "metadata": {},
   "source": [
    "The **interactive plot** is:"
   ]
  },
  {
   "cell_type": "code",
   "execution_count": 382,
   "metadata": {},
   "outputs": [],
   "source": [
    "#widgets.interact(plot_empl_inc, \n",
    "    \n",
    " #   empl = widgets.fixed(empl_long),\n",
    "  #  inc = widgets.fixed(inc_long),\n",
    "   # dataset = widgets.Dropdown(description='Dataset', \n",
    "    #                           options=['Employment','Income']),\n",
    "    #municipality = widgets.Dropdown(description='Municipality', \n",
    "     #                               options=empl_long.municipality.unique())\n",
    "                 \n",
    "#); "
   ]
  },
  {
   "cell_type": "markdown",
   "metadata": {},
   "source": [
    "ADD SOMETHING HERE IF THE READER SHOULD KNOW THAT E.G. SOME MUNICIPALITY IS SPECIAL."
   ]
  },
  {
   "cell_type": "markdown",
   "metadata": {},
   "source": [
    "# Merge data sets"
   ]
  },
  {
   "cell_type": "markdown",
   "metadata": {},
   "source": [
    "We now create a data set with **municpalities which are in both of our data sets**. We can illustrate this **merge** as:"
   ]
  },
  {
   "cell_type": "code",
   "execution_count": 383,
   "metadata": {},
   "outputs": [],
   "source": [
    "#plt.figure(figsize=(15,7))\n",
    "#v = venn2(subsets = (4, 4, 10), set_labels = ('inc', 'empl'))\n",
    "#v.get_label_by_id('100').set_text('dropped')\n",
    "#v.get_label_by_id('010').set_text('dropped' )\n",
    "#v.get_label_by_id('110').set_text('included')\n",
    "#plt.show()"
   ]
  },
  {
   "cell_type": "code",
   "execution_count": 384,
   "metadata": {},
   "outputs": [],
   "source": [
    "#merged = pd.merge(empl_long, inc_long, how='inner',on=['municipality','year'])\n",
    "\n",
    "#print(f'Number of municipalities = {len(merged.municipality.unique())}')\n",
    "#print(f'Number of years          = {len(merged.year.unique())}')"
   ]
  },
  {
   "cell_type": "markdown",
   "metadata": {},
   "source": [
    "# Analysis"
   ]
  },
  {
   "cell_type": "markdown",
   "metadata": {},
   "source": [
    "To get a quick overview of the data, we show some **summary statistics by year**:"
   ]
  },
  {
   "cell_type": "code",
   "execution_count": 385,
   "metadata": {},
   "outputs": [],
   "source": [
    "#merged.groupby('year').agg(['mean','std']).round(2)"
   ]
  },
  {
   "cell_type": "markdown",
   "metadata": {},
   "source": [
    "ADD FURTHER ANALYSIS. EXPLAIN THE CODE BRIEFLY AND SUMMARIZE THE RESULTS."
   ]
  },
  {
   "cell_type": "markdown",
   "metadata": {},
   "source": [
    "# Conclusion"
   ]
  },
  {
   "cell_type": "markdown",
   "metadata": {},
   "source": [
    "ADD CONCISE CONLUSION."
   ]
  }
 ],
 "metadata": {
  "kernelspec": {
   "display_name": "Python 3",
   "language": "python",
   "name": "python3"
  },
  "language_info": {
   "codemirror_mode": {
    "name": "ipython",
    "version": 3
   },
   "file_extension": ".py",
   "mimetype": "text/x-python",
   "name": "python",
   "nbconvert_exporter": "python",
   "pygments_lexer": "ipython3",
   "version": "3.7.6-final"
  },
  "toc-autonumbering": true
 },
 "nbformat": 4,
 "nbformat_minor": 4
}
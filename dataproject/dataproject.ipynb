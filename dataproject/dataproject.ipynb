{
 "cells": [
  {
   "cell_type": "markdown",
   "metadata": {},
   "source": [
    "# YOUR PROJECT TITLE"
   ]
  },
  {
   "cell_type": "markdown",
   "metadata": {},
   "source": [
    "Imports and set magics:"
   ]
  },
  {
   "cell_type": "code",
   "execution_count": 222,
   "metadata": {},
   "outputs": [
    {
     "output_type": "stream",
     "name": "stdout",
     "text": "The autoreload extension is already loaded. To reload it, use:\n  %reload_ext autoreload\n"
    }
   ],
   "source": [
    "# First, we import an API from DST, specifying the language\n",
    "import pydst                          \n",
    "Dst = pydst.Dst(lang='en')            \n",
    "# Next, the packages for data analysis are imported\n",
    "import pandas as pd                   \n",
    "import numpy as np                    \n",
    "import matplotlib.pyplot as plt       \n",
    "import ipywidgets as widgets          \n",
    "\n",
    "# Autoreloading modules when code is run\n",
    "%load_ext autoreload\n",
    "%autoreload 2\n",
    "\n",
    "# Local modules\n",
    "import dataproject\n",
    ""
   ]
  },
  {
   "cell_type": "markdown",
   "metadata": {
    "toc-hr-collapsed": true
   },
   "source": [
    "# Read and clean data"
   ]
  },
  {
   "cell_type": "markdown",
   "metadata": {},
   "source": [
    "**Read the  data** from DSTI. We want to analyze the table named NKN2 including the Danish real gross national disposable income (etc.) by transaction and price unit:"
   ]
  },
  {
   "cell_type": "code",
   "execution_count": 223,
   "metadata": {},
   "outputs": [
    {
     "output_type": "execute_result",
     "data": {
      "text/plain": "                       TRANSAKT       PRISENHED                    SÆSON  \\\n0  B.1*g Gross domestic product  Current prices  Non-seasonally adjusted   \n\n      TID  INDHOLD  \n0  1990Q1   210169  ",
      "text/html": "<div>\n<style scoped>\n    .dataframe tbody tr th:only-of-type {\n        vertical-align: middle;\n    }\n\n    .dataframe tbody tr th {\n        vertical-align: top;\n    }\n\n    .dataframe thead th {\n        text-align: right;\n    }\n</style>\n<table border=\"1\" class=\"dataframe\">\n  <thead>\n    <tr style=\"text-align: right;\">\n      <th></th>\n      <th>TRANSAKT</th>\n      <th>PRISENHED</th>\n      <th>SÆSON</th>\n      <th>TID</th>\n      <th>INDHOLD</th>\n    </tr>\n  </thead>\n  <tbody>\n    <tr>\n      <th>0</th>\n      <td>B.1*g Gross domestic product</td>\n      <td>Current prices</td>\n      <td>Non-seasonally adjusted</td>\n      <td>1990Q1</td>\n      <td>210169</td>\n    </tr>\n  </tbody>\n</table>\n</div>"
     },
     "metadata": {},
     "execution_count": 223
    }
   ],
   "source": [
    "Dst.get_data(table_id = 'NKN2')       # Retrieves NKN2\n",
    "\n",
    "\n",
    "#Import stok data from IEX\n",
    "#start = datetime(2014,1,1)\n",
    "#end   = datetime(2019,12,31)\n",
    "#from pandas_datareader import data as wb\n",
    "#pg=wb.DataReader('PG',data_source='yahoo',start='2019-1-1')\n",
    "#plt.plot(pg)\n",
    "#\n",
    "#firms = [] \n",
    "#for i, stock_name in enumerate(['FB','AAPL', 'GOOGL', 'NFLX', 'AMZN', 'SPY']): \n",
    " #    firm_stock = pandas_datareader.iex.daily.IEXDailyReader(stock_name, start, end).read()\n",
    "  #   firms = pd.datareader.iex.daily.IEXDailyReader(stock_name, start, end).read()\n",
    "  #   firm_stock['firm'] = stock_name\n",
    "   #  firms.append(firm_stock)\n",
    "\n",
    "#stocks = pd.concat(firms)\n",
    "\n",
    "# a. load\n",
    "#empl = pd.read_excel('RAS200.xlsx', skiprows=2)\n",
    "\n",
    "# b. drop columns\n",
    "#drop_these = ['Unnamed: 0', 'Unnamed: 1', 'Unnamed: 2', 'Unnamed: 3']\n",
    "#empl.drop(drop_these, axis=1, inplace=True)\n",
    "\n",
    "# c. rename columns\n",
    "#empl.rename(columns = {'Unnamed: 4':'municipality'}, inplace=True)"
   ]
  },
  {
   "cell_type": "code",
   "execution_count": 224,
   "metadata": {},
   "outputs": [
    {
     "output_type": "execute_result",
     "data": {
      "text/plain": "          id                 text  elimination   time  \\\n0   TRANSAKT          transaction        False  False   \n1  PRISENHED           price unit        False  False   \n2      SÆSON  seasonal adjustment        False  False   \n3        Tid                 time        False   True   \n\n                                              values  \n0  [{'id': 'B1GQK', 'text': 'B.1*g Gross domestic...  \n1  [{'id': 'V_M', 'text': 'Current prices, (bill....  \n2  [{'id': 'N', 'text': 'Non-seasonally adjusted'...  \n3  [{'id': '1990K1', 'text': '1990Q1'}, {'id': '1...  ",
      "text/html": "<div>\n<style scoped>\n    .dataframe tbody tr th:only-of-type {\n        vertical-align: middle;\n    }\n\n    .dataframe tbody tr th {\n        vertical-align: top;\n    }\n\n    .dataframe thead th {\n        text-align: right;\n    }\n</style>\n<table border=\"1\" class=\"dataframe\">\n  <thead>\n    <tr style=\"text-align: right;\">\n      <th></th>\n      <th>id</th>\n      <th>text</th>\n      <th>elimination</th>\n      <th>time</th>\n      <th>values</th>\n    </tr>\n  </thead>\n  <tbody>\n    <tr>\n      <th>0</th>\n      <td>TRANSAKT</td>\n      <td>transaction</td>\n      <td>False</td>\n      <td>False</td>\n      <td>[{'id': 'B1GQK', 'text': 'B.1*g Gross domestic...</td>\n    </tr>\n    <tr>\n      <th>1</th>\n      <td>PRISENHED</td>\n      <td>price unit</td>\n      <td>False</td>\n      <td>False</td>\n      <td>[{'id': 'V_M', 'text': 'Current prices, (bill....</td>\n    </tr>\n    <tr>\n      <th>2</th>\n      <td>SÆSON</td>\n      <td>seasonal adjustment</td>\n      <td>False</td>\n      <td>False</td>\n      <td>[{'id': 'N', 'text': 'Non-seasonally adjusted'...</td>\n    </tr>\n    <tr>\n      <th>3</th>\n      <td>Tid</td>\n      <td>time</td>\n      <td>False</td>\n      <td>True</td>\n      <td>[{'id': '1990K1', 'text': '1990Q1'}, {'id': '1...</td>\n    </tr>\n  </tbody>\n</table>\n</div>"
     },
     "metadata": {},
     "execution_count": 224
    }
   ],
   "source": [
    "Dst.get_variables(table_id = 'NKN1')  # Retrieves variables of NKN1"
   ]
  },
  {
   "cell_type": "code",
   "execution_count": 225,
   "metadata": {},
   "outputs": [
    {
     "output_type": "execute_result",
     "data": {
      "text/plain": "                         TRANSAKT                                  PRISENHED  \\\n0    B.1*g Gross domestic product  2010-prices, chained values, (bill. DKK.)   \n1    B.1*g Gross domestic product  2010-prices, chained values, (bill. DKK.)   \n2    B.1*g Gross domestic product  2010-prices, chained values, (bill. DKK.)   \n117  B.1*g Gross domestic product  2010-prices, chained values, (bill. DKK.)   \n118  B.1*g Gross domestic product  2010-prices, chained values, (bill. DKK.)   \n119  B.1*g Gross domestic product  2010-prices, chained values, (bill. DKK.)   \n\n                   SÆSON     TID INDHOLD  \n0    Seasonally adjusted  1990Q1      ..  \n1    Seasonally adjusted  1990Q2      ..  \n2    Seasonally adjusted  1990Q3      ..  \n117  Seasonally adjusted  2019Q2   532.5  \n118  Seasonally adjusted  2019Q3   535.1  \n119  Seasonally adjusted  2019Q4   538.1  ",
      "text/html": "<div>\n<style scoped>\n    .dataframe tbody tr th:only-of-type {\n        vertical-align: middle;\n    }\n\n    .dataframe tbody tr th {\n        vertical-align: top;\n    }\n\n    .dataframe thead th {\n        text-align: right;\n    }\n</style>\n<table border=\"1\" class=\"dataframe\">\n  <thead>\n    <tr style=\"text-align: right;\">\n      <th></th>\n      <th>TRANSAKT</th>\n      <th>PRISENHED</th>\n      <th>SÆSON</th>\n      <th>TID</th>\n      <th>INDHOLD</th>\n    </tr>\n  </thead>\n  <tbody>\n    <tr>\n      <th>0</th>\n      <td>B.1*g Gross domestic product</td>\n      <td>2010-prices, chained values, (bill. DKK.)</td>\n      <td>Seasonally adjusted</td>\n      <td>1990Q1</td>\n      <td>..</td>\n    </tr>\n    <tr>\n      <th>1</th>\n      <td>B.1*g Gross domestic product</td>\n      <td>2010-prices, chained values, (bill. DKK.)</td>\n      <td>Seasonally adjusted</td>\n      <td>1990Q2</td>\n      <td>..</td>\n    </tr>\n    <tr>\n      <th>2</th>\n      <td>B.1*g Gross domestic product</td>\n      <td>2010-prices, chained values, (bill. DKK.)</td>\n      <td>Seasonally adjusted</td>\n      <td>1990Q3</td>\n      <td>..</td>\n    </tr>\n    <tr>\n      <th>117</th>\n      <td>B.1*g Gross domestic product</td>\n      <td>2010-prices, chained values, (bill. DKK.)</td>\n      <td>Seasonally adjusted</td>\n      <td>2019Q2</td>\n      <td>532.5</td>\n    </tr>\n    <tr>\n      <th>118</th>\n      <td>B.1*g Gross domestic product</td>\n      <td>2010-prices, chained values, (bill. DKK.)</td>\n      <td>Seasonally adjusted</td>\n      <td>2019Q3</td>\n      <td>535.1</td>\n    </tr>\n    <tr>\n      <th>119</th>\n      <td>B.1*g Gross domestic product</td>\n      <td>2010-prices, chained values, (bill. DKK.)</td>\n      <td>Seasonally adjusted</td>\n      <td>2019Q4</td>\n      <td>538.1</td>\n    </tr>\n  </tbody>\n</table>\n</div>"
     },
     "metadata": {},
     "execution_count": 225
    }
   ],
   "source": [
    "\n",
    "###Here, we wish to extracting the seasonally adjusted GDP in chained 2010-prices (bill. DKK) for the period 1990Q1 - 2019Q4.\n",
    "\n",
    "df = Dst.get_data(table_id = 'NKN1',\n",
    "     variables = {'TRANSAKT':['B1GQK'],\n",
    "     'PRISENHED':['LKV_M'],\n",
    "     'SÆSON':['Y'],'TID':['*']})        # Extracts the desired variables\n",
    "pd.concat([df.head(3), df.tail(3)])     # Shows first three and last three rows"
   ]
  },
  {
   "cell_type": "code",
   "execution_count": 226,
   "metadata": {},
   "outputs": [
    {
     "output_type": "execute_result",
     "data": {
      "text/plain": "        TID INDHOLD\n0    1990Q1      ..\n1    1990Q2      ..\n2    1990Q3      ..\n3    1990Q4      ..\n4    1991Q1   326.6\n115  2018Q4   526.3\n116  2019Q1   526.2\n117  2019Q2   532.5\n118  2019Q3   535.1\n119  2019Q4   538.1",
      "text/html": "<div>\n<style scoped>\n    .dataframe tbody tr th:only-of-type {\n        vertical-align: middle;\n    }\n\n    .dataframe tbody tr th {\n        vertical-align: top;\n    }\n\n    .dataframe thead th {\n        text-align: right;\n    }\n</style>\n<table border=\"1\" class=\"dataframe\">\n  <thead>\n    <tr style=\"text-align: right;\">\n      <th></th>\n      <th>TID</th>\n      <th>INDHOLD</th>\n    </tr>\n  </thead>\n  <tbody>\n    <tr>\n      <th>0</th>\n      <td>1990Q1</td>\n      <td>..</td>\n    </tr>\n    <tr>\n      <th>1</th>\n      <td>1990Q2</td>\n      <td>..</td>\n    </tr>\n    <tr>\n      <th>2</th>\n      <td>1990Q3</td>\n      <td>..</td>\n    </tr>\n    <tr>\n      <th>3</th>\n      <td>1990Q4</td>\n      <td>..</td>\n    </tr>\n    <tr>\n      <th>4</th>\n      <td>1991Q1</td>\n      <td>326.6</td>\n    </tr>\n    <tr>\n      <th>115</th>\n      <td>2018Q4</td>\n      <td>526.3</td>\n    </tr>\n    <tr>\n      <th>116</th>\n      <td>2019Q1</td>\n      <td>526.2</td>\n    </tr>\n    <tr>\n      <th>117</th>\n      <td>2019Q2</td>\n      <td>532.5</td>\n    </tr>\n    <tr>\n      <th>118</th>\n      <td>2019Q3</td>\n      <td>535.1</td>\n    </tr>\n    <tr>\n      <th>119</th>\n      <td>2019Q4</td>\n      <td>538.1</td>\n    </tr>\n  </tbody>\n</table>\n</div>"
     },
     "metadata": {},
     "execution_count": 226
    }
   ],
   "source": [
    "#We now remove redundant variables, so only time and GDP remain.\n",
    "\n",
    "df1 = df.drop('TRANSAKT',1).drop('PRISENHED',1).drop('SÆSON',1) # Removes TRANSAKT, PRISENHED and SÆSON\n",
    "pd.concat([df1.head(5), df1.tail(5)])                           # Shows first five and last five rows"
   ]
  },
  {
   "cell_type": "code",
   "execution_count": 227,
   "metadata": {},
   "outputs": [
    {
     "output_type": "execute_result",
     "data": {
      "text/plain": "0      326.6\n1      325.4\n2      329.5\n113    532.5\n114    535.1\n115    538.1\nName: INDHOLD, dtype: float64"
     },
     "metadata": {},
     "execution_count": 227
    }
   ],
   "source": [
    "#We then extract time and GDP as arrays. We also remove empty cells in GDP and convert this variable to the type of float.\n",
    "\n",
    "time = df1['TID']                       # Extracts time\n",
    "gdp  = df1['INDHOLD']                   # Extratcs GDP\n",
    "\n",
    "gdp.replace('..',np.nan, inplace=True)\n",
    "gdp.dropna(inplace=True)                # Removes empty cells\n",
    "gdp = gdp.iloc[:].astype(float)         # Converts to float\n",
    "\n",
    "gdp = gdp.reset_index(drop=True)        # Resets index\n",
    "\n",
    "pd.concat([gdp.head(3), gdp.tail(3)])   # Shows first three and last three rows"
   ]
  },
  {
   "cell_type": "markdown",
   "metadata": {},
   "source": [
    "The dataset now looks like this:"
   ]
  },
  {
   "cell_type": "code",
   "execution_count": 228,
   "metadata": {},
   "outputs": [],
   "source": [
    "#empl.head()"
   ]
  },
  {
   "cell_type": "markdown",
   "metadata": {},
   "source": [
    "**Remove all rows which are not municipalities**:"
   ]
  },
  {
   "cell_type": "code",
   "execution_count": 229,
   "metadata": {},
   "outputs": [],
   "source": [
    "#empl = dataproject.only_keep_municipalities(empl)\n",
    "#empl.head()"
   ]
  },
  {
   "cell_type": "markdown",
   "metadata": {},
   "source": [
    "**Convert the dataset to long format**:"
   ]
  },
  {
   "cell_type": "code",
   "execution_count": 230,
   "metadata": {},
   "outputs": [],
   "source": [
    "# a. rename year columns\n",
    "#mydict = {str(i):f'employment{i}' for i in range(2008,2018)}\n",
    "#empl.rename(columns = mydict, inplace=True)\n",
    "\n",
    "# b. convert to long\n",
    "#empl_long = pd.wide_to_long(empl, stubnames='employment', i='municipality', j='year').reset_index()\n",
    "\n",
    "# c. show\n",
    "#empl_long.head()"
   ]
  },
  {
   "cell_type": "markdown",
   "metadata": {},
   "source": [
    "## Income data"
   ]
  },
  {
   "cell_type": "markdown",
   "metadata": {},
   "source": [
    "**Read the income data** in ``INDKP101.xlsx`` and **clean it**:"
   ]
  },
  {
   "cell_type": "code",
   "execution_count": 231,
   "metadata": {},
   "outputs": [],
   "source": [
    "# a. load\n",
    "#inc = pd.read_excel('INDKP101.xlsx', skiprows=2)\n",
    "\n",
    "# b. drop and rename columns\n",
    "#inc.drop([f'Unnamed: {i}' for i in range(3)], axis=1, inplace=True)\n",
    "#inc.rename(columns = {'Unnamed: 3':'municipality'}, inplace=True)\n",
    "\n",
    "# c. drop rows with missing\n",
    "#inc.dropna(inplace=True)\n",
    "\n",
    "# d. remove non-municipalities\n",
    "#inc = dataproject.only_keep_municipalities(inc)\n",
    "\n",
    "# e. convert to long\n",
    "#inc.rename(columns = {str(i):f'income{i}' for i in range(1986,2018)}, inplace=True)\n",
    "#inc_long = pd.wide_to_long(inc, stubnames='income', i='municipality', j='year').reset_index()\n",
    "\n",
    "# f. show\n",
    "#inc_long.head(5)"
   ]
  },
  {
   "cell_type": "markdown",
   "metadata": {},
   "source": [
    "> **Note:** The function ``dataproject.only_keep_municipalities()`` is used on both the employment and the income datasets."
   ]
  },
  {
   "cell_type": "markdown",
   "metadata": {},
   "source": [
    "## Explore data set"
   ]
  },
  {
   "cell_type": "markdown",
   "metadata": {},
   "source": [
    "In order to be able to **explore the raw data**, we here provide an **interactive plot** to show, respectively, the employment and income level in each municipality"
   ]
  },
  {
   "cell_type": "markdown",
   "metadata": {},
   "source": [
    "The **static plot** is:"
   ]
  },
  {
   "cell_type": "code",
   "execution_count": 232,
   "metadata": {},
   "outputs": [],
   "source": [
    "#def plot_empl_inc(empl,inc,dataset,municipality): \n",
    "    \n",
    " #   if dataset == 'Employment':\n",
    "  #      df = empl\n",
    "   #     y = 'employment'\n",
    "    #else:\n",
    "     #   df = inc\n",
    "      #  y = 'income'\n",
    "    \n",
    "   # I = df['municipality'] == municipality\n",
    "   # ax = df.loc[I,:].plot(x='year', y=y, style='-o')"
   ]
  },
  {
   "cell_type": "markdown",
   "metadata": {},
   "source": [
    "The **interactive plot** is:"
   ]
  },
  {
   "cell_type": "code",
   "execution_count": 233,
   "metadata": {},
   "outputs": [],
   "source": [
    "#widgets.interact(plot_empl_inc, \n",
    "    \n",
    " #   empl = widgets.fixed(empl_long),\n",
    "  #  inc = widgets.fixed(inc_long),\n",
    "   # dataset = widgets.Dropdown(description='Dataset', \n",
    "    #                           options=['Employment','Income']),\n",
    "    #municipality = widgets.Dropdown(description='Municipality', \n",
    "     #                               options=empl_long.municipality.unique())\n",
    "                 \n",
    "#); "
   ]
  },
  {
   "cell_type": "markdown",
   "metadata": {},
   "source": [
    "ADD SOMETHING HERE IF THE READER SHOULD KNOW THAT E.G. SOME MUNICIPALITY IS SPECIAL."
   ]
  },
  {
   "cell_type": "markdown",
   "metadata": {},
   "source": [
    "# Merge data sets"
   ]
  },
  {
   "cell_type": "markdown",
   "metadata": {},
   "source": [
    "We now create a data set with **municpalities which are in both of our data sets**. We can illustrate this **merge** as:"
   ]
  },
  {
   "cell_type": "code",
   "execution_count": 234,
   "metadata": {},
   "outputs": [],
   "source": [
    "#plt.figure(figsize=(15,7))\n",
    "#v = venn2(subsets = (4, 4, 10), set_labels = ('inc', 'empl'))\n",
    "#v.get_label_by_id('100').set_text('dropped')\n",
    "#v.get_label_by_id('010').set_text('dropped' )\n",
    "#v.get_label_by_id('110').set_text('included')\n",
    "#plt.show()"
   ]
  },
  {
   "cell_type": "code",
   "execution_count": 235,
   "metadata": {},
   "outputs": [],
   "source": [
    "#merged = pd.merge(empl_long, inc_long, how='inner',on=['municipality','year'])\n",
    "\n",
    "#print(f'Number of municipalities = {len(merged.municipality.unique())}')\n",
    "#print(f'Number of years          = {len(merged.year.unique())}')"
   ]
  },
  {
   "cell_type": "markdown",
   "metadata": {},
   "source": [
    "# Analysis"
   ]
  },
  {
   "cell_type": "markdown",
   "metadata": {},
   "source": [
    "To get a quick overview of the data, we show some **summary statistics by year**:"
   ]
  },
  {
   "cell_type": "code",
   "execution_count": 236,
   "metadata": {},
   "outputs": [],
   "source": [
    "#merged.groupby('year').agg(['mean','std']).round(2)"
   ]
  },
  {
   "cell_type": "markdown",
   "metadata": {},
   "source": [
    "ADD FURTHER ANALYSIS. EXPLAIN THE CODE BRIEFLY AND SUMMARIZE THE RESULTS."
   ]
  },
  {
   "cell_type": "markdown",
   "metadata": {},
   "source": [
    "# Conclusion"
   ]
  },
  {
   "cell_type": "markdown",
   "metadata": {},
   "source": [
    "ADD CONCISE CONLUSION."
   ]
  }
 ],
 "metadata": {
  "kernelspec": {
   "display_name": "Python 3",
   "language": "python",
   "name": "python3"
  },
  "language_info": {
   "codemirror_mode": {
    "name": "ipython",
    "version": 3
   },
   "file_extension": ".py",
   "mimetype": "text/x-python",
   "name": "python",
   "nbconvert_exporter": "python",
   "pygments_lexer": "ipython3",
   "version": "3.7.6-final"
  },
  "toc-autonumbering": true
 },
 "nbformat": 4,
 "nbformat_minor": 4
}
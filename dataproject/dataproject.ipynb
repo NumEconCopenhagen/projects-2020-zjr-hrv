{
 "cells": [
  {
   "cell_type": "markdown",
   "metadata": {},
   "source": [
    "# Analysis of Gross national income (GNI)"
   ]
  },
  {
   "cell_type": "markdown",
   "metadata": {},
   "source": [
    "Imports and set magics:"
   ]
  },
  {
   "cell_type": "code",
   "execution_count": 297,
   "metadata": {},
   "outputs": [
    {
     "output_type": "stream",
     "name": "stdout",
     "text": "The autoreload extension is already loaded. To reload it, use:\n  %reload_ext autoreload\n"
    }
   ],
   "source": [
    "# First, we import an API from DST, specifying the language\n",
    "import pydst                          \n",
    "Dst = pydst.Dst(lang='en')            \n",
    "# Next, the packages for data analysis are imported\n",
    "import pandas as pd                   \n",
    "import numpy as np                    \n",
    "import matplotlib.pyplot as plt       \n",
    "import ipywidgets as widgets          \n",
    "\n",
    "# Autoreloading modules when code is run\n",
    "%load_ext autoreload\n",
    "%autoreload 2\n",
    "\n",
    "# Local modules\n",
    "import dataproject\n",
    ""
   ]
  },
  {
   "cell_type": "markdown",
   "metadata": {
    "toc-hr-collapsed": true
   },
   "source": [
    "# Read and clean data"
   ]
  },
  {
   "cell_type": "markdown",
   "metadata": {},
   "source": [
    "**Read the  data** from DSTI. We want to analyze the table named NKN2 including the Danish gross national income  by transaction and price unit:"
   ]
  },
  {
   "cell_type": "code",
   "execution_count": 298,
   "metadata": {},
   "outputs": [
    {
     "output_type": "execute_result",
     "data": {
      "text/plain": "                       TRANSAKT       PRISENHED                    SÆSON  \\\n0  B.1*g Gross domestic product  Current prices  Non-seasonally adjusted   \n\n      TID  INDHOLD  \n0  1990Q1   210169  ",
      "text/html": "<div>\n<style scoped>\n    .dataframe tbody tr th:only-of-type {\n        vertical-align: middle;\n    }\n\n    .dataframe tbody tr th {\n        vertical-align: top;\n    }\n\n    .dataframe thead th {\n        text-align: right;\n    }\n</style>\n<table border=\"1\" class=\"dataframe\">\n  <thead>\n    <tr style=\"text-align: right;\">\n      <th></th>\n      <th>TRANSAKT</th>\n      <th>PRISENHED</th>\n      <th>SÆSON</th>\n      <th>TID</th>\n      <th>INDHOLD</th>\n    </tr>\n  </thead>\n  <tbody>\n    <tr>\n      <th>0</th>\n      <td>B.1*g Gross domestic product</td>\n      <td>Current prices</td>\n      <td>Non-seasonally adjusted</td>\n      <td>1990Q1</td>\n      <td>210169</td>\n    </tr>\n  </tbody>\n</table>\n</div>"
     },
     "metadata": {},
     "execution_count": 298
    }
   ],
   "source": [
    "#In order to retrieve the dataset 'NKN2' from DST, we run the following code\n",
    "Dst.get_data(table_id = 'NKN2')      \n",
    ""
   ]
  },
  {
   "cell_type": "markdown",
   "metadata": {},
   "source": [
    "**Next, we want to get an overview** of the variables in the dataset:"
   ]
  },
  {
   "cell_type": "code",
   "execution_count": 299,
   "metadata": {},
   "outputs": [
    {
     "output_type": "execute_result",
     "data": {
      "text/plain": "          id                 text  elimination   time  \\\n0   TRANSAKT          transaction        False  False   \n1  PRISENHED           price unit        False  False   \n2      SÆSON  seasonal adjustment        False  False   \n3        Tid                 time        False   True   \n\n                                              values  \n0  [{'id': 'B1GQD', 'text': 'B.1*g Gross domestic...  \n1  [{'id': 'V', 'text': 'Current prices'}, {'id':...  \n2  [{'id': 'N', 'text': 'Non-seasonally adjusted'...  \n3  [{'id': '1990K1', 'text': '1990Q1'}, {'id': '1...  ",
      "text/html": "<div>\n<style scoped>\n    .dataframe tbody tr th:only-of-type {\n        vertical-align: middle;\n    }\n\n    .dataframe tbody tr th {\n        vertical-align: top;\n    }\n\n    .dataframe thead th {\n        text-align: right;\n    }\n</style>\n<table border=\"1\" class=\"dataframe\">\n  <thead>\n    <tr style=\"text-align: right;\">\n      <th></th>\n      <th>id</th>\n      <th>text</th>\n      <th>elimination</th>\n      <th>time</th>\n      <th>values</th>\n    </tr>\n  </thead>\n  <tbody>\n    <tr>\n      <th>0</th>\n      <td>TRANSAKT</td>\n      <td>transaction</td>\n      <td>False</td>\n      <td>False</td>\n      <td>[{'id': 'B1GQD', 'text': 'B.1*g Gross domestic...</td>\n    </tr>\n    <tr>\n      <th>1</th>\n      <td>PRISENHED</td>\n      <td>price unit</td>\n      <td>False</td>\n      <td>False</td>\n      <td>[{'id': 'V', 'text': 'Current prices'}, {'id':...</td>\n    </tr>\n    <tr>\n      <th>2</th>\n      <td>SÆSON</td>\n      <td>seasonal adjustment</td>\n      <td>False</td>\n      <td>False</td>\n      <td>[{'id': 'N', 'text': 'Non-seasonally adjusted'...</td>\n    </tr>\n    <tr>\n      <th>3</th>\n      <td>Tid</td>\n      <td>time</td>\n      <td>False</td>\n      <td>True</td>\n      <td>[{'id': '1990K1', 'text': '1990Q1'}, {'id': '1...</td>\n    </tr>\n  </tbody>\n</table>\n</div>"
     },
     "metadata": {},
     "execution_count": 299
    }
   ],
   "source": [
    "#To retrieve the different varibles of the dataset, we run the following code\n",
    "Dst.get_variables(table_id = 'NKN2') "
   ]
  },
  {
   "cell_type": "markdown",
   "metadata": {},
   "source": [
    "**Now, we want to extract the seasonally adjusted GNI for the entire period**:"
   ]
  },
  {
   "cell_type": "code",
   "execution_count": 300,
   "metadata": {},
   "outputs": [
    {
     "output_type": "execute_result",
     "data": {
      "text/plain": "                         TRANSAKT       PRISENHED                SÆSON  \\\n0    B.1*g Gross domestic product  Current prices  Seasonally adjusted   \n1    B.1*g Gross domestic product  Current prices  Seasonally adjusted   \n2    B.1*g Gross domestic product  Current prices  Seasonally adjusted   \n3    B.1*g Gross domestic product  Current prices  Seasonally adjusted   \n116  B.1*g Gross domestic product  Current prices  Seasonally adjusted   \n117  B.1*g Gross domestic product  Current prices  Seasonally adjusted   \n118  B.1*g Gross domestic product  Current prices  Seasonally adjusted   \n119  B.1*g Gross domestic product  Current prices  Seasonally adjusted   \n\n        TID  INDHOLD  \n0    1990Q1   210498  \n1    1990Q2   215917  \n2    1990Q3   214405  \n3    1990Q4   214737  \n116  2019Q1   571565  \n117  2019Q2   577887  \n118  2019Q3   584047  \n119  2019Q4   587989  ",
      "text/html": "<div>\n<style scoped>\n    .dataframe tbody tr th:only-of-type {\n        vertical-align: middle;\n    }\n\n    .dataframe tbody tr th {\n        vertical-align: top;\n    }\n\n    .dataframe thead th {\n        text-align: right;\n    }\n</style>\n<table border=\"1\" class=\"dataframe\">\n  <thead>\n    <tr style=\"text-align: right;\">\n      <th></th>\n      <th>TRANSAKT</th>\n      <th>PRISENHED</th>\n      <th>SÆSON</th>\n      <th>TID</th>\n      <th>INDHOLD</th>\n    </tr>\n  </thead>\n  <tbody>\n    <tr>\n      <th>0</th>\n      <td>B.1*g Gross domestic product</td>\n      <td>Current prices</td>\n      <td>Seasonally adjusted</td>\n      <td>1990Q1</td>\n      <td>210498</td>\n    </tr>\n    <tr>\n      <th>1</th>\n      <td>B.1*g Gross domestic product</td>\n      <td>Current prices</td>\n      <td>Seasonally adjusted</td>\n      <td>1990Q2</td>\n      <td>215917</td>\n    </tr>\n    <tr>\n      <th>2</th>\n      <td>B.1*g Gross domestic product</td>\n      <td>Current prices</td>\n      <td>Seasonally adjusted</td>\n      <td>1990Q3</td>\n      <td>214405</td>\n    </tr>\n    <tr>\n      <th>3</th>\n      <td>B.1*g Gross domestic product</td>\n      <td>Current prices</td>\n      <td>Seasonally adjusted</td>\n      <td>1990Q4</td>\n      <td>214737</td>\n    </tr>\n    <tr>\n      <th>116</th>\n      <td>B.1*g Gross domestic product</td>\n      <td>Current prices</td>\n      <td>Seasonally adjusted</td>\n      <td>2019Q1</td>\n      <td>571565</td>\n    </tr>\n    <tr>\n      <th>117</th>\n      <td>B.1*g Gross domestic product</td>\n      <td>Current prices</td>\n      <td>Seasonally adjusted</td>\n      <td>2019Q2</td>\n      <td>577887</td>\n    </tr>\n    <tr>\n      <th>118</th>\n      <td>B.1*g Gross domestic product</td>\n      <td>Current prices</td>\n      <td>Seasonally adjusted</td>\n      <td>2019Q3</td>\n      <td>584047</td>\n    </tr>\n    <tr>\n      <th>119</th>\n      <td>B.1*g Gross domestic product</td>\n      <td>Current prices</td>\n      <td>Seasonally adjusted</td>\n      <td>2019Q4</td>\n      <td>587989</td>\n    </tr>\n  </tbody>\n</table>\n</div>"
     },
     "metadata": {},
     "execution_count": 300
    }
   ],
   "source": [
    "#The following code extracts the desided variables and shows the first and last three rows of the dataset\n",
    "\n",
    "df = Dst.get_data(table_id = 'NKN2',\n",
    "     variables = {'TRANSAKT':['B1GQD'],\n",
    "     'PRISENHED':['V'],\n",
    "     'SÆSON':['Y'],'TID':['*']})        \n",
    "pd.concat([df.head(4), df.tail(4)])     "
   ]
  },
  {
   "cell_type": "code",
   "execution_count": 301,
   "metadata": {},
   "outputs": [
    {
     "output_type": "execute_result",
     "data": {
      "text/plain": "        TID  INDHOLD\n0    1990Q1   210498\n1    1990Q2   215917\n2    1990Q3   214405\n3    1990Q4   214737\n4    1991Q1   222620\n115  2018Q4   571330\n116  2019Q1   571565\n117  2019Q2   577887\n118  2019Q3   584047\n119  2019Q4   587989",
      "text/html": "<div>\n<style scoped>\n    .dataframe tbody tr th:only-of-type {\n        vertical-align: middle;\n    }\n\n    .dataframe tbody tr th {\n        vertical-align: top;\n    }\n\n    .dataframe thead th {\n        text-align: right;\n    }\n</style>\n<table border=\"1\" class=\"dataframe\">\n  <thead>\n    <tr style=\"text-align: right;\">\n      <th></th>\n      <th>TID</th>\n      <th>INDHOLD</th>\n    </tr>\n  </thead>\n  <tbody>\n    <tr>\n      <th>0</th>\n      <td>1990Q1</td>\n      <td>210498</td>\n    </tr>\n    <tr>\n      <th>1</th>\n      <td>1990Q2</td>\n      <td>215917</td>\n    </tr>\n    <tr>\n      <th>2</th>\n      <td>1990Q3</td>\n      <td>214405</td>\n    </tr>\n    <tr>\n      <th>3</th>\n      <td>1990Q4</td>\n      <td>214737</td>\n    </tr>\n    <tr>\n      <th>4</th>\n      <td>1991Q1</td>\n      <td>222620</td>\n    </tr>\n    <tr>\n      <th>115</th>\n      <td>2018Q4</td>\n      <td>571330</td>\n    </tr>\n    <tr>\n      <th>116</th>\n      <td>2019Q1</td>\n      <td>571565</td>\n    </tr>\n    <tr>\n      <th>117</th>\n      <td>2019Q2</td>\n      <td>577887</td>\n    </tr>\n    <tr>\n      <th>118</th>\n      <td>2019Q3</td>\n      <td>584047</td>\n    </tr>\n    <tr>\n      <th>119</th>\n      <td>2019Q4</td>\n      <td>587989</td>\n    </tr>\n  </tbody>\n</table>\n</div>"
     },
     "metadata": {},
     "execution_count": 301
    }
   ],
   "source": [
    "#We now remove redundant variables, so only time and GNI remain.\n",
    "\n",
    "df1 = df.drop('TRANSAKT',1).drop('PRISENHED',1).drop('SÆSON',1) \n",
    "pd.concat([df1.head(5), df1.tail(5)])                           "
   ]
  },
  {
   "cell_type": "markdown",
   "metadata": {},
   "source": [
    "Time and GNI is extracted as arrays. Empty cells are removed, converting the variable to a float type:"
   ]
  },
  {
   "cell_type": "code",
   "execution_count": 302,
   "metadata": {},
   "outputs": [
    {
     "output_type": "execute_result",
     "data": {
      "text/plain": "0      210498.0\n1      215917.0\n2      214405.0\n3      214737.0\n4      222620.0\n115    571330.0\n116    571565.0\n117    577887.0\n118    584047.0\n119    587989.0\nName: INDHOLD, dtype: float64"
     },
     "metadata": {},
     "execution_count": 302
    }
   ],
   "source": [
    "#We then extract time and GDP as arrays. We also remove empty cells in GDP and convert this variable to the type of float.\n",
    "\n",
    "Time = df1['TID']                       \n",
    "GNI  = df1['INDHOLD']                   \n",
    "\n",
    "GNI.replace('..',np.nan, inplace=True)\n",
    "GNI.dropna(inplace=True)                \n",
    "GNI = GNI.iloc[:].astype(float)         \n",
    "\n",
    "GNI = GNI.reset_index(drop=True)       \n",
    "\n",
    "#Showing the first- and last rows of the dataset\n",
    "pd.concat([GNI.head(5), GNI.tail(5)])   "
   ]
  },
  {
   "cell_type": "markdown",
   "metadata": {},
   "source": [
    "Now, we wish to remove some time units in order to create a perfectly balanced time series data set, resetting the index and plotting the first and last observations of the dataset as follows:"
   ]
  },
  {
   "cell_type": "code",
   "execution_count": 303,
   "metadata": {},
   "outputs": [
    {
     "output_type": "execute_result",
     "data": {
      "text/plain": "0      1991Q1\n1      1991Q2\n2      1991Q3\n3      1991Q4\n4      1992Q1\n111    2018Q4\n112    2019Q1\n113    2019Q2\n114    2019Q3\n115    2019Q4\nName: TID, dtype: object"
     },
     "metadata": {},
     "execution_count": 303
    }
   ],
   "source": [
    "t = Time[4:]                        \n",
    "t = t.reset_index(drop=True)        \n",
    "pd.concat([t.head(5), t.tail(5)])   "
   ]
  },
  {
   "cell_type": "markdown",
   "metadata": {},
   "source": [
    "The dataset now consists of 115+1 observations for each variable "
   ]
  },
  {
   "cell_type": "markdown",
   "metadata": {},
   "source": [
    "## Analyzing the dataset"
   ]
  },
  {
   "cell_type": "markdown",
   "metadata": {},
   "source": [
    "**Now, we are interested at looking at the growth rate and descriptive statistics of the dataset.** Summarizing the data, we find:"
   ]
  },
  {
   "cell_type": "code",
   "execution_count": 304,
   "metadata": {},
   "outputs": [
    {
     "output_type": "execute_result",
     "data": {
      "text/plain": "             INDHOLD\ncount     120.000000\nmean   385179.391667\nstd    110077.898437\nmin    210498.000000\n25%    287099.500000\n50%    385882.500000\n75%    474208.500000\nmax    587989.000000",
      "text/html": "<div>\n<style scoped>\n    .dataframe tbody tr th:only-of-type {\n        vertical-align: middle;\n    }\n\n    .dataframe tbody tr th {\n        vertical-align: top;\n    }\n\n    .dataframe thead th {\n        text-align: right;\n    }\n</style>\n<table border=\"1\" class=\"dataframe\">\n  <thead>\n    <tr style=\"text-align: right;\">\n      <th></th>\n      <th>INDHOLD</th>\n    </tr>\n  </thead>\n  <tbody>\n    <tr>\n      <th>count</th>\n      <td>120.000000</td>\n    </tr>\n    <tr>\n      <th>mean</th>\n      <td>385179.391667</td>\n    </tr>\n    <tr>\n      <th>std</th>\n      <td>110077.898437</td>\n    </tr>\n    <tr>\n      <th>min</th>\n      <td>210498.000000</td>\n    </tr>\n    <tr>\n      <th>25%</th>\n      <td>287099.500000</td>\n    </tr>\n    <tr>\n      <th>50%</th>\n      <td>385882.500000</td>\n    </tr>\n    <tr>\n      <th>75%</th>\n      <td>474208.500000</td>\n    </tr>\n    <tr>\n      <th>max</th>\n      <td>587989.000000</td>\n    </tr>\n  </tbody>\n</table>\n</div>"
     },
     "metadata": {},
     "execution_count": 304
    }
   ],
   "source": [
    "pd.DataFrame(GNI.describe())\n",
    ""
   ]
  },
  {
   "cell_type": "markdown",
   "metadata": {},
   "source": [
    "**Note:** COMMENT ON THESE FINDINGS"
   ]
  },
  {
   "cell_type": "markdown",
   "metadata": {},
   "source": [
    "In order to be able to **explore the raw data**, we now plot the growth rate of GNI"
   ]
  },
  {
   "cell_type": "code",
   "execution_count": 309,
   "metadata": {},
   "outputs": [
    {
     "output_type": "error",
     "ename": "ValueError",
     "evalue": "shape mismatch: objects cannot be broadcast to a single shape",
     "traceback": [
      "\u001b[1;31m---------------------------------------------------------------------------\u001b[0m",
      "\u001b[1;31mValueError\u001b[0m                                Traceback (most recent call last)",
      "\u001b[1;32m<ipython-input-309-1f975e7cb2ac>\u001b[0m in \u001b[0;36m<module>\u001b[1;34m\u001b[0m\n\u001b[0;32m      5\u001b[0m \u001b[0mplt\u001b[0m\u001b[1;33m.\u001b[0m\u001b[0mxlabel\u001b[0m\u001b[1;33m(\u001b[0m\u001b[1;34m'Quarter'\u001b[0m\u001b[1;33m,\u001b[0m \u001b[0mfontdict\u001b[0m\u001b[1;33m=\u001b[0m\u001b[1;32mNone\u001b[0m\u001b[1;33m,\u001b[0m \u001b[0mlabelpad\u001b[0m\u001b[1;33m=\u001b[0m\u001b[1;32mNone\u001b[0m\u001b[1;33m,\u001b[0m \u001b[0msize\u001b[0m\u001b[1;33m=\u001b[0m\u001b[1;36m12\u001b[0m\u001b[1;33m)\u001b[0m\u001b[1;33m\u001b[0m\u001b[1;33m\u001b[0m\u001b[0m\n\u001b[0;32m      6\u001b[0m \u001b[0mplt\u001b[0m\u001b[1;33m.\u001b[0m\u001b[0mylabel\u001b[0m\u001b[1;33m(\u001b[0m\u001b[1;34m'Growth Rate'\u001b[0m\u001b[1;33m,\u001b[0m \u001b[0msize\u001b[0m\u001b[1;33m=\u001b[0m\u001b[1;36m12\u001b[0m\u001b[1;33m)\u001b[0m\u001b[1;33m\u001b[0m\u001b[1;33m\u001b[0m\u001b[0m\n\u001b[1;32m----> 7\u001b[1;33m \u001b[0mplt\u001b[0m\u001b[1;33m.\u001b[0m\u001b[0mbar\u001b[0m\u001b[1;33m(\u001b[0m\u001b[0mGrowth\u001b[0m\u001b[1;33m,\u001b[0m \u001b[0mt\u001b[0m\u001b[1;33m[\u001b[0m\u001b[1;36m1\u001b[0m\u001b[1;33m:\u001b[0m\u001b[1;33m]\u001b[0m\u001b[1;33m,\u001b[0m \u001b[0mwidth\u001b[0m\u001b[1;33m=\u001b[0m\u001b[1;36m0.8\u001b[0m\u001b[1;33m,\u001b[0m \u001b[0mbottom\u001b[0m\u001b[1;33m=\u001b[0m\u001b[1;32mNone\u001b[0m\u001b[1;33m,\u001b[0m \u001b[0malign\u001b[0m\u001b[1;33m=\u001b[0m\u001b[1;34m'center'\u001b[0m\u001b[1;33m,\u001b[0m \u001b[0mdata\u001b[0m\u001b[1;33m=\u001b[0m\u001b[1;32mNone\u001b[0m\u001b[1;33m)\u001b[0m\u001b[1;33m\u001b[0m\u001b[1;33m\u001b[0m\u001b[0m\n\u001b[0m\u001b[0;32m      8\u001b[0m \u001b[0mplt\u001b[0m\u001b[1;33m.\u001b[0m\u001b[0mtitle\u001b[0m\u001b[1;33m(\u001b[0m\u001b[1;34m'Quarterly growth rate of GNI'\u001b[0m\u001b[1;33m,\u001b[0m \u001b[0mfontdict\u001b[0m\u001b[1;33m=\u001b[0m\u001b[1;32mNone\u001b[0m\u001b[1;33m,\u001b[0m \u001b[0mloc\u001b[0m\u001b[1;33m=\u001b[0m\u001b[1;34m'center'\u001b[0m\u001b[1;33m,\u001b[0m\u001b[0mpad\u001b[0m\u001b[1;33m=\u001b[0m\u001b[1;32mNone\u001b[0m\u001b[1;33m,\u001b[0m \u001b[0msize\u001b[0m\u001b[1;33m=\u001b[0m\u001b[1;36m25\u001b[0m\u001b[1;33m)\u001b[0m\u001b[1;33m\u001b[0m\u001b[1;33m\u001b[0m\u001b[0m\n\u001b[0;32m      9\u001b[0m \u001b[0mplt\u001b[0m\u001b[1;33m.\u001b[0m\u001b[0mxticks\u001b[0m\u001b[1;33m(\u001b[0m\u001b[0mt\u001b[0m\u001b[1;33m[\u001b[0m\u001b[1;36m4\u001b[0m\u001b[1;33m:\u001b[0m\u001b[1;33m]\u001b[0m\u001b[1;33m,\u001b[0m \u001b[0mlabels\u001b[0m\u001b[1;33m=\u001b[0m\u001b[1;32mNone\u001b[0m\u001b[1;33m,\u001b[0m \u001b[0mrotation\u001b[0m\u001b[1;33m=\u001b[0m\u001b[1;34m'vertical'\u001b[0m\u001b[1;33m)\u001b[0m\u001b[1;33m\u001b[0m\u001b[1;33m\u001b[0m\u001b[0m\n",
      "\u001b[1;32m~\\anaconda3\\lib\\site-packages\\matplotlib\\pyplot.py\u001b[0m in \u001b[0;36mbar\u001b[1;34m(x, height, width, bottom, align, data, **kwargs)\u001b[0m\n\u001b[0;32m   2439\u001b[0m     return gca().bar(\n\u001b[0;32m   2440\u001b[0m         \u001b[0mx\u001b[0m\u001b[1;33m,\u001b[0m \u001b[0mheight\u001b[0m\u001b[1;33m,\u001b[0m \u001b[0mwidth\u001b[0m\u001b[1;33m=\u001b[0m\u001b[0mwidth\u001b[0m\u001b[1;33m,\u001b[0m \u001b[0mbottom\u001b[0m\u001b[1;33m=\u001b[0m\u001b[0mbottom\u001b[0m\u001b[1;33m,\u001b[0m \u001b[0malign\u001b[0m\u001b[1;33m=\u001b[0m\u001b[0malign\u001b[0m\u001b[1;33m,\u001b[0m\u001b[1;33m\u001b[0m\u001b[1;33m\u001b[0m\u001b[0m\n\u001b[1;32m-> 2441\u001b[1;33m         **({\"data\": data} if data is not None else {}), **kwargs)\n\u001b[0m\u001b[0;32m   2442\u001b[0m \u001b[1;33m\u001b[0m\u001b[0m\n\u001b[0;32m   2443\u001b[0m \u001b[1;33m\u001b[0m\u001b[0m\n",
      "\u001b[1;32m~\\anaconda3\\lib\\site-packages\\matplotlib\\__init__.py\u001b[0m in \u001b[0;36minner\u001b[1;34m(ax, data, *args, **kwargs)\u001b[0m\n\u001b[0;32m   1597\u001b[0m     \u001b[1;32mdef\u001b[0m \u001b[0minner\u001b[0m\u001b[1;33m(\u001b[0m\u001b[0max\u001b[0m\u001b[1;33m,\u001b[0m \u001b[1;33m*\u001b[0m\u001b[0margs\u001b[0m\u001b[1;33m,\u001b[0m \u001b[0mdata\u001b[0m\u001b[1;33m=\u001b[0m\u001b[1;32mNone\u001b[0m\u001b[1;33m,\u001b[0m \u001b[1;33m**\u001b[0m\u001b[0mkwargs\u001b[0m\u001b[1;33m)\u001b[0m\u001b[1;33m:\u001b[0m\u001b[1;33m\u001b[0m\u001b[1;33m\u001b[0m\u001b[0m\n\u001b[0;32m   1598\u001b[0m         \u001b[1;32mif\u001b[0m \u001b[0mdata\u001b[0m \u001b[1;32mis\u001b[0m \u001b[1;32mNone\u001b[0m\u001b[1;33m:\u001b[0m\u001b[1;33m\u001b[0m\u001b[1;33m\u001b[0m\u001b[0m\n\u001b[1;32m-> 1599\u001b[1;33m             \u001b[1;32mreturn\u001b[0m \u001b[0mfunc\u001b[0m\u001b[1;33m(\u001b[0m\u001b[0max\u001b[0m\u001b[1;33m,\u001b[0m \u001b[1;33m*\u001b[0m\u001b[0mmap\u001b[0m\u001b[1;33m(\u001b[0m\u001b[0msanitize_sequence\u001b[0m\u001b[1;33m,\u001b[0m \u001b[0margs\u001b[0m\u001b[1;33m)\u001b[0m\u001b[1;33m,\u001b[0m \u001b[1;33m**\u001b[0m\u001b[0mkwargs\u001b[0m\u001b[1;33m)\u001b[0m\u001b[1;33m\u001b[0m\u001b[1;33m\u001b[0m\u001b[0m\n\u001b[0m\u001b[0;32m   1600\u001b[0m \u001b[1;33m\u001b[0m\u001b[0m\n\u001b[0;32m   1601\u001b[0m         \u001b[0mbound\u001b[0m \u001b[1;33m=\u001b[0m \u001b[0mnew_sig\u001b[0m\u001b[1;33m.\u001b[0m\u001b[0mbind\u001b[0m\u001b[1;33m(\u001b[0m\u001b[0max\u001b[0m\u001b[1;33m,\u001b[0m \u001b[1;33m*\u001b[0m\u001b[0margs\u001b[0m\u001b[1;33m,\u001b[0m \u001b[1;33m**\u001b[0m\u001b[0mkwargs\u001b[0m\u001b[1;33m)\u001b[0m\u001b[1;33m\u001b[0m\u001b[1;33m\u001b[0m\u001b[0m\n",
      "\u001b[1;32m~\\anaconda3\\lib\\site-packages\\matplotlib\\axes\\_axes.py\u001b[0m in \u001b[0;36mbar\u001b[1;34m(self, x, height, width, bottom, align, **kwargs)\u001b[0m\n\u001b[0;32m   2372\u001b[0m         x, height, width, y, linewidth = np.broadcast_arrays(\n\u001b[0;32m   2373\u001b[0m             \u001b[1;31m# Make args iterable too.\u001b[0m\u001b[1;33m\u001b[0m\u001b[1;33m\u001b[0m\u001b[1;33m\u001b[0m\u001b[0m\n\u001b[1;32m-> 2374\u001b[1;33m             np.atleast_1d(x), height, width, y, linewidth)\n\u001b[0m\u001b[0;32m   2375\u001b[0m \u001b[1;33m\u001b[0m\u001b[0m\n\u001b[0;32m   2376\u001b[0m         \u001b[1;31m# Now that units have been converted, set the tick locations.\u001b[0m\u001b[1;33m\u001b[0m\u001b[1;33m\u001b[0m\u001b[1;33m\u001b[0m\u001b[0m\n",
      "\u001b[1;32m<__array_function__ internals>\u001b[0m in \u001b[0;36mbroadcast_arrays\u001b[1;34m(*args, **kwargs)\u001b[0m\n",
      "\u001b[1;32m~\\anaconda3\\lib\\site-packages\\numpy\\lib\\stride_tricks.py\u001b[0m in \u001b[0;36mbroadcast_arrays\u001b[1;34m(*args, **kwargs)\u001b[0m\n\u001b[0;32m    262\u001b[0m     \u001b[0margs\u001b[0m \u001b[1;33m=\u001b[0m \u001b[1;33m[\u001b[0m\u001b[0mnp\u001b[0m\u001b[1;33m.\u001b[0m\u001b[0marray\u001b[0m\u001b[1;33m(\u001b[0m\u001b[0m_m\u001b[0m\u001b[1;33m,\u001b[0m \u001b[0mcopy\u001b[0m\u001b[1;33m=\u001b[0m\u001b[1;32mFalse\u001b[0m\u001b[1;33m,\u001b[0m \u001b[0msubok\u001b[0m\u001b[1;33m=\u001b[0m\u001b[0msubok\u001b[0m\u001b[1;33m)\u001b[0m \u001b[1;32mfor\u001b[0m \u001b[0m_m\u001b[0m \u001b[1;32min\u001b[0m \u001b[0margs\u001b[0m\u001b[1;33m]\u001b[0m\u001b[1;33m\u001b[0m\u001b[1;33m\u001b[0m\u001b[0m\n\u001b[0;32m    263\u001b[0m \u001b[1;33m\u001b[0m\u001b[0m\n\u001b[1;32m--> 264\u001b[1;33m     \u001b[0mshape\u001b[0m \u001b[1;33m=\u001b[0m \u001b[0m_broadcast_shape\u001b[0m\u001b[1;33m(\u001b[0m\u001b[1;33m*\u001b[0m\u001b[0margs\u001b[0m\u001b[1;33m)\u001b[0m\u001b[1;33m\u001b[0m\u001b[1;33m\u001b[0m\u001b[0m\n\u001b[0m\u001b[0;32m    265\u001b[0m \u001b[1;33m\u001b[0m\u001b[0m\n\u001b[0;32m    266\u001b[0m     \u001b[1;32mif\u001b[0m \u001b[0mall\u001b[0m\u001b[1;33m(\u001b[0m\u001b[0marray\u001b[0m\u001b[1;33m.\u001b[0m\u001b[0mshape\u001b[0m \u001b[1;33m==\u001b[0m \u001b[0mshape\u001b[0m \u001b[1;32mfor\u001b[0m \u001b[0marray\u001b[0m \u001b[1;32min\u001b[0m \u001b[0margs\u001b[0m\u001b[1;33m)\u001b[0m\u001b[1;33m:\u001b[0m\u001b[1;33m\u001b[0m\u001b[1;33m\u001b[0m\u001b[0m\n",
      "\u001b[1;32m~\\anaconda3\\lib\\site-packages\\numpy\\lib\\stride_tricks.py\u001b[0m in \u001b[0;36m_broadcast_shape\u001b[1;34m(*args)\u001b[0m\n\u001b[0;32m    189\u001b[0m     \u001b[1;31m# use the old-iterator because np.nditer does not handle size 0 arrays\u001b[0m\u001b[1;33m\u001b[0m\u001b[1;33m\u001b[0m\u001b[1;33m\u001b[0m\u001b[0m\n\u001b[0;32m    190\u001b[0m     \u001b[1;31m# consistently\u001b[0m\u001b[1;33m\u001b[0m\u001b[1;33m\u001b[0m\u001b[1;33m\u001b[0m\u001b[0m\n\u001b[1;32m--> 191\u001b[1;33m     \u001b[0mb\u001b[0m \u001b[1;33m=\u001b[0m \u001b[0mnp\u001b[0m\u001b[1;33m.\u001b[0m\u001b[0mbroadcast\u001b[0m\u001b[1;33m(\u001b[0m\u001b[1;33m*\u001b[0m\u001b[0margs\u001b[0m\u001b[1;33m[\u001b[0m\u001b[1;33m:\u001b[0m\u001b[1;36m32\u001b[0m\u001b[1;33m]\u001b[0m\u001b[1;33m)\u001b[0m\u001b[1;33m\u001b[0m\u001b[1;33m\u001b[0m\u001b[0m\n\u001b[0m\u001b[0;32m    192\u001b[0m     \u001b[1;31m# unfortunately, it cannot handle 32 or more arguments directly\u001b[0m\u001b[1;33m\u001b[0m\u001b[1;33m\u001b[0m\u001b[1;33m\u001b[0m\u001b[0m\n\u001b[0;32m    193\u001b[0m     \u001b[1;32mfor\u001b[0m \u001b[0mpos\u001b[0m \u001b[1;32min\u001b[0m \u001b[0mrange\u001b[0m\u001b[1;33m(\u001b[0m\u001b[1;36m32\u001b[0m\u001b[1;33m,\u001b[0m \u001b[0mlen\u001b[0m\u001b[1;33m(\u001b[0m\u001b[0margs\u001b[0m\u001b[1;33m)\u001b[0m\u001b[1;33m,\u001b[0m \u001b[1;36m31\u001b[0m\u001b[1;33m)\u001b[0m\u001b[1;33m:\u001b[0m\u001b[1;33m\u001b[0m\u001b[1;33m\u001b[0m\u001b[0m\n",
      "\u001b[1;31mValueError\u001b[0m: shape mismatch: objects cannot be broadcast to a single shape"
     ]
    }
   ],
   "source": [
    "#Calculating the growth rate\n",
    "Growth=(np.exp(np.diff(np.log(GNI)))-1)*100          \n",
    "\n",
    "#Plotting the figure\n",
    "plt.figure(figsize=(14,7))\n",
    "plt.xlabel('Quarter', fontdict=None, labelpad=None, size=12)\n",
    "plt.ylabel('Growth Rate', size=12)\n",
    "plt.bar(Growth, t[1:], width=0.8, bottom=None, align='center', data=None)\n",
    "plt.title('Quarterly growth rate of GNI', fontdict=None, loc='center',pad=None, size=25)\n",
    "plt.xticks(t[4:], labels=None, rotation='vertical')\n",
    "plt.locator_params(axis='x', nbins=len(t[0:])/2)\n"
   ]
  },
  {
   "cell_type": "markdown",
   "metadata": {},
   "source": [
    "**Note:** COMMENT ON THESE FINDINGS"
   ]
  },
  {
   "cell_type": "markdown",
   "metadata": {},
   "source": [
    "# Calculating moving averages"
   ]
  },
  {
   "cell_type": "markdown",
   "metadata": {},
   "source": [
    "We now want to calculate the moving averages, adding the latest four quarters of GNI and dividing thse by 4. This is done to smoothe out the quarterly variations to give a proper indication of the overall trend:"
   ]
  },
  {
   "cell_type": "code",
   "execution_count": 306,
   "metadata": {},
   "outputs": [],
   "source": [
    "#plt.figure(figsize=(15,7))\n",
    "#v = venn2(subsets = (4, 4, 10), set_labels = ('inc', 'empl'))\n",
    "#v.get_label_by_id('100').set_text('dropped')\n",
    "#v.get_label_by_id('010').set_text('dropped' )\n",
    "#v.get_label_by_id('110').set_text('included')\n",
    "#plt.show()"
   ]
  },
  {
   "cell_type": "markdown",
   "metadata": {},
   "source": [
    "ADD FURTHER ANALYSIS. EXPLAIN THE CODE BRIEFLY AND SUMMARIZE THE RESULTS."
   ]
  },
  {
   "cell_type": "markdown",
   "metadata": {},
   "source": [
    "# Conclusion"
   ]
  },
  {
   "cell_type": "markdown",
   "metadata": {},
   "source": [
    "ADD CONCISE CONLUSION."
   ]
  }
 ],
 "metadata": {
  "kernelspec": {
   "display_name": "Python 3",
   "language": "python",
   "name": "python3"
  },
  "language_info": {
   "codemirror_mode": {
    "name": "ipython",
    "version": 3
   },
   "file_extension": ".py",
   "mimetype": "text/x-python",
   "name": "python",
   "nbconvert_exporter": "python",
   "pygments_lexer": "ipython3",
   "version": "3.7.6-final"
  },
  "toc-autonumbering": true
 },
 "nbformat": 4,
 "nbformat_minor": 4
}
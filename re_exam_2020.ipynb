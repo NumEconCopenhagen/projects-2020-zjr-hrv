{
 "cells": [
  {
   "cell_type": "code",
   "execution_count": 1,
   "metadata": {},
   "outputs": [],
   "source": [
    "import numpy as np"
   ]
  },
  {
   "cell_type": "markdown",
   "metadata": {},
   "source": [
    "# Estimating income processes"
   ]
  },
  {
   "cell_type": "markdown",
   "metadata": {},
   "source": [
    "Consider $N$ households indexed by $i$ who are in the labor market for $T$ periods indexed by $t \\in \\{1,2,\\dots,T\\}$.\n",
    "\n",
    "Their **wage income** is stochastic and given by\n",
    "\n",
    "$$ \n",
    "P_{i,t} = \\psi_{i,t} P_{i,t-1},\\\\\n",
    "\\tilde{Y}_{i,t} = \\xi_{i,t} P_{i,t},\\\\\n",
    "Y_{i,t} = \\begin{cases}\n",
    "0 & \\text{if } \\mu_{i,t} < \\pi\\\\\n",
    "\\tilde{Y}_{i,t} & \\text{else}\n",
    "\\end{cases} \\\\\n",
    "\\psi_{i,t} \\sim \\text{LogNormal}(-0.5\\sigma_{\\psi}^2,\\sigma_{\\psi})\\\\ \n",
    "\\xi_{i,t} \\sim \\text{LogNormal}(-0.5\\sigma_{\\xi}^2,\\sigma_{\\xi})\\\\\n",
    "\\mu_{i,t} \\sim \\text{Uniform}(0,1)\\\\\n",
    "P_{0} = 1\n",
    "$$\n",
    "\n",
    "where \n",
    "\n",
    "- $\\sigma_{\\psi}$ is the standard deviation of the *permanent* shocks, $\\psi_{i,t}$\n",
    "- $\\sigma_{\\xi}$ is the standard deviation of the *transitory* shocks, $\\xi_{i,t}$\n",
    "- $\\pi$ is the risk of unemployment."
   ]
  },
  {
   "cell_type": "markdown",
   "metadata": {},
   "source": [
    "**The data you have access to is:**"
   ]
  },
  {
   "cell_type": "code",
   "execution_count": 2,
   "metadata": {},
   "outputs": [],
   "source": [
    "dataY = np.load('dataY.npy')\n",
    "T,N = dataY.shape"
   ]
  },
  {
   "cell_type": "markdown",
   "metadata": {},
   "source": [
    "**Question 1:** Calculate income growth rates as log-changes \n",
    "\n",
    "$$\n",
    "\\Delta \\log(Y_{i,t}) \\equiv \\begin{cases}\n",
    "\\log(Y_{i,t})-\\log(Y_{i,t-1}) & \\text{if } Y_{i,t}>0 \\text{ and } Y_{i,t-1}>0\\\\\n",
    "\\text{NaN} & \\text{else}\n",
    "\\end{cases}\n",
    "$$\n",
    "\n",
    "where $\\text{NaN}$ is *not-a-number* (i.e. `np.nan`)."
   ]
  },
  {
   "cell_type": "markdown",
   "metadata": {},
   "source": [
    "**Question 2:** Calculate the following 3 statistics from the data\n",
    "\n",
    "- $s_1^{data}$: Share of observations with $Y_{i,t} = 0$\n",
    "- $s_2^{data}$: Variance of income growth rate, $\\text{Var}(\\Delta\\log{Y_{i,t}})$\n",
    "- $s_3^{data}$: Co-variance of income growth rates one period apart, $\\text{Cov}(\\Delta\\log{Y_{i,t}},\\Delta\\log{Y_{i,t-1}})$"
   ]
  },
  {
   "cell_type": "markdown",
   "metadata": {},
   "source": [
    "**Question 3:** Simulate the income process  using your own choice of $\\sigma_{\\psi}$, $\\sigma_{\\xi}$, $\\pi$,  $T$ and $N$. Calculate the 3 same  statistics. Compare with the data statistics.\n",
    "\n",
    "- $s_1^{sim}(\\sigma_{\\psi},\\sigma_{\\xi},\\pi)$: Share of observations with $Y_{i,t} = 0$\n",
    "- $s_2^{sim}(\\sigma_{\\psi},\\sigma_{\\xi},\\pi)$: Variance of income growth $\\text{Var}(\\Delta\\log{Y_{i,t}})$\n",
    "- $s_3^{sim}(\\sigma_{\\psi},\\sigma_{\\xi},\\pi)$: Co-variance of income growth one periods apart $\\text{Cov}(\\Delta\\log{Y_{i,t}},\\Delta\\log{Y_{i,t-1}})$\n"
   ]
  },
  {
   "cell_type": "markdown",
   "metadata": {},
   "source": [
    "**Question 4:** Solve the following minimization problem to estimate  $\\sigma_{\\psi}$, $\\sigma_{\\xi}$ and $\\pi$\n",
    "\n",
    "$$\n",
    "\\sigma_{\\psi}^{\\ast},\\sigma_{\\xi}^{\\ast},\\pi^{\\ast} = \\arg \\min_{\\sigma_{\\psi}\\geq0,\\sigma_{\\xi}\\geq0,\\pi\\in[0,1]} (s_1^{sim}-s_1^{data})^2 + (s_2^{sim}-s_2^{data})^2 + (s_3^{sim}-s_3^{data})^2\n",
    "$$\n",
    "\n",
    "where for each new guess of $\\sigma_{\\psi}$, $\\sigma_{\\xi}$, and $\\pi$ you should be re-simulating the data *with the same seed* and re-calculating the 3 statistics."
   ]
  },
  {
   "cell_type": "code",
   "execution_count": 3,
   "metadata": {},
   "outputs": [],
   "source": [
    "def objective():\n",
    "    pass\n",
    "\n",
    "# res = optimize.minimize(objective,x,method='L-BFGS-B',bounds=?,args=?,options={'eps':1e-4})\n",
    "# hint: options={'eps':1e-4} uses a larger step-size when approximating the jacbian, which is useful in this case"
   ]
  },
  {
   "cell_type": "markdown",
   "metadata": {},
   "source": [
    "# Wealth in the utility function"
   ]
  },
  {
   "cell_type": "markdown",
   "metadata": {},
   "source": [
    "In the final period, $t=T$, the household solves the following problem\n",
    "\n",
    "$$\n",
    "\\begin{aligned}\n",
    "v_{T}(a_{T-1}) & = \\max_{c_{T}} \\frac{c_T^{1-\\rho}}{1-\\rho} + \\kappa \\frac{(a_T+\\underline{a})^{1-\\sigma}}{1-\\sigma}\n",
    "\\\\ & \\text{s.t.} & \\\\\n",
    "a_{T}& = (1+r)a_{T-1} + y - c_T\n",
    "\\end{aligned}\n",
    "$$\n",
    "\n",
    "where\n",
    "\n",
    "- $a_t$ is end-of-period assets in period $t$\n",
    "- $c_t$ is consumption in period $t$\n",
    "- $\\rho$ is the CRRA-coefficient for consumption utility\n",
    "- $\\sigma$ is the CRRA-coefficient for wealth utility\n",
    "- $\\underline{a}$ is an *additive* scaling factor for wealth utility\n",
    "- $\\kappa$ is a *multiplicative* scaling factor for wealth utility\n",
    "- $r$ is the rate of return\n",
    "- $y$ is income\n",
    "\n",
    "The optimal **consumption function** is denoted $c_t^{\\ast}(a_{t-1})$.\n",
    "\n",
    "The optimal **savings function** is denoted $a_t^{\\ast}(a_{t-1}) \\equiv (1+r)a_{t-1} + y - c_t^{\\ast}(a_{t-1})$."
   ]
  },
  {
   "cell_type": "code",
   "execution_count": 4,
   "metadata": {},
   "outputs": [],
   "source": [
    "# a. parameters\n",
    "rho = 2.0\n",
    "sigma = 1.2\n",
    "kappa = 0.6\n",
    "a_ubar = 2.0\n",
    "r = 0.04\n",
    "y = 1.0\n",
    "\n",
    "# b. grids\n",
    "a_lag_vec = np.linspace(0,300,300)"
   ]
  },
  {
   "cell_type": "markdown",
   "metadata": {},
   "source": [
    "**Question 1:** Find and plot the functions $v_{T}(a_{T-1})$, $c_T^{\\ast}(a_{T-1})$, and $a_T^{\\ast}(a_{T-1})$."
   ]
  },
  {
   "cell_type": "markdown",
   "metadata": {},
   "source": [
    "In all periods *before the last*, $t < T$, the household solves:\n",
    "\n",
    "$$\n",
    "\\begin{aligned}\n",
    "v_{t}(a_{t-1}) & = \\max_{c_{t}} \\frac{c_t^{1-\\rho}}{1-\\rho} + \\kappa \\frac{(a_t+\\underline{a})^{1-\\sigma}}{1-\\sigma} + \\beta v_{t+1}(a_t)\\\\ & \\text{s.t.} & \\\\\n",
    "a_{t}& = (1+r)a_{t-1} + y - c_t\n",
    "\\end{aligned}\n",
    "$$\n",
    "\n",
    "where $\\beta$ is the discount factor for future utility."
   ]
  },
  {
   "cell_type": "code",
   "execution_count": 5,
   "metadata": {},
   "outputs": [],
   "source": [
    "beta = 0.97\n",
    "T = 20"
   ]
  },
  {
   "cell_type": "markdown",
   "metadata": {},
   "source": [
    "**Question 2:** Find and plot $v_{T-1}(a_{T-2})$ and  $c_{T-1}^{\\ast}(a_{T-2})$."
   ]
  },
  {
   "cell_type": "markdown",
   "metadata": {},
   "source": [
    "**Question 3:** Find $c_t^{\\ast}(a_{t-1})$ for $t \\in \\{0,1,\\dots,T\\}$ and plot them in a single figure."
   ]
  },
  {
   "cell_type": "markdown",
   "metadata": {},
   "source": [
    "Define the saving rate as:\n",
    "\n",
    "$$\n",
    "s_t^{\\ast}(a_{t-1}) \\equiv \\frac{a_t - a_{t-1}}{y+ra_{t-1}} = \\frac{((1+r)a_{t-1} + y - c_t^{\\ast}(a_{t-1})) - a_{T-1}}{y+ra_{t-1}}\n",
    "$$"
   ]
  },
  {
   "cell_type": "markdown",
   "metadata": {},
   "source": [
    "**Question 4:** Plot $s_0^{\\ast}(a_{-1})$. Do the rich or the poor save the most?"
   ]
  },
  {
   "cell_type": "markdown",
   "metadata": {},
   "source": [
    "**Question 5:** Can you change the parameter choices such that $s_0^{\\ast}(a_{-1})$ is monotonically decreasing in $a_{-1}$?"
   ]
  },
  {
   "cell_type": "markdown",
   "metadata": {},
   "source": [
    "# Refined grid search"
   ]
  },
  {
   "cell_type": "markdown",
   "metadata": {},
   "source": [
    "Let $\\boldsymbol{x} = \\left[\\begin{array}{c}\n",
    "x_1 \\\\\n",
    "x_2\\\\\n",
    "\\end{array}\\right]$ be a two-dimensional vector."
   ]
  },
  {
   "cell_type": "markdown",
   "metadata": {},
   "source": [
    "Consider the following algorithm:\n",
    "\n",
    "**Algorithm:** `grid_search()`\n",
    "\n",
    "**Goal:** Minimize the function $f(\\boldsymbol{x})$.\n",
    "\n",
    "1. Choose a grid size $N$ and minimum and maximum values of $x_1$ and $x_2$ denoted $\\overline{x}_1 > \\underline{x}_1$ and $\\overline{x}_2 > \\underline{x}_2$\n",
    "2. Calculate step-sizes \n",
    "\n",
    "    $$\n",
    "    \\Delta_1 = (\\overline{x}_1 - \\underline{x}_1)/(N-1) \\\\\n",
    "    \\Delta_2 = (\\overline{x}_2 - \\underline{x}_2)/(N-1)\n",
    "    $$\n",
    "    \n",
    "3. Find the grid point with the lowest function value by solving\n",
    "\n",
    "    $$\n",
    "    j_1^{\\ast},j_2^{\\ast} = \\arg \\min_{j_1\\in\\{0,...N-1\\},j_2\\in\\{0,...N-1\\}} f(\\underline{x}_1 + j_1\\Delta_1, \\underline{x}_2 + j_2\\Delta_2)\n",
    "    $$\n",
    "\n",
    " \n",
    "\n",
    "4. Return $x_1^{\\ast} = \\underline{x}_1 + j_1^{\\ast}\\Delta_1$, $x_2^{\\ast} = \\underline{x}_2 + j_2^{\\ast}\\Delta_2$ and $f^{\\ast} = f(x_1^{\\ast},x_2^{\\ast})$."
   ]
  },
  {
   "cell_type": "markdown",
   "metadata": {},
   "source": [
    "**Question 1:** Implement the `grid_search()` algorithm to minimize the rosen function.\n",
    "\n",
    "> **Hint:** The global minimum of the rosen function is $0$ at $(1,1)$."
   ]
  },
  {
   "cell_type": "code",
   "execution_count": 6,
   "metadata": {},
   "outputs": [],
   "source": [
    "def rosen(x):\n",
    "    return (1.0-x[0])**2+2*(x[1]-x[0]**2)**2"
   ]
  },
  {
   "cell_type": "code",
   "execution_count": 7,
   "metadata": {},
   "outputs": [
    {
     "name": "stdout",
     "output_type": "stream",
     "text": [
      "minimum found at (nan,nan) with the function value nan\n"
     ]
    }
   ],
   "source": [
    "def grid_search(f,x1_min,x1_max,x2_min,x2_max,N):\n",
    "    return np.nan,np.nan,np.nan\n",
    "\n",
    "# settings\n",
    "x1_min = 0\n",
    "x1_max = 5\n",
    "x2_min = 0\n",
    "x2_max = 4\n",
    "N = 100\n",
    "\n",
    "# apply grid search\n",
    "x1,x2,f = grid_search(rosen,x1_min,x1_max,x2_min,x2_max,N)\n",
    "print(f'minimum found at ({x1:.8f},{x2:.8f}) with the function value {f:.8f}')"
   ]
  },
  {
   "cell_type": "markdown",
   "metadata": {},
   "source": [
    "Also, consider the following algorithm:\n",
    "\n",
    "**Algorithm:** `refined_grid_search()`\n",
    "\n",
    "**Goal:** Minimize the function $f(\\boldsymbol{x})$.\n",
    "\n",
    "1. Choose a grid size $N$ and minimum and maximum values of $x_1$ and $x_2$ denoted $\\overline{x}_1 > \\underline{x}_1$ and $\\overline{x}_2 > \\underline{x}_2$, and a refinement-level $K$\n",
    "\n",
    "2. Set $k=0$\n",
    "\n",
    "3. If $k > 0$: Update the minimum and maximum values by\n",
    "\n",
    "    $$\n",
    "    \\tilde{\\Delta}_1 = 3(\\overline{x}_1 - \\underline{x}_1)/(N-1) \\\\\n",
    "    \\tilde{\\Delta}_2 = 3(\\overline{x}_2 - \\underline{x}_2)/(N-1) \\\\\n",
    "    \\underline{x}_1 = \\max(\\underline{x}_1,x_1^{\\ast}-\\tilde{\\Delta}_1) \\\\\n",
    "    \\underline{x}_2 = \\max(\\underline{x}_2,x_2^{\\ast}-\\tilde{\\Delta}_2) \\\\\n",
    "    \\overline{x}_1 = \\min(\\overline{x}_1,x_1^{\\ast}+\\tilde{\\Delta}_1) \\\\\n",
    "    \\overline{x}_2 = \\min(\\overline{x}_2,x_2^{\\ast}+\\tilde{\\Delta}_2)\n",
    "    $$\n",
    "    \n",
    "4. Apply the `grid_search()` algorithm returning $x_1^{\\ast}$, $x_2^{\\ast}$ and $f^\\ast$ \n",
    "\n",
    "5. Increment $k$ by one\n",
    "\n",
    "6. If $k < K$ return to step 3 else continue\n",
    "\n",
    "7. Return  $x_1^{\\ast}$, $x_2^{\\ast}$ and $f^{\\ast}$\n"
   ]
  },
  {
   "cell_type": "markdown",
   "metadata": {},
   "source": [
    "**Question 2:** Implement the `refined_grid_search()` algorithm to minimize the rosen function."
   ]
  },
  {
   "cell_type": "code",
   "execution_count": 8,
   "metadata": {},
   "outputs": [
    {
     "name": "stdout",
     "output_type": "stream",
     "text": [
      "minimum found at (nan,nan) with the function value nan\n"
     ]
    }
   ],
   "source": [
    "def refined_grid_search(f,x1_min,x1_max,x2_min,x2_max,N,K):\n",
    "    return np.nan,np.nan,np.nan\n",
    "\n",
    "# more settings\n",
    "K = 10\n",
    "\n",
    "# apply refined grid search\n",
    "x1,x2,f = refined_grid_search(rosen,x1_min,x1_max,x2_min,x2_max,N,K)\n",
    "print(f'minimum found at ({x1:.8f},{x2:.8f}) with the function value {f:.8f}')"
   ]
  }
 ],
 "metadata": {
  "kernelspec": {
   "display_name": "Python 3",
   "language": "python",
   "name": "python3"
  },
  "language_info": {
   "codemirror_mode": {
    "name": "ipython",
    "version": 3
   },
   "file_extension": ".py",
   "mimetype": "text/x-python",
   "name": "python",
   "nbconvert_exporter": "python",
   "pygments_lexer": "ipython3",
   "version": "3.8.3"
  },
  "toc-autonumbering": true
 },
 "nbformat": 4,
 "nbformat_minor": 4
}

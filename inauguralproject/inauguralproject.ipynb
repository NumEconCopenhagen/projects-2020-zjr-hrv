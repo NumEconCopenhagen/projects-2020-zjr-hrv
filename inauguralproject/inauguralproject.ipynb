{
 "cells": [
  {
   "cell_type": "markdown",
   "metadata": {},
   "source": [
    "# Inaugural Project"
   ]
  },
  {
   "cell_type": "markdown",
   "metadata": {},
   "source": [
    "Imports and set magics:"
   ]
  },
  {
   "cell_type": "code",
   "execution_count": null,
   "metadata": {},
   "outputs": [],
   "source": [
    "import numpy as np\n",
    "import matplotlib.pylab as plt\n",
    "from scipy import optimize\n",
    "# autoreload modules when code is run\n",
    "%load_ext autoreload\n",
    "%autoreload 2\n",
    "\n",
    "# local modules\n",
    "import inauguralproject"
   ]
  },
  {
   "cell_type": "markdown",
   "metadata": {
    "toc-hr-collapsed": true
   },
   "source": [
    "# Question 1"
   ]
  },
  {
   "cell_type": "code",
   "execution_count": null,
   "metadata": {},
   "outputs": [],
   "source": [
    "#In this question, we want to construct a function which solves equation (1). \n",
    "\n",
    "#Firstly, the utility function is defined by: \n",
    "def utility(w, l, m = 1, v = 10, epsilon = 0.3, tau0 = 0.4, tau1 = 0.1, kappa = 0.4):\n",
    "    tax = tau0*w*l+tau1*np.fmax(w*l-kappa,0)\n",
    "    c = m+w*l-tax\n",
    "    utility = np.log(c)-v*l**(1+1/epsilon)/(1+1/epsilon)\n",
    "    return utility,c, tax\n",
    "\n",
    "#Next a function is created in order to maximize utility:\n",
    "def solveconsumerproblem(w, m = 1, v = 10, epsilon = 0.3, tau0 = 0.4, tau1 = 0.1, kappa = 0.4,\\\n",
    "                         N=100, callableoutput=False, tax=False):\n",
    "\n",
    "\n",
    "#Now, we want to create a set of emply local lists in order to store the outputs. \n",
    "    c_star = [0]\n",
    "    l_star = [0]\n",
    "    t_star = [0]\n",
    "    utility_star = [-np.inf]\n",
    "\n",
    "# Creating a range for labour in order to examine the utility for a given number of elements. \n",
    "    Range = np.linspace(0, 1, N)\n",
    "    for i in Range:\n",
    "        utility_temp = utility(l = i, w = w, epsilon = epsilon, tau0 = tau0, tau1 = tau1, kappa = kappa)\n",
    "        if utility_temp[0]>utility_star:\n",
    "            utility_star[0]=utility_temp[0]\n",
    "            l_star[0] = i\n",
    "            c_star[0] = utility_temp[1]\n",
    "            t_star[0] = utility_temp[2]\n",
    "\n",
    "#Setting requirements for tax, whether to display or not\n",
    "    if tax == False:\n",
    "        if callableoutput == False:\n",
    "            print(f\"It is found that (l*,c*) = ({l_star[0]:.3}, {c_star[0]:.3}) meaning that the optimal utility is given by u(c*,l*) = {utility_star[0]:.3}\")  \n",
    "        else:\n",
    "            return utility_star[0], l_star[0], c_star[0]\n",
    "    \n",
    "    if tax == True:\n",
    "            return utility_star[0], l_star[0], c_star[0], t_star[0]\n",
    "\n",
    "solveconsumerproblem(w=0.6, tax=False, callableoutput=False)"
   ]
  },
  {
   "cell_type": "markdown",
   "metadata": {},
   "source": [
    "# Question 2"
   ]
  },
  {
   "cell_type": "code",
   "execution_count": null,
   "metadata": {},
   "outputs": [],
   "source": [
    "#Now we want to plot l* and c* as functions of w in the range 0.5 to 1.5\n",
    "\n",
    "#In order to do so, we first define the range of w as: \n",
    "w_range = np.linspace(0.5, 1.5, 200) \n",
    "\n",
    "#As before, we create empty lists for later use:\n",
    "l_list = []\n",
    "c_list = []\n",
    "\n",
    "#Lastly, we loop the w_range as follows:\n",
    "for i in w_range:\n",
    "    l_list.append(solveconsumerproblem(w = i, callableoutput=True)[1])\n",
    "    c_list.append(solveconsumerproblem(w = i, callableoutput=True)[2])\n",
    "\n",
    "#Now, the figures are ready to be created. This is done by: \n",
    "\n",
    "\n",
    "##//fig = plt.figure(figsize=(5,5))\n",
    "\n",
    "# Fiure 1\n",
    "##ax = fig.add_subplot(2,1,1)\n",
    "##plt.plot(w_range,l_list)\n",
    "##ax.set_xlabel('Wage')\n",
    "##ax.set_ylabel(\"Labour\")\n",
    "\n",
    "\n",
    "#Figure 2\n",
    "##ax = fig.add_subplot(2,1,2)\n",
    "##ax.plot(w_range, c_list)\n",
    "##ax.set_xlabel('Wage')\n",
    "##ax.set_ylabel('Consumption')\n",
    "# plot the results///\n",
    "\n",
    "fig = plt.figure(figsize=(30,7.5))\n",
    "plt.style.use('seaborn-whitegrid')\n",
    "\n",
    "# first plot including the labor supply depending on the wage\n",
    "plot_left = fig.add_subplot(1,2,1)\n",
    "plot_left.plot(w_range,l_list)\n",
    "plot_left.set_title(\"Labor depending on wage\",fontsize=20)\n",
    "plot_left.set_xlabel(\"Wage\",fontsize=15)\n",
    "plot_left.set_ylabel(\"Labor supply\",fontsize=15)\n",
    "plot_left.axes.tick_params(labelsize=15)\n",
    "\n",
    "# second plot including the consumptions depending on the wage\n",
    "plot_right = fig.add_subplot(1,2,2) \n",
    "plot_right.plot(w_range,c_list)\n",
    "plot_right.set_title(\"Consumption depending on the wage\",fontsize=20)\n",
    "plot_right.set_xlabel(\"Wage\",fontsize=15)\n",
    "plot_right.set_ylabel(\"Optimal consumption\",fontsize=15)\n",
    "plot_right.axes.tick_params(labelsize=15)"
   ]
  },
  {
   "cell_type": "markdown",
   "metadata": {},
   "source": [
    "# Question 3"
   ]
  },
  {
   "cell_type": "code",
   "execution_count": null,
   "metadata": {},
   "outputs": [],
   "source": [
    "#In order to calculate the tax revenue, we need to find the wage-level for different types of consumers. This is done by following:\n",
    "\n",
    "np.random.seed(seed = 1337)\n",
    "wage_list = np.random.uniform(low = 0.5, high = 1.5, size = 10000)\n",
    "\n",
    "#Next, we wish to find the tax-revenue for a set of different wage-levels and parameters as:\n",
    "def taxrev(wages, tau0, tau1, kappa, epsilon = 0.3):\n",
    "\n",
    "#Again, an empty list is generated for output:\n",
    "    tax_payments = []\n",
    "\n",
    "#As seen before, we want to create a loop for wages, adding the indiviaual tax element in the function.\n",
    "    for i in wages:\n",
    "       tax_payments.append(solveconsumerproblem(w = i, tau0=tau0, tau1=tau1, epsilon=epsilon, kappa=kappa, callableoutput = True, tax = True)[-1]) \n",
    "    \n",
    "#The sum of all calculated individual taxpayments are used in order to find the aggregated tax revenue:\n",
    "    return np.sum(tax_payments)\n",
    "\n",
    "#Last, we find the total tax revenue as:\n",
    "print(\"The aggregated tax revenue is calculated as \" + \\\n",
    "str(round(taxrev(wages = wage_list, tau0=0.4, tau1=0.1, kappa=0.4, epsilon=0.3),2)))"
   ]
  },
  {
   "cell_type": "markdown",
   "metadata": {},
   "source": [
    "# Question 4"
   ]
  },
  {
   "cell_type": "code",
   "execution_count": null,
   "metadata": {},
   "outputs": [],
   "source": [
    "#Now, we wish to examine the aggregated tax revenue for epsilon=0.1. This is solely done by running the above function, setting epsilon=0.1 as follows:\n",
    "\n",
    "print(\"For epsilon=0.1, the aggregated tax revenue is \" + \\\n",
    "str(round(taxrev(wages = wage_list, tau0=0.4, tau1=0.1, kappa=0.4, epsilon=0.1),2)))"
   ]
  },
  {
   "cell_type": "markdown",
   "metadata": {},
   "source": [
    "# Question 5"
   ]
  },
  {
   "cell_type": "markdown",
   "metadata": {},
   "source": [
    "ADD ANSWER."
   ]
  },
  {
   "cell_type": "code",
   "execution_count": 30,
   "metadata": {},
   "outputs": [],
   "source": [
    "#Now we wish to maximize the tax revenue. This is done by the Powell-method \n",
    "\n",
    "def negtaxrev(paraVec, wages = wage_list):\n",
    "     'Returns the negative value of tax revenue'\n",
    "    \n",
    "    # We use a vector of the parameters to find the taxrev and multiply it by -1, so we can use a              minimizer.\n",
    "     tau0 = paraVec[0]\n",
    "     tau1 = paraVec[1]\n",
    "     kappa = paraVec[2]\n",
    "     temptaxrev = -1*taxrev(wages = wages, tau0 = tau0, tau1= tau1, kappa=kappa)\n",
    "\n",
    "     # Band-aid solution to ensure kappa, the top tax cut-off, is non-negative.\n",
    "     if kappa < 0:\n",
    "          return 1\n",
    "     else:\n",
    "          return temptaxrev\n",
    "\n",
    "initial_guess = [0.3, 0.3, 0.3]\n",
    "\n",
    "# We use the scipy function, optimize.minimize to minimize negtaxrev. We use the Powell method, because some of the other methods didn't work or took suspiciously long time to run. Furthermore, since it isn't clearly specified wheter we should use epsilon = 0.1 or 0.3 in this question, we have chosen to use epsilon = 0.3.\n",
    "sol_taxrev = optimize.minimize(negtaxrev, initial_guess, method = 'Powell')\n",
    "print('Taxrex = ' + str(round(-sol_taxrev['fun'],3)))\n",
    "print('Tau0 = '+ str(round(sol_taxrev['x'][0],3)) + ' Tau1 = '+ str(round(sol_taxrev['x'][1],3)) + \\\n",
    "' Kappa = '+ str((sol_taxrev['x'][2])))"
   ]
  },
  {
   "cell_type": "markdown",
   "metadata": {},
   "source": [
    "# Conclusion"
   ]
  },
  {
   "cell_type": "markdown",
   "metadata": {},
   "source": [
    "ADD CONCISE CONLUSION."
   ]
  }
 ],
 "metadata": {
  "kernelspec": {
   "display_name": "Python 3",
   "language": "python",
   "name": "python3"
  },
  "language_info": {
   "codemirror_mode": {
    "name": "ipython",
    "version": 3
   },
   "file_extension": ".py",
   "mimetype": "text/x-python",
   "name": "python",
   "nbconvert_exporter": "python",
   "pygments_lexer": "ipython3",
   "version": "3.7.4-final"
  },
  "toc-autonumbering": true
 },
 "nbformat": 4,
 "nbformat_minor": 4
}
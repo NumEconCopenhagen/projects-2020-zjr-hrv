{
 "cells": [
  {
   "cell_type": "markdown",
   "metadata": {},
   "source": [
    "# The Basic OLG model"
   ]
  },
  {
   "cell_type": "markdown",
   "metadata": {},
   "source": [
    "The OLG model is one of two main analytical frameworks for analyzing the basic intertemporal choice, consumption vs saving. \n",
    "\n",
    "OLG is set to capture potential interaction of different generations of individuals in the marketplace hence, providing a tractable alternative to the infinite-horizon economic models"
   ]
  },
  {
   "cell_type": "markdown",
   "metadata": {},
   "source": [
    "Imports and set magics:"
   ]
  },
  {
   "cell_type": "code",
   "execution_count": 20,
   "metadata": {},
   "outputs": [
    {
     "output_type": "stream",
     "name": "stdout",
     "text": "IPython console for SymPy 1.5.1 (Python 3.7.6-64-bit) (ground types: python)\n\nThese commands were executed:\n>>> from __future__ import division\n>>> from sympy import *\n>>> x, y, z, t = symbols('x y z t')\n>>> k, m, n = symbols('k m n', integer=True)\n>>> f, g, h = symbols('f g h', cls=Function)\n>>> init_printing()\n\nDocumentation can be found at https://docs.sympy.org/1.5.1/\n\nThe autoreload extension is already loaded. To reload it, use:\n  %reload_ext autoreload\n"
    }
   ],
   "source": [
    "import numpy as np\n",
    "from scipy import optimize\n",
    "import sympy as sm\n",
    "import matplotlib.pyplot as plt\n",
    "import math as m \n",
    "from scipy import stats as st\n",
    "from scipy.optimize import fsolve\n",
    "import time      \n",
    "#As we are using a lot of theory in this project, we want the equations to be presented well, why we import the init_session\n",
    "from sympy import init_session\n",
    "init_session() \n",
    "\n",
    "# autoreload modules when code is run\n",
    "%load_ext autoreload\n",
    "%autoreload 2\n",
    "\n",
    "# local modules\n",
    "import modelproject"
   ]
  },
  {
   "cell_type": "markdown",
   "metadata": {
    "toc-hr-collapsed": true
   },
   "source": [
    "# Model description"
   ]
  },
  {
   "cell_type": "markdown",
   "metadata": {},
   "source": [
    "In this model, we consider a static economy with an infinite number og households, $i \\in N$ \n",
    "In addition, population grows at a constant rate, \n",
    "\n",
    "$L_{t}=L_{t-1}(1+n)$\n",
    "\n",
    "\n",
    "Time, t, is discrete and runs to infinity and individuals born at time t live for the period $t$ til $t+1$, meaning the individuals are grouped in two generations, young and old. \n",
    "\n",
    "We assume a general, separable utility function for the individuals given by \n",
    "\n",
    "$U_t=u(c_{1t})+u(c_{2t+1})(1/(1+\\beta))$\n",
    "\n",
    "$\\beta$ is added as a discount factor of the time-horizon. \n",
    "\n",
    "Production side is given by competitive firms and a CRS aggregate production function meaning we have the following production criterias\n",
    "$Y_{t}=F(K_{t},L__{t})$\n",
    "\n",
    "$r_{t}=f'(k_{t})$\n",
    "\n",
    "$w_{t} = f(k_{t})-k_{t}f'(k_{t})$\n",
    "\n",
    "$\\bullet$ NOTE: $k_{t}=K_{t}/L_{t}$\n",
    "\n",
    "The savings by an individual of a generation is determined as a solution to\n",
    "\n",
    "$max U_{t}$ s.t.\n",
    "\n",
    "$w_{t}=s_{t}+c_{1t}$  \n",
    "\n",
    "$c_{2t+1}=s_{t}(1+r_{t+1})$\n",
    "\n",
    "Where $c_{1t}$ is consumption of the individual born at t when young at date t and $c_{2t+1}$ consumption when old at date t+1. In this model, the setup is built such that the old individuals will rent their savings of time t as capital to firms at  t+1. Therefore they will eventually receive a gross rate of return given by $(1+r_{t})$. The second consumption constraint incorporates the fact that the individual will consume all his life-earnings. Hence, the lifetime constraint is given by\n",
    "\n",
    "$w_{t}=c_{1+t}+c_{2t+1}/(1+r_{t+1})$\n",
    "\n"
   ]
  },
  {
   "cell_type": "markdown",
   "metadata": {},
   "source": [
    "# Solution of the household problem"
   ]
  },
  {
   "cell_type": "markdown",
   "metadata": {},
   "source": [
    "\n",
    "The solution is found by setting up the Lagrangian\n",
    "\n",
    "$L(c_{1t},c_{2t+1},\\lambda)= u(c_{1t})+u(c_{2t+1})(1/1+\\beta)+\\lambda[w_{t}-c_{1t}-(c_{2t+1}/(1+r_{t+1}))]$\n",
    "\n",
    "FOCs:\n",
    "\n",
    "$u'(c_{1t})=\\lambda$\n",
    "\n",
    "$(1/(1+\\beta))u'(c_{t2+1})= \\lambda/(1+r_{t+1})$\n",
    "\n",
    "combining the above to find the Euler equation:\n",
    "\n",
    "$(1+r_{t+1})/(1+\\beta)u'(c_{2t+1}) = u'(c_{1t})$\n",
    "\n",
    "The interpretation of Euler is that if the consumer gives up one unit of consumption in the young state, the marginal cost will be given by $u'(c_{1t})$ and the marginal benefit will be $(1+r_{t+1})$ units of consumption in next period, when old.\n"
   ]
  },
  {
   "cell_type": "markdown",
   "metadata": {},
   "source": [
    "Next, we want to find the **optimal savings path**:\n",
    "\n",
    "This is done by substituting budget constrain into the Euler eq. above. Hence, we find\n",
    "\n",
    "$(1+r_{t+1})/(1+\\beta)u'(c_{2t+1}) = u'(c_{1t})$ $\\rightarrow$ \n",
    "\n",
    "$(1+r_{t+1})/(1+\\beta)u'((1+r_{t+1})s_{t})=u'(w_{t} - s_{t})$\n",
    "\n",
    "where optimal savings are a function of wage and the interest rate. "
   ]
  },
  {
   "cell_type": "markdown",
   "metadata": {},
   "source": [
    "Knowing the decision of individuals, we can now examine the **Law of Motion** by aggregating the economy as follows:\n",
    "\n",
    "As we are working with two periods, we know that the aggregate stock of capital at $t+1$ must equal the total savings of the economy at the time $t$ as well as the non-depreciated capital stock which is carried from $t$ and the 'dissavings' of same period.\n",
    "\n",
    "This means, the aggregate capital level at time $t+1$ is given by the following:\n",
    "\n",
    "$K_{t+1}=S_{t}+(1-\\delta)K_{t}-K_{t}$ $\\rightarrow$\n",
    "\n",
    "$K_{t+1}=S_{t}-\\delta K_{t}$\n",
    "\n",
    "Remember, $k_{t} \\equiv K_{t}/L_{t}$. Hence,\n",
    "\n",
    "$k_{t+1}(1+n) = s_{t}-\\delta k_{t}$\n",
    "\n",
    "In short, inserting the findings above into the capital accumulation and for simplicity setting $\\delta =0$ we now have the law of motion per worker in the entire economy defined by\n",
    "\n",
    "$k_{t+1} (1+n)=s(f(k_{t})-f'(k_{t})k_{t}, f'(k_{t+1}))$\n"
   ]
  },
  {
   "cell_type": "markdown",
   "metadata": {},
   "source": [
    "Now, we wish to solve the model using **sympy**"
   ]
  },
  {
   "cell_type": "code",
   "execution_count": 21,
   "metadata": {},
   "outputs": [],
   "source": [
    "#First, defining the setting, here the variables we want to use\n",
    "\n",
    "#Households\n",
    "beta = sm.symbols('beta')\n",
    "c1 = sm.symbols('c_{1t}')\n",
    "c2 = sm.symbols('c_{2t+1}')\n",
    "lmbda = sm.symbols('lambda')\n",
    "#Savings\n",
    "r = sm.symbols('r_{t+1}')\n",
    "w = sm.symbols('w_t')\n",
    "#Capital stock\n",
    "s = sm.symbols('s_t')\n",
    "kt = sm.symbols('k_t')\n",
    "k1 = sm.symbols('k_{t+1}')\n",
    "delta = sm.symbols('delta')\n",
    "n = sm.symbols('n')\n",
    "\n",
    "\n"
   ]
  },
  {
   "cell_type": "markdown",
   "metadata": {},
   "source": [
    "Now, we want to define the utility function. In this case, we use the log utility"
   ]
  },
  {
   "cell_type": "code",
   "execution_count": 22,
   "metadata": {},
   "outputs": [
    {
     "output_type": "execute_result",
     "data": {
      "text/plain": "            u(c_{2t+1})\nu(c_{1t}) + ───────────\n               β + 1   ",
      "image/png": "[encoded data removed]",
      "text/latex": "$\\displaystyle u{\\left(c_{1t} \\right)} + \\frac{u{\\left(c_{2t+1} \\right)}}{\\beta + 1}$"
     },
     "metadata": {},
     "execution_count": 22
    }
   ],
   "source": [
    "#We start by setting a standard utility, then we specify the form afterwards\n",
    "\n",
    "u_std = sm.Function('u')\n",
    "\n",
    "def log_u(c):\n",
    "    return sm.log(c)\n",
    "\n",
    "\n",
    "def U(c1, c2, beta, u):\n",
    "    return u(c1) + 1 / (1 + beta) * u(c2)\n",
    "\n",
    "U(c1, c2, beta, u = u_std)"
   ]
  },
  {
   "cell_type": "markdown",
   "metadata": {},
   "source": [
    "Now, the budget constraints are set up to calculate the intertemporal consumption constraint"
   ]
  },
  {
   "cell_type": "code",
   "execution_count": 23,
   "metadata": {},
   "outputs": [
    {
     "output_type": "execute_result",
     "data": {
      "text/plain": "(wₜ = c_{1t} + sₜ, c_{2t+1} = sₜ⋅(r_{t+1} + 1))",
      "image/png": "[encoded data removed]",
      "text/latex": "$\\displaystyle \\left( w_{t} = c_{1t} + s_{t}, \\  c_{2t+1} = s_{t} \\left(r_{t+1} + 1\\right)\\right)$"
     },
     "metadata": {},
     "execution_count": 23
    }
   ],
   "source": [
    "#Defining budget constraints\n",
    "c_1budget = sm.Eq(w, c1 + s)\n",
    "c_2budget = sm.Eq(c2, (1+r)*s)\n",
    "\n",
    "#Printing the budget constraints\n",
    "c_1budget, c_2budget\n"
   ]
  },
  {
   "cell_type": "code",
   "execution_count": 24,
   "metadata": {},
   "outputs": [
    {
     "output_type": "error",
     "ename": "SyntaxError",
     "evalue": "invalid syntax (<ipython-input-24-1c3cb59d6c5f>, line 1)",
     "traceback": [
      "\u001b[1;36m  File \u001b[1;32m\"<ipython-input-24-1c3cb59d6c5f>\"\u001b[1;36m, line \u001b[1;32m1\u001b[0m\n\u001b[1;33m    Next, we define the intertemporal consumption constraints\u001b[0m\n\u001b[1;37m                  ^\u001b[0m\n\u001b[1;31mSyntaxError\u001b[0m\u001b[1;31m:\u001b[0m invalid syntax\n"
     ]
    }
   ],
   "source": [
    "Next, we define the intertemporal consumption constraints"
   ]
  },
  {
   "cell_type": "code",
   "execution_count": 25,
   "metadata": {},
   "outputs": [
    {
     "output_type": "execute_result",
     "data": {
      "text/plain": "                c_{2t+1} \nwₜ = c_{1t} + ───────────\n              r_{t+1} + 1",
      "image/png": "[encoded data removed]",
      "text/latex": "$\\displaystyle w_{t} = c_{1t} + \\frac{c_{2t+1}}{r_{t+1} + 1}$"
     },
     "metadata": {},
     "execution_count": 25
    }
   ],
   "source": [
    "#Intertemporal consumption constraint defined\n",
    "ib = c_1budget.subs(s, sm.solve(c_2budget, s)[0])\n",
    "#Print intertemporal budget constraint\n",
    "ib"
   ]
  },
  {
   "cell_type": "markdown",
   "metadata": {},
   "source": [
    "Setting up the Lagrangian, deriving FOCs"
   ]
  },
  {
   "cell_type": "code",
   "execution_count": 26,
   "metadata": {},
   "outputs": [
    {
     "output_type": "execute_result",
     "data": {
      "text/plain": "⎛                                             d                               \n⎜                                         ─────────(u(c_{2t+1}))              \n⎜        d                       λ        dc_{2t+1}                           \n⎜-λ + ───────(u(c_{1t})), - ─────────── + ──────────────────────, -c_{1t} - ──\n⎝     dc_{1t}               r_{t+1} + 1           β + 1                     r_\n\n              ⎞\n              ⎟\nc_{2t+1}      ⎟\n───────── + wₜ⎟\n{t+1} + 1     ⎠",
      "image/png": "[encoded data removed]",
      "text/latex": "$\\displaystyle \\left( - \\lambda + \\frac{d}{d c_{1t}} u{\\left(c_{1t} \\right)}, \\  - \\frac{\\lambda}{r_{t+1} + 1} + \\frac{\\frac{d}{d c_{2t+1}} u{\\left(c_{2t+1} \\right)}}{\\beta + 1}, \\  - c_{1t} - \\frac{c_{2t+1}}{r_{t+1} + 1} + w_{t}\\right)$"
     },
     "metadata": {},
     "execution_count": 26
    }
   ],
   "source": [
    "#Lagrangian\n",
    "l = U(c1,c2,beta, u = u_std) - lmbda *  (ib.rhs - w)\n",
    "\n",
    "#Print Lagrangian\n",
    "l\n",
    "\n",
    "#Deriving FOCs\n",
    "dc1    = sm.diff(l, c1) \n",
    "dc2    = sm.diff(l, c2) \n",
    "dlmbda = sm.diff(l, lmbda)\n",
    "#Print FOCs\n",
    "dc1, dc2, dlmbda"
   ]
  },
  {
   "cell_type": "markdown",
   "metadata": {},
   "source": [
    "Now we find the **Euler Equation**"
   ]
  },
  {
   "cell_type": "code",
   "execution_count": 27,
   "metadata": {},
   "outputs": [
    {
     "output_type": "execute_result",
     "data": {
      "text/plain": "                                                     ⎛    d                 ⎞│\n                                       (r_{t+1} + 1)⋅⎜─────────(u(c_{2t+1}))⎟│\n⎛   d              ⎞│                                ⎝dc_{2t+1}             ⎠│\n⎜───────(u(c_{1t}))⎟│                = ───────────────────────────────────────\n⎝dc_{1t}           ⎠│c_{1t}=-sₜ + wₜ                                β + 1     \n\n                         \n                         \nc_{2t+1}=sₜ⋅(r_{t+1} + 1)\n─────────────────────────\n                         ",
      "text/latex": "$\\displaystyle \\left. \\frac{d}{d c_{1t}} u{\\left(c_{1t} \\right)} \\right|_{\\substack{ c_{1t}=- s_{t} + w_{t} }} = \\frac{\\left(r_{t+1} + 1\\right) \\left. \\frac{d}{d c_{2t+1}} u{\\left(c_{2t+1} \\right)} \\right|_{\\substack{ c_{2t+1}=s_{t} \\left(r_{t+1} + 1\\right) }}}{\\beta + 1}$"
     },
     "metadata": {},
     "execution_count": 27
    }
   ],
   "source": [
    "#Defining the Euler Equation\n",
    "def euler_equation(dc1, dc2, u, c1, lmbda):\n",
    "    x = dc2.subs(lmbda, sm.solve(dc1, lmbda)[0])\n",
    "\n",
    "    euler_eq = sm.Eq(sm.Derivative(u(c1)),\n",
    "                     sm.solve(x, sm.Derivative(u(c1)))[0]\n",
    "                    )\n",
    "    return euler_eq \n",
    "\n",
    "#Calling make_euler_equation to calculate the Euler eq\n",
    "euler = euler_equation(dc1, dc2, u = u_std, c1 = c1, lmbda = lmbda)\n",
    "\n",
    "#Printing result\n",
    "euler\n",
    "\n",
    "euler = euler.subs(c1, w - s).subs(c2, c_2budget.rhs)\n",
    "#Printing result\n",
    "euler\n"
   ]
  },
  {
   "cell_type": "markdown",
   "metadata": {},
   "source": [
    "Euler implicitly determines the value of $s_{t}$. "
   ]
  },
  {
   "cell_type": "markdown",
   "metadata": {},
   "source": [
    "Now we want to determine the development in capital.  "
   ]
  },
  {
   "cell_type": "code",
   "execution_count": 28,
   "metadata": {},
   "outputs": [
    {
     "output_type": "execute_result",
     "data": {
      "text/plain": "   1           1     \n──────── = ──────────\n-sₜ + wₜ   sₜ⋅(β + 1)",
      "image/png": "[encoded data removed]",
      "text/latex": "$\\displaystyle \\frac{1}{- s_{t} + w_{t}} = \\frac{1}{s_{t} \\left(\\beta + 1\\right)}$"
     },
     "metadata": {},
     "execution_count": 28
    }
   ],
   "source": [
    "#First we set the functional form of $u_{t}$ using the $log$ function as this enables for further examination. \n",
    "euler = euler.replace(u_std, log_u).doit()\n",
    "#Print\n",
    "euler\n"
   ]
  },
  {
   "cell_type": "markdown",
   "metadata": {},
   "source": [
    "Now we define the values and setting for the **firms** in the economy.\n",
    "To do this, we explore the aggregate production function, normalizing this by using the per capita function as this enables us to better calculate expressions for **interest rates** and **wages** in equilibrium. "
   ]
  },
  {
   "cell_type": "code",
   "execution_count": 29,
   "metadata": {},
   "outputs": [
    {
     "output_type": "execute_result",
     "data": {
      "text/plain": "       α\nyₜ = kₜ ",
      "image/png": "[encoded data removed]",
      "text/latex": "$\\displaystyle y_{t} = k_{t}^{\\alpha}$"
     },
     "metadata": {},
     "execution_count": 29
    }
   ],
   "source": [
    "#Production function\n",
    "Y = sm.symbols('Y_t')\n",
    "K = sm.symbols('K_t')\n",
    "L = sm.symbols('L_t')\n",
    "#including y_t and alpha\n",
    "y = sm.symbols('y_t')\n",
    "alpha = sm.symbols('alpha')\n",
    "#deriving the production function by using the values above\n",
    "\n",
    "prod_f = sm.Eq(Y,K**alpha * L**(1-alpha))\n",
    "\n",
    "#Normalizing\n",
    "normprod_f = sm.Eq(y, kt**alpha)\n",
    "#Print\n",
    "normprod_f"
   ]
  },
  {
   "cell_type": "code",
   "execution_count": 30,
   "metadata": {},
   "outputs": [
    {
     "output_type": "execute_result",
     "data": {
      "text/plain": "⎛              α                    ⎞\n⎜          α⋅kₜ              α     α⎟\n⎜r_{t+1} = ─────, wₜ = - α⋅kₜ  + kₜ ⎟\n⎝            kₜ                     ⎠",
      "image/png": "[encoded data removed]",
      "text/latex": "$\\displaystyle \\left( r_{t+1} = \\frac{\\alpha k_{t}^{\\alpha}}{k_{t}}, \\  w_{t} = - \\alpha k_{t}^{\\alpha} + k_{t}^{\\alpha}\\right)$"
     },
     "metadata": {},
     "execution_count": 30
    }
   ],
   "source": [
    "ir = sm.Eq(r, sm.Derivative(normprod_f.rhs, kt)).doit()\n",
    "w_t = sm.Eq(w, normprod_f.rhs - kt*sm.Derivative(normprod_f.rhs, kt)).doit()\n",
    "\n",
    "#Print results of interest rate and wage\n",
    "ir, w_t"
   ]
  },
  {
   "cell_type": "markdown",
   "metadata": {},
   "source": [
    "Solving for capital period t+1(capital evolution path)"
   ]
  },
  {
   "cell_type": "code",
   "execution_count": 31,
   "metadata": {},
   "outputs": [
    {
     "output_type": "execute_result",
     "data": {
      "text/plain": "          -δ⋅kₜ + sₜ\nk_{t+1} = ──────────\n            n + 1   ",
      "image/png": "[encoded data removed]",
      "text/latex": "$\\displaystyle k_{t+1} = \\frac{- \\delta k_{t} + s_{t}}{n + 1}$"
     },
     "metadata": {},
     "execution_count": 31
    }
   ],
   "source": [
    "k_1 = sm.Eq(k1, 1/(1+n)* (s - delta*kt) )\n",
    "#Print \n",
    "k_1"
   ]
  },
  {
   "cell_type": "markdown",
   "metadata": {},
   "source": [
    "We now derive the **transition path** as follows"
   ]
  },
  {
   "cell_type": "code",
   "execution_count": 32,
   "metadata": {},
   "outputs": [
    {
     "output_type": "execute_result",
     "data": {
      "text/plain": "                        α     α\n                  - α⋅kₜ  + kₜ \n          -δ⋅kₜ + ─────────────\n                      β + 2    \nk_{t+1} = ─────────────────────\n                  n + 1        ",
      "image/png": "[encoded data removed]",
      "text/latex": "$\\displaystyle k_{t+1} = \\frac{- \\delta k_{t} + \\frac{- \\alpha k_{t}^{\\alpha} + k_{t}^{\\alpha}}{\\beta + 2}}{n + 1}$"
     },
     "metadata": {},
     "execution_count": 32
    }
   ],
   "source": [
    "k_sav = sm.solve(euler, s)[0].subs(w, w_t.rhs)\n",
    "# Substituting \n",
    "if r in k_sav.atoms():\n",
    "    k_sav = k_sav.subs(r, ir.rhs)\n",
    "\n",
    "    \n",
    "t_path = k_1.subs(s, k_sav)\n",
    "#Print\n",
    "t_path"
   ]
  },
  {
   "cell_type": "markdown",
   "metadata": {},
   "source": [
    "To make a visualization of the transition path, we now specify a number of parameters and define a function of the transition path"
   ]
  },
  {
   "cell_type": "code",
   "execution_count": 33,
   "metadata": {},
   "outputs": [],
   "source": [
    "#Defining the transition path\n",
    "transition_curve = sm.lambdify((kt, beta, delta, n, alpha,r ), t_path.rhs)\n",
    "def transition_c(kt, beta, delta,alpha, n, r = 0):\n",
    "    return transition_curve(kt, beta, delta, alpha, n, r)\n",
    "#Defining equilibrium\n",
    "eq = sm.lambdify((beta, delta, alpha, n),sm.solve(t_path.subs(k1, kt), kt)[0])\n",
    "def eqm(beta, delta,alpha, n,):\n",
    "    return eq(beta, delta, alpha, n)\n",
    "\n",
    "\n"
   ]
  },
  {
   "cell_type": "markdown",
   "metadata": {},
   "source": [
    "Letting alpha vary to show how this affects the transition path"
   ]
  },
  {
   "cell_type": "code",
   "execution_count": 34,
   "metadata": {},
   "outputs": [
    {
     "output_type": "execute_result",
     "data": {
      "text/plain": "(0, 0.4)",
      "image/png": "[encoded data removed]",
      "text/latex": "$\\displaystyle \\left( 0, \\  0.4\\right)$"
     },
     "metadata": {},
     "execution_count": 34
    }
   ],
   "source": [
    "#Defining variables\n",
    "ex = np.linspace(0,3,1000)\n",
    "_b = 0.05\n",
    "_d = 0.02\n",
    "_n = 0.2\n",
    "#Plotting figure\n",
    "plt.figure(figsize=(14,7))\n",
    "#Plot 45 degree line\n",
    "plt.plot(ex, ex, color = 'blue')\n",
    "#Defining moving function\n",
    "for _a in np.linspace(0.01, 0.2,5):\n",
    "    sol = [transition_c(kt = x, alpha = _a, beta = _b, delta = _d, n = _n) for x in ex]\n",
    "    ks = eqm(alpha = _a, beta = _b, n = _n, delta = _d)\n",
    "    plt.plot(ex, sol, color = 'red', alpha = 1)    \n",
    "    plt.annotate(f'$\\\\alpha$={round(_a,2)}', xy= (ks + 0.01, ks - 0.01))\n",
    "#Standard settings \n",
    "plt.xlabel('$k_t$', size =15)\n",
    "plt.ylabel('$k_{t+1}$', size=15)\n",
    "plt.title('Transition curves\\n', size = 20)\n",
    "plt.xlim(0,0.4)\n",
    "plt.ylim(0,0.4)\n"
   ]
  },
  {
   "cell_type": "markdown",
   "metadata": {},
   "source": [
    "To further characterize the equilibrium paths, we construct the transition diagram in the plane $(k_{t},k_{t+1})$ examining the convergence towards **steady state**"
   ]
  },
  {
   "cell_type": "code",
   "execution_count": 47,
   "metadata": {},
   "outputs": [],
   "source": [
    "#Setting variable values\n",
    "_r = 0.05\n",
    "_d = 0.05\n",
    "_a = 0.5\n",
    "\n",
    "#Defining k steady state\n",
    "ksteady = 0.0002\n",
    "ex = range(8)\n",
    "ex2 = np.linspace(0,1,500)\n",
    "#Transition\n",
    "out = list()\n",
    "for _ in ex:\n",
    "    ksteady = transition_c(kt = ksteady, alpha = _a, beta = _b, delta = _d, n = _n)\n",
    "    out.append(ksteady)\n",
    "\n"
   ]
  },
  {
   "cell_type": "markdown",
   "metadata": {},
   "source": [
    "\n"
   ]
  },
  {
   "cell_type": "code",
   "execution_count": 50,
   "metadata": {},
   "outputs": [
    {
     "output_type": "execute_result",
     "data": {
      "text/plain": "Text(0.5, 1.0, 'Convergence towards steady state\\n')"
     },
     "metadata": {},
     "execution_count": 50
    }
   ],
   "source": [
    "res = [transition_c(kt = x, alpha = _a, beta = _b, delta = _d, n = _n) for x in ex2]\n",
    "#Plotting figure\n",
    "plt.figure(figsize=(14,7))\n",
    "#Plot 45 degree line\n",
    "plt.plot(ex, ex, color = 'blue')\n",
    "#Plotting the steady state convergence line\n",
    "plt.plot(ex2, res, color = 'red', alpha = 1)    \n",
    "plt.step(out[:-1], out[1:], where = 'post', color = 'green', linestyle = '--', alpha = 0.8)\n",
    "plt.scatter(out[:-1], out[1:], color = 'red', alpha = 0.8)\n",
    "#Standard settings\n",
    "plt.xlabel('$k_t$', size = 15)\n",
    "plt.ylabel('$k_{t+1}$', size = 15)\n",
    "plt.xlim(0,0.2)\n",
    "plt.ylim(0,0.2)\n",
    "plt.title('Convergence towards steady state\\n', size = 20)\n"
   ]
  },
  {
   "cell_type": "code",
   "execution_count": 44,
   "metadata": {},
   "outputs": [],
   "source": [
    "\n",
    "\n"
   ]
  },
  {
   "cell_type": "markdown",
   "metadata": {},
   "source": [
    "# Extended OLG model"
   ]
  },
  {
   "cell_type": "markdown",
   "metadata": {},
   "source": [
    "Now we add a government to our model. The government collects taxes on both capital and labour. Taxes are given by $\\tau$.\n",
    "\n",
    "We now consider the household problem \n",
    "\n",
    "$max$           $u(c_{2t+1})+\\beta u(c_{1t})$\n",
    "\n",
    "s.t.\n",
    "\n",
    "$c_{2t+1}+s=(1-\\tau)w+t_{2t+1}$\n",
    "\n",
    "$c_{1t}=R+t_{1t}$\n",
    "\n",
    "where $R$ is the after-tax gross interest rate which is given by\n",
    "\n",
    "$R=(1+(1-\\tau)r)$\n",
    "\n",
    "Instead of having to substitute and solve for an equation of one unknown, as we did in the beginning, we now want to use the **Gauss-Seidl** method for solving the problem. \n",
    "\n",
    "Using this method, we start with an initial guess of the kapital in time 1t, denoted $K_{guess}$. \n",
    "Next, we solve for the parameters $q, w and R$\n",
    "\n",
    "$q = \\alpha AK^{\\alpha-1}_{1t} L^{1-a}$\n",
    "\n",
    "$w=(1-\\alpha)K^{\\alpha}_{1t} L^{1-\\alpha}$\n",
    "\n",
    "$R=1+(1-\\tau)(q-\\delta)$\n",
    "\n",
    "We then solve for $s*$ which is the optimal savings of the household, given by\n",
    "\n",
    "$s* =N_{2t+1} ((\\beta R((1-\\tau)w+t_{2t+1})-t_{1t})/((1+\\beta)R))$\n",
    "\n",
    "Next, we aggregate over all households of the economy to find $K_{new}$ \n",
    "\n",
    "$K_{new}=N_{2t+1} \\bullet s*$\n",
    "\n",
    "Lastly, we calculate errors and update capital as follows\n",
    "\n",
    "$K_{guess} = \\lambda K_{new} +(1-\\lambda)K_{guess}$ where $0< \\lambda <1$ is an updating parameter."
   ]
  },
  {
   "cell_type": "code",
   "execution_count": 45,
   "metadata": {},
   "outputs": [
    {
     "output_type": "stream",
     "name": "stdout",
     "text": "K* =  0.1131649073144145\nq* =  1.4207807118254876\nR* =  2.1934557979334093\nr* =  1.4207807118254876\nw* =  0.3264372326377341\nY* =  0.48721975020557334\n"
    }
   ],
   "source": [
    "#Set parameters\n",
    "A       = 1\n",
    "alpha   = 0.33\n",
    "beta    = 0.8\n",
    "delta   = 0.0\n",
    "L       = 1\n",
    "N_2     = 1.0\n",
    "N_1     = 1.0\n",
    "tau_L   = 0.22\n",
    "tau_K   = 0.16\n",
    "t_2     = 0.0\n",
    "t_1     = 0.0\n",
    "#\n",
    "\n",
    "\n",
    "\n",
    "#Initial guess of capital\n",
    "error       = 100\n",
    "guess_lmda  = 0.4   \n",
    "K_guess     = 0.4\n",
    "iter        = 1\n",
    "while (iter<200) or (error>0.001):\n",
    "    # Now we want to solve for q and w by\n",
    "    q = alpha*A*K_guess**(alpha-1)\n",
    "    w = (1-alpha)*A*K_guess**alpha\n",
    "    R = 1 + (1-tau_K)*(q - delta)\n",
    "    K_new = N_2* (beta*R*((1-tau_L)*w + t_2) - t_1)/((1+beta)*R)\n",
    "    # Calculate discrepancy between old and new capital stock\n",
    "    error = abs(K_guess-K_new)/K_guess\n",
    "    # Update capital stock\n",
    "    K_guess    = guess_lmda*K_new + (1-guess_lmda)*K_guess\n",
    "    iter = iter +1\n",
    "\n",
    "\n",
    "#Results and print\n",
    "Ks = K_new\n",
    "qs = q\n",
    "Rs = R\n",
    "rs = qs - delta\n",
    "ws = w\n",
    "Ys = A*Ks**alpha*L**(1-alpha)\n",
    "print('K* = ' , Ks)\n",
    "print('q* = ' , qs)\n",
    "print('R* = ' , Rs)\n",
    "print('r* = ' , rs)\n",
    "print('w* = ' , ws)\n",
    "print('Y* = ' , Ys)"
   ]
  },
  {
   "cell_type": "markdown",
   "metadata": {},
   "source": [
    "Now we want to find solutions for the entire economy"
   ]
  },
  {
   "cell_type": "code",
   "execution_count": 46,
   "metadata": {},
   "outputs": [
    {
     "output_type": "stream",
     "name": "stdout",
     "text": "The results using the Gauss-Seidl method are as follows\nK* = 0.1132\nq* = 1.4208\nr* = 1.4208\nR* = 2.1935\nw* = 0.3264\nY* = 0.4872\n-------------------------\nARC = 0.0000\nNumber of iterations = 200\n-------------------------\nOptimal consumption of the household is:\ns* =  0.1131649073144145\nc1* =  0.24822222207139938\nc2* =  0.14145613414301814\nWhereas the residual consumption of the government is:\nG* =  0.09754139399115577\nAnd the aggregate consumption of the household is:\nC* =  0.3896783562144175\n"
    }
   ],
   "source": [
    "#Household optimal consumption per period\n",
    "ss = Ks/N_2\n",
    "c2s= (1-tau_L)*ws + t_2 - ss\n",
    "c1s= Rs*ss + t_1\n",
    "\n",
    "# Residual consumption of the government\n",
    "Gs = N_2*tau_L*ws + N_1*tau_K*rs*ss\n",
    "\n",
    "# Finally, aggregate the consumption of the household\n",
    "Cs = N_2*c2s + N_1*c1s\n",
    "\n",
    "# To ensure, the above holds, we run a fast check on the condition of the goods market and resoure constraint\n",
    "ARC = Ys - delta*Ks - Cs - Gs\n",
    "\n",
    "\n",
    "print(\"The results using the Gauss-Seidl method are as follows\")\n",
    "\n",
    "print(\"K* = {:6.4f}\".format(Ks))\n",
    "print(\"q* = {:6.4f}\".format(qs))\n",
    "print(\"r* = {:6.4f}\".format(rs))\n",
    "print(\"R* = {:6.4f}\".format(Rs))\n",
    "print(\"w* = {:6.4f}\".format(ws))\n",
    "print(\"Y* = {:6.4f}\".format(Ys))\n",
    "print(\"-------------------------\")\n",
    "print(\"ARC = {:6.4f}\".format(ARC))\n",
    "print(\"Number of iterations = \" +str(iter))\n",
    "print(\"-------------------------\")\n",
    "print(\"Optimal consumption of the household is:\")\n",
    "print(\"s* = \", ss)\n",
    "print(\"c1* = \", c1s)\n",
    "print(\"c2* = \", c2s)\n",
    "print(\"Whereas the residual consumption of the government is:\")\n",
    "print(\"G* = \", Gs)\n",
    "print(\"And the aggregate consumption of the household is:\")\n",
    "print(\"C* = \", Cs)\n"
   ]
  },
  {
   "cell_type": "markdown",
   "metadata": {},
   "source": [
    "# Conclusion"
   ]
  },
  {
   "cell_type": "markdown",
   "metadata": {},
   "source": []
  }
 ],
 "metadata": {
  "kernelspec": {
   "display_name": "Python 3",
   "language": "python",
   "name": "python3"
  },
  "language_info": {
   "codemirror_mode": {
    "name": "ipython",
    "version": 3
   },
   "file_extension": ".py",
   "mimetype": "text/x-python",
   "name": "python",
   "nbconvert_exporter": "python",
   "pygments_lexer": "ipython3",
   "version": "3.7.6-final"
  },
  "toc-autonumbering": true
 },
 "nbformat": 4,
 "nbformat_minor": 4
}